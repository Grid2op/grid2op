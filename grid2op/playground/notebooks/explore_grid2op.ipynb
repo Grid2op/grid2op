{
 "cells": [
  {
   "cell_type": "code",
   "execution_count": 2,
   "metadata": {},
   "outputs": [
    {
     "name": "stdout",
     "output_type": "stream",
     "text": [
      "D:\\Projects\\RTE - Grid2Viz\\grid2op\n",
      "The autoreload extension is already loaded. To reload it, use:\n",
      "  %reload_ext autoreload\n"
     ]
    },
    {
     "data": {
      "text/plain": [
       "'D:\\\\Projects\\\\RTE - Grid2Viz\\\\grid2op\\\\grid2op\\\\playground\\\\notebooks'"
      ]
     },
     "execution_count": 2,
     "metadata": {},
     "output_type": "execute_result"
    }
   ],
   "source": [
    "import os\n",
    "import sys\n",
    "\n",
    "import numpy as np\n",
    "\n",
    "# insert grid2op in the path\n",
    "print(os.path.abspath(\"../../..\"))\n",
    "sys.path.insert(0, os.path.abspath(\"../../..\"))\n",
    "\n",
    "%load_ext autoreload\n",
    "%autoreload 2\n",
    "\n",
    "from grid2op.Episode import Episode\n",
    "%pwd"
   ]
  },
  {
   "cell_type": "code",
   "execution_count": 3,
   "metadata": {},
   "outputs": [],
   "source": [
    "def attributes(obj):\n",
    "    elems = [el for el in dir(obj) if not el.startswith(\"__\")]\n",
    "    methods = [el for el in elems if hasattr(getattr(obj, el), \"__call__\")]\n",
    "    attributes = [el for el in elems if el not in methods]\n",
    "    return dict(attributes=attributes, methods=methods)"
   ]
  },
  {
   "cell_type": "code",
   "execution_count": 4,
   "metadata": {},
   "outputs": [],
   "source": [
    "indx = 1\n",
    "path = f\"../agents/withdisc_powerlinegreedy/{indx}\"\n",
    "\n",
    "episode = Episode.fromdisk(path, indx, \n",
    "                           grid_path=\"../../../grid2op/data/test_PandaPower/test_case14.json\",\n",
    "                           chronics_path=\"../../../grid2op/data/chronics_art\")\n",
    "\n",
    "obs = episode.get_observation(0)\n",
    "\n",
    "act = episode.get_action(0)\n"
   ]
  },
  {
   "cell_type": "code",
   "execution_count": 5,
   "metadata": {},
   "outputs": [
    {
     "name": "stdout",
     "output_type": "stream",
     "text": [
      "{'attributes': ['_abc_impl', '_forecasted_grid', '_forecasted_inj', '_gen_pos_topo_vect', '_gen_to_sub_pos', '_gen_to_subid', '_lines_ex_pos_topo_vect', '_lines_ex_to_sub_pos', '_lines_ex_to_subid', '_lines_or_pos_topo_vect', '_lines_or_to_sub_pos', '_lines_or_to_subid', '_load_pos_topo_vect', '_load_to_sub_pos', '_load_to_subid', '_obs_env', '_tol_equal', 'a_ex', 'a_or', 'bus_connectivity_matrix_', 'connectivity_matrix_', 'day', 'day_of_week', 'dictionnarized', 'dim_topo', 'hour_of_day', 'line_status', 'load_p', 'load_q', 'load_v', 'minute_of_hour', 'month', 'n_gen', 'n_lines', 'n_load', 'p_ex', 'p_or', 'prod_p', 'prod_q', 'prod_v', 'q_ex', 'q_or', 'rho', 'seed', 'subs_info', 'timestep_overflow', 'topo_vect', 'v_ex', 'v_or', 'vectorized', 'year'], 'methods': ['_Observation__compare_stats', '_reset_matrices', 'action_helper', 'bus_connectivity_matrix', 'connectivity_matrix', 'copy', 'from_vect', 'reset', 'simulate', 'size', 'state_of', 'to_dict', 'to_vect', 'update']}\n"
     ]
    }
   ],
   "source": [
    "print(attributes(obs))"
   ]
  },
  {
   "cell_type": "code",
   "execution_count": 6,
   "metadata": {},
   "outputs": [
    {
     "name": "stdout",
     "output_type": "stream",
     "text": [
      "{'_timestep_overflow': array([0, 0, 0, 0, 0, 0, 0, 0, 0, 0, 0, 0, 0, 0, 0, 0, 0, 0, 0, 0]), 'line_status': array([ True,  True,  True,  True,  True,  True,  True,  True,  True,\n",
      "        True,  True,  True,  True,  True,  True,  True,  True,  True,\n",
      "        True,  True]), '_topo_vect': array([1, 1, 1, 1, 1, 1, 1, 1, 1, 1, 1, 1, 1, 1, 1, 1, 1, 1, 1, 1, 1, 1,\n",
      "       1, 1, 1, 1, 1, 1, 1, 1, 1, 1, 1, 1, 1, 1, 1, 1, 1, 1, 1, 1, 1, 1,\n",
      "       1, 1, 1, 1, 1, 1, 1, 1, 1, 1, 1, 1]), 'loads': {'p': array([18.7, 80.6, 41.6,  6.2,  9.8, 26.1,  7.8,  3.2,  5.6, 12.2, 12.8]), 'q': array([13. , 58.7, 29.4,  4.3,  6.8, 18.2,  5.5,  2.2,  3.9,  8.6,  9. ]), 'v': array([106.19679086, 102.88124839, 102.45923924, 103.10166161,\n",
      "        99.56463283, 103.56509093, 102.10020077, 100.43479307,\n",
      "        97.92486368,  97.82802995,  98.70198926])}, 'prods': {'p': array([102.7       ,   0.        ,  27.8       ,   0.        ,\n",
      "       100.74174992]), 'q': array([29.22317392, 67.07368851, -7.7039197 , 26.83183449,  5.26976388]), 'v': array([106.19679086, 102.88124839,  99.56463283, 109.22960498,\n",
      "       107.20853708])}, 'lines_or': {'p': array([ 5.86274608e+01,  4.21142891e+01,  6.20605270e+01,  4.62232544e+01,\n",
      "        3.37641209e+01, -2.01612376e+01, -5.24299677e+01,  2.26444865e+01,\n",
      "        1.27738282e+01,  1.53937223e+01,  1.70770839e+01,  7.00800081e+00,\n",
      "        9.30863755e+00, -2.39808173e-14,  2.26444865e+01,  7.25399585e+00,\n",
      "        2.06431885e+00, -5.82452780e+00,  1.33553404e+00,  5.99659914e+00]), 'q': array([ -3.01192077,   8.28168465,   3.91615419,   6.88263423,\n",
      "         6.65464435,  10.24515509,   1.54898354, -11.47202088,\n",
      "        -1.60908999,  14.76101307,   4.74504216,   3.05530305,\n",
      "        -8.62164191, -25.76890941,  13.01327174,  15.21719003,\n",
      "        17.18466197,  11.44864998,  -0.99552051,  -5.26908181]), 'v': array([107.20853708, 107.20853708, 106.19679086, 106.19679086,\n",
      "       106.19679086, 102.88124839, 102.45923924, 102.45923924,\n",
      "       102.45923924, 103.10166161,  99.56463283,  99.56463283,\n",
      "        99.56463283, 104.90254764, 104.90254764, 103.56509093,\n",
      "       103.56509093, 102.10020077,  97.92486368,  97.82802995]), 'a': array([316.1429085 , 231.1417251 , 338.06980045, 254.06819919,\n",
      "       187.0935744 , 126.91119774, 295.56791522, 143.04058651,\n",
      "        72.5484151 , 119.4290037 , 102.77735363,  44.33178418,\n",
      "        73.57408688, 141.82388437, 143.74180524,  93.97780124,\n",
      "        96.48905546,  72.63574903,   9.8209924 ,  47.11098776])}, 'lines_ex': {'p': array([-5.80479023e+01, -4.12225260e+01, -6.04387624e+01, -4.50824506e+01,\n",
      "       -3.31510425e+01,  2.04941037e+01,  5.27798461e+01, -2.26444865e+01,\n",
      "       -1.27738282e+01, -1.53937223e+01, -1.68674575e+01, -6.93553404e+00,\n",
      "       -9.15439536e+00,  2.44249065e-14, -2.26444865e+01, -6.91721179e+00,\n",
      "       -1.97547220e+00,  5.95439536e+00, -1.32914160e+00, -5.88278821e+00]), 'q': array([ -1.23025886, -10.04282895,  -1.87146659,  -7.12301693,\n",
      "        -8.57282442, -10.74485573,  -0.4453597 ,  12.75563768,\n",
      "         2.48728806, -13.682623  ,  -4.33222235,  -2.90447949,\n",
      "         8.94464435,  26.83183449, -12.33137343, -14.5008052 ,\n",
      "       -16.94864998, -11.14464435,   1.00130416,   5.5008052 ]), 'v': array([106.19679086, 103.10166161, 102.88124839, 102.45923924,\n",
      "       103.10166161, 102.45923924, 103.10166161, 104.90254764,\n",
      "       103.56509093,  99.56463283,  97.82802995,  97.92486368,\n",
      "       100.43479307, 109.22960498, 103.56509093,  98.70198926,\n",
      "       102.10020077, 100.43479307,  97.82802995,  98.70198926]), 'a': array([315.65452978, 237.59027806, 339.33355995, 257.18761566,\n",
      "       191.74645509, 130.39227056, 295.56791522, 143.04058651,\n",
      "        72.5484151 , 119.4290037 , 102.77735363,  44.33178418,\n",
      "        73.57408688, 141.82388437, 143.74180524,  93.97780124,\n",
      "        96.48905546,  72.63574903,   9.8209924 ,  47.11098776])}, 'rho': array([0.31715781, 0.57799881, 0.78914519, 0.67860096, 0.84657726,\n",
      "       0.28385417, 0.97902589, 0.45337745, 0.4836561 , 0.49555603,\n",
      "       0.83558824, 0.44331784, 0.35219764, 0.36318536, 0.4063947 ,\n",
      "       0.44371011, 0.55105114, 0.44947864, 0.09820992, 0.30335472])}\n"
     ]
    }
   ],
   "source": [
    "dict_obs = obs.to_dict()\n",
    "print(dict_obs)"
   ]
  },
  {
   "cell_type": "code",
   "execution_count": 7,
   "metadata": {},
   "outputs": [
    {
     "name": "stdout",
     "output_type": "stream",
     "text": [
      "{'attributes': ['_change_bus_vect', '_dict_inj', '_dim_topo', '_gen_pos_topo_vect', '_gen_to_sub_pos', '_gen_to_subid', '_lines_ex_pos_topo_vect', '_lines_ex_to_sub_pos', '_lines_ex_to_subid', '_lines_impacted', '_lines_or_pos_topo_vect', '_lines_or_to_sub_pos', '_lines_or_to_subid', '_load_pos_topo_vect', '_load_to_sub_pos', '_load_to_subid', '_n_gen', '_n_lines', '_n_load', '_set_line_status', '_set_topo_vect', '_subs_impacted', '_subs_info', '_switch_line_status', 'as_vect', 'authorized_keys', 'vars_action', 'vars_action_set'], 'methods': ['_check_for_ambiguity', '_digest_change_bus', '_digest_change_status', '_digest_hazards', '_digest_injection', '_digest_maintenance', '_digest_set_status', '_digest_setbus', '_ignore_topo_action_if_disconnection', '_obj_caract_from_topo_id', 'as_dict', 'effect_on', 'from_vect', 'get_change_line_status_vect', 'get_set_line_status_vect', 'get_topological_impact', 'reset', 'sample', 'size', 'to_vect', 'update']}\n"
     ]
    }
   ],
   "source": [
    "print(attributes(act))"
   ]
  },
  {
   "cell_type": "code",
   "execution_count": 8,
   "metadata": {},
   "outputs": [
    {
     "data": {
      "text/plain": [
       "['load_p', 'load_q', 'prod_p', 'prod_v']"
      ]
     },
     "execution_count": 8,
     "metadata": {},
     "output_type": "execute_result"
    }
   ],
   "source": [
    "act.vars_action"
   ]
  },
  {
   "cell_type": "code",
   "execution_count": 9,
   "metadata": {},
   "outputs": [
    {
     "data": {
      "text/plain": [
       "20"
      ]
     },
     "execution_count": 9,
     "metadata": {},
     "output_type": "execute_result"
    }
   ],
   "source": [
    "len(obs.timestep_overflow)"
   ]
  },
  {
   "cell_type": "code",
   "execution_count": 11,
   "metadata": {},
   "outputs": [
    {
     "name": "stdout",
     "output_type": "stream",
     "text": [
      "meta:\n",
      "{'backend_type': 'PandaPowerBackend', 'chronics_max_timestep': '575', 'chronics_path': '/home/donnotben/Documents/L2RPN_2ndEdition/chronics_testset_adapted/1', 'cumulative_reward': 8807.13902102747, 'env_type': 'Environment', 'grid_path': '/home/donnotben/Documents/L2RPN_2ndEdition/case14_from_pypownet.json', 'nb_timestep_played': 575}\n",
      "params:\n",
      "{'ENV_DC': False, 'FORECAST_DC': False, 'HARD_OVERFLOW_THRESHOLD': 2, 'MAX_LINE_STATUS_CHANGED': 1, 'MAX_SUB_CHANGED': 1, 'NB_TIMESTEP_POWERFLOW_ALLOWED': 2, 'NB_TIMESTEP_RECONNECTION': 10, 'NO_OVERFLOW_DISCONNECTION': False}\n",
      "times:\n",
      "{'Agent': {'total': 400.58962535858154}, 'Env': {'apply_act': 4.25318169593811, 'observation_computation': 3.317006826400757, 'powerflow_computation': 6.4346208572387695, 'total': 14.004809379577637}, 'total': 414.73191356658936}\n"
     ]
    }
   ],
   "source": [
    "for attr in attributes(episode)[\"attributes\"]:\n",
    "    value = getattr(episode, attr)\n",
    "    if isinstance(value, dict):\n",
    "        print(f\"{attr}:\")\n",
    "        print(value)"
   ]
  },
  {
   "cell_type": "code",
   "execution_count": 12,
   "metadata": {},
   "outputs": [
    {
     "data": {
      "text/plain": [
       "{'new_p': nan,\n",
       " 'new_v': nan,\n",
       " 'set_topology': 0.0,\n",
       " 'change_bus': False,\n",
       " 'set_bus': 0}"
      ]
     },
     "execution_count": 12,
     "metadata": {},
     "output_type": "execute_result"
    }
   ],
   "source": [
    "act.effect_on(gen_id=0)"
   ]
  },
  {
   "cell_type": "code",
   "execution_count": 13,
   "metadata": {},
   "outputs": [
    {
     "data": {
      "text/plain": [
       "20"
      ]
     },
     "execution_count": 13,
     "metadata": {},
     "output_type": "execute_result"
    }
   ],
   "source": [
    "obs.n_lines"
   ]
  },
  {
   "cell_type": "code",
   "execution_count": 14,
   "metadata": {},
   "outputs": [
    {
     "data": {
      "text/plain": [
       "(56, 56)"
      ]
     },
     "execution_count": 14,
     "metadata": {},
     "output_type": "execute_result"
    }
   ],
   "source": [
    "obs.connectivity_matrix().shape"
   ]
  },
  {
   "cell_type": "code",
   "execution_count": 15,
   "metadata": {},
   "outputs": [
    {
     "data": {
      "text/plain": [
       "array([[1., 1., 0., 0., 1., 0., 0., 0., 0., 0., 0., 0., 0., 0.],\n",
       "       [1., 1., 1., 1., 1., 0., 0., 0., 0., 0., 0., 0., 0., 0.],\n",
       "       [0., 1., 1., 1., 0., 0., 0., 0., 0., 0., 0., 0., 0., 0.],\n",
       "       [0., 1., 1., 1., 1., 0., 1., 0., 1., 0., 0., 0., 0., 0.],\n",
       "       [1., 1., 0., 1., 1., 1., 0., 0., 0., 0., 0., 0., 0., 0.],\n",
       "       [0., 0., 0., 0., 1., 1., 0., 0., 0., 0., 1., 1., 1., 0.],\n",
       "       [0., 0., 0., 1., 0., 0., 1., 1., 1., 0., 0., 0., 0., 0.],\n",
       "       [0., 0., 0., 0., 0., 0., 1., 1., 0., 0., 0., 0., 0., 0.],\n",
       "       [0., 0., 0., 1., 0., 0., 1., 0., 1., 1., 0., 0., 0., 1.],\n",
       "       [0., 0., 0., 0., 0., 0., 0., 0., 1., 1., 1., 0., 0., 0.],\n",
       "       [0., 0., 0., 0., 0., 1., 0., 0., 0., 1., 1., 0., 0., 0.],\n",
       "       [0., 0., 0., 0., 0., 1., 0., 0., 0., 0., 0., 1., 1., 0.],\n",
       "       [0., 0., 0., 0., 0., 1., 0., 0., 0., 0., 0., 1., 1., 1.],\n",
       "       [0., 0., 0., 0., 0., 0., 0., 0., 1., 0., 0., 0., 1., 1.]])"
      ]
     },
     "execution_count": 15,
     "metadata": {},
     "output_type": "execute_result"
    }
   ],
   "source": [
    "obs.bus_connectivity_matrix()"
   ]
  },
  {
   "cell_type": "code",
   "execution_count": 16,
   "metadata": {},
   "outputs": [
    {
     "data": {
      "text/plain": [
       "array([3, 6, 4, 6, 5, 6, 3, 2, 5, 3, 3, 3, 4, 3])"
      ]
     },
     "execution_count": 16,
     "metadata": {},
     "output_type": "execute_result"
    }
   ],
   "source": [
    "obs.subs_info\n",
    "# nb objets par poste"
   ]
  },
  {
   "cell_type": "code",
   "execution_count": 17,
   "metadata": {},
   "outputs": [
    {
     "data": {
      "text/plain": [
       "array([1, 2, 5, 7, 0])"
      ]
     },
     "execution_count": 17,
     "metadata": {},
     "output_type": "execute_result"
    }
   ],
   "source": [
    "obs._gen_to_subid"
   ]
  },
  {
   "cell_type": "code",
   "execution_count": 18,
   "metadata": {},
   "outputs": [
    {
     "data": {
      "text/plain": [
       "array([4, 2, 4, 1, 2])"
      ]
     },
     "execution_count": 18,
     "metadata": {},
     "output_type": "execute_result"
    }
   ],
   "source": [
    "obs._gen_to_sub_pos"
   ]
  },
  {
   "cell_type": "code",
   "execution_count": 19,
   "metadata": {},
   "outputs": [
    {
     "data": {
      "text/plain": [
       "array([ 7, 11, 28, 34,  2])"
      ]
     },
     "execution_count": 19,
     "metadata": {},
     "output_type": "execute_result"
    }
   ],
   "source": [
    "obs._gen_pos_topo_vect"
   ]
  },
  {
   "cell_type": "code",
   "execution_count": 20,
   "metadata": {},
   "outputs": [
    {
     "data": {
      "text/plain": [
       "array([18.7, 80.6, 41.6,  6.2,  9.8, 26.1,  7.8,  3.2,  5.6, 12.2, 12.8])"
      ]
     },
     "execution_count": 20,
     "metadata": {},
     "output_type": "execute_result"
    }
   ],
   "source": [
    "obs.load_p"
   ]
  },
  {
   "cell_type": "code",
   "execution_count": 21,
   "metadata": {},
   "outputs": [
    {
     "data": {
      "text/plain": [
       "array([1, 1, 1, 1, 1, 1, 1, 1, 1, 1, 1, 1, 1, 1, 1, 1, 1, 1, 1, 1, 1, 1,\n",
       "       1, 1, 1, 1, 1, 1, 1, 1, 1, 1, 1, 1, 1, 1, 1, 1, 1, 1, 1, 1, 1, 1,\n",
       "       1, 1, 1, 1, 1, 1, 1, 1, 1, 1, 1, 1])"
      ]
     },
     "execution_count": 21,
     "metadata": {},
     "output_type": "execute_result"
    }
   ],
   "source": [
    "obs.topo_vect"
   ]
  },
  {
   "cell_type": "code",
   "execution_count": null,
   "metadata": {},
   "outputs": [],
   "source": [
    "horizon = episode.observations.shape[0]\n",
    "load_curve = np.zeros(horizon)\n",
    "for step in range(horizon):\n",
    "    load_curve[step] = episode.get_observation(step).load_p[0]"
   ]
  },
  {
   "cell_type": "code",
   "execution_count": null,
   "metadata": {},
   "outputs": [],
   "source": [
    "import matplotlib.pyplot as plt"
   ]
  },
  {
   "cell_type": "code",
   "execution_count": null,
   "metadata": {},
   "outputs": [],
   "source": [
    "plt.plot(load_curve)"
   ]
  }
 ],
 "metadata": {
  "kernelspec": {
   "display_name": "Python (Grid2Viz",
   "language": "python",
   "name": "grid2op-exuokpev"
  },
  "language_info": {
   "codemirror_mode": {
    "name": "ipython",
    "version": 3
   },
   "file_extension": ".py",
   "mimetype": "text/x-python",
   "name": "python",
   "nbconvert_exporter": "python",
   "pygments_lexer": "ipython3",
   "version": "3.7.5"
  }
 },
 "nbformat": 4,
 "nbformat_minor": 4
}
