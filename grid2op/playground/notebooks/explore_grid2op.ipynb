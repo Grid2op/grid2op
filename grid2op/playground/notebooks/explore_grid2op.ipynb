{
 "cells": [
  {
   "cell_type": "code",
   "execution_count": null,
   "metadata": {},
   "outputs": [],
   "source": [
    "import os\n",
    "import sys\n",
    "\n",
    "import numpy as np\n",
    "\n",
    "# insert grid2op in the path\n",
    "print(os.path.abspath(\"../../..\"))\n",
    "sys.path.insert(0, os.path.abspath(\"../../..\"))\n",
    "\n",
    "%load_ext autoreload\n",
    "%autoreload 2\n",
    "\n",
    "from grid2op.Episode import Episode\n",
    "%pwd"
   ]
  },
  {
   "cell_type": "code",
   "execution_count": null,
   "metadata": {},
   "outputs": [],
   "source": [
    "def attributes(obj):\n",
    "    elems = [el for el in dir(obj) if not el.startswith(\"__\")]\n",
    "    methods = [el for el in elems if hasattr(getattr(obj, el), \"__call__\")]\n",
    "    attributes = [el for el in elems if el not in methods]\n",
    "    return dict(attributes=attributes, methods=methods)"
   ]
  },
  {
   "cell_type": "code",
   "execution_count": null,
   "metadata": {},
   "outputs": [],
   "source": [
    "indx = 1\n",
    "path = f\"../agents/withdisc_powerlinegreedy/{indx}\"\n",
    "\n",
    "episode = Episode.fromdisk(path, indx, \n",
    "                           grid_path=\"../../../grid2op/data/test_PandaPower/test_case14.json\",\n",
    "                           chronics_path=\"../../../grid2op/data/chronics_art\")\n",
    "\n",
    "obs = episode.get_observation(0)\n",
    "\n",
    "act = episode.get_action(0)\n"
   ]
  },
  {
   "cell_type": "code",
   "execution_count": null,
   "metadata": {},
   "outputs": [],
   "source": [
    "print(attributes(obs))"
   ]
  },
  {
   "cell_type": "code",
   "execution_count": null,
   "metadata": {},
   "outputs": [],
   "source": [
    "dict_obs = obs.to_dict()\n",
    "print(dict_obs)"
   ]
  },
  {
   "cell_type": "code",
   "execution_count": null,
   "metadata": {},
   "outputs": [],
   "source": [
    "print(attributes(act))"
   ]
  },
  {
   "cell_type": "code",
   "execution_count": null,
   "metadata": {},
   "outputs": [],
   "source": [
    "act.vars_action"
   ]
  },
  {
   "cell_type": "code",
   "execution_count": null,
   "metadata": {},
   "outputs": [],
   "source": [
    "len(obs.timestep_overflow)"
   ]
  },
  {
   "cell_type": "code",
   "execution_count": null,
   "metadata": {},
   "outputs": [],
   "source": [
    "for attr in attributes(episode)[0]:\n",
    "    value = getattr(episode, attr)\n",
    "    if isinstance(value, dict):\n",
    "        print(f\"{attr}:\")\n",
    "        print(value)"
   ]
  },
  {
   "cell_type": "code",
   "execution_count": null,
   "metadata": {},
   "outputs": [],
   "source": [
    "act.effect_on(gen_id=0)"
   ]
  },
  {
   "cell_type": "code",
   "execution_count": null,
   "metadata": {},
   "outputs": [],
   "source": [
    "obs.n_lines"
   ]
  },
  {
   "cell_type": "code",
   "execution_count": null,
   "metadata": {},
   "outputs": [],
   "source": [
    "obs.connectivity_matrix().shape"
   ]
  },
  {
   "cell_type": "code",
   "execution_count": null,
   "metadata": {},
   "outputs": [],
   "source": [
    "obs.bus_connectivity_matrix()"
   ]
  },
  {
   "cell_type": "code",
   "execution_count": null,
   "metadata": {},
   "outputs": [],
   "source": [
    "obs.subs_info\n",
    "# nb objets par poste"
   ]
  },
  {
   "cell_type": "code",
   "execution_count": null,
   "metadata": {},
   "outputs": [],
   "source": [
    "obs._gen_to_subid"
   ]
  },
  {
   "cell_type": "code",
   "execution_count": null,
   "metadata": {},
   "outputs": [],
   "source": [
    "obs._gen_to_sub_pos"
   ]
  },
  {
   "cell_type": "code",
   "execution_count": null,
   "metadata": {},
   "outputs": [],
   "source": [
    "obs._gen_pos_topo_vect"
   ]
  },
  {
   "cell_type": "code",
   "execution_count": null,
   "metadata": {},
   "outputs": [],
   "source": [
    "obs.load_p"
   ]
  },
  {
   "cell_type": "code",
   "execution_count": null,
   "metadata": {},
   "outputs": [],
   "source": [
    "obs.topo_vect"
   ]
  },
  {
   "cell_type": "code",
   "execution_count": null,
   "metadata": {},
   "outputs": [],
   "source": [
    "horizon = episode.observations.shape[0]\n",
    "load_curve = np.zeros(horizon)\n",
    "for step in range(horizon):\n",
    "    load_curve[step] = episode.get_observation(step).load_p[0]"
   ]
  },
  {
   "cell_type": "code",
   "execution_count": null,
   "metadata": {},
   "outputs": [],
   "source": [
    "import matplotlib.pyplot as plt"
   ]
  },
  {
   "cell_type": "code",
   "execution_count": null,
   "metadata": {},
   "outputs": [],
   "source": [
    "plt.plot(load_curve)"
   ]
  }
 ],
 "metadata": {
  "kernelspec": {
   "display_name": "Python (Grid2Viz",
   "language": "python",
   "name": "grid2op-exuokpev"
  },
  "language_info": {
   "codemirror_mode": {
    "name": "ipython",
    "version": 3
   },
   "file_extension": ".py",
   "mimetype": "text/x-python",
   "name": "python",
   "nbconvert_exporter": "python",
   "pygments_lexer": "ipython3",
   "version": "3.7.5"
  }
 },
 "nbformat": 4,
 "nbformat_minor": 4
}
