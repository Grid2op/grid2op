{
 "cells": [
  {
   "cell_type": "code",
   "execution_count": 1,
   "metadata": {},
   "outputs": [
    {
     "name": "stdout",
     "output_type": "stream",
     "text": [
      "D:\\Projets\\Grid2Op\n"
     ]
    },
    {
     "data": {
      "text/plain": [
       "'D:\\\\Projets\\\\Grid2Op\\\\grid2op\\\\playground\\\\notebooks'"
      ]
     },
     "execution_count": 1,
     "metadata": {},
     "output_type": "execute_result"
    }
   ],
   "source": [
    "import os\n",
    "import sys\n",
    "\n",
    "import numpy as np\n",
    "\n",
    "# insert grid2op in the path\n",
    "print(os.path.abspath(\"../../..\"))\n",
    "sys.path.insert(0, os.path.abspath(\"../../..\"))\n",
    "\n",
    "%load_ext autoreload\n",
    "%autoreload 2\n",
    "\n",
    "from grid2op.Episode import Episode\n",
    "%pwd"
   ]
  },
  {
   "cell_type": "code",
   "execution_count": 2,
   "metadata": {},
   "outputs": [],
   "source": [
    "def attributes(obj):\n",
    "    elems = [el for el in dir(obj) if not el.startswith(\"__\")]\n",
    "    methods = [el for el in elems if hasattr(getattr(obj, el), \"__call__\")]\n",
    "    attributes = [el for el in elems if el not in methods]\n",
    "    return dict(attributes=attributes, methods=methods)"
   ]
  },
  {
   "cell_type": "code",
   "execution_count": 3,
   "metadata": {},
   "outputs": [
    {
     "ename": "Grid2OpException",
     "evalue": "Grid2OpException \"Episode file not found \n [Errno 2] No such file or directory: 'D:\\\\Projets\\\\Grid2Op\\\\getting_started\\\\study_agent_getting_started\\\\1\\\\_parameters.json'\"",
     "output_type": "error",
     "traceback": [
      "\u001b[1;31m---------------------------------------------------------------------------\u001b[0m",
      "\u001b[1;31mFileNotFoundError\u001b[0m                         Traceback (most recent call last)",
      "\u001b[1;32mD:\\Projets\\Grid2Op\\grid2op\\Episode.py\u001b[0m in \u001b[0;36mfromdisk\u001b[1;34m(cls, agent_path, indx)\u001b[0m\n\u001b[0;32m    122\u001b[0m         \u001b[1;32mtry\u001b[0m\u001b[1;33m:\u001b[0m\u001b[1;33m\u001b[0m\u001b[1;33m\u001b[0m\u001b[0m\n\u001b[1;32m--> 123\u001b[1;33m             \u001b[1;32mwith\u001b[0m \u001b[0mopen\u001b[0m\u001b[1;33m(\u001b[0m\u001b[0mos\u001b[0m\u001b[1;33m.\u001b[0m\u001b[0mpath\u001b[0m\u001b[1;33m.\u001b[0m\u001b[0mjoin\u001b[0m\u001b[1;33m(\u001b[0m\u001b[0mepisode_path\u001b[0m\u001b[1;33m,\u001b[0m \u001b[0mEpisode\u001b[0m\u001b[1;33m.\u001b[0m\u001b[0mPARAMS\u001b[0m\u001b[1;33m)\u001b[0m\u001b[1;33m)\u001b[0m \u001b[1;32mas\u001b[0m \u001b[0mf\u001b[0m\u001b[1;33m:\u001b[0m\u001b[1;33m\u001b[0m\u001b[1;33m\u001b[0m\u001b[0m\n\u001b[0m\u001b[0;32m    124\u001b[0m                 \u001b[0m_parameters\u001b[0m \u001b[1;33m=\u001b[0m \u001b[0mjson\u001b[0m\u001b[1;33m.\u001b[0m\u001b[0mload\u001b[0m\u001b[1;33m(\u001b[0m\u001b[0mfp\u001b[0m\u001b[1;33m=\u001b[0m\u001b[0mf\u001b[0m\u001b[1;33m)\u001b[0m\u001b[1;33m\u001b[0m\u001b[1;33m\u001b[0m\u001b[0m\n",
      "\u001b[1;31mFileNotFoundError\u001b[0m: [Errno 2] No such file or directory: 'D:\\\\Projets\\\\Grid2Op\\\\getting_started\\\\study_agent_getting_started\\\\1\\\\_parameters.json'",
      "\nDuring handling of the above exception, another exception occurred:\n",
      "\u001b[1;31mGrid2OpException\u001b[0m                          Traceback (most recent call last)",
      "\u001b[1;32m<ipython-input-3-8d346cbd2f6a>\u001b[0m in \u001b[0;36m<module>\u001b[1;34m\u001b[0m\n\u001b[0;32m      2\u001b[0m \u001b[0mpath\u001b[0m \u001b[1;33m=\u001b[0m \u001b[1;34mf\"../../../getting_started/study_agent_getting_started/\"\u001b[0m\u001b[1;33m\u001b[0m\u001b[1;33m\u001b[0m\u001b[0m\n\u001b[0;32m      3\u001b[0m \u001b[1;33m\u001b[0m\u001b[0m\n\u001b[1;32m----> 4\u001b[1;33m \u001b[0mepisode\u001b[0m \u001b[1;33m=\u001b[0m \u001b[0mEpisode\u001b[0m\u001b[1;33m.\u001b[0m\u001b[0mfromdisk\u001b[0m\u001b[1;33m(\u001b[0m\u001b[0mpath\u001b[0m\u001b[1;33m,\u001b[0m \u001b[0mindx\u001b[0m\u001b[1;33m)\u001b[0m\u001b[1;33m\u001b[0m\u001b[1;33m\u001b[0m\u001b[0m\n\u001b[0m\u001b[0;32m      5\u001b[0m \u001b[1;33m\u001b[0m\u001b[0m\n\u001b[0;32m      6\u001b[0m \u001b[0mobs\u001b[0m \u001b[1;33m=\u001b[0m \u001b[0mepisode\u001b[0m\u001b[1;33m.\u001b[0m\u001b[0mget_observation\u001b[0m\u001b[1;33m(\u001b[0m\u001b[1;36m0\u001b[0m\u001b[1;33m)\u001b[0m\u001b[1;33m\u001b[0m\u001b[1;33m\u001b[0m\u001b[0m\n",
      "\u001b[1;32mD:\\Projets\\Grid2Op\\grid2op\\Episode.py\u001b[0m in \u001b[0;36mfromdisk\u001b[1;34m(cls, agent_path, indx)\u001b[0m\n\u001b[0;32m    139\u001b[0m             \u001b[0mrewards\u001b[0m \u001b[1;33m=\u001b[0m \u001b[0mnp\u001b[0m\u001b[1;33m.\u001b[0m\u001b[0mload\u001b[0m\u001b[1;33m(\u001b[0m\u001b[0mos\u001b[0m\u001b[1;33m.\u001b[0m\u001b[0mpath\u001b[0m\u001b[1;33m.\u001b[0m\u001b[0mjoin\u001b[0m\u001b[1;33m(\u001b[0m\u001b[0mepisode_path\u001b[0m\u001b[1;33m,\u001b[0m \u001b[0mEpisode\u001b[0m\u001b[1;33m.\u001b[0m\u001b[0mREWARDS\u001b[0m\u001b[1;33m)\u001b[0m\u001b[1;33m)\u001b[0m\u001b[1;33m\u001b[0m\u001b[1;33m\u001b[0m\u001b[0m\n\u001b[0;32m    140\u001b[0m         \u001b[1;32mexcept\u001b[0m \u001b[0mFileNotFoundError\u001b[0m \u001b[1;32mas\u001b[0m \u001b[0mex\u001b[0m\u001b[1;33m:\u001b[0m\u001b[1;33m\u001b[0m\u001b[1;33m\u001b[0m\u001b[0m\n\u001b[1;32m--> 141\u001b[1;33m             \u001b[1;32mraise\u001b[0m \u001b[0mGrid2OpException\u001b[0m\u001b[1;33m(\u001b[0m\u001b[1;34mf\"Episode file not found \\n {str(ex)}\"\u001b[0m\u001b[1;33m)\u001b[0m\u001b[1;33m\u001b[0m\u001b[1;33m\u001b[0m\u001b[0m\n\u001b[0m\u001b[0;32m    142\u001b[0m \u001b[1;33m\u001b[0m\u001b[0m\n\u001b[0;32m    143\u001b[0m         observation_space = ObservationSpace.from_dict(\n",
      "\u001b[1;31mGrid2OpException\u001b[0m: Grid2OpException \"Episode file not found \n [Errno 2] No such file or directory: 'D:\\\\Projets\\\\Grid2Op\\\\getting_started\\\\study_agent_getting_started\\\\1\\\\_parameters.json'\""
     ]
    }
   ],
   "source": [
    "indx = 1\n",
    "path = f\"../../../getting_started/study_agent_getting_started/\"\n",
    "\n",
    "episode = Episode.fromdisk(path, indx)\n",
    "\n",
    "obs = episode.get_observation(0)\n",
    "\n",
    "act = episode.get_action(0)\n"
   ]
  },
  {
   "cell_type": "code",
   "execution_count": null,
   "metadata": {},
   "outputs": [],
   "source": [
    "print(attributes(obs))"
   ]
  },
  {
   "cell_type": "code",
   "execution_count": 13,
   "metadata": {},
   "outputs": [
    {
     "name": "stdout",
     "output_type": "stream",
     "text": [
      "{'attributes': ['_change_bus_vect', '_dict_inj', '_dim_topo', '_gen_pos_topo_vect', '_gen_to_sub_pos', '_gen_to_subid', '_lines_ex_pos_topo_vect', '_lines_ex_to_sub_pos', '_lines_ex_to_subid', '_lines_impacted', '_lines_or_pos_topo_vect', '_lines_or_to_sub_pos', '_lines_or_to_subid', '_load_pos_topo_vect', '_load_to_sub_pos', '_load_to_subid', '_n_gen', '_n_lines', '_n_load', '_set_line_status', '_set_topo_vect', '_subs_impacted', '_subs_info', '_switch_line_status', 'as_vect', 'authorized_keys', 'vars_action', 'vars_action_set'], 'methods': ['_check_for_ambiguity', '_digest_change_bus', '_digest_change_status', '_digest_hazards', '_digest_injection', '_digest_maintenance', '_digest_set_status', '_digest_setbus', '_ignore_topo_action_if_disconnection', '_obj_caract_from_topo_id', 'as_dict', 'effect_on', 'from_vect', 'get_change_line_status_vect', 'get_set_line_status_vect', 'get_topological_impact', 'reset', 'sample', 'size', 'to_vect', 'update']}\n"
     ]
    }
   ],
   "source": [
    "print(attributes(act))"
   ]
  },
  {
   "cell_type": "code",
   "execution_count": 15,
   "metadata": {},
   "outputs": [
    {
     "data": {
      "text/plain": [
       "{'change_bus_or': False,\n",
       " 'set_bus_or': 0,\n",
       " 'change_bus_ex': False,\n",
       " 'set_bus_ex': 0,\n",
       " 'set_line_status': 0,\n",
       " 'change_line_status': False}"
      ]
     },
     "execution_count": 15,
     "metadata": {},
     "output_type": "execute_result"
    }
   ],
   "source": [
    "act.effect_on(line_id=0)"
   ]
  },
  {
   "cell_type": "code",
   "execution_count": 29,
   "metadata": {},
   "outputs": [
    {
     "data": {
      "text/plain": [
       "{'origin': {'p': 108.71890339394342,\n",
       "  'q': -8.438686230162062,\n",
       "  'v': 143.1,\n",
       "  'a': 439.95588997815025,\n",
       "  'bus': 1,\n",
       "  'sub_id': 0},\n",
       " 'extremity': {'p': -106.6750435207041,\n",
       "  'q': 8.829642045413191,\n",
       "  'v': 141.07499999999996,\n",
       "  'a': 438.0611789460228,\n",
       "  'bus': 1,\n",
       "  'sub_id': 1}}"
      ]
     },
     "execution_count": 29,
     "metadata": {},
     "output_type": "execute_result"
    }
   ],
   "source": [
    "obs.state_of(line_id=0)"
   ]
  },
  {
   "cell_type": "code",
   "execution_count": 30,
   "metadata": {},
   "outputs": [
    {
     "data": {
      "text/plain": [
       "array([ True,  True,  True,  True,  True,  True,  True,  True,  True,\n",
       "        True,  True,  True,  True,  True,  True,  True,  True,  True,\n",
       "        True,  True])"
      ]
     },
     "execution_count": 30,
     "metadata": {},
     "output_type": "execute_result"
    }
   ],
   "source": [
    "obs.line_status"
   ]
  },
  {
   "cell_type": "code",
   "execution_count": 19,
   "metadata": {},
   "outputs": [
    {
     "data": {
      "text/plain": [
       "{'change_bus': array([False, False, False]), 'set_bus': array([0, 0, 0])}"
      ]
     },
     "execution_count": 19,
     "metadata": {},
     "output_type": "execute_result"
    }
   ],
   "source": [
    "act.effect_on(substation_id=0)"
   ]
  },
  {
   "cell_type": "code",
   "execution_count": 27,
   "metadata": {},
   "outputs": [
    {
     "data": {
      "text/plain": [
       "{'new_p': nan,\n",
       " 'new_v': nan,\n",
       " 'set_topology': 0.0,\n",
       " 'change_bus': False,\n",
       " 'set_bus': 0}"
      ]
     },
     "execution_count": 27,
     "metadata": {},
     "output_type": "execute_result"
    }
   ],
   "source": [
    "act.effect_on(gen_id=-1)"
   ]
  },
  {
   "cell_type": "code",
   "execution_count": 17,
   "metadata": {},
   "outputs": [
    {
     "data": {
      "text/plain": [
       "{'topo_vect': array([1, 1, 1]), 'nb_bus': 1}"
      ]
     },
     "execution_count": 17,
     "metadata": {},
     "output_type": "execute_result"
    }
   ],
   "source": [
    "obs.state_of(substation_id=0)"
   ]
  },
  {
   "cell_type": "code",
   "execution_count": null,
   "metadata": {},
   "outputs": [],
   "source": []
  },
  {
   "cell_type": "markdown",
   "metadata": {},
   "source": [
    "dict_obs = obs.to_dict()\n",
    "print(dict_obs)"
   ]
  },
  {
   "cell_type": "code",
   "execution_count": 7,
   "metadata": {},
   "outputs": [
    {
     "name": "stdout",
     "output_type": "stream",
     "text": [
      "{'attributes': ['_change_bus_vect', '_dict_inj', '_dim_topo', '_gen_pos_topo_vect', '_gen_to_sub_pos', '_gen_to_subid', '_lines_ex_pos_topo_vect', '_lines_ex_to_sub_pos', '_lines_ex_to_subid', '_lines_impacted', '_lines_or_pos_topo_vect', '_lines_or_to_sub_pos', '_lines_or_to_subid', '_load_pos_topo_vect', '_load_to_sub_pos', '_load_to_subid', '_n_gen', '_n_lines', '_n_load', '_set_line_status', '_set_topo_vect', '_subs_impacted', '_subs_info', '_switch_line_status', 'as_vect', 'authorized_keys', 'vars_action', 'vars_action_set'], 'methods': ['_check_for_ambiguity', '_digest_change_bus', '_digest_change_status', '_digest_hazards', '_digest_injection', '_digest_maintenance', '_digest_set_status', '_digest_setbus', '_ignore_topo_action_if_disconnection', '_obj_caract_from_topo_id', 'as_dict', 'effect_on', 'from_vect', 'get_change_line_status_vect', 'get_set_line_status_vect', 'get_topological_impact', 'reset', 'sample', 'size', 'to_vect', 'update']}\n"
     ]
    }
   ],
   "source": [
    "print(attributes(act))"
   ]
  },
  {
   "cell_type": "code",
   "execution_count": 8,
   "metadata": {},
   "outputs": [
    {
     "data": {
      "text/plain": [
       "['load_p', 'load_q', 'prod_p', 'prod_v']"
      ]
     },
     "execution_count": 8,
     "metadata": {},
     "output_type": "execute_result"
    }
   ],
   "source": [
    "act.vars_action"
   ]
  },
  {
   "cell_type": "code",
   "execution_count": 9,
   "metadata": {},
   "outputs": [
    {
     "data": {
      "text/plain": [
       "20"
      ]
     },
     "execution_count": 9,
     "metadata": {},
     "output_type": "execute_result"
    }
   ],
   "source": [
    "len(obs.timestep_overflow)"
   ]
  },
  {
   "cell_type": "code",
   "execution_count": 11,
   "metadata": {},
   "outputs": [
    {
     "name": "stdout",
     "output_type": "stream",
     "text": [
      "meta:\n",
      "{'backend_type': 'PandaPowerBackend', 'chronics_max_timestep': '575', 'chronics_path': '/home/donnotben/Documents/L2RPN_2ndEdition/chronics_testset_adapted/1', 'cumulative_reward': 8807.13902102747, 'env_type': 'Environment', 'grid_path': '/home/donnotben/Documents/L2RPN_2ndEdition/case14_from_pypownet.json', 'nb_timestep_played': 575}\n",
      "params:\n",
      "{'ENV_DC': False, 'FORECAST_DC': False, 'HARD_OVERFLOW_THRESHOLD': 2, 'MAX_LINE_STATUS_CHANGED': 1, 'MAX_SUB_CHANGED': 1, 'NB_TIMESTEP_POWERFLOW_ALLOWED': 2, 'NB_TIMESTEP_RECONNECTION': 10, 'NO_OVERFLOW_DISCONNECTION': False}\n",
      "times:\n",
      "{'Agent': {'total': 400.58962535858154}, 'Env': {'apply_act': 4.25318169593811, 'observation_computation': 3.317006826400757, 'powerflow_computation': 6.4346208572387695, 'total': 14.004809379577637}, 'total': 414.73191356658936}\n"
     ]
    }
   ],
   "source": [
    "for attr in attributes(episode)[\"attributes\"]:\n",
    "    value = getattr(episode, attr)\n",
    "    if isinstance(value, dict):\n",
    "        print(f\"{attr}:\")\n",
    "        print(value)"
   ]
  },
  {
   "cell_type": "code",
   "execution_count": 12,
   "metadata": {},
   "outputs": [
    {
     "data": {
      "text/plain": [
       "{'new_p': nan,\n",
       " 'new_v': nan,\n",
       " 'set_topology': 0.0,\n",
       " 'change_bus': False,\n",
       " 'set_bus': 0}"
      ]
     },
     "execution_count": 12,
     "metadata": {},
     "output_type": "execute_result"
    }
   ],
   "source": [
    "act.effect_on(gen_id=0)"
   ]
  },
  {
   "cell_type": "code",
   "execution_count": 13,
   "metadata": {},
   "outputs": [
    {
     "data": {
      "text/plain": [
       "20"
      ]
     },
     "execution_count": 13,
     "metadata": {},
     "output_type": "execute_result"
    }
   ],
   "source": [
    "obs.n_lines"
   ]
  },
  {
   "cell_type": "code",
   "execution_count": 14,
   "metadata": {},
   "outputs": [
    {
     "data": {
      "text/plain": [
       "(56, 56)"
      ]
     },
     "execution_count": 14,
     "metadata": {},
     "output_type": "execute_result"
    }
   ],
   "source": [
    "obs.connectivity_matrix().shape"
   ]
  },
  {
   "cell_type": "code",
   "execution_count": 15,
   "metadata": {},
   "outputs": [
    {
     "data": {
      "text/plain": [
       "array([[1., 1., 0., 0., 1., 0., 0., 0., 0., 0., 0., 0., 0., 0.],\n",
       "       [1., 1., 1., 1., 1., 0., 0., 0., 0., 0., 0., 0., 0., 0.],\n",
       "       [0., 1., 1., 1., 0., 0., 0., 0., 0., 0., 0., 0., 0., 0.],\n",
       "       [0., 1., 1., 1., 1., 0., 1., 0., 1., 0., 0., 0., 0., 0.],\n",
       "       [1., 1., 0., 1., 1., 1., 0., 0., 0., 0., 0., 0., 0., 0.],\n",
       "       [0., 0., 0., 0., 1., 1., 0., 0., 0., 0., 1., 1., 1., 0.],\n",
       "       [0., 0., 0., 1., 0., 0., 1., 1., 1., 0., 0., 0., 0., 0.],\n",
       "       [0., 0., 0., 0., 0., 0., 1., 1., 0., 0., 0., 0., 0., 0.],\n",
       "       [0., 0., 0., 1., 0., 0., 1., 0., 1., 1., 0., 0., 0., 1.],\n",
       "       [0., 0., 0., 0., 0., 0., 0., 0., 1., 1., 1., 0., 0., 0.],\n",
       "       [0., 0., 0., 0., 0., 1., 0., 0., 0., 1., 1., 0., 0., 0.],\n",
       "       [0., 0., 0., 0., 0., 1., 0., 0., 0., 0., 0., 1., 1., 0.],\n",
       "       [0., 0., 0., 0., 0., 1., 0., 0., 0., 0., 0., 1., 1., 1.],\n",
       "       [0., 0., 0., 0., 0., 0., 0., 0., 1., 0., 0., 0., 1., 1.]])"
      ]
     },
     "execution_count": 15,
     "metadata": {},
     "output_type": "execute_result"
    }
   ],
   "source": [
    "obs.bus_connectivity_matrix()"
   ]
  },
  {
   "cell_type": "code",
   "execution_count": 16,
   "metadata": {},
   "outputs": [
    {
     "data": {
      "text/plain": [
       "array([3, 6, 4, 6, 5, 6, 3, 2, 5, 3, 3, 3, 4, 3])"
      ]
     },
     "execution_count": 16,
     "metadata": {},
     "output_type": "execute_result"
    }
   ],
   "source": [
    "obs.subs_info\n",
    "# nb objets par poste"
   ]
  },
  {
   "cell_type": "code",
   "execution_count": 17,
   "metadata": {},
   "outputs": [
    {
     "data": {
      "text/plain": [
       "array([1, 2, 5, 7, 0])"
      ]
     },
     "execution_count": 17,
     "metadata": {},
     "output_type": "execute_result"
    }
   ],
   "source": [
    "obs._gen_to_subid"
   ]
  },
  {
   "cell_type": "code",
   "execution_count": 21,
   "metadata": {},
   "outputs": [
    {
     "data": {
      "text/plain": [
       "array([ 1,  2, 13,  3,  4,  5,  8,  9, 10, 11, 12])"
      ]
     },
     "execution_count": 21,
     "metadata": {},
     "output_type": "execute_result"
    }
   ],
   "source": [
    "obs._load_to_subid"
   ]
  },
  {
   "cell_type": "code",
   "execution_count": 22,
   "metadata": {},
   "outputs": [
    {
     "data": {
      "text/plain": [
       "array([ 0,  0,  8,  8,  9, 11, 12,  1,  1,  1,  2,  3,  5,  5,  5,  3,  3,\n",
       "        4,  6,  6])"
      ]
     },
     "execution_count": 22,
     "metadata": {},
     "output_type": "execute_result"
    }
   ],
   "source": [
    "obs._lines_or_to_subid"
   ]
  },
  {
   "cell_type": "code",
   "execution_count": 23,
   "metadata": {},
   "outputs": [
    {
     "data": {
      "text/plain": [
       "array([ 1,  4,  9, 13, 10, 12, 13,  2,  3,  4,  3,  4, 10, 11, 12,  6,  8,\n",
       "        5,  7,  8])"
      ]
     },
     "execution_count": 23,
     "metadata": {},
     "output_type": "execute_result"
    }
   ],
   "source": [
    "obs._lines_ex_to_subid"
   ]
  },
  {
   "cell_type": "code",
   "execution_count": 18,
   "metadata": {},
   "outputs": [
    {
     "data": {
      "text/plain": [
       "array([4, 2, 4, 1, 2])"
      ]
     },
     "execution_count": 18,
     "metadata": {},
     "output_type": "execute_result"
    }
   ],
   "source": [
    "obs._gen_to_sub_pos"
   ]
  },
  {
   "cell_type": "code",
   "execution_count": 25,
   "metadata": {},
   "outputs": [
    {
     "data": {
      "text/plain": [
       "array([0, 1, 0, 1, 1, 0, 1, 1, 2, 3, 1, 2, 0, 1, 2, 3, 4, 3, 1, 2])"
      ]
     },
     "execution_count": 25,
     "metadata": {},
     "output_type": "execute_result"
    }
   ],
   "source": [
    "obs._lines_or_to_sub_pos"
   ]
  },
  {
   "cell_type": "code",
   "execution_count": 19,
   "metadata": {},
   "outputs": [
    {
     "data": {
      "text/plain": [
       "array([ 7, 11, 28, 34,  2])"
      ]
     },
     "execution_count": 19,
     "metadata": {},
     "output_type": "execute_result"
    }
   ],
   "source": [
    "obs._gen_pos_topo_vect"
   ]
  },
  {
   "cell_type": "code",
   "execution_count": 20,
   "metadata": {},
   "outputs": [
    {
     "data": {
      "text/plain": [
       "array([18.7, 80.6, 41.6,  6.2,  9.8, 26.1,  7.8,  3.2,  5.6, 12.2, 12.8])"
      ]
     },
     "execution_count": 20,
     "metadata": {},
     "output_type": "execute_result"
    }
   ],
   "source": [
    "obs.load_p"
   ]
  },
  {
   "cell_type": "code",
   "execution_count": 21,
   "metadata": {},
   "outputs": [
    {
     "data": {
      "text/plain": [
       "array([1, 1, 1, 1, 1, 1, 1, 1, 1, 1, 1, 1, 1, 1, 1, 1, 1, 1, 1, 1, 1, 1,\n",
       "       1, 1, 1, 1, 1, 1, 1, 1, 1, 1, 1, 1, 1, 1, 1, 1, 1, 1, 1, 1, 1, 1,\n",
       "       1, 1, 1, 1, 1, 1, 1, 1, 1, 1, 1, 1])"
      ]
     },
     "execution_count": 21,
     "metadata": {},
     "output_type": "execute_result"
    }
   ],
   "source": [
    "obs.topo_vect"
   ]
  },
  {
   "cell_type": "code",
   "execution_count": null,
   "metadata": {},
   "outputs": [],
   "source": [
    "horizon = episode.observations.shape[0]\n",
    "load_curve = np.zeros(horizon)\n",
    "for step in range(horizon):\n",
    "    load_curve[step] = episode.get_observation(step).load_p[0]"
   ]
  },
  {
   "cell_type": "code",
   "execution_count": null,
   "metadata": {},
   "outputs": [],
   "source": [
    "import matplotlib.pyplot as plt"
   ]
  },
  {
   "cell_type": "code",
   "execution_count": null,
   "metadata": {},
   "outputs": [],
   "source": [
    "plt.plot(load_curve)"
   ]
  }
 ],
 "metadata": {
  "kernelspec": {
   "display_name": "Python 3",
   "language": "python",
   "name": "python3"
  },
  "language_info": {
   "codemirror_mode": {
    "name": "ipython",
    "version": 3
   },
   "file_extension": ".py",
   "mimetype": "text/x-python",
   "name": "python",
   "nbconvert_exporter": "python",
   "pygments_lexer": "ipython3",
   "version": "3.7.3"
  }
 },
 "nbformat": 4,
 "nbformat_minor": 4
}
