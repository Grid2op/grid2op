{
 "cells": [
  {
   "cell_type": "code",
   "execution_count": 1,
   "metadata": {},
   "outputs": [
    {
     "name": "stdout",
     "output_type": "stream",
     "text": [
      "D:\\Projects\\RTE - Grid2Viz\\grid2op\n"
     ]
    },
    {
     "data": {
      "text/plain": [
       "'D:\\\\Projects\\\\RTE - Grid2Viz\\\\grid2op\\\\grid2op\\\\playground\\\\notebooks'"
      ]
     },
     "execution_count": 1,
     "metadata": {},
     "output_type": "execute_result"
    }
   ],
   "source": [
    "import os\n",
    "import sys\n",
    "\n",
    "import numpy as np\n",
    "\n",
    "# insert grid2op in the path\n",
    "print(os.path.abspath(\"../../..\"))\n",
    "sys.path.insert(0, os.path.abspath(\"../../..\"))\n",
    "\n",
    "%load_ext autoreload\n",
    "%autoreload 2\n",
    "\n",
    "from grid2op.Episode import Episode\n",
    "%pwd"
   ]
  },
  {
   "cell_type": "code",
   "execution_count": 2,
   "metadata": {},
   "outputs": [
    {
     "name": "stderr",
     "output_type": "stream",
     "text": [
      "numba cannot be imported and numba functions are disabled.\n",
      "Probably the execution is slow.\n",
      "Please install numba to gain a massive speedup.\n",
      "(or if you prefer slow execution, set the flag numba=False to avoid this warning!)\n",
      "\n",
      "numba cannot be imported and numba functions are disabled.\n",
      "Probably the execution is slow.\n",
      "Please install numba to gain a massive speedup.\n",
      "(or if you prefer slow execution, set the flag numba=False to avoid this warning!)\n",
      "\n",
      "numba cannot be imported and numba functions are disabled.\n",
      "Probably the execution is slow.\n",
      "Please install numba to gain a massive speedup.\n",
      "(or if you prefer slow execution, set the flag numba=False to avoid this warning!)\n",
      "\n"
     ]
    },
    {
     "name": "stdout",
     "output_type": "stream",
     "text": [
      "['_Observation__compare_stats', '__abstractmethods__', '__class__', '__delattr__', '__dict__', '__dir__', '__doc__', '__eq__', '__format__', '__ge__', '__getattribute__', '__gt__', '__hash__', '__init__', '__init_subclass__', '__le__', '__lt__', '__module__', '__ne__', '__new__', '__reduce__', '__reduce_ex__', '__repr__', '__setattr__', '__sizeof__', '__slotnames__', '__slots__', '__str__', '__subclasshook__', '__weakref__', '_abc_impl', '_forecasted_grid', '_forecasted_inj', '_gen_pos_topo_vect', '_gen_to_sub_pos', '_gen_to_subid', '_lines_ex_pos_topo_vect', '_lines_ex_to_sub_pos', '_lines_ex_to_subid', '_lines_or_pos_topo_vect', '_lines_or_to_sub_pos', '_lines_or_to_subid', '_load_pos_topo_vect', '_load_to_sub_pos', '_load_to_subid', '_obs_env', '_parameters', '_reset_matrices', '_tol_equal', 'a_ex', 'a_or', 'action_helper', 'bus_connectivity_matrix', 'bus_connectivity_matrix_', 'connectivity_matrix', 'connectivity_matrix_', 'copy', 'day', 'day_of_week', 'dictionnarized', 'dim_topo', 'from_vect', 'hour_of_day', 'line_status', 'load_p', 'load_q', 'load_v', 'minute_of_hour', 'month', 'n_gen', 'n_lines', 'n_load', 'p_ex', 'p_or', 'prod_p', 'prod_q', 'prod_v', 'q_ex', 'q_or', 'reset', 'rho', 'seed', 'simulate', 'size', 'subs_info', 'timestep_overflow', 'to_dict', 'to_vect', 'topo_vect', 'update', 'v_ex', 'v_or', 'vectorized', 'year']\n"
     ]
    }
   ],
   "source": [
    "indx = 1\n",
    "path = f\"../agents/withdisc_powerlinegreedy/{indx}\"\n",
    "\n",
    "episode = Episode.fromdisk(path, indx, \n",
    "                           grid_path=\"../../../grid2op/data/test_PandaPower/test_case14.json\",\n",
    "                           chronics_path=\"../../../grid2op/data/chronics_art\")\n",
    "\n",
    "obs = episode.get_observation(0)\n",
    "\n",
    "print(dir(obs))"
   ]
  },
  {
   "cell_type": "code",
   "execution_count": 3,
   "metadata": {},
   "outputs": [
    {
     "data": {
      "text/plain": [
       "20"
      ]
     },
     "execution_count": 3,
     "metadata": {},
     "output_type": "execute_result"
    }
   ],
   "source": [
    "obs.n_lines"
   ]
  },
  {
   "cell_type": "code",
   "execution_count": 12,
   "metadata": {},
   "outputs": [
    {
     "data": {
      "text/plain": [
       "array([18.7, 80.6, 41.6,  6.2,  9.8, 26.1,  7.8,  3.2,  5.6, 12.2, 12.8])"
      ]
     },
     "execution_count": 12,
     "metadata": {},
     "output_type": "execute_result"
    }
   ],
   "source": [
    "obs.load_p"
   ]
  },
  {
   "cell_type": "code",
   "execution_count": 4,
   "metadata": {},
   "outputs": [],
   "source": [
    "horizon = episode.observations.shape[0]\n",
    "load_curve = np.zeros(horizon) \n",
    "for step in range(horizon):\n",
    "    load_curve[step] = episode.get_observation(step).load_p[0]"
   ]
  },
  {
   "cell_type": "code",
   "execution_count": 8,
   "metadata": {},
   "outputs": [],
   "source": [
    "import matplotlib.pyplot as plt"
   ]
  },
  {
   "cell_type": "code",
   "execution_count": 9,
   "metadata": {},
   "outputs": [
    {
     "data": {
      "text/plain": [
       "[<matplotlib.lines.Line2D at 0x25f315dd348>]"
      ]
     },
     "execution_count": 9,
     "metadata": {},
     "output_type": "execute_result"
    },
    {
     "data": {
      "image/png": "[encoded data removed]",
      "text/plain": [
       "<Figure size 432x288 with 1 Axes>"
      ]
     },
     "metadata": {
      "needs_background": "light"
     },
     "output_type": "display_data"
    }
   ],
   "source": [
    "plt.plot(load_curve)"
   ]
  }
 ],
 "metadata": {
  "kernelspec": {
   "display_name": "Python (Grid2Viz",
   "language": "python",
   "name": "grid2op-exuokpev"
  },
  "language_info": {
   "codemirror_mode": {
    "name": "ipython",
    "version": 3
   },
   "file_extension": ".py",
   "mimetype": "text/x-python",
   "name": "python",
   "nbconvert_exporter": "python",
   "pygments_lexer": "ipython3",
   "version": "3.7.5"
  }
 },
 "nbformat": 4,
 "nbformat_minor": 4
}
