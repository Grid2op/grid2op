{
 "cells": [
  {
   "cell_type": "markdown",
   "metadata": {},
   "source": [
    "# This Notebook will develop how to build an Agent and assess its performance.\n",
    "Try me out interactively with: [![Binder](./img/badge_logo.svg)](https://mybinder.org/v2/gh/rte-france/Grid2Op/master)"
   ]
  },
  {
   "cell_type": "markdown",
   "metadata": {},
   "source": [
    "**Objective**\n",
    "\n",
    "This notebook will cover the basics of the information that can be retrieved about the state of the powergrid.\n",
    "\n",
    "Examples of \"expert agents\" that can take actions based on some fixed rules, will be given for illustration purpose. More generic types of *Agents*, relying for example on machine learning / deep learning will be covered in the notebook [04_TrainingAnAgent](04_TrainingAnAgent.ipynb).\n",
    "\n",
    "This notebook will also cover the description of the *Observation* class, which is useful to take some actions."
   ]
  },
  {
   "cell_type": "code",
   "execution_count": 1,
   "metadata": {},
   "outputs": [],
   "source": [
    "import os\n",
    "import sys\n",
    "import numpy as np\n",
    "import grid2op\n",
    "\n",
    "# TODO explain the methods to get the \"graph\" of the grid\n",
    "# and the kirchoff law too (sum of the bus matrix)"
   ]
  },
  {
   "cell_type": "code",
   "execution_count": 2,
   "metadata": {},
   "outputs": [
    {
     "data": {
      "text/html": [
       "<div id=\"my_id_menu_nb\">run previous cell, wait for 2 seconds</div>\n",
       "<script>\n",
       "function repeat_indent_string(n){\n",
       "    var a = \"\" ;\n",
       "    for ( ; n > 0 ; --n)\n",
       "        a += \"    \";\n",
       "    return a;\n",
       "}\n",
       "// look up into all sections and builds an automated menu //\n",
       "var update_menu_string = function(begin, lfirst, llast, sformat, send, keep_item, begin_format, end_format) {\n",
       "    var anchors = document.getElementsByClassName(\"section\");\n",
       "    if (anchors.length == 0) {\n",
       "        anchors = document.getElementsByClassName(\"text_cell_render rendered_html\");\n",
       "    }\n",
       "    var i,t;\n",
       "    var text_menu = begin;\n",
       "    var text_memo = \"<pre>\\nlength:\" + anchors.length + \"\\n\";\n",
       "    var ind = \"\";\n",
       "    var memo_level = 1;\n",
       "    var href;\n",
       "    var tags = [];\n",
       "    var main_item = 0;\n",
       "    var format_open = 0;\n",
       "    for (i = 0; i <= llast; i++)\n",
       "        tags.push(\"h\" + i);\n",
       "\n",
       "    for (i = 0; i < anchors.length; i++) {\n",
       "        text_memo += \"**\" + anchors[i].id + \"--\\n\";\n",
       "\n",
       "        var child = null;\n",
       "        for(t = 0; t < tags.length; t++) {\n",
       "            var r = anchors[i].getElementsByTagName(tags[t]);\n",
       "            if (r.length > 0) {\n",
       "child = r[0];\n",
       "break;\n",
       "            }\n",
       "        }\n",
       "        if (child == null) {\n",
       "            text_memo += \"null\\n\";\n",
       "            continue;\n",
       "        }\n",
       "        if (anchors[i].hasAttribute(\"id\")) {\n",
       "            // when converted in RST\n",
       "            href = anchors[i].id;\n",
       "            text_memo += \"#1-\" + href;\n",
       "            // passer à child suivant (le chercher)\n",
       "        }\n",
       "        else if (child.hasAttribute(\"id\")) {\n",
       "            // in a notebook\n",
       "            href = child.id;\n",
       "            text_memo += \"#2-\" + href;\n",
       "        }\n",
       "        else {\n",
       "            text_memo += \"#3-\" + \"*\" + \"\\n\";\n",
       "            continue;\n",
       "        }\n",
       "        var title = child.textContent;\n",
       "        var level = parseInt(child.tagName.substring(1,2));\n",
       "\n",
       "        text_memo += \"--\" + level + \"?\" + lfirst + \"--\" + title + \"\\n\";\n",
       "\n",
       "        if ((level < lfirst) || (level > llast)) {\n",
       "            continue ;\n",
       "        }\n",
       "        if (title.endsWith('¶')) {\n",
       "            title = title.substring(0,title.length-1).replace(\"<\", \"&lt;\")\n",
       "         .replace(\">\", \"&gt;\").replace(\"&\", \"&amp;\");\n",
       "        }\n",
       "        if (title.length == 0) {\n",
       "            continue;\n",
       "        }\n",
       "\n",
       "        while (level < memo_level) {\n",
       "            text_menu += end_format + \"</ul>\\n\";\n",
       "            format_open -= 1;\n",
       "            memo_level -= 1;\n",
       "        }\n",
       "        if (level == lfirst) {\n",
       "            main_item += 1;\n",
       "        }\n",
       "        if (keep_item != -1 && main_item != keep_item + 1) {\n",
       "            // alert(main_item + \" - \" + level + \" - \" + keep_item);\n",
       "            continue;\n",
       "        }\n",
       "        while (level > memo_level) {\n",
       "            text_menu += \"<ul>\\n\";\n",
       "            memo_level += 1;\n",
       "        }\n",
       "        text_menu += repeat_indent_string(level-2);\n",
       "        text_menu += begin_format + sformat.replace(\"__HREF__\", href).replace(\"__TITLE__\", title);\n",
       "        format_open += 1;\n",
       "    }\n",
       "    while (1 < memo_level) {\n",
       "        text_menu += end_format + \"</ul>\\n\";\n",
       "        memo_level -= 1;\n",
       "        format_open -= 1;\n",
       "    }\n",
       "    text_menu += send;\n",
       "    //text_menu += \"\\n\" + text_memo;\n",
       "\n",
       "    while (format_open > 0) {\n",
       "        text_menu += end_format;\n",
       "        format_open -= 1;\n",
       "    }\n",
       "    return text_menu;\n",
       "};\n",
       "var update_menu = function() {\n",
       "    var sbegin = \"\";\n",
       "    var sformat = '<a href=\"#__HREF__\">__TITLE__</a>';\n",
       "    var send = \"\";\n",
       "    var begin_format = '<li>';\n",
       "    var end_format = '</li>';\n",
       "    var keep_item = -1;\n",
       "    var text_menu = update_menu_string(sbegin, 2, 4, sformat, send, keep_item,\n",
       "       begin_format, end_format);\n",
       "    var menu = document.getElementById(\"my_id_menu_nb\");\n",
       "    menu.innerHTML=text_menu;\n",
       "};\n",
       "window.setTimeout(update_menu,2000);\n",
       "            </script>"
      ],
      "text/plain": [
       "<IPython.core.display.HTML object>"
      ]
     },
     "execution_count": 2,
     "metadata": {},
     "output_type": "execute_result"
    }
   ],
   "source": [
    "res = None\n",
    "try:\n",
    "    from jyquickhelper import add_notebook_menu\n",
    "    res = add_notebook_menu()\n",
    "except ModuleNotFoundError:\n",
    "    print(\"Impossible to automatically add a menu / table of content to this notebook.\\nYou can download \\\"jyquickhelper\\\" package with: \\n\\\"pip install jyquickhelper\\\"\")\n",
    "res"
   ]
  },
  {
   "cell_type": "markdown",
   "metadata": {},
   "source": [
    "## I) Description of the observations"
   ]
  },
  {
   "cell_type": "markdown",
   "metadata": {},
   "source": [
    "**NB** In this paragraph we will cover the observation class. For more information about it, we recommend to have a look at the official documentation, or [here](https://grid2op.readthedocs.io/en/latest/observation.html) or in the [Observations.py](grid2op/Observation/Observation.py) files for more information. Only basic concepts are detailed in this notebook."
   ]
  },
  {
   "cell_type": "markdown",
   "metadata": {},
   "source": [
    "### I.A) Getting an observation"
   ]
  },
  {
   "cell_type": "markdown",
   "metadata": {},
   "source": [
    "An observation can be accessed by calling `env.step()`. The next cell is dedicated to creating an environment and getting an observation instance. We use the default `rte_case14_realistic` environment from Grid2Op framework."
   ]
  },
  {
   "cell_type": "code",
   "execution_count": 3,
   "metadata": {},
   "outputs": [
    {
     "name": "stderr",
     "output_type": "stream",
     "text": [
      "c:\\users\\benja\\documents\\grid2op_dev\\grid2op\\MakeEnv\\Make.py:273: UserWarning: You are using a development environment. This environment is not intended for training agents. It might not be up to date and its primary use if for tests (hence the \"test=True\" you passed as argument). Use at your own risk.\n",
      "  warnings.warn(_MAKE_DEV_ENV_WARN)\n"
     ]
    }
   ],
   "source": [
    "env = grid2op.make(test=True)\n",
    "obs = env.reset() "
   ]
  },
  {
   "cell_type": "markdown",
   "metadata": {},
   "source": [
    "`obs` now contains the initial state of the grid."
   ]
  },
  {
   "cell_type": "markdown",
   "metadata": {},
   "source": [
    "### I.B) Information contained in an Observation"
   ]
  },
  {
   "cell_type": "markdown",
   "metadata": {},
   "source": [
    "In this notebook we will detail only the \"CompleteObservation\". `Grid2Op` allows to model different kinds of observations. For example, some observations could have incomplete data, or noisy data, etc. `CompleteObservation` gives the full state of the powergrid, without any noise. It's the default type of observation used."
   ]
  },
  {
   "cell_type": "markdown",
   "metadata": {},
   "source": [
    "#### a) Some of its attributes"
   ]
  },
  {
   "cell_type": "markdown",
   "metadata": {},
   "source": [
    "An observation has calendar data (eg the time stamp of the observation):"
   ]
  },
  {
   "cell_type": "code",
   "execution_count": 4,
   "metadata": {},
   "outputs": [
    {
     "data": {
      "text/plain": [
       "(2019, 1, 6, 0, 0, 6)"
      ]
     },
     "execution_count": 4,
     "metadata": {},
     "output_type": "execute_result"
    }
   ],
   "source": [
    "obs.year, obs.month, obs.day, obs.hour_of_day, obs.minute_of_hour, obs.day_of_week"
   ]
  },
  {
   "cell_type": "markdown",
   "metadata": {},
   "source": [
    "It has some powergrid generic information (that are static: the same environment has always these attributes, that have always the same values, but of course different environments can have different values)"
   ]
  },
  {
   "cell_type": "code",
   "execution_count": 5,
   "metadata": {},
   "outputs": [
    {
     "name": "stdout",
     "output_type": "stream",
     "text": [
      "Number of generators of the powergrid: 5\n",
      "Number of loads of the powergrid: 11\n",
      "Number of powerline of the powergrid: 20\n",
      "Number of elements connected to each substations in the powergrid: [3 6 4 6 5 6 3 2 5 3 3 3 4 3]\n",
      "Total number of elements: 56\n"
     ]
    }
   ],
   "source": [
    "print(\"Number of generators of the powergrid: {}\".format(obs.n_gen))\n",
    "print(\"Number of loads of the powergrid: {}\".format(obs.n_load))\n",
    "print(\"Number of powerline of the powergrid: {}\".format(obs.n_line))\n",
    "print(\"Number of elements connected to each substations in the powergrid: {}\".format(obs.sub_info))\n",
    "print(\"Total number of elements: {}\".format(obs.dim_topo))"
   ]
  },
  {
   "cell_type": "markdown",
   "metadata": {},
   "source": [
    "It has some information about the generators (each generator can be viewed as a point in a 3-dimensional space)"
   ]
  },
  {
   "cell_type": "code",
   "execution_count": 6,
   "metadata": {},
   "outputs": [
    {
     "name": "stdout",
     "output_type": "stream",
     "text": [
      "Generators active production: [74.8      73.8      29.2       0.       75.578995]\n",
      "Generators reactive production: [ 19.329943  74.27505   43.9601    24.940077 -17.105919]\n",
      "Generators voltage setpoint : [142.1      142.1       22.        13.200001 142.1     ]\n"
     ]
    }
   ],
   "source": [
    "print(\"Generators active production: {}\".format(obs.gen_p))\n",
    "print(\"Generators reactive production: {}\".format(obs.gen_q))\n",
    "print(\"Generators voltage setpoint : {}\".format(obs.gen_v))"
   ]
  },
  {
   "cell_type": "markdown",
   "metadata": {},
   "source": [
    "It has some information about the loads (each load is a point in a 3-dimensional space, too)"
   ]
  },
  {
   "cell_type": "code",
   "execution_count": 7,
   "metadata": {},
   "outputs": [
    {
     "name": "stdout",
     "output_type": "stream",
     "text": [
      "Loads active consumption: [22.4 87.4 47.   6.9 11.6 30.1  8.9  3.3  5.4 12.5 14.1]\n",
      "Loads reactive consumption: [15.6 60.9 32.2  4.9  8.1 21.1  6.2  2.4  3.8  8.7 10. ]\n",
      "Loads voltage (voltage magnitude of the bus to which it is connected) : [142.1      142.1      138.8432   139.63824   22.        21.046211\n",
      "  21.052515  21.43466   21.575861  21.423473  20.71459 ]\n"
     ]
    }
   ],
   "source": [
    "print(\"Loads active consumption: {}\".format(obs.load_p))\n",
    "print(\"Loads reactive consumption: {}\".format(obs.load_q))\n",
    "print(\"Loads voltage (voltage magnitude of the bus to which it is connected) : {}\".format(obs.load_v))"
   ]
  },
  {
   "cell_type": "markdown",
   "metadata": {},
   "source": [
    "In this setting, a powerline can be viewed as a point in an 8-dimensional space:\n",
    "   * active flow\n",
    "   * reactive flow\n",
    "   * voltage magnitude\n",
    "   * current flow\n",
    "   \n",
    "for both its origin and its extremity.\n",
    "\n",
    "For example, suppose the powerline `line1` is connecting two node `A` and `B`. There are two separate values for the active flow on `line1` : the active flow from `A` to `B` (origin) and the active flow from `B` to `A` (extremity).\n",
    "\n",
    "These powerline features can be accessed with :"
   ]
  },
  {
   "cell_type": "code",
   "execution_count": 8,
   "metadata": {},
   "outputs": [
    {
     "name": "stdout",
     "output_type": "stream",
     "text": [
      "Origin active flow: [ 4.0707798e+01  3.4871201e+01  2.5377020e+01  3.7496193e+01\n",
      "  2.9901894e+01  1.1478888e+01 -3.3143944e+01  1.3214905e+01\n",
      "  8.0508566e+00  1.9815624e+01 -7.1048772e-01  4.8118830e+00\n",
      " -9.6106367e+00  2.5566595e+00  9.5292444e+00  2.1781700e+01\n",
      "  1.2419695e+01  2.3481386e+01  1.0214052e-14 -2.1781700e+01]\n",
      "Origin reactive flow: [-15.569891    -1.5360277   -7.6821265    0.76632917  -0.3415194\n",
      "   9.081002    -3.0429037    9.386731     5.2836905   14.365451\n",
      "  -0.12496944   4.2011113   -6.3253665    1.2876393    6.294099\n",
      " -14.952104    -2.2230313   -5.5788174  -24.034567    -7.1806583 ]\n",
      "Origin current flow: [177.08029  141.81856  107.72723  152.3783   121.498886  59.468212\n",
      " 138.40173  425.38623  252.71758  642.3019    19.789661 175.2324\n",
      " 315.52786   76.60076  307.76926  109.86134   52.46547   99.788956\n",
      " 935.0104   629.15857 ]\n",
      "Origin voltage (voltage magnitude to the bus to which the origin end is connected): [142.1      142.1      142.1      142.1      142.1      142.1\n",
      " 138.8432    22.        22.        22.        21.046211  21.046211\n",
      "  21.052515  21.575861  21.423473 138.8432   138.8432   139.63824\n",
      "  14.840867  21.046211]\n",
      "Extremity active flow: [-4.0375103e+01 -3.4250973e+01 -2.5078886e+01 -3.6722034e+01\n",
      " -2.9420454e+01 -1.1335417e+01  3.3290043e+01 -1.3008661e+01\n",
      " -7.9566593e+00 -1.9488140e+01  7.1063721e-01 -4.7650456e+00\n",
      "  9.7086611e+00 -2.5411038e+00 -9.3349543e+00 -2.1781700e+01\n",
      " -1.2419695e+01 -2.3481386e+01 -1.0658141e-14  2.1781700e+01]\n",
      "Extremity reactive flow: [ 10.987259    -1.0307351    4.2940464   -1.9407016   -1.7941886\n",
      " -10.041261     3.503741    -8.954831    -5.0876393  -13.720533\n",
      "   0.12536655  -4.1014824    6.554831    -1.2735653   -5.8985176\n",
      "  16.331352     3.044308     6.8242245   24.940077     7.703215  ]\n",
      "Extremity current flow: [ 170.00906   141.67868   103.37798   152.91396   121.86822    62.970093\n",
      "  138.40173   425.38623   252.71758   642.3019     19.789661  175.2324\n",
      "  315.52786    76.60076   307.76926  1059.0947    350.78937   641.72284\n",
      " 1090.8455    898.798   ]\n",
      "Extremity voltage (voltage magnitude to the bus to which the origin end is connected): [142.1      139.63824  142.1      138.8432   139.63824  138.8432\n",
      " 139.63824   21.43466   21.575861  21.423473  21.052515  20.71459\n",
      "  21.43466   21.423473  20.71459   14.840867  21.046211  22.\n",
      "  13.200001  14.840867]\n"
     ]
    }
   ],
   "source": [
    "print(\"Origin active flow: {}\".format(obs.p_or))\n",
    "print(\"Origin reactive flow: {}\".format(obs.q_or))\n",
    "print(\"Origin current flow: {}\".format(obs.a_or))\n",
    "print(\"Origin voltage (voltage magnitude to the bus to which the origin end is connected): {}\".format(obs.v_or))\n",
    "print(\"Extremity active flow: {}\".format(obs.p_ex))\n",
    "print(\"Extremity reactive flow: {}\".format(obs.q_ex))\n",
    "print(\"Extremity current flow: {}\".format(obs.a_ex))\n",
    "print(\"Extremity voltage (voltage magnitude to the bus to which the origin end is connected): {}\".format(obs.v_ex))"
   ]
  },
  {
   "cell_type": "markdown",
   "metadata": {},
   "source": [
    "Another powerline feature is the $\\rho$ ratio, *ie.* for each powerline, the ratio between the current flow in the powerline and its thermal limit. It can be accessed with:"
   ]
  },
  {
   "cell_type": "code",
   "execution_count": 9,
   "metadata": {},
   "outputs": [
    {
     "data": {
      "text/plain": [
       "array([0.4600681 , 0.3684554 , 0.2834927 , 0.40099552, 0.7738783 ,\n",
       "       0.15649529, 0.36421508, 0.39470926, 0.5471496 , 0.8343746 ,\n",
       "       0.07345007, 0.45526716, 0.41516823, 0.20158096, 0.40495956,\n",
       "       0.28542814, 0.22718215, 0.58424634, 0.2748218 , 0.18492466],\n",
       "      dtype=float32)"
      ]
     },
     "execution_count": 9,
     "metadata": {},
     "output_type": "execute_result"
    }
   ],
   "source": [
    "obs.rho"
   ]
  },
  {
   "cell_type": "markdown",
   "metadata": {},
   "source": [
    "The observation (*obs*) also stores information on the topology and the state of the powerline."
   ]
  },
  {
   "cell_type": "code",
   "execution_count": 10,
   "metadata": {},
   "outputs": [
    {
     "data": {
      "text/plain": [
       "array([1, 1, 1, 1, 1, 1, 1, 1, 1, 1, 1, 1, 1, 1, 1, 1, 1, 1, 1, 1, 1, 1,\n",
       "       1, 1, 1, 1, 1, 1, 1, 1, 1, 1, 1, 1, 1, 1, 1, 1, 1, 1, 1, 1, 1, 1,\n",
       "       1, 1, 1, 1, 1, 1, 1, 1, 1, 1, 1, 1])"
      ]
     },
     "execution_count": 10,
     "metadata": {},
     "output_type": "execute_result"
    }
   ],
   "source": [
    "obs.timestep_overflow # the number of timestep each of the powerline is in overflow (1 powerline per component)\n",
    "obs.line_status # the status of each powerline: True connected, False disconnected\n",
    "obs.topo_vect  # the topology vector the each element (generator, load, each end of a powerline) to which the object\n",
    "# is connected: 1 = bus 1, 2 = bus 2."
   ]
  },
  {
   "cell_type": "markdown",
   "metadata": {},
   "source": [
    "In `grid2op`, all objects (end of a powerline, load or generator) can be either disconnected, connected to the first bus of its substation, or connected to the second bus of its substation.\n",
    "\n",
    "`topo_vect` is the vector containing the connection information, it is part of the observation.\n",
    "If an object is disconnected, then its corresponding component in `topo_vect` will be `-1`. If it's connected to the first bus of its substation, its component will be `1` and if it's connected to the second bus, its component will be `2`.\n",
    "\n",
    "For example, if you want to know at which bus the \"load 2\" is connected, you can do:"
   ]
  },
  {
   "cell_type": "code",
   "execution_count": 11,
   "metadata": {},
   "outputs": [
    {
     "data": {
      "text/plain": [
       "1"
      ]
     },
     "execution_count": 11,
     "metadata": {},
     "output_type": "execute_result"
    }
   ],
   "source": [
    "load_id = 2\n",
    "obs.topo_vect[obs.load_pos_topo_vect[load_id]]"
   ]
  },
  {
   "cell_type": "markdown",
   "metadata": {},
   "source": [
    "Or alternatively"
   ]
  },
  {
   "cell_type": "code",
   "execution_count": 12,
   "metadata": {},
   "outputs": [
    {
     "data": {
      "text/plain": [
       "1"
      ]
     },
     "execution_count": 12,
     "metadata": {},
     "output_type": "execute_result"
    }
   ],
   "source": [
    "obs.load_bus[load_id]"
   ]
  },
  {
   "cell_type": "markdown",
   "metadata": {},
   "source": [
    "**NB** of course the `obs.gen_bus`, `obs.line_or_bus`, `obs.line_ex_bus` or `obs.storage_bus` are also defined."
   ]
  },
  {
   "cell_type": "markdown",
   "metadata": {},
   "source": [
    "More information about this topology vector is given in the documentation [here](https://grid2op.readthedocs.io/en/latest/observation.html).\n",
    " \n",
    "More information about this topology vector will be given in the notebook dedicated to vizualisation. \n",
    "\n",
    "#### b) Representation as \"a graph\"\n",
    "\n",
    "The powergrid is a graph. This \"topology vector\" is an efficient (in term of memory and speed) way to represent this graph. Hopefully, some utilities functions in grid2op allows to build these graphs rapidly.\n",
    "\n",
    "We say \"these graphs\" because \"the\" graph of the grid can mean different things. Yes, you have a lot of information whith something like:"
   ]
  },
  {
   "cell_type": "code",
   "execution_count": 13,
   "metadata": {},
   "outputs": [
    {
     "data": {
      "image/png": "[encoded data removed]",
      "text/plain": [
       "<Figure size 1280x720 with 1 Axes>"
      ]
     },
     "metadata": {
      "needs_background": "light"
     },
     "output_type": "display_data"
    }
   ],
   "source": [
    "from grid2op.PlotGrid import PlotMatplot\n",
    "plot_helper = PlotMatplot(env.observation_space)\n",
    "_ = plot_helper.plot_obs(obs)"
   ]
  },
  {
   "cell_type": "markdown",
   "metadata": {},
   "source": [
    "#### i) connectivity matrix\n",
    "\n",
    "the `connectivity matrix` which has as many rows / columns as the number of elements in the powergrid (remember that an element is either an end of a powerline, or a generator or a load) and that tells if 2 elements are connected to one another or not:\n",
    "\n",
    "$$\n",
    "\\left\\{\n",
    "\\begin{aligned}\n",
    "\\text{conn mat}[i,j] = 0 & ~\\text{element i and j are NOT connected to the same bus}\\\\\n",
    "\\text{conn mat}[i,j] = 1 & ~\\text{element i and j are connected to the same bus, or i and j are both ends of the same powerline}\\\\\n",
    "\\end{aligned}\n",
    "\\right.\n",
    "$$\n",
    "\n",
    "**NB** If two objects are not connected at the same substation, they are necessarily not connected together, except if these elements are the two side of the same powerline."
   ]
  },
  {
   "cell_type": "code",
   "execution_count": 14,
   "metadata": {},
   "outputs": [
    {
     "data": {
      "text/plain": [
       "array([[1., 1., 1., ..., 0., 0., 0.],\n",
       "       [1., 1., 1., ..., 0., 0., 0.],\n",
       "       [1., 1., 1., ..., 0., 0., 0.],\n",
       "       ...,\n",
       "       [0., 0., 0., ..., 1., 1., 1.],\n",
       "       [0., 0., 0., ..., 1., 1., 1.],\n",
       "       [0., 0., 0., ..., 1., 1., 1.]], dtype=float32)"
      ]
     },
     "execution_count": 14,
     "metadata": {},
     "output_type": "execute_result"
    }
   ],
   "source": [
    "# if \"as_csr_matrix\" is set to True, then the result will be given as a csr scipy sparse matrix\n",
    "mat = obs.connectivity_matrix(as_csr_matrix=False)\n",
    "mat"
   ]
  },
  {
   "cell_type": "markdown",
   "metadata": {},
   "source": [
    "And if you want to know to which object a given element is connected you can do the following (we take the exemple of trying to recover to which element load 5 is connected)"
   ]
  },
  {
   "cell_type": "code",
   "execution_count": 15,
   "metadata": {},
   "outputs": [
    {
     "data": {
      "text/plain": [
       "array([[ 8, -1, -1, 10, -1, -1],\n",
       "       [ 8, -1, -1, 11, -1, -1],\n",
       "       [ 8, -1, -1, -1, 16, -1],\n",
       "       [ 8, -1, -1, 19, -1, -1],\n",
       "       [ 8,  5, -1, -1, -1, -1]])"
      ]
     },
     "execution_count": 15,
     "metadata": {},
     "output_type": "execute_result"
    }
   ],
   "source": [
    "load_id = 5\n",
    "which_connected = mat[obs.load_pos_topo_vect[load_id]] == 1\n",
    "obs.grid_objects_types[which_connected,]"
   ]
  },
  {
   "cell_type": "markdown",
   "metadata": {},
   "source": [
    "This will give you a matrix with as many rows as the number of elements that are connected to the element (in this case 5) with:\n",
    "- the first column indicate the substation. All the objects connected to a given element necessarily belong to the same substation, in our example substation 8.\n",
    "- the second column encodes for \"load\". If there is a \"-1\" it means the element is NOT a load, otherwise it gives the load. Here, looking at the last row, when can know that currently load 5 is... connected to load 5. It will always be the case, except if the element is disconnected of course.\n",
    "- the third column encodes for \"generator\". In this case, all this column is \"-1\" it means the load 5 is not currently directly connected to a generator.\n",
    "- fourth column encodes for \"origin side of powerline\". Here we see that our load 5 is connected to powerline (origin side) with ids 10, 11 and 19\n",
    "- fifth column encodes for \"extremity side of powerline\". We can see that our load 5 is connecte to powerline (extremity side) 16\n",
    "- finally last (sixth) column encodes for storage units. This load 5 is not directly connected to any storage unit here. \n",
    "\n",
    "You can check that everything is consistent with the plot above."
   ]
  },
  {
   "cell_type": "markdown",
   "metadata": {},
   "source": [
    "**Advantages**: \n",
    "\n",
    "    - has always the same dimension, regardless of the topology of the powergrid\n",
    "    - binary matrix\n",
    "    - all elements are represented and easily accessible\n",
    "    - symmetric matrix\n",
    "    \n",
    "**Drawbacks**:\n",
    "\n",
    "    - do not contain any information regarding the flows, generations, loads, storage units etc.\n",
    "    - large matrix\n",
    "    \n",
    "#### ii) bus connectivity matrix\n",
    "\n",
    "Another representation of the \"graph\" of the powergrid is through \"bus-bus\" matrix, that says if at least one powerline connect two bus together or not. \n",
    "\n",
    "In grid2op this is called \"bus_connectivity_matrix\". \n",
    "\n",
    "This `bus connectivity matrix` has as many rows / columns as the number of active buses of the powergrid. It should be understood as follows:\n",
    "\n",
    "$$\n",
    "\\left\\{\n",
    "\\begin{aligned}\n",
    "\\text{bus conn mat}[i,j] = 0 & ~\\text{if no powerline connects bus i to bus j}\\\\\n",
    "\\text{bus conn mat}[i,j] = 1 & ~\\text{if at least one powerline connects bus i to bus j (or i == j)}\\\\\n",
    "\\end{aligned}\n",
    "\\right.\n",
    "$$"
   ]
  },
  {
   "cell_type": "code",
   "execution_count": 16,
   "metadata": {},
   "outputs": [
    {
     "data": {
      "text/plain": [
       "array([[1., 1., 0., 0., 1., 0., 0., 0., 0., 0., 0., 0., 0., 0.],\n",
       "       [1., 1., 1., 1., 1., 0., 0., 0., 0., 0., 0., 0., 0., 0.],\n",
       "       [0., 1., 1., 1., 0., 0., 0., 0., 0., 0., 0., 0., 0., 0.],\n",
       "       [0., 1., 1., 1., 1., 0., 1., 0., 1., 0., 0., 0., 0., 0.],\n",
       "       [1., 1., 0., 1., 1., 1., 0., 0., 0., 0., 0., 0., 0., 0.],\n",
       "       [0., 0., 0., 0., 1., 1., 0., 0., 0., 0., 1., 1., 1., 0.],\n",
       "       [0., 0., 0., 1., 0., 0., 1., 1., 1., 0., 0., 0., 0., 0.],\n",
       "       [0., 0., 0., 0., 0., 0., 1., 1., 0., 0., 0., 0., 0., 0.],\n",
       "       [0., 0., 0., 1., 0., 0., 1., 0., 1., 1., 0., 0., 0., 1.],\n",
       "       [0., 0., 0., 0., 0., 0., 0., 0., 1., 1., 1., 0., 0., 0.],\n",
       "       [0., 0., 0., 0., 0., 1., 0., 0., 0., 1., 1., 0., 0., 0.],\n",
       "       [0., 0., 0., 0., 0., 1., 0., 0., 0., 0., 0., 1., 1., 0.],\n",
       "       [0., 0., 0., 0., 0., 1., 0., 0., 0., 0., 0., 1., 1., 1.],\n",
       "       [0., 0., 0., 0., 0., 0., 0., 0., 1., 0., 0., 0., 1., 1.]],\n",
       "      dtype=float32)"
      ]
     },
     "execution_count": 16,
     "metadata": {},
     "output_type": "execute_result"
    }
   ],
   "source": [
    "obs.bus_connectivity_matrix(as_csr_matrix=False)"
   ]
  },
  {
   "cell_type": "markdown",
   "metadata": {},
   "source": [
    "**Advantages**: \n",
    "\n",
    "- \"small\" matrix\n",
    "- binary matrix\n",
    "- symmetric matrix\n",
    "    \n",
    "**Drawbacks**:\n",
    "\n",
    "- do not contain any information regarding the flows, generations, loads, storage units etc.\n",
    "- it's not easy to know which powerline connects which buses\n",
    "- it's not easy to know which element is connected to which buses (though the `obs.bus_connectivity_matrix(return_lines_index=True)` might help in this case)\n",
    "- its dimension changes: you can have 2, or 1 bus at any given substation.\n",
    "    \n",
    "#### iii) \"flow bus\" matrix\n",
    "Finally, you can introduce informations about flows (*eg* label) on your graph.\n",
    "\n",
    "This \"flow bus matrix\" has the following properties:\n",
    "\n",
    "- like the above \"bus connectivity matrix\" it has as many rows / columns as the number of different bus on a power\n",
    "- the diagonal coefficients are the power injected at this bus, which is defined at the sum of the generators connected at this bus minus the sum of the loads connected at this bus\n",
    "- the non diagonal coefficient `[i, j]` (i different from j then) is the amount of power flowing from bus i to bus j.\n",
    "\n",
    "In grid2op, you can do the following:"
   ]
  },
  {
   "cell_type": "code",
   "execution_count": 17,
   "metadata": {},
   "outputs": [
    {
     "name": "stdout",
     "output_type": "stream",
     "text": [
      "bus_shunt: [0 1 2 3 4 5 6 7 8]\n",
      "bus_shunt: [0 1 2 3 4 5 6 7 8]\n"
     ]
    },
    {
     "data": {
      "text/plain": [
       "array([[ 7.5578995e+01, -4.0707798e+01,  0.0000000e+00,  0.0000000e+00,\n",
       "        -3.4871201e+01,  0.0000000e+00,  0.0000000e+00,  0.0000000e+00,\n",
       "         0.0000000e+00,  0.0000000e+00,  0.0000000e+00,  0.0000000e+00,\n",
       "         0.0000000e+00,  0.0000000e+00],\n",
       "       [ 4.0375103e+01,  5.2400002e+01, -2.5377020e+01, -3.7496193e+01,\n",
       "        -2.9901894e+01,  0.0000000e+00,  0.0000000e+00,  0.0000000e+00,\n",
       "         0.0000000e+00,  0.0000000e+00,  0.0000000e+00,  0.0000000e+00,\n",
       "         0.0000000e+00,  0.0000000e+00],\n",
       "       [ 0.0000000e+00,  2.5078886e+01, -1.3599998e+01, -1.1478888e+01,\n",
       "         0.0000000e+00,  0.0000000e+00,  0.0000000e+00,  0.0000000e+00,\n",
       "         0.0000000e+00,  0.0000000e+00,  0.0000000e+00,  0.0000000e+00,\n",
       "         0.0000000e+00,  0.0000000e+00],\n",
       "       [ 0.0000000e+00,  3.6722034e+01,  1.1335417e+01, -4.7000000e+01,\n",
       "         3.3143944e+01,  0.0000000e+00, -2.1781700e+01,  0.0000000e+00,\n",
       "        -1.2419695e+01,  0.0000000e+00,  0.0000000e+00,  0.0000000e+00,\n",
       "         0.0000000e+00,  0.0000000e+00],\n",
       "       [ 3.4250973e+01,  2.9420454e+01,  0.0000000e+00, -3.3290043e+01,\n",
       "        -6.9000001e+00, -2.3481386e+01,  0.0000000e+00,  0.0000000e+00,\n",
       "         0.0000000e+00,  0.0000000e+00,  0.0000000e+00,  0.0000000e+00,\n",
       "         0.0000000e+00,  0.0000000e+00],\n",
       "       [ 0.0000000e+00,  0.0000000e+00,  0.0000000e+00,  0.0000000e+00,\n",
       "         2.3481386e+01,  1.7600000e+01,  0.0000000e+00,  0.0000000e+00,\n",
       "         0.0000000e+00,  0.0000000e+00, -1.3214905e+01, -8.0508566e+00,\n",
       "        -1.9815624e+01,  0.0000000e+00],\n",
       "       [ 0.0000000e+00,  0.0000000e+00,  0.0000000e+00,  2.1781700e+01,\n",
       "         0.0000000e+00,  0.0000000e+00,  0.0000000e+00, -1.0214052e-14,\n",
       "        -2.1781700e+01,  0.0000000e+00,  0.0000000e+00,  0.0000000e+00,\n",
       "         0.0000000e+00,  0.0000000e+00],\n",
       "       [ 0.0000000e+00,  0.0000000e+00,  0.0000000e+00,  0.0000000e+00,\n",
       "         0.0000000e+00,  0.0000000e+00,  1.0658141e-14,  0.0000000e+00,\n",
       "         0.0000000e+00,  0.0000000e+00,  0.0000000e+00,  0.0000000e+00,\n",
       "         0.0000000e+00,  0.0000000e+00],\n",
       "       [ 0.0000000e+00,  0.0000000e+00,  0.0000000e+00,  1.2419695e+01,\n",
       "         0.0000000e+00,  0.0000000e+00,  2.1781700e+01,  0.0000000e+00,\n",
       "        -3.0100000e+01,  7.1048772e-01,  0.0000000e+00,  0.0000000e+00,\n",
       "         0.0000000e+00, -4.8118830e+00],\n",
       "       [ 0.0000000e+00,  0.0000000e+00,  0.0000000e+00,  0.0000000e+00,\n",
       "         0.0000000e+00,  0.0000000e+00,  0.0000000e+00,  0.0000000e+00,\n",
       "        -7.1063721e-01, -8.8999996e+00,  9.6106367e+00,  0.0000000e+00,\n",
       "         0.0000000e+00,  0.0000000e+00],\n",
       "       [ 0.0000000e+00,  0.0000000e+00,  0.0000000e+00,  0.0000000e+00,\n",
       "         0.0000000e+00,  1.3008661e+01,  0.0000000e+00,  0.0000000e+00,\n",
       "         0.0000000e+00, -9.7086611e+00, -3.3000000e+00,  0.0000000e+00,\n",
       "         0.0000000e+00,  0.0000000e+00],\n",
       "       [ 0.0000000e+00,  0.0000000e+00,  0.0000000e+00,  0.0000000e+00,\n",
       "         0.0000000e+00,  7.9566593e+00,  0.0000000e+00,  0.0000000e+00,\n",
       "         0.0000000e+00,  0.0000000e+00,  0.0000000e+00, -5.4000001e+00,\n",
       "        -2.5566595e+00,  0.0000000e+00],\n",
       "       [ 0.0000000e+00,  0.0000000e+00,  0.0000000e+00,  0.0000000e+00,\n",
       "         0.0000000e+00,  1.9488140e+01,  0.0000000e+00,  0.0000000e+00,\n",
       "         0.0000000e+00,  0.0000000e+00,  0.0000000e+00,  2.5411038e+00,\n",
       "        -1.2500000e+01, -9.5292444e+00],\n",
       "       [ 0.0000000e+00,  0.0000000e+00,  0.0000000e+00,  0.0000000e+00,\n",
       "         0.0000000e+00,  0.0000000e+00,  0.0000000e+00,  0.0000000e+00,\n",
       "         4.7650456e+00,  0.0000000e+00,  0.0000000e+00,  0.0000000e+00,\n",
       "         9.3349543e+00, -1.4100000e+01]], dtype=float32)"
      ]
     },
     "execution_count": 17,
     "metadata": {},
     "output_type": "execute_result"
    }
   ],
   "source": [
    "mat, (load_bus, gen_bus, stor_bus, lor_bus, lex_bus) = obs.flow_bus_matrix(active_flow=True, as_csr_matrix=False)\n",
    "mat, (load_bus, gen_bus, stor_bus, lor_bus, lex_bus) = obs.flow_bus_matrix(active_flow=True, as_csr_matrix=False)\n",
    "mat"
   ]
  },
  {
   "cell_type": "markdown",
   "metadata": {},
   "source": [
    "Let's dive a bit on the arguments there:\n",
    "\n",
    "- `mat` is the flow bus matrix\n",
    "- `load_bus` indicates for each load, to which bus it is connected\n",
    "- `gen_bus` indicates for each generator, to which bus it is connected\n",
    "- `stor_bus` indicates for each load, to which bus it is connected\n",
    "- `lor_bus` indicates for each line (origin side), to which bus it is connected\n",
    "- `lex_bus` indicates for each line (extremity side), to which bus it is connected\n",
    "\n",
    "Let's take the same example as above with the load id 5."
   ]
  },
  {
   "cell_type": "code",
   "execution_count": 18,
   "metadata": {},
   "outputs": [
    {
     "name": "stdout",
     "output_type": "stream",
     "text": [
      "The load 5 absorbs: 30.10MW\n",
      "It is connected to the bus id 8 of the matrix\n",
      "And we can see the diagonal coefficient of the \"flow bus matrix\" at this bus is: -30.10\n",
      "Also we can see that powerlines [10 11 19] have their origin side connected at this bus.\n",
      "And powerlines [16] have their extremity side connected at this bus.\n",
      "And, for example, if we look at powerline 10, that connects bus 8 to bus 9 we can see that:\n",
      "The flow from bus 8 to 9 is 0.71MW\n",
      "For information, the flow at the origin side of this line 10 is -0.71MW. And this is not a coincidence.\n",
      "\n",
      "Also, we want to emphasize that this matrix is NOT symmetrical, for example:\n",
      "\t the power from bus 8 to 9 is 0.71049 MW\n",
      "\t the power from bus 9 to 8 is -0.71064 MW\n"
     ]
    }
   ],
   "source": [
    "load_id = 5\n",
    "this_load_bus = load_bus[load_id]\n",
    "lines_or_id = np.where(lor_bus == this_load_bus)[0]\n",
    "lines_ex_id = np.where(lex_bus == this_load_bus)[0]\n",
    "line_id = lines_or_id[0]\n",
    "print(f\"The load {load_id} absorbs: {obs.load_p[load_id]:.2f}MW\")\n",
    "print(f\"It is connected to the bus id {this_load_bus} of the matrix\")\n",
    "print(f\"And we can see the diagonal coefficient of the \\\"flow bus matrix\\\" \"\\\n",
    "      f\"at this bus is: {mat[this_load_bus,this_load_bus]:.2f}\")\n",
    "print(f\"Also we can see that powerlines {lines_or_id} have their origin side connected at this bus.\")\n",
    "print(f\"And powerlines {lines_ex_id} have their extremity side connected at this bus.\")\n",
    "print(f\"And, for example, if we look at powerline {line_id}, that connects bus {lor_bus[line_id]} \"\\\n",
    "      f\"to bus {lex_bus[line_id]} we can see that:\")\n",
    "print(f\"The flow from bus {lor_bus[line_id]} to {lex_bus[line_id]} is \"\\\n",
    "      f\"{mat[lor_bus[line_id], lex_bus[line_id]]:.2f}MW\")\n",
    "print(f\"For information, the flow at the origin side of this line {line_id} is {obs.p_or[line_id]:.2f}MW. \"\\\n",
    "      f\"And this is not a coincidence.\")\n",
    "print()\n",
    "print(f\"Also, we want to emphasize that this matrix is NOT symmetrical, for example:\")\n",
    "print(f\"\\t the power from bus {lor_bus[line_id]} to {lex_bus[line_id]} is \"\\\n",
    "      f\"{mat[lor_bus[line_id], lex_bus[line_id]]:.5f} MW\")\n",
    "print(f\"\\t the power from bus {lex_bus[line_id]} to {lor_bus[line_id]} is \"\\\n",
    "      f\"{mat[lex_bus[line_id], lor_bus[line_id]]:.5f} MW\")"
   ]
  },
  {
   "cell_type": "markdown",
   "metadata": {},
   "source": [
    "So you can see that the power from a bus to another is signed (if it's positive from 8 to 9 it means that the flow is going from 9 to 8: power is injected at bus 8 from bus 9)\n",
    "\n",
    "And also, the two values (power injected at one side, from another) do not sum at 0. This is because there are losses on the grid, mainly due to Joule's effect."
   ]
  },
  {
   "cell_type": "markdown",
   "metadata": {},
   "source": [
    "**Advantages**: \n",
    "\n",
    "- \"small\" matrix\n",
    "- contain lots of information regarding the flows, generators, loads, storage units etc.\n",
    "\n",
    "**Drawbacks**:\n",
    "\n",
    "- it's not easy to know which powerline connects which buses, even though the \"lor_bus\", \"lex_bus\", \"stor_bus\" etc. can be used to retrieve it [bus in any case it will be agregated]\n",
    "- it's not easy to know which elements are connected to which others\n",
    "- its dimension changes: you can have 2, or 1 bus at any given substation.\n",
    "- real number matrix\n",
    "- non symmetric matrix\n",
    "\n",
    "**NB** The power in alternative current contains two dimension called \"active\" and \"reactive\". We detailed here the example of the \"active flow\" matrix that is accessed with `obs.flow_bus_matrix(active_flow=True)` (active flows uses `obs.p_or`, `obs.p_ex`, `obs.load_p`, `obs.gen_p` and `obs.storage_power`). You can retrieve the \"reactive flow\" matrix with `obs.flow_bus_matrix(active_flow=False)` (reactive flows uses `obs.q_or`, `obs.q_ex`, `obs.load_q`, `obs.gen_q` and nothing for the storage reactive power)."
   ]
  },
  {
   "cell_type": "markdown",
   "metadata": {},
   "source": [
    "#### iv) networkx graph\n",
    "\n",
    "Lastly, the grid2op framework also offers the possibility to \"convert\" a given observation as a graph (representing as a networkx graph).\n",
    "\n",
    "This graph has the following properties:\n",
    "- it counts as many nodes as the number of buses of the grid\n",
    "- it counts less edges than the number of lines of the grid (two lines connecting the same buses are \"merged\" into one single edges)\n",
    "- nodes have attributes:\n",
    "- edges have attributes:\n",
    "\n",
    "An example is given in:"
   ]
  },
  {
   "cell_type": "code",
   "execution_count": 44,
   "metadata": {
    "scrolled": true
   },
   "outputs": [
    {
     "name": "stdout",
     "output_type": "stream",
     "text": [
      "bus_shunt: [0 1 2 3 4 5 6 7 8]\n",
      "  (0, 0)\t0.0\n",
      "  (0, 1)\t-40.707798\n",
      "  (0, 4)\t-34.8712\n",
      "  (1, 0)\t40.375103\n",
      "  (1, 1)\t0.0\n",
      "  (1, 2)\t-25.37702\n",
      "  (1, 3)\t-37.496193\n",
      "  (1, 4)\t-29.901894\n",
      "  (2, 1)\t25.078886\n",
      "  (2, 2)\t0.0\n",
      "  (2, 3)\t-11.478888\n",
      "  (3, 1)\t36.722034\n",
      "  (3, 2)\t11.335417\n",
      "  (3, 3)\t0.0\n",
      "  (3, 4)\t33.143944\n",
      "  (3, 6)\t-21.7817\n",
      "  (3, 8)\t-12.419695\n",
      "  (4, 0)\t34.250973\n",
      "  (4, 1)\t29.420454\n",
      "  (4, 3)\t-33.290043\n",
      "  (4, 4)\t0.0\n",
      "  (4, 5)\t-23.481386\n",
      "  (5, 4)\t23.481386\n",
      "  (5, 5)\t0.0\n",
      "  (5, 10)\t-13.214905\n",
      "  :\t:\n",
      "  (6, 7)\t-1.0214052e-14\n",
      "  (6, 8)\t-21.7817\n",
      "  (7, 6)\t1.0658141e-14\n",
      "  (7, 7)\t0.0\n",
      "  (8, 3)\t12.419695\n",
      "  (8, 6)\t21.7817\n",
      "  (8, 8)\t0.0\n",
      "  (8, 9)\t0.7104877\n",
      "  (8, 13)\t-4.811883\n",
      "  (9, 8)\t-0.7106372\n",
      "  (9, 9)\t0.0\n",
      "  (9, 10)\t9.610637\n",
      "  (10, 5)\t13.008661\n",
      "  (10, 9)\t-9.708661\n",
      "  (10, 10)\t0.0\n",
      "  (11, 5)\t7.9566593\n",
      "  (11, 11)\t0.0\n",
      "  (11, 12)\t-2.5566595\n",
      "  (12, 5)\t19.48814\n",
      "  (12, 11)\t2.5411038\n",
      "  (12, 12)\t0.0\n",
      "  (12, 13)\t-9.529244\n",
      "  (13, 8)\t4.7650456\n",
      "  (13, 12)\t9.334954\n",
      "  (13, 13)\t0.0\n"
     ]
    },
    {
     "data": {
      "text/plain": [
       "EdgeDataView([(0, 0, {'p_or': 0.0}), (0, 1, {'p_or': 40.375103}), (0, 4, {'p_or': 34.250973}), (1, 1, {'p_or': 0.0}), (1, 2, {'p_or': 25.078886}), (1, 3, {'p_or': 36.722034}), (1, 4, {'p_or': 29.420454}), (2, 2, {'p_or': 0.0}), (2, 3, {'p_or': 11.335417}), (3, 3, {'p_or': 0.0}), (3, 4, {'p_or': -33.290043}), (3, 6, {'p_or': 21.7817}), (3, 8, {'p_or': 12.419695}), (4, 4, {'p_or': 0.0}), (4, 5, {'p_or': 23.481386}), (5, 5, {'p_or': 0.0}), (5, 10, {'p_or': 13.008661}), (5, 11, {'p_or': 7.9566593}), (5, 12, {'p_or': 19.48814}), (6, 6, {'p_or': 0.0}), (6, 7, {'p_or': 1.0658141e-14}), (6, 8, {'p_or': 21.7817}), (7, 7, {'p_or': 0.0}), (8, 8, {'p_or': 0.0}), (8, 9, {'p_or': -0.7106372}), (8, 13, {'p_or': 4.7650456}), (9, 9, {'p_or': 0.0}), (9, 10, {'p_or': -9.708661}), (10, 10, {'p_or': 0.0}), (11, 11, {'p_or': 0.0}), (11, 12, {'p_or': 2.5411038}), (12, 12, {'p_or': 0.0}), (12, 13, {'p_or': 9.334954}), (13, 13, {'p_or': 0.0})])"
      ]
     },
     "execution_count": 44,
     "metadata": {},
     "output_type": "execute_result"
    }
   ],
   "source": [
    "import networkx\n",
    "mat, (load_bus, gen_bus, stor_bus, lor_bus, lex_bus) = obs.flow_bus_matrix(active_flow=True, as_csr_matrix=True)\n",
    "mat.setdiag(0.)\n",
    "graph = networkx.from_scipy_sparse_matrix(mat, edge_attribute=\"p_or\")\n",
    "graph.edges(data=True)"
   ]
  },
  {
   "cell_type": "code",
   "execution_count": 43,
   "metadata": {},
   "outputs": [
    {
     "data": {
      "text/plain": [
       "0.0"
      ]
     },
     "execution_count": 43,
     "metadata": {},
     "output_type": "execute_result"
    }
   ],
   "source": [
    "mat[0,7]"
   ]
  },
  {
   "cell_type": "markdown",
   "metadata": {},
   "source": [
    "#### c) Some other handy methods"
   ]
  },
  {
   "cell_type": "markdown",
   "metadata": {},
   "source": [
    "The observation can be converted to / from a flat numpy array. This function is useful for interacting with machine learning libraries or to store it, but it probably makes it less readable for a human. The function proceeds by stacking all the features mentionned above in a single `numpy.float64` vector."
   ]
  },
  {
   "cell_type": "code",
   "execution_count": 21,
   "metadata": {},
   "outputs": [
    {
     "data": {
      "text/plain": [
       "array([ 2.01900000e+03,  1.00000000e+00,  6.00000000e+00,  0.00000000e+00,\n",
       "        0.00000000e+00,  6.00000000e+00,  7.48000031e+01,  7.38000031e+01,\n",
       "        2.92000008e+01,  0.00000000e+00,  7.55789948e+01,  1.93299427e+01,\n",
       "        7.42750473e+01,  4.39600983e+01,  2.49400768e+01, -1.71059189e+01,\n",
       "        1.42100006e+02,  1.42100006e+02,  2.20000000e+01,  1.32000008e+01,\n",
       "        1.42100006e+02,  2.23999996e+01,  8.74000015e+01,  4.70000000e+01,\n",
       "        6.90000010e+00,  1.16000004e+01,  3.01000004e+01,  8.89999962e+00,\n",
       "        3.29999995e+00,  5.40000010e+00,  1.25000000e+01,  1.41000004e+01,\n",
       "        1.56000004e+01,  6.09000015e+01,  3.22000008e+01,  4.90000010e+00,\n",
       "        8.10000038e+00,  2.11000004e+01,  6.19999981e+00,  2.40000010e+00,\n",
       "        3.79999995e+00,  8.69999981e+00,  1.00000000e+01,  1.42100006e+02,\n",
       "        1.42100006e+02,  1.38843201e+02,  1.39638245e+02,  2.20000000e+01,\n",
       "        2.10462112e+01,  2.10525150e+01,  2.14346600e+01,  2.15758610e+01,\n",
       "        2.14234734e+01,  2.07145901e+01,  4.07077980e+01,  3.48712006e+01,\n",
       "        2.53770199e+01,  3.74961929e+01,  2.99018936e+01,  1.14788876e+01,\n",
       "       -3.31439438e+01,  1.32149048e+01,  8.05085659e+00,  1.98156242e+01,\n",
       "       -7.10487723e-01,  4.81188297e+00, -9.61063671e+00,  2.55665946e+00,\n",
       "        9.52924442e+00,  2.17817001e+01,  1.24196949e+01,  2.34813862e+01,\n",
       "        1.02140518e-14, -2.17817001e+01, -1.55698910e+01, -1.53602767e+00,\n",
       "       -7.68212652e+00,  7.66329169e-01, -3.41519386e-01,  9.08100224e+00,\n",
       "       -3.04290366e+00,  9.38673115e+00,  5.28369045e+00,  1.43654509e+01,\n",
       "       -1.24969438e-01,  4.20111132e+00, -6.32536650e+00,  1.28763926e+00,\n",
       "        6.29409885e+00, -1.49521036e+01, -2.22303128e+00, -5.57881737e+00,\n",
       "       -2.40345669e+01, -7.18065834e+00,  1.42100006e+02,  1.42100006e+02,\n",
       "        1.42100006e+02,  1.42100006e+02,  1.42100006e+02,  1.42100006e+02,\n",
       "        1.38843201e+02,  2.20000000e+01,  2.20000000e+01,  2.20000000e+01,\n",
       "        2.10462112e+01,  2.10462112e+01,  2.10525150e+01,  2.15758610e+01,\n",
       "        2.14234734e+01,  1.38843201e+02,  1.38843201e+02,  1.39638245e+02,\n",
       "        1.48408670e+01,  2.10462112e+01,  1.77080292e+02,  1.41818558e+02,\n",
       "        1.07727226e+02,  1.52378296e+02,  1.21498886e+02,  5.94682121e+01,\n",
       "        1.38401733e+02,  4.25386230e+02,  2.52717575e+02,  6.42301880e+02,\n",
       "        1.97896614e+01,  1.75232407e+02,  3.15527863e+02,  7.66007614e+01,\n",
       "        3.07769257e+02,  1.09861343e+02,  5.24654694e+01,  9.97889557e+01,\n",
       "        9.35010376e+02,  6.29158569e+02, -4.03751030e+01, -3.42509727e+01,\n",
       "       -2.50788860e+01, -3.67220345e+01, -2.94204540e+01, -1.13354168e+01,\n",
       "        3.32900429e+01, -1.30086613e+01, -7.95665932e+00, -1.94881401e+01,\n",
       "        7.10637212e-01, -4.76504564e+00,  9.70866108e+00, -2.54110384e+00,\n",
       "       -9.33495426e+00, -2.17817001e+01, -1.24196949e+01, -2.34813862e+01,\n",
       "       -1.06581410e-14,  2.17817001e+01,  1.09872589e+01, -1.03073514e+00,\n",
       "        4.29404640e+00, -1.94070160e+00, -1.79418862e+00, -1.00412607e+01,\n",
       "        3.50374103e+00, -8.95483112e+00, -5.08763933e+00, -1.37205334e+01,\n",
       "        1.25366554e-01, -4.10148239e+00,  6.55483103e+00, -1.27356529e+00,\n",
       "       -5.89851761e+00,  1.63313522e+01,  3.04430795e+00,  6.82422447e+00,\n",
       "        2.49400768e+01,  7.70321512e+00,  1.42100006e+02,  1.39638245e+02,\n",
       "        1.42100006e+02,  1.38843201e+02,  1.39638245e+02,  1.38843201e+02,\n",
       "        1.39638245e+02,  2.14346600e+01,  2.15758610e+01,  2.14234734e+01,\n",
       "        2.10525150e+01,  2.07145901e+01,  2.14346600e+01,  2.14234734e+01,\n",
       "        2.07145901e+01,  1.48408670e+01,  2.10462112e+01,  2.20000000e+01,\n",
       "        1.32000008e+01,  1.48408670e+01,  1.70009064e+02,  1.41678680e+02,\n",
       "        1.03377983e+02,  1.52913956e+02,  1.21868217e+02,  6.29700928e+01,\n",
       "        1.38401733e+02,  4.25386230e+02,  2.52717575e+02,  6.42301880e+02,\n",
       "        1.97896614e+01,  1.75232407e+02,  3.15527863e+02,  7.66007614e+01,\n",
       "        3.07769257e+02,  1.05909473e+03,  3.50789368e+02,  6.41722839e+02,\n",
       "        1.09084546e+03,  8.98797974e+02,  4.60068107e-01,  3.68455410e-01,\n",
       "        2.83492714e-01,  4.00995523e-01,  7.73878276e-01,  1.56495288e-01,\n",
       "        3.64215076e-01,  3.94709259e-01,  5.47149599e-01,  8.34374607e-01,\n",
       "        7.34500736e-02,  4.55267161e-01,  4.15168226e-01,  2.01580957e-01,\n",
       "        4.04959559e-01,  2.85428137e-01,  2.27182150e-01,  5.84246337e-01,\n",
       "        2.74821788e-01,  1.84924662e-01,  1.00000000e+00,  1.00000000e+00,\n",
       "        1.00000000e+00,  1.00000000e+00,  1.00000000e+00,  1.00000000e+00,\n",
       "        1.00000000e+00,  1.00000000e+00,  1.00000000e+00,  1.00000000e+00,\n",
       "        1.00000000e+00,  1.00000000e+00,  1.00000000e+00,  1.00000000e+00,\n",
       "        1.00000000e+00,  1.00000000e+00,  1.00000000e+00,  1.00000000e+00,\n",
       "        1.00000000e+00,  1.00000000e+00,  0.00000000e+00,  0.00000000e+00,\n",
       "        0.00000000e+00,  0.00000000e+00,  0.00000000e+00,  0.00000000e+00,\n",
       "        0.00000000e+00,  0.00000000e+00,  0.00000000e+00,  0.00000000e+00,\n",
       "        0.00000000e+00,  0.00000000e+00,  0.00000000e+00,  0.00000000e+00,\n",
       "        0.00000000e+00,  0.00000000e+00,  0.00000000e+00,  0.00000000e+00,\n",
       "        0.00000000e+00,  0.00000000e+00,  1.00000000e+00,  1.00000000e+00,\n",
       "        1.00000000e+00,  1.00000000e+00,  1.00000000e+00,  1.00000000e+00,\n",
       "        1.00000000e+00,  1.00000000e+00,  1.00000000e+00,  1.00000000e+00,\n",
       "        1.00000000e+00,  1.00000000e+00,  1.00000000e+00,  1.00000000e+00,\n",
       "        1.00000000e+00,  1.00000000e+00,  1.00000000e+00,  1.00000000e+00,\n",
       "        1.00000000e+00,  1.00000000e+00,  1.00000000e+00,  1.00000000e+00,\n",
       "        1.00000000e+00,  1.00000000e+00,  1.00000000e+00,  1.00000000e+00,\n",
       "        1.00000000e+00,  1.00000000e+00,  1.00000000e+00,  1.00000000e+00,\n",
       "        1.00000000e+00,  1.00000000e+00,  1.00000000e+00,  1.00000000e+00,\n",
       "        1.00000000e+00,  1.00000000e+00,  1.00000000e+00,  1.00000000e+00,\n",
       "        1.00000000e+00,  1.00000000e+00,  1.00000000e+00,  1.00000000e+00,\n",
       "        1.00000000e+00,  1.00000000e+00,  1.00000000e+00,  1.00000000e+00,\n",
       "        1.00000000e+00,  1.00000000e+00,  1.00000000e+00,  1.00000000e+00,\n",
       "        1.00000000e+00,  1.00000000e+00,  1.00000000e+00,  1.00000000e+00,\n",
       "        1.00000000e+00,  1.00000000e+00,  0.00000000e+00,  0.00000000e+00,\n",
       "        0.00000000e+00,  0.00000000e+00,  0.00000000e+00,  0.00000000e+00,\n",
       "        0.00000000e+00,  0.00000000e+00,  0.00000000e+00,  0.00000000e+00,\n",
       "        0.00000000e+00,  0.00000000e+00,  0.00000000e+00,  0.00000000e+00,\n",
       "        0.00000000e+00,  0.00000000e+00,  0.00000000e+00,  0.00000000e+00,\n",
       "        0.00000000e+00,  0.00000000e+00,  0.00000000e+00,  0.00000000e+00,\n",
       "        0.00000000e+00,  0.00000000e+00,  0.00000000e+00,  0.00000000e+00,\n",
       "        0.00000000e+00,  0.00000000e+00,  0.00000000e+00,  0.00000000e+00,\n",
       "        0.00000000e+00,  0.00000000e+00,  0.00000000e+00,  0.00000000e+00,\n",
       "       -1.00000000e+00, -1.00000000e+00, -1.00000000e+00, -1.00000000e+00,\n",
       "       -1.00000000e+00, -1.00000000e+00, -1.00000000e+00, -1.00000000e+00,\n",
       "       -1.00000000e+00, -1.00000000e+00, -1.00000000e+00, -1.00000000e+00,\n",
       "       -1.00000000e+00, -1.00000000e+00, -1.00000000e+00, -1.00000000e+00,\n",
       "       -1.00000000e+00, -1.00000000e+00, -1.00000000e+00, -1.00000000e+00,\n",
       "        0.00000000e+00,  0.00000000e+00,  0.00000000e+00,  0.00000000e+00,\n",
       "        0.00000000e+00,  0.00000000e+00,  0.00000000e+00,  0.00000000e+00,\n",
       "        0.00000000e+00,  0.00000000e+00,  0.00000000e+00,  0.00000000e+00,\n",
       "        0.00000000e+00,  0.00000000e+00,  0.00000000e+00,  0.00000000e+00,\n",
       "        0.00000000e+00,  0.00000000e+00,  0.00000000e+00,  0.00000000e+00,\n",
       "        0.00000000e+00,  0.00000000e+00,  0.00000000e+00,  0.00000000e+00,\n",
       "        0.00000000e+00,  0.00000000e+00,  0.00000000e+00,  0.00000000e+00,\n",
       "        0.00000000e+00,  0.00000000e+00], dtype=float32)"
      ]
     },
     "execution_count": 21,
     "metadata": {},
     "output_type": "execute_result"
    }
   ],
   "source": [
    "vector_representation_of_observation = obs.to_vect()\n",
    "vector_representation_of_observation"
   ]
  },
  {
   "cell_type": "markdown",
   "metadata": {},
   "source": [
    "An observation can be copied, of course:"
   ]
  },
  {
   "cell_type": "code",
   "execution_count": 22,
   "metadata": {},
   "outputs": [],
   "source": [
    "obs2 = obs.copy()"
   ]
  },
  {
   "cell_type": "markdown",
   "metadata": {},
   "source": [
    "Or reset:"
   ]
  },
  {
   "cell_type": "code",
   "execution_count": 23,
   "metadata": {},
   "outputs": [
    {
     "name": "stdout",
     "output_type": "stream",
     "text": [
      "[nan nan nan nan nan]\n"
     ]
    }
   ],
   "source": [
    "obs2.reset()\n",
    "print(obs2.gen_p)"
   ]
  },
  {
   "cell_type": "markdown",
   "metadata": {},
   "source": [
    "Or loaded from a vector:"
   ]
  },
  {
   "cell_type": "code",
   "execution_count": 24,
   "metadata": {},
   "outputs": [
    {
     "data": {
      "text/plain": [
       "array([74.8     , 73.8     , 29.2     ,  0.      , 75.578995],\n",
       "      dtype=float32)"
      ]
     },
     "execution_count": 24,
     "metadata": {},
     "output_type": "execute_result"
    }
   ],
   "source": [
    "obs2.from_vect(vector_representation_of_observation)\n",
    "obs2.gen_p"
   ]
  },
  {
   "cell_type": "markdown",
   "metadata": {},
   "source": [
    "It is also possible to assess whether two observations are equal or not:"
   ]
  },
  {
   "cell_type": "code",
   "execution_count": 25,
   "metadata": {},
   "outputs": [
    {
     "data": {
      "text/plain": [
       "False"
      ]
     },
     "execution_count": 25,
     "metadata": {},
     "output_type": "execute_result"
    }
   ],
   "source": [
    "obs == obs2"
   ]
  },
  {
   "cell_type": "markdown",
   "metadata": {},
   "source": [
    "#### d) Simulate"
   ]
  },
  {
   "cell_type": "markdown",
   "metadata": {},
   "source": [
    "As opposed to most RL problems, in this framework we add the possibility to \"simulate\" the impact of a possible action on the power grid. This helps calculating roll-outs in the RL setting, and can be close to \"model-based\" reinforcement learning approaches (except that nothing more has to be learned).\n",
    "\n",
    "This \"simulate\" method uses the available forecast data (forecasts are made available by the same way we loaded the data here, with the class `GridStateFromFileWithForecasts`. For this class, only forecasts for 1 time step are provided, but this might be adapted in the future).\n",
    "\n",
    "Note that this `simulate` function can use a different simulator than the one used by the Environment. Fore more information, we encourage you to read the official documentation, or if it has been built locally (recommended), to consult [this page](https://grid2op.readthedocs.io/en/latest/observation.html#grid2op.Observation.Observation.simulate).\n",
    "\n",
    "This function will:\n",
    "\n",
    "1. apply the forecasted injection on the powergrid\n",
    "2. run a powerflow with the decidated `simulate` powerflow simulator\n",
    "3. return:\n",
    "    1. the anticipated observation (after the action has been taken)\n",
    "    2. the anticipated reward (of this simulated action)\n",
    "    3. whether or not there has been an error\n",
    "    4. some more informations\n",
    "    \n",
    "From a user point of view, this is the main difference with the previous [pypownet](https://github.com/MarvinLer/pypownet) framework. In pypownet, this \"simulation\" used to be performed directly by the environment, thus giving direct access of the environment's future data to the agent, which could break the RL framework since the agent is only supposed to know about the current state of the environment (it was not the case in the first edition of the Learning to Run A Power Network as the Environment was fully observable). In grid2op, the simulation is now performed from the current state of the environment and it is imperfect since it does not have access to future information."
   ]
  },
  {
   "cell_type": "markdown",
   "metadata": {},
   "source": [
    "Here is an example of some features of the observation, in the current state and in the simulated next state :"
   ]
  },
  {
   "cell_type": "code",
   "execution_count": 26,
   "metadata": {},
   "outputs": [],
   "source": [
    "do_nothing_act = env.action_space({})\n",
    "obs_sim, reward_sim, is_done_sim, info_sim = obs.simulate(do_nothing_act)"
   ]
  },
  {
   "cell_type": "code",
   "execution_count": 27,
   "metadata": {},
   "outputs": [
    {
     "data": {
      "text/plain": [
       "array([74.8     , 73.8     , 29.2     ,  0.      , 75.578995],\n",
       "      dtype=float32)"
      ]
     },
     "execution_count": 27,
     "metadata": {},
     "output_type": "execute_result"
    }
   ],
   "source": [
    "obs.gen_p"
   ]
  },
  {
   "cell_type": "code",
   "execution_count": 28,
   "metadata": {},
   "outputs": [
    {
     "data": {
      "text/plain": [
       "array([75.8     , 74.2     , 29.3     ,  0.      , 73.846016],\n",
       "      dtype=float32)"
      ]
     },
     "execution_count": 28,
     "metadata": {},
     "output_type": "execute_result"
    }
   ],
   "source": [
    "obs_sim.gen_p"
   ]
  },
  {
   "cell_type": "markdown",
   "metadata": {},
   "source": [
    "#### e) obs + act\n",
    "\n",
    "In gri2op >= 1.5 we also introduced a method that can be used to rapidly assess what would be the effect of a given \"action\" (see next notebook for a more detailed explanation of the actions) on the grid.\n",
    "\n",
    "To use it, you can use the `obs.connectivity_matrix()` and `obs.bus_connectivity_matrix()` function combined with the grid2op `obs + act` implementation.\n",
    "\n",
    "An example is given here:"
   ]
  },
  {
   "cell_type": "code",
   "execution_count": 29,
   "metadata": {},
   "outputs": [
    {
     "data": {
      "text/plain": [
       "array([[1., 1., 1., ..., 0., 0., 0.],\n",
       "       [1., 1., 1., ..., 0., 0., 0.],\n",
       "       [1., 1., 1., ..., 0., 0., 0.],\n",
       "       ...,\n",
       "       [0., 0., 0., ..., 1., 1., 1.],\n",
       "       [0., 0., 0., ..., 1., 1., 1.],\n",
       "       [0., 0., 0., ..., 1., 1., 1.]], dtype=float32)"
      ]
     },
     "execution_count": 29,
     "metadata": {},
     "output_type": "execute_result"
    }
   ],
   "source": [
    "action_description = {}\n",
    "act = env.action_space(action_description)\n",
    "resulting_partial_obs = obs + act\n",
    "resulting_partial_obs.connectivity_matrix()"
   ]
  },
  {
   "cell_type": "markdown",
   "metadata": {},
   "source": [
    "**NB** This is not commutative: `obs + act` is not the same as `act + obs` (the later will crash by the way).\n",
    "\n",
    "**NB** This `obs + act` method is much faster than the `env.step(act)` method or the `obs.simulate(act)` method, but the resulting \"partial observation\" is not complete at all. For example, it do not contains any information on the flows, nor the loads or generators etc. do not have anything regaring the time (date, hour of day etc.). We recommend to use it only combined with the `partial_obs.connectivity_matrix()` or `partial_obs.bus_connectivity_matrix()`"
   ]
  },
  {
   "cell_type": "markdown",
   "metadata": {},
   "source": [
    "## II) Taking actions based on the observation"
   ]
  },
  {
   "cell_type": "markdown",
   "metadata": {},
   "source": [
    "In this section we will make our first *Agent* that will act based on these observations.\n",
    "\n",
    "All *Agents* must derive from the grid2op.Agent class. The main function to implement for the Agents is the \"act\" function (more information can be found on the official documentation or [here](https://grid2op.readthedocs.io/en/latest/agent.html) ). \n",
    "\n",
    "Basically, the Agent receives a reward and an observation, and chooses a new action. Some different *Agents* are pre-defined in the `grid2op` package. We won't talk about them here (for more information, see the documentation or the [Agent.py](grid2op/Agent/Agent.py) file), but rather we will make a custom Agent.\n",
    "\n",
    "This *Agent* will select among:\n",
    "\n",
    "- doing nothing \n",
    "- disconnecting the powerline having the higher relative flows\n",
    "- reconnecting a powerline disconnected\n",
    "- disconnecting the powerline having the lower relative flows\n",
    "\n",
    "by using `simulate` on the corresponding actions, and choosing the one that has the highest predicted reward.\n",
    "\n",
    "Note that this kind of Agent is not particularly smart and is given only as an example.\n",
    "\n",
    "More information about the creation / manipulation of *Action* will be given in the notebook [2_Action_GridManipulation](2_Action_GridManipulation.ipynb)"
   ]
  },
  {
   "cell_type": "code",
   "execution_count": 30,
   "metadata": {},
   "outputs": [],
   "source": [
    "from grid2op.Agent import BaseAgent\n",
    "import numpy as np\n",
    "import pdb\n",
    "\n",
    "\n",
    "class MyAgent(BaseAgent):\n",
    "    def __init__(self, action_space):\n",
    "        # python required method to code\n",
    "        BaseAgent.__init__(self, action_space)\n",
    "        self.do_nothing = self.action_space({})\n",
    "        self.print_next = False\n",
    "        \n",
    "    def act(self, observation, reward, done=False):\n",
    "        i_max = np.argmax(observation.rho)\n",
    "        new_status_max = np.zeros(observation.rho.shape, dtype=int)\n",
    "        new_status_max[i_max] = -1\n",
    "        act_max = self.action_space({\"set_line_status\": new_status_max})\n",
    "        \n",
    "        i_min = np.argmin(observation.rho)\n",
    "        new_status_min = np.zeros(observation.rho.shape, dtype=int)\n",
    "        if observation.rho[i_min] > 0:\n",
    "            # all powerlines are connected, i try to disconnect this one\n",
    "            new_status_min[i_min] = -1\n",
    "            act_min = self.action_space({\"set_line_status\": new_status_min})\n",
    "        else:\n",
    "            # at least one powerline is disconnected, i try to reconnect it\n",
    "            new_status_min[i_min] = 1\n",
    "#             act_min = self.action_space({\"set_status\": new_status_min})\n",
    "            act_min = self.action_space({\"set_line_status\": new_status_min,\n",
    "                                         \"set_bus\": {\"lines_or_id\": [(i_min, 1)], \"lines_ex_id\": [(i_min, 1)]}})\n",
    "    \n",
    "        _, reward_sim_dn, *_ = observation.simulate(self.do_nothing)\n",
    "        _, reward_sim_max, *_ = observation.simulate(act_max)\n",
    "        _, reward_sim_min, *_ = observation.simulate(act_min)\n",
    "            \n",
    "        if reward_sim_dn >= reward_sim_max and reward_sim_dn >= reward_sim_min:\n",
    "            self.print_next = False\n",
    "            res = self.do_nothing\n",
    "        elif reward_sim_max >= reward_sim_min:\n",
    "            self.print_next = True\n",
    "            res = act_max\n",
    "            print(res)\n",
    "        else:\n",
    "            self.print_next = True\n",
    "            res = act_min\n",
    "            print(res)\n",
    "        return res"
   ]
  },
  {
   "cell_type": "markdown",
   "metadata": {},
   "source": [
    "We compare this Agent with the `Donothing` agent (already coded) on the 3 episodes made available with this package. To make this comparison more interesting, it's better to use the L2RPN rewards (`L2RPNReward`)."
   ]
  },
  {
   "cell_type": "code",
   "execution_count": 31,
   "metadata": {},
   "outputs": [
    {
     "name": "stdout",
     "output_type": "stream",
     "text": [
      "The results for DoNothing agent are:\n",
      "\tFor chronics with id 000\n",
      "\t\t - cumulative reward: 11076.768555\n",
      "\t\t - number of time steps completed: 10 / 10\n"
     ]
    }
   ],
   "source": [
    "from grid2op.Runner import Runner\n",
    "from grid2op.Agent import DoNothingAgent\n",
    "from grid2op.Reward import L2RPNReward\n",
    "from grid2op.Chronics import GridStateFromFileWithForecasts\n",
    "\n",
    "max_iter = 10  # to make computation much faster we will only consider 50 time steps instead of 287\n",
    "runner = Runner(**env.get_params_for_runner(),\n",
    "                agentClass=DoNothingAgent\n",
    "               )\n",
    "res = runner.run(nb_episode=1, max_iter=max_iter)\n",
    "\n",
    "print(\"The results for DoNothing agent are:\")\n",
    "for _, chron_name, cum_reward, nb_time_step, max_ts in res:\n",
    "    msg_tmp = \"\\tFor chronics with id {}\\n\".format(chron_name)\n",
    "    msg_tmp += \"\\t\\t - cumulative reward: {:.6f}\\n\".format(cum_reward)\n",
    "    msg_tmp += \"\\t\\t - number of time steps completed: {:.0f} / {:.0f}\".format(nb_time_step, max_ts)\n",
    "    print(msg_tmp)"
   ]
  },
  {
   "cell_type": "code",
   "execution_count": 32,
   "metadata": {},
   "outputs": [
    {
     "name": "stdout",
     "output_type": "stream",
     "text": [
      "The results for the custom agent are:\n",
      "\tFor chronics with id 000\n",
      "\t\t - cumulative reward: 11076.768555\n",
      "\t\t - number of time steps completed: 10 / 10\n"
     ]
    }
   ],
   "source": [
    "runner = Runner(**env.get_params_for_runner(),\n",
    "                agentClass=MyAgent\n",
    "               )\n",
    "res = runner.run(nb_episode=1, max_iter=max_iter)\n",
    "print(\"The results for the custom agent are:\")\n",
    "for _, chron_name, cum_reward, nb_time_step, max_ts in res:\n",
    "    msg_tmp = \"\\tFor chronics with id {}\\n\".format(chron_name)\n",
    "    msg_tmp += \"\\t\\t - cumulative reward: {:.6f}\\n\".format(cum_reward)\n",
    "    msg_tmp += \"\\t\\t - number of time steps completed: {:.0f} / {:.0f}\".format(nb_time_step, max_ts)\n",
    "    print(msg_tmp)"
   ]
  },
  {
   "cell_type": "markdown",
   "metadata": {},
   "source": [
    "As we can see, both agents obtain the same score here, but there would be a difference if we didn't limit the episode length to 10 time steps.\n",
    "\n",
    "**NB** Disabling the time limit for the episode can be done by setting `max_iter=-1` in the previous cells. Here, setting `max_iter=10` is only done so that this notebook can run faster, but increasing or disabling the time limit would allow us to spot differences in the agents' performances."
   ]
  },
  {
   "cell_type": "markdown",
   "metadata": {},
   "source": [
    "The same can be done for the `PowerLineSwitch` agent :"
   ]
  },
  {
   "cell_type": "code",
   "execution_count": 33,
   "metadata": {},
   "outputs": [
    {
     "name": "stdout",
     "output_type": "stream",
     "text": [
      "The results for the PowerLineSwitch agent are:\n",
      "\tFor chronics with id 000\n",
      "\t\t - cumulative reward: 2164.011719\n",
      "\t\t - number of time steps completed: 3 / 10\n"
     ]
    }
   ],
   "source": [
    "from grid2op.Agent import PowerLineSwitch\n",
    "runner = Runner(**env.get_params_for_runner(),\n",
    "                agentClass=PowerLineSwitch\n",
    "               )\n",
    "res = runner.run(nb_episode=1, max_iter=max_iter)\n",
    "print(\"The results for the PowerLineSwitch agent are:\")\n",
    "for _, chron_name, cum_reward, nb_time_step, max_ts in res:\n",
    "    msg_tmp = \"\\tFor chronics with id {}\\n\".format(chron_name)\n",
    "    msg_tmp += \"\\t\\t - cumulative reward: {:.6f}\\n\".format(cum_reward)\n",
    "    msg_tmp += \"\\t\\t - number of time steps completed: {:.0f} / {:.0f}\".format(nb_time_step, max_ts)\n",
    "    print(msg_tmp)"
   ]
  },
  {
   "cell_type": "markdown",
   "metadata": {},
   "source": [
    "TODO doc: new possibility to retrieve directly the \"run\" of the episode"
   ]
  }
 ],
 "metadata": {
  "kernelspec": {
   "display_name": "Python 3",
   "language": "python",
   "name": "python3"
  },
  "language_info": {
   "codemirror_mode": {
    "name": "ipython",
    "version": 3
   },
   "file_extension": ".py",
   "mimetype": "text/x-python",
   "name": "python",
   "nbconvert_exporter": "python",
   "pygments_lexer": "ipython3",
   "version": "3.8.3"
  }
 },
 "nbformat": 4,
 "nbformat_minor": 2
}
