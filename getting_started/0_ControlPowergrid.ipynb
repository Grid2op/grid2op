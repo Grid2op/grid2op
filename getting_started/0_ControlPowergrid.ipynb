{
 "cells": [
  {
   "cell_type": "code",
   "execution_count": null,
   "metadata": {},
   "outputs": [],
   "source": []
  },
  {
   "cell_type": "markdown",
   "metadata": {},
   "source": [
    "# I The « powergrid control» problem\n",
    "\n",
    "## The reality\n",
    "A powergrid is a really complex man made \"objects\". In the case of grid2op, a powergrid can be represented as a set of \"objects\" that are:\n",
    "- powerline \"extremity\" end\n",
    "- powerline \"origin\" end\n",
    "- load (usually the size of a small city or of a big industrial firm)\n",
    "- generators (usually big power plants, such as wind farm, dumps, coal or nuclear powerplants for example)\n",
    "\n",
    "All these objects are connected together in some places called \"substation\". In reality a substations looks like this:\n",
    "![](./img/Taipei_Taiwan_Electrical_Substation.jpg)\n",
    "(image credit https://commons.wikimedia.org/wiki/File:Taipei_Taiwan_Electrical-Substation-at-Taipei-Zoo-South-Station-01.jpg )\n",
    "\n",
    "And substations are connected together with so called \"powerline\" that allow some power to flow from one place to another:\n",
    "![](./img/Powerline_separators.jpg)\n",
    "(image credit https://commons.wikimedia.org/wiki/File:Powerline-separators.jpg)\n",
    "\n",
    "## The fiction (aka our \"model\")\n",
    "Of course, in this framework, we will not detail every objects you can see on these pictures. For us a powergrid (here relatively simple) will be represented as:\n",
    "![](./img/powergrid.png)\n",
    "\n",
    "In the above figure you can see:\n",
    "- substations are represented as circle, you can see 5 on this figure, labelled 0, 1, ..., 4\n",
    "- powerline are showed with... line on this plot, you can see there 8 powerlines there\n",
    "- generators are displayed with small green circle, there are two\n",
    "- loads are displayed with small orange cirle and there is three on this simple powerline.\n",
    "\n",
    "## Zoom in a substation\n",
    "Now let's zoom in (or at least pretend to) in substation with id 2:\n",
    "![](./img/powergrid_zoom2.png)\n",
    "As you can see on the right part (bottom) in fact this substations (as all substations in grid2op) have 2 \"busbars\" (represented here are vertical black line in the zoomed in part). Note that in all these graphs, powerlines are represented with blue lines.\n",
    "\n",
    "What does it entails ? It entails that we can \"split\" a substation into different independant \"buses\". A \"bus\" is a fancy word from the power system community meaning that: *if two objects are on the same bus, then there exist a direct electrical path in the substation connecting them*. But wait, how can you split buses ?\n",
    "\n"
   ]
  },
  {
   "cell_type": "code",
   "execution_count": null,
   "metadata": {},
   "outputs": [],
   "source": []
  }
 ],
 "metadata": {
  "kernelspec": {
   "display_name": "Python 3",
   "language": "python",
   "name": "python3"
  },
  "language_info": {
   "codemirror_mode": {
    "name": "ipython",
    "version": 3
   },
   "file_extension": ".py",
   "mimetype": "text/x-python",
   "name": "python",
   "nbconvert_exporter": "python",
   "pygments_lexer": "ipython3",
   "version": "3.8.2"
  }
 },
 "nbformat": 4,
 "nbformat_minor": 4
}
