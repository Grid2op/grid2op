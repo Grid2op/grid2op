{
 "cells": [
  {
   "cell_type": "markdown",
   "metadata": {},
   "source": [
    "### Flexibility and Shedding\n",
    "By default, an episode ends if one of the following conditions is met:\n",
    "1. **End of Chronics**: The agent reaches the end of the chronics (timeseries) for an Episode (no more data => scenario ends)\n",
    "2. **Disconnected Generator / Load**: A load, generator is disconnected from the grid. This also applies to Energy Storage Systems (ESSs) if they are being controlled (agent told it to charge / discharge some energy)\n",
    "3. **Islanding**: The grid splits into multiple parts / islands. For example, a load of generator is alone on a busbar. \n",
    "4. **Powerflow Divergence**: The redispatching routine \"diverges\": this means that Grid2OP is not able to find a setpoint for the generators for which both \"pmin, pmax and the ramps constrained\" as well as the \"load / generator balancing the solver \"diverges\" and is not able to compute the next state (often meaning there are no feasible solutions to the Kirchoff's laws)\n",
    "\n",
    "This notebook explores what happens if condition (2) is loosened, that is if we allow loads and generators to become disconnected from the grid. As a bonus we also examine the possibility to redispatch flexible loads. "
   ]
  },
  {
   "cell_type": "code",
   "execution_count": null,
   "metadata": {},
   "outputs": [],
   "source": [
    "import numpy as np\n",
    "import pandas as pd\n",
    "import matplotlib.pyplot as plt\n",
    "import grid2op\n",
    "from grid2op.PlotGrid import PlotMatplot\n",
    "from pathlib import Path\n",
    "env_dir = Path.cwd().parent / \"grid2op\" / \"data_test\" / \"5bus_example_with_flexibility\"\n",
    "env = grid2op.make(env_dir, support_shedding=False)\n",
    "plotter = PlotMatplot(env.observation_space, gen_name=True, line_id=True, load_name=True)\n",
    "obs = env.reset()\n",
    "plotter.plot_obs(obs)\n",
    "plt.show()"
   ]
  },
  {
   "cell_type": "code",
   "execution_count": null,
   "metadata": {},
   "outputs": [],
   "source": [
    "list(env.load_max_ramp_up)"
   ]
  },
  {
   "cell_type": "code",
   "execution_count": null,
   "metadata": {},
   "outputs": [],
   "source": [
    "env.set_id(0)\n",
    "obs = env.reset()\n",
    "nothing_obs, reward, done, info = env.step(env.action_space({}))\n",
    "\n",
    "env.set_id(0)\n",
    "obs = env.reset()\n",
    "flex_act = env.action_space({\"flexibility\":{\"load_3_1\":2.0}})\n",
    "                             # \"redispatch\":{\"gen_1_1\":0.1}})\n",
    "flex_obs, reward, done, flex_info = env.step(flex_act)\n",
    "next_obs, reward, done, next_info = env.step(env.action_space({}))\n",
    "plotter.plot_obs(nothing_obs)\n",
    "plotter.plot_obs(flex_obs)\n",
    "plotter.plot_obs(next_obs)\n",
    "plt.show()"
   ]
  },
  {
   "cell_type": "code",
   "execution_count": null,
   "metadata": {},
   "outputs": [],
   "source": []
  }
 ],
 "metadata": {
  "kernelspec": {
   "display_name": ".env",
   "language": "python",
   "name": "python3"
  },
  "language_info": {
   "codemirror_mode": {
    "name": "ipython",
    "version": 3
   },
   "file_extension": ".py",
   "mimetype": "text/x-python",
   "name": "python",
   "nbconvert_exporter": "python",
   "pygments_lexer": "ipython3",
   "version": "3.11.9"
  }
 },
 "nbformat": 4,
 "nbformat_minor": 2
}
