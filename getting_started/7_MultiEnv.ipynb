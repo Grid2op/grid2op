{
 "cells": [
  {
   "cell_type": "markdown",
   "metadata": {},
   "source": [
    "# Agent, RL and MultiEnvironment\n",
    "Try me out interactively with: [![Binder](./img/badge_logo.svg)](https://mybinder.org/v2/gh/rte-france/Grid2Op/master)"
   ]
  },
  {
   "cell_type": "markdown",
   "metadata": {},
   "source": [
    "It is recommended to have a look at the [0_basic_functionalities](0_basic_functionalities.ipynb), [1_Observation_Agents](1_Observation_Agents.ipynb) and [2_Action_GridManipulation](2_Action_GridManipulation.ipynb) and especially [3_TrainingAnAgent](3_TrainingAnAgent.ipynb) notebooks before getting into this one."
   ]
  },
  {
   "cell_type": "markdown",
   "metadata": {},
   "source": [
    "**Objectives**\n",
    "\n",
    "In this notebook we will expose :\n",
    "* what is a \"SingleEnvMultiProcess\" (previously [MultiEnvironment](https://grid2op.readthedocs.io/en/v0.9.4/environment.html#grid2op.Environment.MultiEnvironment))\n",
    "* how can it be used with an agent\n",
    "* how can it be used to train a agent that uses different environments (using the [l2rpn-baselines](https://l2rpn-baselines.readthedocs.io/en/master/) python package)"
   ]
  },
  {
   "cell_type": "code",
   "execution_count": 1,
   "metadata": {},
   "outputs": [
    {
     "data": {
      "text/html": [
       "<div id=\"my_id_menu_nb\">run previous cell, wait for 2 seconds</div>\n",
       "<script>\n",
       "function repeat_indent_string(n){\n",
       "    var a = \"\" ;\n",
       "    for ( ; n > 0 ; --n)\n",
       "        a += \"    \";\n",
       "    return a;\n",
       "}\n",
       "// look up into all sections and builds an automated menu //\n",
       "var update_menu_string = function(begin, lfirst, llast, sformat, send, keep_item, begin_format, end_format) {\n",
       "    var anchors = document.getElementsByClassName(\"section\");\n",
       "    if (anchors.length == 0) {\n",
       "        anchors = document.getElementsByClassName(\"text_cell_render rendered_html\");\n",
       "    }\n",
       "    var i,t;\n",
       "    var text_menu = begin;\n",
       "    var text_memo = \"<pre>\\nlength:\" + anchors.length + \"\\n\";\n",
       "    var ind = \"\";\n",
       "    var memo_level = 1;\n",
       "    var href;\n",
       "    var tags = [];\n",
       "    var main_item = 0;\n",
       "    var format_open = 0;\n",
       "    for (i = 0; i <= llast; i++)\n",
       "        tags.push(\"h\" + i);\n",
       "\n",
       "    for (i = 0; i < anchors.length; i++) {\n",
       "        text_memo += \"**\" + anchors[i].id + \"--\\n\";\n",
       "\n",
       "        var child = null;\n",
       "        for(t = 0; t < tags.length; t++) {\n",
       "            var r = anchors[i].getElementsByTagName(tags[t]);\n",
       "            if (r.length > 0) {\n",
       "child = r[0];\n",
       "break;\n",
       "            }\n",
       "        }\n",
       "        if (child == null) {\n",
       "            text_memo += \"null\\n\";\n",
       "            continue;\n",
       "        }\n",
       "        if (anchors[i].hasAttribute(\"id\")) {\n",
       "            // when converted in RST\n",
       "            href = anchors[i].id;\n",
       "            text_memo += \"#1-\" + href;\n",
       "            // passer à child suivant (le chercher)\n",
       "        }\n",
       "        else if (child.hasAttribute(\"id\")) {\n",
       "            // in a notebook\n",
       "            href = child.id;\n",
       "            text_memo += \"#2-\" + href;\n",
       "        }\n",
       "        else {\n",
       "            text_memo += \"#3-\" + \"*\" + \"\\n\";\n",
       "            continue;\n",
       "        }\n",
       "        var title = child.textContent;\n",
       "        var level = parseInt(child.tagName.substring(1,2));\n",
       "\n",
       "        text_memo += \"--\" + level + \"?\" + lfirst + \"--\" + title + \"\\n\";\n",
       "\n",
       "        if ((level < lfirst) || (level > llast)) {\n",
       "            continue ;\n",
       "        }\n",
       "        if (title.endsWith('¶')) {\n",
       "            title = title.substring(0,title.length-1).replace(\"<\", \"&lt;\")\n",
       "         .replace(\">\", \"&gt;\").replace(\"&\", \"&amp;\");\n",
       "        }\n",
       "        if (title.length == 0) {\n",
       "            continue;\n",
       "        }\n",
       "\n",
       "        while (level < memo_level) {\n",
       "            text_menu += end_format + \"</ul>\\n\";\n",
       "            format_open -= 1;\n",
       "            memo_level -= 1;\n",
       "        }\n",
       "        if (level == lfirst) {\n",
       "            main_item += 1;\n",
       "        }\n",
       "        if (keep_item != -1 && main_item != keep_item + 1) {\n",
       "            // alert(main_item + \" - \" + level + \" - \" + keep_item);\n",
       "            continue;\n",
       "        }\n",
       "        while (level > memo_level) {\n",
       "            text_menu += \"<ul>\\n\";\n",
       "            memo_level += 1;\n",
       "        }\n",
       "        text_menu += repeat_indent_string(level-2);\n",
       "        text_menu += begin_format + sformat.replace(\"__HREF__\", href).replace(\"__TITLE__\", title);\n",
       "        format_open += 1;\n",
       "    }\n",
       "    while (1 < memo_level) {\n",
       "        text_menu += end_format + \"</ul>\\n\";\n",
       "        memo_level -= 1;\n",
       "        format_open -= 1;\n",
       "    }\n",
       "    text_menu += send;\n",
       "    //text_menu += \"\\n\" + text_memo;\n",
       "\n",
       "    while (format_open > 0) {\n",
       "        text_menu += end_format;\n",
       "        format_open -= 1;\n",
       "    }\n",
       "    return text_menu;\n",
       "};\n",
       "var update_menu = function() {\n",
       "    var sbegin = \"\";\n",
       "    var sformat = '<a href=\"#__HREF__\">__TITLE__</a>';\n",
       "    var send = \"\";\n",
       "    var begin_format = '<li>';\n",
       "    var end_format = '</li>';\n",
       "    var keep_item = -1;\n",
       "    var text_menu = update_menu_string(sbegin, 2, 4, sformat, send, keep_item,\n",
       "       begin_format, end_format);\n",
       "    var menu = document.getElementById(\"my_id_menu_nb\");\n",
       "    menu.innerHTML=text_menu;\n",
       "};\n",
       "window.setTimeout(update_menu,2000);\n",
       "            </script>"
      ],
      "text/plain": [
       "<IPython.core.display.HTML object>"
      ]
     },
     "execution_count": 1,
     "metadata": {},
     "output_type": "execute_result"
    }
   ],
   "source": [
    "res = None\n",
    "try:\n",
    "    from jyquickhelper import add_notebook_menu\n",
    "    res = add_notebook_menu()\n",
    "except ModuleNotFoundError:\n",
    "    print(\"Impossible to automatically add a menu / table of content to this notebook.\\nYou can download \\\"jyquickhelper\\\" package with: \\n\\\"pip install jyquickhelper\\\"\")\n",
    "res"
   ]
  },
  {
   "cell_type": "code",
   "execution_count": 2,
   "metadata": {},
   "outputs": [],
   "source": [
    "import grid2op\n",
    "from grid2op.Reward import ConstantReward, FlatReward\n",
    "from tqdm.notebook import tqdm\n",
    "from grid2op.Runner import Runner\n",
    "import sys\n",
    "import os\n",
    "import numpy as np\n",
    "TRAINING_STEP = 100"
   ]
  },
  {
   "cell_type": "markdown",
   "metadata": {},
   "source": [
    "## I) Make a regular environment and agent"
   ]
  },
  {
   "cell_type": "markdown",
   "metadata": {},
   "source": [
    "By default we use the test environment. But by passing `test=False` in the following function will automatically download approximately 300MB from the internet and give you 1000 chronics instead of 2 used for this example."
   ]
  },
  {
   "cell_type": "code",
   "execution_count": 3,
   "metadata": {},
   "outputs": [
    {
     "name": "stderr",
     "output_type": "stream",
     "text": [
      "/home/benjamin/Documents/grid2op_dev/getting_started/grid2op/MakeEnv/Make.py:248: UserWarning:\n",
      "\n",
      "You are using a development environment. This environment is not intended for training agents.\n",
      "\n"
     ]
    }
   ],
   "source": [
    "env = grid2op.make(\"rte_case14_realistic\", test=True)"
   ]
  },
  {
   "cell_type": "markdown",
   "metadata": {},
   "source": [
    "A lot of data have been made available for the default \"rte_case14_realistic\" environment. Including this data in the package is not convenient. \n",
    "\n",
    "We chose instead to release them and make them easily available with a utility. To download them in the default directory (\"~/data_grid2op/case14_redisp\")  just pass the argument \"test=False\" (or don't pass anything else) as local=False is the default value. It will download approximately 300Mo of data."
   ]
  },
  {
   "cell_type": "markdown",
   "metadata": {},
   "source": [
    "## II) Train a standard RL Agent"
   ]
  },
  {
   "cell_type": "markdown",
   "metadata": {},
   "source": [
    "Make sure you are using a computer with at least 4 cores if you want to notice some speed-ups."
   ]
  },
  {
   "cell_type": "code",
   "execution_count": 4,
   "metadata": {},
   "outputs": [],
   "source": [
    "from grid2op.Environment import SingleEnvMultiProcess\n",
    "from grid2op.Agent import DoNothingAgent\n",
    "NUM_CORE = 2"
   ]
  },
  {
   "cell_type": "markdown",
   "metadata": {},
   "source": [
    "### IIIa) Using the standard open AI gym loop\n",
    "\n",
    "Here we demonstrate how to use the multi environment class. First let's create a multi environment."
   ]
  },
  {
   "cell_type": "code",
   "execution_count": 5,
   "metadata": {},
   "outputs": [],
   "source": [
    "# create a simple agent\n",
    "agent = DoNothingAgent(env.action_space)\n",
    "\n",
    "# create the multi environment class\n",
    "multi_envs = SingleEnvMultiProcess(env=env, nb_env=NUM_CORE)"
   ]
  },
  {
   "cell_type": "markdown",
   "metadata": {},
   "source": [
    "A multienvironment is just like a regular environment but instead of dealing with one action, and one observation, is requires to be sent multiple actions, and returns a list of observations as well. \n",
    "\n",
    "It requires a grid2op environment to be initialized and creates some specific \"workers\", each a replication of the initial environment. None of the \"worker\" can be accessed directly. Supported methods are:\n",
    "- multi_env.reset\n",
    "- multi_env.step\n",
    "- multi_env.close\n",
    "\n",
    "That have similar behaviour to \"env.step\", \"env.close\" or \"env.reset\".\n",
    "\n",
    "\n",
    "It can be used the following manner."
   ]
  },
  {
   "cell_type": "code",
   "execution_count": 6,
   "metadata": {},
   "outputs": [
    {
     "data": {
      "text/plain": [
       "array([<grid2op.Space.GridObjects.CompleteObservation_rte_case14_realistic object at 0x7f779daeecd0>,\n",
       "       <grid2op.Space.GridObjects.CompleteObservation_rte_case14_realistic object at 0x7f779daeed30>],\n",
       "      dtype=object)"
      ]
     },
     "execution_count": 6,
     "metadata": {},
     "output_type": "execute_result"
    }
   ],
   "source": [
    "# initiliaze some variable with the proper dimension\n",
    "obss = multi_envs.reset()\n",
    "rews = [env.reward_range[0] for i in range(NUM_CORE)]\n",
    "dones = [False for i in range(NUM_CORE)]\n",
    "obss"
   ]
  },
  {
   "cell_type": "code",
   "execution_count": 7,
   "metadata": {},
   "outputs": [
    {
     "data": {
      "text/plain": [
       "[False, False]"
      ]
     },
     "execution_count": 7,
     "metadata": {},
     "output_type": "execute_result"
    }
   ],
   "source": [
    "dones"
   ]
  },
  {
   "cell_type": "markdown",
   "metadata": {},
   "source": [
    "As you can see, obs is not a single obervation, but a list (numpy nd array to be precise) of 4 observations, each one being an observation of a given \"worker\" environment.\n",
    "\n",
    "Worker environments are always called in the same order. It means the first observation of this vector will always correspond to the first worker environment. \n",
    "\n",
    "\n",
    "Similarly to Observation, the \"step\" function of a multi_environment takes as input a list of multiple actions, each action will be implemented in its own environment. It returns a list of observations, a list of rewards, and boolean list of whether or not the worker environment suffer from a game over (in that case this worker environment is automatically restarted using the \"reset\" method.)\n",
    "\n",
    "Because orker environments are always called in the same order, the first action sent to the \"multi_env.step\" function will also be applied on this first environment.\n",
    "\n",
    "It is possible to use it as follow:"
   ]
  },
  {
   "cell_type": "code",
   "execution_count": 8,
   "metadata": {},
   "outputs": [
    {
     "data": {
      "text/plain": [
       "array([<grid2op.Space.GridObjects.CompleteObservation_rte_case14_realistic object at 0x7f779da71100>,\n",
       "       <grid2op.Space.GridObjects.CompleteObservation_rte_case14_realistic object at 0x7f779da71160>],\n",
       "      dtype=object)"
      ]
     },
     "execution_count": 8,
     "metadata": {},
     "output_type": "execute_result"
    }
   ],
   "source": [
    "# initialize the vector of actions that will be processed by each worker environment.\n",
    "acts = [None for _ in range(NUM_CORE)]\n",
    "for env_act_id in range(NUM_CORE):\n",
    "    acts[env_act_id] = agent.act(obss[env_act_id], rews[env_act_id], dones[env_act_id])\n",
    "    \n",
    "# feed them to the multi_env\n",
    "obss, rews, dones, infos = multi_envs.step(acts)\n",
    "\n",
    "# as explained, this is a vector of Observation (as many as NUM_CORE in this example)\n",
    "obss"
   ]
  },
  {
   "cell_type": "markdown",
   "metadata": {},
   "source": [
    "The multi environment loop is really close to the \"gym\" loop:"
   ]
  },
  {
   "cell_type": "code",
   "execution_count": 9,
   "metadata": {},
   "outputs": [],
   "source": [
    "# performs the appropriated steps\n",
    "for i in range(10):\n",
    "    acts = [None for _ in range(NUM_CORE)]\n",
    "    for env_act_id in range(NUM_CORE):\n",
    "        acts[env_act_id] = agent.act(obss[env_act_id], rews[env_act_id], dones[env_act_id])\n",
    "    obss, rews, dones, infos = multi_envs.step(acts)\n",
    "\n",
    "    # DO SOMETHING WITH THE AGENT IF YOU WANT\n",
    "    ## agent.train(obss, rews, dones)\n",
    "    \n",
    "\n",
    "# close the environments created by the multi_env\n",
    "multi_envs.close()"
   ]
  },
  {
   "cell_type": "markdown",
   "metadata": {},
   "source": [
    "On the above example, `TRAINING_STEP` steps are performed on `NUM_CORE` environments in parrallel. The agent has then acted `TRAINING_STEP * NUM_CORE` (=`10 * 4 = 40` by default) times on `NUM_CORE` different environments."
   ]
  },
  {
   "cell_type": "markdown",
   "metadata": {},
   "source": [
    "### III.b) Practical example\n",
    "\n",
    "We reuse the code of the Notebook [4_TrainingAnAgent](4_TrainingAnAgent.ipynb) to train a new agent we strongly recommend you to have a look at it if it is not done already.\n",
    "\n",
    "In this notebook, We focus on how to make your agent interact wil multiple environment at the same time (**eg** it means that the batch of data he receives comes from different instance of the same environment, this is a technique used in [Asynchronous Actor Critic - A3C](https://medium.com/emergent-future/simple-reinforcement-learning-with-tensorflow-part-8-asynchronous-actor-critic-agents-a3c-c88f72a5e9f2) type of models for example).\n",
    "\n",
    "You will see with this method you can, with minimal (actually without any) changes, learn the same baseline this way.\n",
    "\n",
    "#### Note on the implementation\n",
    "The most common code for A3C agent can be summarize in the image below (image credit [this blog post](https://medium.com/emergent-future/simple-reinforcement-learning-with-tensorflow-part-8-asynchronous-actor-critic-agents-a3c-c88f72a5e9f2)):\n",
    "![](https://miro.medium.com/max/1400/1*YtnGhtSAMnnHSL8PvS7t_w.png)\n",
    "\n",
    "In this image you see different version of the agent that interacts with different versions of the (same) environment (represented here in the different *workers*). And, from time to time, each \"worker\" will send its weights to the \"global network\" and an update procedure will be run there. Though this framework can perfectly be implemented in grid2op, the *SingleEnvMultiProcess* class work a bit differently.\n",
    "\n",
    "Actually, in this *SingleEnvMultiProcess* class, there exists only one copy of the \"global network\" that is kept into the main \"thread\" (which to be precise is a process) and that interacts (send actions to and receives observations from) with different independant environments. It is really similar to the [SubprocVecEnv](https://github.com/openai/baselines/blob/ea25b9e8b234e6ee1bca43083f8f3cf974143998/baselines/common/vec_env/subproc_vec_env.py#L39) of open ai gym.\n",
    "\n",
    "This is especially suited in the case of powersystem operations, as it can be quite computationnally expensive to solve for the powerflow equations at each nodes of the grid (also called [Kirchhoff's laws](https://en.wikipedia.org/wiki/Kirchhoff%27s_circuit_laws))\n",
    "\n",
    "#### What you have to do\n",
    "\n",
    "We recall here the code that we used in the relevant notebook to train the agent:\n",
    "```python\n",
    "# create an environment\n",
    "env = make(env_name, test=True)  \n",
    "# don't forget to set \"test=False\" (or remove it, as False is the default value) for \"real\" training\n",
    "\n",
    "# import the train function and train your agent\n",
    "from l2rpn_baselines.DuelQSimple import train\n",
    "from l2rpn_baselines.utils import NNParam, TrainingParam\n",
    "agent_name = \"test_agent\"\n",
    "save_path = \"saved_agent_DDDQN_{}\".format(train_iter)\n",
    "logs_dir=\"tf_logs_DDDQN\"\n",
    "\n",
    "\n",
    "# we then define the neural network we want to make (you may change this at will)\n",
    "## 1. first we choose what \"part\" of the observation we want as input, \n",
    "## here for example only the generator and load information\n",
    "## see https://grid2op.readthedocs.io/en/latest/observation.html#main-observation-attributes\n",
    "## for the detailed about all the observation attributes you want to have\n",
    "li_attr_obs_X = [\"prod_p\", \"prod_v\", \"load_p\", \"load_q\"]\n",
    "# this automatically computes the size of the resulting vector\n",
    "observation_size = NNParam.get_obs_size(env, li_attr_obs_X) \n",
    "\n",
    "## 2. then we define its architecture\n",
    "sizes = [300, 300, 300]  # 3 hidden layers, of 300 units each, why not...\n",
    "activs =  [\"relu\" for _ in sizes]  # all followed by relu activation, because... why not\n",
    "## 4. you put it all on a dictionnary like that (specific to this baseline)\n",
    "kwargs_archi = {'observation_size': observation_size,\n",
    "                'sizes': sizes,\n",
    "                'activs': activs,\n",
    "                \"list_attr_obs\": li_attr_obs_X}\n",
    "\n",
    "# you can also change the training parameters you are using\n",
    "# more information at https://l2rpn-baselines.readthedocs.io/en/latest/utils.html#l2rpn_baselines.utils.TrainingParam\n",
    "tp = TrainingParam()\n",
    "tp.batch_size = 32  # for example...\n",
    "tp.update_tensorboard_freq = int(train_iter / 10)\n",
    "tp.save_model_each = int(train_iter / 3)\n",
    "tp.min_observation = int(train_iter / 5)\n",
    "train(env,\n",
    "      name=agent_name,\n",
    "      iterations=train_iter,\n",
    "      save_path=save_path,\n",
    "      load_path=None, # put something else if you want to reload an agent instead of creating a new one\n",
    "      logs_dir=logs_dir,\n",
    "      kwargs_archi=kwargs_archi,\n",
    "      training_param=tp)\n",
    "```\n",
    "\n",
    "Here, you will see in the next cell how to (*not really*) change it to train a agent on different environments:"
   ]
  },
  {
   "cell_type": "code",
   "execution_count": 10,
   "metadata": {},
   "outputs": [
    {
     "name": "stderr",
     "output_type": "stream",
     "text": [
      "/home/benjamin/Documents/l2rpn-baselines/l2rpn_baselines/utils/DeepQAgent.py:412: UserWarning:\n",
      "\n",
      "Training using 2 environments\n",
      "\n",
      "100%|██████████| 100/100 [00:06<00:00, 14.36it/s]\n"
     ]
    }
   ],
   "source": [
    "train_iter = TRAINING_STEP\n",
    "# import the train function and train your agent\n",
    "from l2rpn_baselines.DuelQSimple import train\n",
    "from l2rpn_baselines.utils import NNParam, TrainingParam, make_multi_env\n",
    "agent_name = \"test_agent_multi\"\n",
    "save_path = \"saved_agent_DDDQN_{}_multi\".format(train_iter)\n",
    "logs_dir=\"tf_logs_DDDQN\"\n",
    "\n",
    "# just add the relevant import (see above) and this line\n",
    "my_envs = make_multi_env(env_init=env, nb_env=NUM_CORE)\n",
    "# and that's it !\n",
    "\n",
    "\n",
    "# we then define the neural network we want to make (you may change this at will)\n",
    "## 1. first we choose what \"part\" of the observation we want as input, \n",
    "## here for example only the generator and load information\n",
    "## see https://grid2op.readthedocs.io/en/latest/observation.html#main-observation-attributes\n",
    "## for the detailed about all the observation attributes you want to have\n",
    "li_attr_obs_X = [\"prod_p\", \"prod_v\", \"load_p\", \"load_q\"]\n",
    "# this automatically computes the size of the resulting vector\n",
    "observation_size = NNParam.get_obs_size(env, li_attr_obs_X) \n",
    "\n",
    "## 2. then we define its architecture\n",
    "sizes = [300, 300, 300]  # 3 hidden layers, of 300 units each, why not...\n",
    "activs =  [\"relu\" for _ in sizes]  # all followed by relu activation, because... why not\n",
    "## 4. you put it all on a dictionnary like that (specific to this baseline)\n",
    "kwargs_archi = {'observation_size': observation_size,\n",
    "                'sizes': sizes,\n",
    "                'activs': activs,\n",
    "                \"list_attr_obs\": li_attr_obs_X}\n",
    "\n",
    "# you can also change the training parameters you are using\n",
    "# more information at https://l2rpn-baselines.readthedocs.io/en/latest/utils.html#l2rpn_baselines.utils.TrainingParam\n",
    "tp = TrainingParam()\n",
    "tp.batch_size = 32  # for example...\n",
    "tp.update_tensorboard_freq = int(train_iter / 10)\n",
    "tp.save_model_each = int(train_iter / 3)\n",
    "tp.min_observation = int(train_iter / 5)\n",
    "train(my_envs,\n",
    "      name=agent_name,\n",
    "      iterations=train_iter,\n",
    "      save_path=save_path,\n",
    "      load_path=None, # put something else if you want to reload an agent instead of creating a new one\n",
    "      logs_dir=logs_dir,\n",
    "      kwargs_archi=kwargs_archi,\n",
    "      training_param=tp)"
   ]
  },
  {
   "cell_type": "markdown",
   "metadata": {},
   "source": [
    "### II c) Assess the performance of the trained agent"
   ]
  },
  {
   "cell_type": "markdown",
   "metadata": {},
   "source": [
    "Nothing is changing... Like really, it's the same code as in notebook 4 (we told you to have a look ;-) )"
   ]
  },
  {
   "cell_type": "code",
   "execution_count": 11,
   "metadata": {},
   "outputs": [
    {
     "name": "stdout",
     "output_type": "stream",
     "text": [
      "WARNING:tensorflow:No training configuration found in the save file, so the model was *not* compiled. Compile it manually.\n"
     ]
    },
    {
     "name": "stderr",
     "output_type": "stream",
     "text": [
      "\r",
      "episode:   0%|          | 0/2 [00:00<?, ?it/s]"
     ]
    },
    {
     "name": "stdout",
     "output_type": "stream",
     "text": [
      "Model: \"model\"\n",
      "__________________________________________________________________________________________________\n",
      "Layer (type)                    Output Shape         Param #     Connected to                     \n",
      "==================================================================================================\n",
      "observation (InputLayer)        [(None, 32)]         0                                            \n",
      "__________________________________________________________________________________________________\n",
      "layer_0 (Dense)                 (None, 300)          9900        observation[0][0]                \n",
      "__________________________________________________________________________________________________\n",
      "activation (Activation)         (None, 300)          0           layer_0[0][0]                    \n",
      "__________________________________________________________________________________________________\n",
      "layer_1 (Dense)                 (None, 300)          90300       activation[0][0]                 \n",
      "__________________________________________________________________________________________________\n",
      "activation_1 (Activation)       (None, 300)          0           layer_1[0][0]                    \n",
      "__________________________________________________________________________________________________\n",
      "layer_2 (Dense)                 (None, 300)          90300       activation_1[0][0]               \n",
      "__________________________________________________________________________________________________\n",
      "activation_2 (Activation)       (None, 300)          0           layer_2[0][0]                    \n",
      "__________________________________________________________________________________________________\n",
      "dense (Dense)                   (None, 451)          135751      activation_2[0][0]               \n",
      "__________________________________________________________________________________________________\n",
      "advantage (Dense)               (None, 451)          203852      dense[0][0]                      \n",
      "__________________________________________________________________________________________________\n",
      "lambda (Lambda)                 (None,)              0           advantage[0][0]                  \n",
      "__________________________________________________________________________________________________\n",
      "dense_1 (Dense)                 (None, 451)          135751      activation_2[0][0]               \n",
      "__________________________________________________________________________________________________\n",
      "subtract (Subtract)             (None, 451)          0           advantage[0][0]                  \n",
      "                                                                 lambda[0][0]                     \n",
      "__________________________________________________________________________________________________\n",
      "value (Dense)                   (None, 1)            452         dense_1[0][0]                    \n",
      "__________________________________________________________________________________________________\n",
      "policy (Add)                    (None, 451)          0           subtract[0][0]                   \n",
      "                                                                 value[0][0]                      \n",
      "==================================================================================================\n",
      "Total params: 666,306\n",
      "Trainable params: 666,306\n",
      "Non-trainable params: 0\n",
      "__________________________________________________________________________________________________\n",
      "INFO: \"Sequential runner used.\"\n"
     ]
    },
    {
     "name": "stderr",
     "output_type": "stream",
     "text": [
      "\n",
      "episode:   0%|          | 0/100 [00:00<?, ?it/s]\u001b[A\n",
      "episode:   3%|▎         | 3/100 [00:00<00:03, 25.74it/s]\u001b[A"
     ]
    },
    {
     "name": "stdout",
     "output_type": "stream",
     "text": [
      "INFO: \"Creating path \"/home/benjamin/Documents/grid2op_dev/getting_started/saved_agent_DDDQN_100_multi_results_multi/000\" to save the episode 000\"\n"
     ]
    },
    {
     "name": "stderr",
     "output_type": "stream",
     "text": [
      "\n",
      "episode:   7%|▋         | 7/100 [00:00<00:03, 27.20it/s]\u001b[A\n",
      "episode:  11%|█         | 11/100 [00:00<00:03, 28.34it/s]\u001b[A\n",
      "episode:  14%|█▍        | 14/100 [00:00<00:03, 28.22it/s]\u001b[A\n",
      "episode:  18%|█▊        | 18/100 [00:00<00:02, 29.59it/s]\u001b[A\n",
      "episode:  22%|██▏       | 22/100 [00:00<00:02, 30.53it/s]\u001b[A\n",
      "episode:  26%|██▌       | 26/100 [00:00<00:02, 30.82it/s]\u001b[A\n",
      "episode:  30%|███       | 30/100 [00:00<00:02, 31.28it/s]\u001b[A\n",
      "episode:  34%|███▍      | 34/100 [00:01<00:02, 31.64it/s]\u001b[A\n",
      "episode:  38%|███▊      | 38/100 [00:01<00:01, 31.51it/s]\u001b[A\n",
      "episode:  42%|████▏     | 42/100 [00:01<00:01, 31.34it/s]\u001b[A\n",
      "episode:  46%|████▌     | 46/100 [00:01<00:01, 29.73it/s]\u001b[A\n",
      "episode:  49%|████▉     | 49/100 [00:01<00:01, 29.61it/s]\u001b[A\n",
      "episode:  52%|█████▏    | 52/100 [00:01<00:01, 29.58it/s]\u001b[A\n",
      "episode:  55%|█████▌    | 55/100 [00:01<00:01, 29.55it/s]\u001b[A\n",
      "episode:  58%|█████▊    | 58/100 [00:01<00:01, 28.56it/s]\u001b[A\n",
      "episode:  62%|██████▏   | 62/100 [00:02<00:01, 29.90it/s]\u001b[A\n",
      "episode:  66%|██████▌   | 66/100 [00:02<00:01, 29.60it/s]\u001b[A\n",
      "episode:  69%|██████▉   | 69/100 [00:02<00:01, 28.58it/s]\u001b[A\n",
      "episode:  73%|███████▎  | 73/100 [00:02<00:00, 29.35it/s]\u001b[A\n",
      "episode:  77%|███████▋  | 77/100 [00:02<00:00, 30.00it/s]\u001b[A\n",
      "episode:  81%|████████  | 81/100 [00:02<00:00, 30.54it/s]\u001b[A\n",
      "episode:  85%|████████▌ | 85/100 [00:02<00:00, 30.86it/s]\u001b[A\n",
      "episode:  89%|████████▉ | 89/100 [00:02<00:00, 30.09it/s]\u001b[A\n",
      "episode:  93%|█████████▎| 93/100 [00:03<00:00, 29.76it/s]\u001b[A\n",
      "episode: 100%|██████████| 100/100 [00:03<00:00, 30.11it/s][A\n",
      "episode:  50%|█████     | 1/2 [00:03<00:03,  3.81s/it]\n",
      "episode:   0%|          | 0/100 [00:00<?, ?it/s]\u001b[A"
     ]
    },
    {
     "name": "stdout",
     "output_type": "stream",
     "text": [
      "INFO: \"Env: 1.77s\n",
      "\t - apply act 0.29s\n",
      "\t - run pf: 1.45s\n",
      "\t - env update + observation: 0.03s\n",
      "Agent: 1.49s\n",
      "Total time: 3.32s\n",
      "Cumulative reward: 122875.406250\"\n",
      "INFO: \"Creating path \"/home/benjamin/Documents/grid2op_dev/getting_started/saved_agent_DDDQN_100_multi_results_multi/001\" to save the episode 001\"\n"
     ]
    },
    {
     "name": "stderr",
     "output_type": "stream",
     "text": [
      "\n",
      "episode:   3%|▎         | 3/100 [00:00<00:03, 28.92it/s]\u001b[A\n",
      "episode:   6%|▌         | 6/100 [00:00<00:03, 28.84it/s]\u001b[A\n",
      "episode:  10%|█         | 10/100 [00:00<00:02, 30.03it/s]\u001b[A\n",
      "episode:  14%|█▍        | 14/100 [00:00<00:02, 30.38it/s]\u001b[A\n",
      "episode:  18%|█▊        | 18/100 [00:00<00:02, 30.94it/s]\u001b[A\n",
      "episode:  22%|██▏       | 22/100 [00:00<00:02, 31.22it/s]\u001b[A\n",
      "episode:  26%|██▌       | 26/100 [00:00<00:02, 31.71it/s]\u001b[A\n",
      "episode:  30%|███       | 30/100 [00:00<00:02, 32.05it/s]\u001b[A\n",
      "episode:  34%|███▍      | 34/100 [00:01<00:02, 25.39it/s]\u001b[A\n",
      "episode:  38%|███▊      | 38/100 [00:01<00:02, 27.39it/s]\u001b[A\n",
      "episode:  42%|████▏     | 42/100 [00:01<00:02, 28.63it/s]\u001b[A\n",
      "episode:  46%|████▌     | 46/100 [00:01<00:01, 30.12it/s]\u001b[A\n",
      "episode:  50%|█████     | 50/100 [00:01<00:01, 30.14it/s]\u001b[A\n",
      "episode:  54%|█████▍    | 54/100 [00:01<00:01, 31.00it/s]\u001b[A\n",
      "episode:  58%|█████▊    | 58/100 [00:01<00:01, 31.36it/s]\u001b[A\n",
      "episode:  62%|██████▏   | 62/100 [00:02<00:01, 31.83it/s]\u001b[A\n",
      "episode:  66%|██████▌   | 66/100 [00:02<00:01, 32.41it/s]\u001b[A\n",
      "episode:  70%|███████   | 70/100 [00:02<00:00, 32.26it/s]\u001b[A\n",
      "episode:  74%|███████▍  | 74/100 [00:02<00:00, 32.84it/s]\u001b[A\n",
      "episode:  78%|███████▊  | 78/100 [00:02<00:00, 33.31it/s]\u001b[A\n",
      "episode:  82%|████████▏ | 82/100 [00:02<00:00, 33.35it/s]\u001b[A\n",
      "episode:  86%|████████▌ | 86/100 [00:02<00:00, 32.85it/s]\u001b[A\n",
      "episode:  90%|█████████ | 90/100 [00:02<00:00, 32.39it/s]\u001b[A\n",
      "episode:  94%|█████████▍| 94/100 [00:03<00:00, 31.31it/s]\u001b[A\n",
      "episode: 100%|██████████| 100/100 [00:03<00:00, 31.05it/s][A\n",
      "episode: 100%|██████████| 2/2 [00:07<00:00,  3.61s/it]"
     ]
    },
    {
     "name": "stdout",
     "output_type": "stream",
     "text": [
      "INFO: \"Env: 1.66s\n",
      "\t - apply act 0.27s\n",
      "\t - run pf: 1.36s\n",
      "\t - env update + observation: 0.02s\n",
      "Agent: 1.50s\n",
      "Total time: 3.22s\n",
      "Cumulative reward: 122950.523438\"\n",
      "Evaluation summary:\n",
      "chronics at: 000\ttotal score: 122875.406250\ttime steps: 100/100\n",
      "chronics at: 001\ttotal score: 122950.523438\ttime steps: 100/100\n",
      "The agent played 1 different action\n",
      "Action with ID 350 was played 200 times\n",
      "This action will:\n",
      "\t - NOT change anything to the injections\n",
      "\t - NOT perform any redispatching action\n",
      "\t - NOT force any line status\n",
      "\t - NOT switch any line status\n",
      "\t - Change the bus of the following element:\n",
      "\t \t - switch bus of line (extremity) 4 [on substation 4]\n",
      "\t - NOT force any particular bus configuration\n",
      "-----------\n"
     ]
    },
    {
     "name": "stderr",
     "output_type": "stream",
     "text": [
      "\n"
     ]
    }
   ],
   "source": [
    "from l2rpn_baselines.DuelQSimple import evaluate\n",
    "path_save_results = \"{}_results_multi\".format(save_path)\n",
    "\n",
    "evaluated_agent, res_runner = evaluate(env,\n",
    "                                       name=agent_name,\n",
    "                                       load_path=save_path,\n",
    "                                       logs_path=path_save_results,\n",
    "                                       nb_episode=2,\n",
    "                                       nb_process=1,\n",
    "                                       max_steps=100,\n",
    "                                       verbose=True,\n",
    "                                       save_gif=False)"
   ]
  },
  {
   "cell_type": "markdown",
   "metadata": {},
   "source": [
    "### II d) That is it ?\n",
    "\n",
    "Yes there is nothing more to say about it. As long as you use one of the compatible baselines (at the date of writing):\n",
    "- [DeepQSimple](https://l2rpn-baselines.readthedocs.io/en/master/DeepQSimple.html)\n",
    "- [DuelQSimple](https://l2rpn-baselines.readthedocs.io/en/master/DuelQSimple.html)\n",
    "- [SAC](https://l2rpn-baselines.readthedocs.io/en/master/SAC.html)\n",
    "- [DuelQLeapNet](https://l2rpn-baselines.readthedocs.io/en/master/DuelQLeapNet.html)\n",
    "\n",
    "You will not anything more to do :-)\n",
    "\n",
    "If you want to use another baseline that does not support this feature, feel free to add an issue in the l2rpn-baselines official github at this adress [https://github.com/rte-france/l2rpn-baselines/issues](https://github.com/rte-france/l2rpn-baselines/issues)"
   ]
  }
 ],
 "metadata": {
  "kernelspec": {
   "display_name": "Python 3",
   "language": "python",
   "name": "python3"
  },
  "language_info": {
   "codemirror_mode": {
    "name": "ipython",
    "version": 3
   },
   "file_extension": ".py",
   "mimetype": "text/x-python",
   "name": "python",
   "nbconvert_exporter": "python",
   "pygments_lexer": "ipython3",
   "version": "3.8.2"
  }
 },
 "nbformat": 4,
 "nbformat_minor": 2
}
