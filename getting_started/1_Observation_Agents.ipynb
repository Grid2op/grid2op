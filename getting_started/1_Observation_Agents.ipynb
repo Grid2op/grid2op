{
 "cells": [
  {
   "cell_type": "markdown",
   "metadata": {},
   "source": [
    "# This Notebook will develop how to explain an Agent and assess its performance."
   ]
  },
  {
   "cell_type": "markdown",
   "metadata": {},
   "source": [
    "***Disclaimer***: This file referenced some files in other directories. In order to have working cross referencing it's recommended to start the notebook server from the root directory (`Grid2Op`) of the package and __not__ in the `getting_started` sub directory:\n",
    "```bash\n",
    "cd Grid2Op\n",
    "jupyter notebook\n",
    "```"
   ]
  },
  {
   "cell_type": "markdown",
   "metadata": {},
   "source": [
    "***NB*** For more information about how to use the package, a general help can be built locally (provided that sphinx is installed on the machine) with:\n",
    "```bash\n",
    "cd Grid2Op\n",
    "make html\n",
    "```\n",
    "from the top directory of the package (usually `Grid2Op`).\n",
    "\n",
    "Once build, the help can be access from [here](../documentation/html/index.html)"
   ]
  },
  {
   "cell_type": "markdown",
   "metadata": {},
   "source": [
    "It is recommended to have a look at the [0_basic_functionalities](0_basic_functionalities.ipynb) notebook before getting into this one."
   ]
  },
  {
   "cell_type": "markdown",
   "metadata": {},
   "source": [
    "**Objective**\n",
    "\n",
    "This notebook will cover the basic of how to \"code\" an Agent that takes action on the powergrid. Examples will be given of \"expert agent\" that can take actions based on some fixed rules. More generic type of *Agent*, relying for example on machine learning / deep learning will be covered in the notebook [3_TrainingAnAgent](3_TrainingAnAgent.ipynb).\n",
    "\n",
    "This notebook will also cover the description of the *Observation* class, usefull to take some actions."
   ]
  },
  {
   "cell_type": "code",
   "execution_count": 1,
   "metadata": {},
   "outputs": [],
   "source": [
    "import os\n",
    "import sys\n",
    "import grid2op"
   ]
  },
  {
   "cell_type": "code",
   "execution_count": 2,
   "metadata": {},
   "outputs": [
    {
     "data": {
      "text/html": [
       "<div id=\"my_id_menu_nb\">run previous cell, wait for 2 seconds</div>\n",
       "<script>\n",
       "function repeat_indent_string(n){\n",
       "    var a = \"\" ;\n",
       "    for ( ; n > 0 ; --n)\n",
       "        a += \"    \";\n",
       "    return a;\n",
       "}\n",
       "// look up into all sections and builds an automated menu //\n",
       "var update_menu_string = function(begin, lfirst, llast, sformat, send, keep_item, begin_format, end_format) {\n",
       "    var anchors = document.getElementsByClassName(\"section\");\n",
       "    if (anchors.length == 0) {\n",
       "        anchors = document.getElementsByClassName(\"text_cell_render rendered_html\");\n",
       "    }\n",
       "    var i,t;\n",
       "    var text_menu = begin;\n",
       "    var text_memo = \"<pre>\\nlength:\" + anchors.length + \"\\n\";\n",
       "    var ind = \"\";\n",
       "    var memo_level = 1;\n",
       "    var href;\n",
       "    var tags = [];\n",
       "    var main_item = 0;\n",
       "    var format_open = 0;\n",
       "    for (i = 0; i <= llast; i++)\n",
       "        tags.push(\"h\" + i);\n",
       "\n",
       "    for (i = 0; i < anchors.length; i++) {\n",
       "        text_memo += \"**\" + anchors[i].id + \"--\\n\";\n",
       "\n",
       "        var child = null;\n",
       "        for(t = 0; t < tags.length; t++) {\n",
       "            var r = anchors[i].getElementsByTagName(tags[t]);\n",
       "            if (r.length > 0) {\n",
       "child = r[0];\n",
       "break;\n",
       "            }\n",
       "        }\n",
       "        if (child == null) {\n",
       "            text_memo += \"null\\n\";\n",
       "            continue;\n",
       "        }\n",
       "        if (anchors[i].hasAttribute(\"id\")) {\n",
       "            // when converted in RST\n",
       "            href = anchors[i].id;\n",
       "            text_memo += \"#1-\" + href;\n",
       "            // passer à child suivant (le chercher)\n",
       "        }\n",
       "        else if (child.hasAttribute(\"id\")) {\n",
       "            // in a notebook\n",
       "            href = child.id;\n",
       "            text_memo += \"#2-\" + href;\n",
       "        }\n",
       "        else {\n",
       "            text_memo += \"#3-\" + \"*\" + \"\\n\";\n",
       "            continue;\n",
       "        }\n",
       "        var title = child.textContent;\n",
       "        var level = parseInt(child.tagName.substring(1,2));\n",
       "\n",
       "        text_memo += \"--\" + level + \"?\" + lfirst + \"--\" + title + \"\\n\";\n",
       "\n",
       "        if ((level < lfirst) || (level > llast)) {\n",
       "            continue ;\n",
       "        }\n",
       "        if (title.endsWith('¶')) {\n",
       "            title = title.substring(0,title.length-1).replace(\"<\", \"&lt;\")\n",
       "         .replace(\">\", \"&gt;\").replace(\"&\", \"&amp;\");\n",
       "        }\n",
       "        if (title.length == 0) {\n",
       "            continue;\n",
       "        }\n",
       "\n",
       "        while (level < memo_level) {\n",
       "            text_menu += end_format + \"</ul>\\n\";\n",
       "            format_open -= 1;\n",
       "            memo_level -= 1;\n",
       "        }\n",
       "        if (level == lfirst) {\n",
       "            main_item += 1;\n",
       "        }\n",
       "        if (keep_item != -1 && main_item != keep_item + 1) {\n",
       "            // alert(main_item + \" - \" + level + \" - \" + keep_item);\n",
       "            continue;\n",
       "        }\n",
       "        while (level > memo_level) {\n",
       "            text_menu += \"<ul>\\n\";\n",
       "            memo_level += 1;\n",
       "        }\n",
       "        text_menu += repeat_indent_string(level-2);\n",
       "        text_menu += begin_format + sformat.replace(\"__HREF__\", href).replace(\"__TITLE__\", title);\n",
       "        format_open += 1;\n",
       "    }\n",
       "    while (1 < memo_level) {\n",
       "        text_menu += end_format + \"</ul>\\n\";\n",
       "        memo_level -= 1;\n",
       "        format_open -= 1;\n",
       "    }\n",
       "    text_menu += send;\n",
       "    //text_menu += \"\\n\" + text_memo;\n",
       "\n",
       "    while (format_open > 0) {\n",
       "        text_menu += end_format;\n",
       "        format_open -= 1;\n",
       "    }\n",
       "    return text_menu;\n",
       "};\n",
       "var update_menu = function() {\n",
       "    var sbegin = \"\";\n",
       "    var sformat = '<a href=\"#__HREF__\">__TITLE__</a>';\n",
       "    var send = \"\";\n",
       "    var begin_format = '<li>';\n",
       "    var end_format = '</li>';\n",
       "    var keep_item = -1;\n",
       "    var text_menu = update_menu_string(sbegin, 2, 4, sformat, send, keep_item,\n",
       "       begin_format, end_format);\n",
       "    var menu = document.getElementById(\"my_id_menu_nb\");\n",
       "    menu.innerHTML=text_menu;\n",
       "};\n",
       "window.setTimeout(update_menu,2000);\n",
       "            </script>"
      ],
      "text/plain": [
       "<IPython.core.display.HTML object>"
      ]
     },
     "execution_count": 2,
     "metadata": {},
     "output_type": "execute_result"
    }
   ],
   "source": [
    "res = None\n",
    "try:\n",
    "    from jyquickhelper import add_notebook_menu\n",
    "    res = add_notebook_menu()\n",
    "except ModuleNotFoundError:\n",
    "    print(\"Impossible to automatically add a menu / table of content to this notebook.\\nYou can download \\\"jyquickhelper\\\" package with: \\n\\\"pip install jyquickhelper\\\"\")\n",
    "res"
   ]
  },
  {
   "cell_type": "markdown",
   "metadata": {},
   "source": [
    "## I) Description of the observations"
   ]
  },
  {
   "cell_type": "markdown",
   "metadata": {},
   "source": [
    "In this paragraph we will cover the observation class. For more information about it, we recommend to have a look at the official documentation, or [here](../documentation/html/observation.html) or in the [Observations.py](../grid2op/Observations.py) files for more information. Only basic concepts are detailed in this notebook."
   ]
  },
  {
   "cell_type": "markdown",
   "metadata": {},
   "source": [
    "### I.A) Getting an observation"
   ]
  },
  {
   "cell_type": "markdown",
   "metadata": {},
   "source": [
    "An observation can be accessed when calling `env.step()`. The next cell is dedicated to create an environment, and to get an observation instance."
   ]
  },
  {
   "cell_type": "code",
   "execution_count": 3,
   "metadata": {},
   "outputs": [],
   "source": [
    "# import the usefull class\n",
    "from grid2op.Runner import Runner\n",
    "from grid2op.ChronicsHandler import Multifolder, GridStateFromFileWithForecasts\n",
    "# make a runner\n",
    "runner = Runner(init_grid_path=grid2op.CASE_14_FILE,\n",
    "               path_chron=grid2op.CHRONICS_MLUTIEPISODE,\n",
    "               gridStateclass=Multifolder,\n",
    "               gridStateclass_kwargs={\"gridvalueClass\": GridStateFromFileWithForecasts},\n",
    "               names_chronics_to_backend = grid2op.NAMES_CHRONICS_TO_BACKEND)\n",
    "# initialize it\n",
    "runner.make_env()"
   ]
  },
  {
   "cell_type": "markdown",
   "metadata": {},
   "source": [
    "To perform a step, as stated on the short description above, we need an action. More information about them is given in the [2_ActionRepresentation](2_ActionRepresentation.ipynb) notebook. Here we just assume we do nothing."
   ]
  },
  {
   "cell_type": "code",
   "execution_count": 4,
   "metadata": {},
   "outputs": [],
   "source": [
    "do_nothing_act = runner.env.helper_action_player({})\n",
    "obs, reward, done, info = runner.env.step(do_nothing_act)"
   ]
  },
  {
   "cell_type": "markdown",
   "metadata": {},
   "source": [
    "### I.B) Information present in an Observation"
   ]
  },
  {
   "cell_type": "markdown",
   "metadata": {},
   "source": [
    "In this notebook we will detail only the \"CompleteObservation\". `Grid2Op` allows to modeled different kind of observations, for example some with incomplete data, or with noisy data etc. CompletelyObservation gives the full state of the powergrid, without any noise. It's the default observation used."
   ]
  },
  {
   "cell_type": "markdown",
   "metadata": {},
   "source": [
    "#### a) some of its attributes"
   ]
  },
  {
   "cell_type": "markdown",
   "metadata": {},
   "source": [
    "An observation has calendar data (eg the time stamp of the observation):"
   ]
  },
  {
   "cell_type": "code",
   "execution_count": 5,
   "metadata": {},
   "outputs": [
    {
     "data": {
      "text/plain": [
       "(2019, 1, 1, 0, 10, 1)"
      ]
     },
     "execution_count": 5,
     "metadata": {},
     "output_type": "execute_result"
    }
   ],
   "source": [
    "obs.year, obs.month, obs.day, obs.hour_of_day, obs.minute_of_hour, obs.day_of_week"
   ]
  },
  {
   "cell_type": "markdown",
   "metadata": {},
   "source": [
    "It has some powegrid generic information:"
   ]
  },
  {
   "cell_type": "code",
   "execution_count": 6,
   "metadata": {},
   "outputs": [
    {
     "name": "stdout",
     "output_type": "stream",
     "text": [
      "Number of generators of the powergrid: 5\n",
      "Number of loads of the powergrid: 11\n",
      "Number of powerline of the powergrid: 20\n",
      "Number of elements connected to each substations in the powergrid: [3 6 4 6 5 6 3 2 5 3 3 3 4 3]\n",
      "Total number of elements: 56\n"
     ]
    }
   ],
   "source": [
    "print(\"Number of generators of the powergrid: {}\".format(obs.n_gen))\n",
    "print(\"Number of loads of the powergrid: {}\".format(obs.n_load))\n",
    "print(\"Number of powerline of the powergrid: {}\".format(obs.n_lines))\n",
    "print(\"Number of elements connected to each substations in the powergrid: {}\".format(obs.subs_info))\n",
    "print(\"Total number of elements: {}\".format(obs.dim_topo))"
   ]
  },
  {
   "cell_type": "markdown",
   "metadata": {},
   "source": [
    "It has some information about the generators (each generator can be viewed as a point in a 3 dimensional space)"
   ]
  },
  {
   "cell_type": "code",
   "execution_count": 7,
   "metadata": {},
   "outputs": [
    {
     "name": "stdout",
     "output_type": "stream",
     "text": [
      "Generators active production: [  0.          23.3         69.1          0.         149.48472817]\n",
      "Generators reactive production: [47.13340788 58.60853089 14.68417071 23.59794742 -0.49975789]\n",
      "Generators voltage setpoint : [141.075   136.35      0.22256  13.08    143.1    ]\n"
     ]
    }
   ],
   "source": [
    "print(\"Generators active production: {}\".format(obs.prod_p))\n",
    "print(\"Generators reactive production: {}\".format(obs.prod_q))\n",
    "print(\"Generators voltage setpoint : {}\".format(obs.prod_v))"
   ]
  },
  {
   "cell_type": "markdown",
   "metadata": {},
   "source": [
    "It has some information the loads (each load is a point in a 3 dimensional space too)"
   ]
  },
  {
   "cell_type": "code",
   "execution_count": 8,
   "metadata": {},
   "outputs": [
    {
     "name": "stdout",
     "output_type": "stream",
     "text": [
      "Loads active consumption: [18.8 85.1 13.8 44.3  7.1 10.2 27.1  8.2  3.2  5.7 11.8]\n",
      "Loads reactive consumption: [47.13340788 58.60853089 14.68417071 23.59794742 -0.49975789]\n",
      "Loads voltage (voltage magnitude of the bus to which it is connected) : [141.075        0.21788455   0.21533202   0.21830444   0.21692824\n",
      "   0.2111932  137.68220138   0.22256     14.72610185  13.08\n",
      "   0.21591106]\n"
     ]
    }
   ],
   "source": [
    "print(\"Loads active consumption: {}\".format(obs.load_p))\n",
    "print(\"Loads reactive consumption: {}\".format(obs.prod_q))\n",
    "print(\"Loads voltage (voltage magnitude of the bus to which it is connected) : {}\".format(obs.load_v))"
   ]
  },
  {
   "cell_type": "markdown",
   "metadata": {},
   "source": [
    "In this setting a powerline can be viewed as a point in an 8 dimensional space:\n",
    "   * active flow\n",
    "   * reactive flow\n",
    "   * voltage magnitude\n",
    "   * current flow\n",
    "   \n",
    "from both of its end.\n",
    "\n",
    "It it is then:"
   ]
  },
  {
   "cell_type": "code",
   "execution_count": 9,
   "metadata": {},
   "outputs": [
    {
     "name": "stdout",
     "output_type": "stream",
     "text": [
      "Origin active flow: [ 1.08718903e+02  4.07658248e+01 -8.32701461e+00  4.06838088e-01\n",
      " -1.65603459e+01  3.00462070e+00  1.37826937e+01  4.38146976e+01\n",
      "  2.86127910e+01  1.54475549e+01 -1.88518005e+01 -5.44944509e+01\n",
      "  2.03193013e+01  8.80848061e+00  2.29678572e+01  1.22123569e+01\n",
      "  6.96746657e+00 -6.80436085e+00 -1.77635684e-14  1.22123569e+01]\n",
      "Origin reactive flow: [ -8.43868623   7.93892829   6.60041696   8.53341302   0.71187573\n",
      "   0.16055117   1.76753172   7.3023995    9.62624918   8.27511716\n",
      "   6.78590648  -4.43027206   2.71055199   4.37671262  10.75525783\n",
      "  -9.02161853   1.03975934  10.59191251 -22.7723314   13.29921174]\n",
      "Origin current flow: [4.39955890e+02 1.67563361e+02 2.84132202e+04 2.28444271e+04\n",
      " 4.44427624e+04 7.95766368e+03 3.69827824e+04 1.81785259e+02\n",
      " 1.23547356e+02 7.17187011e+01 8.48386918e+01 2.31374890e+02\n",
      " 5.31779004e+04 2.55156361e+04 6.57907164e+04 6.42537364e+01\n",
      " 2.98120010e+01 5.27909744e+01 8.92810046e+02 7.07892801e+02]\n",
      "Origin voltage (voltage magnitude to the bus to which the origin end is connected): [143.1        143.1          0.21591106   0.21591106   0.21533202\n",
      "   0.21830444   0.21692824 141.075      141.075      141.075\n",
      " 136.35       136.42874991   0.22256      0.22256      0.22256\n",
      " 136.42874991 136.42874991 137.68220138  14.72610185  14.72610185]\n",
      "Extremity active flow: [-1.06675044e+02 -3.99116130e+01  8.36034593e+00 -3.20741055e-01\n",
      "  1.67706892e+01 -2.98646328e+00 -1.34792589e+01 -4.29481995e+01\n",
      " -2.81069774e+01 -1.52692302e+01  1.91216048e+01  5.48852041e+01\n",
      " -1.99706892e+01 -8.70462070e+00 -2.25962305e+01 -1.22123569e+01\n",
      " -6.96746657e+00  6.80436085e+00  1.90958360e-14 -1.22123569e+01]\n",
      "Extremity reactive flow: [  8.82964205  -9.73545474  -6.51187573  -8.3502731   -0.21948536\n",
      "  -0.14412303  -1.1497269   -8.27737559 -11.68410275 -11.41928534\n",
      "  -7.403766     5.66282756  -1.98051464  -4.16055117 -10.02340869\n",
      "   9.47311966  -0.78599303 -10.25835173  23.59794742 -12.97506289]\n",
      "Extremity current flow: [  438.06117895   172.27063176 28413.22015327 22844.42710881\n",
      " 44442.76242943  7957.66368196 36982.78240996   185.20335161\n",
      "   128.8133793     79.95457672    86.77436341   231.3748901\n",
      " 53177.9003884  25515.63605377 65790.71635546   605.9586294\n",
      " 18749.312063   31933.4634396   1041.61171976 47646.63086918]\n",
      "Extremity voltage (voltage magnitude to the bus to which the origin end is connected): [141.075      137.68220138   0.21533202   0.2111932    0.21788455\n",
      "   0.21692824   0.2111932  136.35       136.42874991 137.68220138\n",
      " 136.42874991 137.68220138   0.21788455   0.21830444   0.21692824\n",
      "  14.72610185   0.21591106   0.22256     13.08         0.21591106]\n"
     ]
    }
   ],
   "source": [
    "print(\"Origin active flow: {}\".format(obs.p_or))\n",
    "print(\"Origin reactive flow: {}\".format(obs.q_or))\n",
    "print(\"Origin current flow: {}\".format(obs.a_or))\n",
    "print(\"Origin voltage (voltage magnitude to the bus to which the origin end is connected): {}\".format(obs.v_or))\n",
    "print(\"Extremity active flow: {}\".format(obs.p_ex))\n",
    "print(\"Extremity reactive flow: {}\".format(obs.q_ex))\n",
    "print(\"Extremity current flow: {}\".format(obs.a_ex))\n",
    "print(\"Extremity voltage (voltage magnitude to the bus to which the origin end is connected): {}\".format(obs.v_ex))"
   ]
  },
  {
   "cell_type": "markdown",
   "metadata": {},
   "source": [
    "The last informations about the powerlines is the $\\rho$ ratio, *ie.* the ratio between the current flow on each powerlines and the its thermal limits. It can be accessed with:"
   ]
  },
  {
   "cell_type": "code",
   "execution_count": 10,
   "metadata": {},
   "outputs": [
    {
     "data": {
      "text/plain": [
       "array([0.01039126, 0.00395766, 0.00103397, 0.00083132, 0.0016173 ,\n",
       "       0.00028958, 0.00134582, 0.00429356, 0.00291805, 0.00169392,\n",
       "       0.00200379, 0.00546481, 0.00193517, 0.00092853, 0.00239416,\n",
       "       0.0015176 , 0.00070413, 0.00124686, 0.00218682, 0.00173389])"
      ]
     },
     "execution_count": 10,
     "metadata": {},
     "output_type": "execute_result"
    }
   ],
   "source": [
    "obs.rho"
   ]
  },
  {
   "cell_type": "markdown",
   "metadata": {},
   "source": [
    "It also store information of the topology and the state of the powerline."
   ]
  },
  {
   "cell_type": "code",
   "execution_count": 11,
   "metadata": {},
   "outputs": [
    {
     "data": {
      "text/plain": [
       "array([1, 1, 1, 1, 1, 1, 1, 1, 1, 1, 1, 1, 1, 1, 1, 1, 1, 1, 1, 1, 1, 1,\n",
       "       1, 1, 1, 1, 1, 1, 1, 1, 1, 1, 1, 1, 1, 1, 1, 1, 1, 1, 1, 1, 1, 1,\n",
       "       1, 1, 1, 1, 1, 1, 1, 1, 1, 1, 1, 1])"
      ]
     },
     "execution_count": 11,
     "metadata": {},
     "output_type": "execute_result"
    }
   ],
   "source": [
    "obs.timestep_overflow # the number of timestep each of the powerline is in overflow (1 powerline per component)\n",
    "obs.line_status # the status of each powerline: True connected, False disconnected\n",
    "obs.topo_vect  # the topology vector the each element (generator, load, each end of a powerline) to which the object\n",
    "# is connected: 1 = bus 1, 2 = bus 2."
   ]
  },
  {
   "cell_type": "markdown",
   "metadata": {},
   "source": [
    " More information about this `topology vector` is given in the documentation [here](../documentation/html/observation.html)"
   ]
  },
  {
   "cell_type": "markdown",
   "metadata": {},
   "source": [
    "#### b) some of its methods"
   ]
  },
  {
   "cell_type": "markdown",
   "metadata": {},
   "source": [
    "It can be converted to / from flat numpy vector. This function is usefull for interacting with machine learning or to store it, but probably less human readable. It consists in stacking all the above-mentionned information in a single `numpy.float64` vector."
   ]
  },
  {
   "cell_type": "code",
   "execution_count": 12,
   "metadata": {},
   "outputs": [
    {
     "data": {
      "text/plain": [
       "array([ 2.01900000e+03,  1.00000000e+00,  1.00000000e+00,  1.00000000e+00,\n",
       "        0.00000000e+00,  1.00000000e+01,  0.00000000e+00,  2.33000000e+01,\n",
       "        6.91000000e+01,  0.00000000e+00,  1.49484728e+02,  4.71334079e+01,\n",
       "        5.86085309e+01,  1.46841707e+01,  2.35979474e+01, -4.99757886e-01,\n",
       "        1.41075000e+02,  1.36350000e+02,  2.22560000e-01,  1.30800000e+01,\n",
       "        1.43100000e+02,  1.88000000e+01,  8.51000000e+01,  1.38000000e+01,\n",
       "        4.43000000e+01,  7.10000000e+00,  1.02000000e+01,  2.71000000e+01,\n",
       "        8.20000000e+00,  3.20000000e+00,  5.70000000e+00,  1.18000000e+01,\n",
       "        1.31000000e+01,  6.01000000e+01,  9.50000000e+00,  3.15000000e+01,\n",
       "        4.90000000e+00,  7.10000000e+00,  1.91000000e+01,  5.80000000e+00,\n",
       "        2.20000000e+00,  4.00000000e+00,  8.40000000e+00,  1.41075000e+02,\n",
       "        2.17884546e-01,  2.15332022e-01,  2.18304445e-01,  2.16928244e-01,\n",
       "        2.11193196e-01,  1.37682201e+02,  2.22560000e-01,  1.47261019e+01,\n",
       "        1.30800000e+01,  2.15911056e-01,  1.08718903e+02,  4.07658248e+01,\n",
       "       -8.32701461e+00,  4.06838088e-01, -1.65603459e+01,  3.00462070e+00,\n",
       "        1.37826937e+01,  4.38146976e+01,  2.86127910e+01,  1.54475549e+01,\n",
       "       -1.88518005e+01, -5.44944509e+01,  2.03193013e+01,  8.80848061e+00,\n",
       "        2.29678572e+01,  1.22123569e+01,  6.96746657e+00, -6.80436085e+00,\n",
       "       -1.77635684e-14,  1.22123569e+01, -8.43868623e+00,  7.93892829e+00,\n",
       "        6.60041696e+00,  8.53341302e+00,  7.11875727e-01,  1.60551174e-01,\n",
       "        1.76753172e+00,  7.30239950e+00,  9.62624918e+00,  8.27511716e+00,\n",
       "        6.78590648e+00, -4.43027206e+00,  2.71055199e+00,  4.37671262e+00,\n",
       "        1.07552578e+01, -9.02161853e+00,  1.03975934e+00,  1.05919125e+01,\n",
       "       -2.27723314e+01,  1.32992117e+01,  1.43100000e+02,  1.43100000e+02,\n",
       "        2.15911056e-01,  2.15911056e-01,  2.15332022e-01,  2.18304445e-01,\n",
       "        2.16928244e-01,  1.41075000e+02,  1.41075000e+02,  1.41075000e+02,\n",
       "        1.36350000e+02,  1.36428750e+02,  2.22560000e-01,  2.22560000e-01,\n",
       "        2.22560000e-01,  1.36428750e+02,  1.36428750e+02,  1.37682201e+02,\n",
       "        1.47261019e+01,  1.47261019e+01,  4.39955890e+02,  1.67563361e+02,\n",
       "        2.84132202e+04,  2.28444271e+04,  4.44427624e+04,  7.95766368e+03,\n",
       "        3.69827824e+04,  1.81785259e+02,  1.23547356e+02,  7.17187011e+01,\n",
       "        8.48386918e+01,  2.31374890e+02,  5.31779004e+04,  2.55156361e+04,\n",
       "        6.57907164e+04,  6.42537364e+01,  2.98120010e+01,  5.27909744e+01,\n",
       "        8.92810046e+02,  7.07892801e+02, -1.06675044e+02, -3.99116130e+01,\n",
       "        8.36034593e+00, -3.20741055e-01,  1.67706892e+01, -2.98646328e+00,\n",
       "       -1.34792589e+01, -4.29481995e+01, -2.81069774e+01, -1.52692302e+01,\n",
       "        1.91216048e+01,  5.48852041e+01, -1.99706892e+01, -8.70462070e+00,\n",
       "       -2.25962305e+01, -1.22123569e+01, -6.96746657e+00,  6.80436085e+00,\n",
       "        1.90958360e-14, -1.22123569e+01,  8.82964205e+00, -9.73545474e+00,\n",
       "       -6.51187573e+00, -8.35027310e+00, -2.19485355e-01, -1.44123033e-01,\n",
       "       -1.14972690e+00, -8.27737559e+00, -1.16841027e+01, -1.14192853e+01,\n",
       "       -7.40376600e+00,  5.66282756e+00, -1.98051464e+00, -4.16055117e+00,\n",
       "       -1.00234087e+01,  9.47311966e+00, -7.85993027e-01, -1.02583517e+01,\n",
       "        2.35979474e+01, -1.29750629e+01,  1.41075000e+02,  1.37682201e+02,\n",
       "        2.15332022e-01,  2.11193196e-01,  2.17884546e-01,  2.16928244e-01,\n",
       "        2.11193196e-01,  1.36350000e+02,  1.36428750e+02,  1.37682201e+02,\n",
       "        1.36428750e+02,  1.37682201e+02,  2.17884546e-01,  2.18304445e-01,\n",
       "        2.16928244e-01,  1.47261019e+01,  2.15911056e-01,  2.22560000e-01,\n",
       "        1.30800000e+01,  2.15911056e-01,  4.38061179e+02,  1.72270632e+02,\n",
       "        2.84132202e+04,  2.28444271e+04,  4.44427624e+04,  7.95766368e+03,\n",
       "        3.69827824e+04,  1.85203352e+02,  1.28813379e+02,  7.99545767e+01,\n",
       "        8.67743634e+01,  2.31374890e+02,  5.31779004e+04,  2.55156361e+04,\n",
       "        6.57907164e+04,  6.05958629e+02,  1.87493121e+04,  3.19334634e+04,\n",
       "        1.04161172e+03,  4.76466309e+04,  1.03912630e-02,  3.95765802e-03,\n",
       "        1.03397306e-03,  8.31321551e-04,  1.61729712e-03,  2.89583857e-04,\n",
       "        1.34582425e-03,  4.29356325e-03,  2.91804952e-03,  1.69391501e-03,\n",
       "        2.00379443e-03,  5.46481453e-03,  1.93517370e-03,  9.28528347e-04,\n",
       "        2.39416117e-03,  1.51760094e-03,  7.04125914e-04,  1.24686341e-03,\n",
       "        2.18681748e-03,  1.73388769e-03,  1.00000000e+00,  1.00000000e+00,\n",
       "        1.00000000e+00,  1.00000000e+00,  1.00000000e+00,  1.00000000e+00,\n",
       "        1.00000000e+00,  1.00000000e+00,  1.00000000e+00,  1.00000000e+00,\n",
       "        1.00000000e+00,  1.00000000e+00,  1.00000000e+00,  1.00000000e+00,\n",
       "        1.00000000e+00,  1.00000000e+00,  1.00000000e+00,  1.00000000e+00,\n",
       "        1.00000000e+00,  1.00000000e+00,  0.00000000e+00,  0.00000000e+00,\n",
       "        0.00000000e+00,  0.00000000e+00,  0.00000000e+00,  0.00000000e+00,\n",
       "        0.00000000e+00,  0.00000000e+00,  0.00000000e+00,  0.00000000e+00,\n",
       "        0.00000000e+00,  0.00000000e+00,  0.00000000e+00,  0.00000000e+00,\n",
       "        0.00000000e+00,  0.00000000e+00,  0.00000000e+00,  0.00000000e+00,\n",
       "        0.00000000e+00,  0.00000000e+00,  1.00000000e+00,  1.00000000e+00,\n",
       "        1.00000000e+00,  1.00000000e+00,  1.00000000e+00,  1.00000000e+00,\n",
       "        1.00000000e+00,  1.00000000e+00,  1.00000000e+00,  1.00000000e+00,\n",
       "        1.00000000e+00,  1.00000000e+00,  1.00000000e+00,  1.00000000e+00,\n",
       "        1.00000000e+00,  1.00000000e+00,  1.00000000e+00,  1.00000000e+00,\n",
       "        1.00000000e+00,  1.00000000e+00,  1.00000000e+00,  1.00000000e+00,\n",
       "        1.00000000e+00,  1.00000000e+00,  1.00000000e+00,  1.00000000e+00,\n",
       "        1.00000000e+00,  1.00000000e+00,  1.00000000e+00,  1.00000000e+00,\n",
       "        1.00000000e+00,  1.00000000e+00,  1.00000000e+00,  1.00000000e+00,\n",
       "        1.00000000e+00,  1.00000000e+00,  1.00000000e+00,  1.00000000e+00,\n",
       "        1.00000000e+00,  1.00000000e+00,  1.00000000e+00,  1.00000000e+00,\n",
       "        1.00000000e+00,  1.00000000e+00,  1.00000000e+00,  1.00000000e+00,\n",
       "        1.00000000e+00,  1.00000000e+00,  1.00000000e+00,  1.00000000e+00,\n",
       "        1.00000000e+00,  1.00000000e+00,  1.00000000e+00,  1.00000000e+00,\n",
       "        1.00000000e+00,  1.00000000e+00])"
      ]
     },
     "execution_count": 12,
     "metadata": {},
     "output_type": "execute_result"
    }
   ],
   "source": [
    "vector_representation_of_observation = obs.to_vect()\n",
    "vector_representation_of_observation"
   ]
  },
  {
   "cell_type": "markdown",
   "metadata": {},
   "source": [
    "An observation can be copied, of course:"
   ]
  },
  {
   "cell_type": "code",
   "execution_count": 13,
   "metadata": {},
   "outputs": [],
   "source": [
    "obs2 = obs.copy()"
   ]
  },
  {
   "cell_type": "markdown",
   "metadata": {},
   "source": [
    "Or reset:"
   ]
  },
  {
   "cell_type": "code",
   "execution_count": 14,
   "metadata": {},
   "outputs": [
    {
     "name": "stdout",
     "output_type": "stream",
     "text": [
      "None\n"
     ]
    }
   ],
   "source": [
    "obs2.reset()\n",
    "print(obs2.prod_p)"
   ]
  },
  {
   "cell_type": "markdown",
   "metadata": {},
   "source": [
    "Or loaded from a vector:"
   ]
  },
  {
   "cell_type": "code",
   "execution_count": 15,
   "metadata": {},
   "outputs": [
    {
     "data": {
      "text/plain": [
       "array([  0.        ,  23.3       ,  69.1       ,   0.        ,\n",
       "       149.48472817])"
      ]
     },
     "execution_count": 15,
     "metadata": {},
     "output_type": "execute_result"
    }
   ],
   "source": [
    "obs2.from_vect(vector_representation_of_observation)\n",
    "obs2.prod_p"
   ]
  },
  {
   "cell_type": "markdown",
   "metadata": {},
   "source": [
    "It is also possible to assess whether two observations are equals or not:"
   ]
  },
  {
   "cell_type": "code",
   "execution_count": 16,
   "metadata": {},
   "outputs": [
    {
     "data": {
      "text/plain": [
       "True"
      ]
     },
     "execution_count": 16,
     "metadata": {},
     "output_type": "execute_result"
    }
   ],
   "source": [
    "obs == obs2"
   ]
  },
  {
   "cell_type": "markdown",
   "metadata": {},
   "source": [
    "For this type of observation, it is also possible to retrieve the topology as a matrix. The topology matrix can be obtained in two different format."
   ]
  },
  {
   "cell_type": "markdown",
   "metadata": {},
   "source": [
    "*Format 1*: the `connectivity matrix` which has as many row / columns as the number of elements in the powergrid (remember an element is either an end of a powerline, or a generator or a load) and that says if 2 elements are connected to one another or not:\n",
    "\n",
    "$$\n",
    "\\left\\{\n",
    "\\begin{aligned}\n",
    "\\text{conn mat}[i,j] = 0 & ~\\text{element i and j are NOT connected to the same bus}\\\\\n",
    "\\text{conn mat}[i,j] = 1 & ~\\text{element i and j are connected to the same bus, or i and j are both end of the same powerline}\\\\\n",
    "\\end{aligned}\n",
    "\\right.\n",
    "$$"
   ]
  },
  {
   "cell_type": "code",
   "execution_count": 17,
   "metadata": {},
   "outputs": [
    {
     "data": {
      "text/plain": [
       "array([[0., 1., 1., ..., 0., 0., 0.],\n",
       "       [1., 0., 1., ..., 0., 0., 0.],\n",
       "       [1., 1., 0., ..., 0., 0., 0.],\n",
       "       ...,\n",
       "       [0., 0., 0., ..., 0., 1., 1.],\n",
       "       [0., 0., 0., ..., 1., 0., 1.],\n",
       "       [0., 0., 0., ..., 1., 1., 0.]])"
      ]
     },
     "execution_count": 17,
     "metadata": {},
     "output_type": "execute_result"
    }
   ],
   "source": [
    "obs.connectity_matrix()"
   ]
  },
  {
   "cell_type": "markdown",
   "metadata": {},
   "source": [
    "This representation has the advantages to always have the same dimension, regardless of the topology of the powergrid."
   ]
  },
  {
   "cell_type": "markdown",
   "metadata": {},
   "source": [
    "*Format 2*: the `bus connectivity matrix` has as many row / columns as the number of active buses of the powergrid. It should be understood as followed:\n",
    "\n",
    "$$\n",
    "\\left\\{\n",
    "\\begin{aligned}\n",
    "\\text{bus conn mat}[i,j] = 0 & ~\\text{no powerline connect bus i to bus j}\\\\\n",
    "\\text{bus conn mat}[i,j] = 1 & ~\\text{at least a powerline connectes bus i to bus j (or i == j)}\\\\\n",
    "\\end{aligned}\n",
    "\\right.\n",
    "$$"
   ]
  },
  {
   "cell_type": "code",
   "execution_count": 18,
   "metadata": {},
   "outputs": [
    {
     "data": {
      "text/plain": [
       "array([[1., 1., 0., 0., 1., 0., 0., 0., 0., 0., 0., 0., 0., 0.],\n",
       "       [1., 1., 1., 1., 1., 0., 0., 0., 0., 0., 0., 0., 0., 0.],\n",
       "       [0., 1., 1., 1., 0., 0., 0., 0., 0., 0., 0., 0., 0., 0.],\n",
       "       [0., 1., 1., 1., 1., 0., 1., 0., 1., 0., 0., 0., 0., 0.],\n",
       "       [1., 1., 0., 1., 1., 1., 0., 0., 0., 0., 0., 0., 0., 0.],\n",
       "       [0., 0., 0., 0., 1., 1., 0., 0., 0., 0., 1., 1., 1., 0.],\n",
       "       [0., 0., 0., 1., 0., 0., 1., 1., 1., 0., 0., 0., 0., 0.],\n",
       "       [0., 0., 0., 0., 0., 0., 1., 1., 0., 0., 0., 0., 0., 0.],\n",
       "       [0., 0., 0., 1., 0., 0., 1., 0., 1., 1., 0., 0., 0., 1.],\n",
       "       [0., 0., 0., 0., 0., 0., 0., 0., 1., 1., 1., 0., 0., 0.],\n",
       "       [0., 0., 0., 0., 0., 1., 0., 0., 0., 1., 1., 0., 0., 0.],\n",
       "       [0., 0., 0., 0., 0., 1., 0., 0., 0., 0., 0., 1., 1., 0.],\n",
       "       [0., 0., 0., 0., 0., 1., 0., 0., 0., 0., 0., 1., 1., 1.],\n",
       "       [0., 0., 0., 0., 0., 0., 0., 0., 1., 0., 0., 0., 1., 1.]])"
      ]
     },
     "execution_count": 18,
     "metadata": {},
     "output_type": "execute_result"
    }
   ],
   "source": [
    "obs.bus_connectivity_matrix()"
   ]
  },
  {
   "cell_type": "markdown",
   "metadata": {},
   "source": [
    "#### c) Simulate"
   ]
  },
  {
   "cell_type": "markdown",
   "metadata": {},
   "source": [
    "As opposed to most RL problems, in this framework we add the possibility to \"simulate\" the impact of a possible action on the power grid.\n",
    "\n",
    "This \"simulate\" method used some forecasts available (forecasts are made available by the way we loaded the data here, with the class `GridStateFromFileWithForecasts`. For this class, only 1 time step ahead forecasts are provided, but this might be adapted in the future).\n",
    "\n",
    "Note that this `simulate` function can use a different simulator than the one used by the Environment. Fore more information, we encourage you to read the official documentation or if it has been built locally (recommended) to consult [this page](../documentation/html/observation.html#grid2op.Observation.Observation.simulate).\n",
    "\n",
    "This function will:\n",
    "\n",
    "1. apply the forecasted injection on the powergrid\n",
    "2. run a powerflow with the decidated `simulate` powerflow simulator\n",
    "3. return:\n",
    "    1. the anticipated observation (after the action has been taken)\n",
    "    2. the anticipated reward (of this simulated action)\n",
    "    3. whether or not there has been an error\n",
    "    4. some more informations\n",
    "    \n",
    "From a user point of view, this is the main difference with the previous [pypownet](https://github.com/MarvinLer/pypownet) framework. This \"simulation\" used to be performed directly by the environment, thus giving a direct access to the Agent to the Environment, which could break the RL framework (it was not the case in the first edition of the Learning to Run A Power Network as the Environment was fully observable)."
   ]
  },
  {
   "cell_type": "code",
   "execution_count": 19,
   "metadata": {},
   "outputs": [],
   "source": [
    "do_nothing_act = runner.env.helper_action_player({})\n",
    "obs_sim, reward_sim, is_done_sim, info_sim = obs.simulate(do_nothing_act)"
   ]
  },
  {
   "cell_type": "code",
   "execution_count": 20,
   "metadata": {},
   "outputs": [
    {
     "data": {
      "text/plain": [
       "array([  0.        ,  23.5       ,  69.6       ,   0.        ,\n",
       "       148.44173557])"
      ]
     },
     "execution_count": 20,
     "metadata": {},
     "output_type": "execute_result"
    }
   ],
   "source": [
    "obs_sim.prod_p"
   ]
  },
  {
   "cell_type": "code",
   "execution_count": 21,
   "metadata": {},
   "outputs": [
    {
     "data": {
      "text/plain": [
       "array([  0.        ,  23.3       ,  69.1       ,   0.        ,\n",
       "       149.48472817])"
      ]
     },
     "execution_count": 21,
     "metadata": {},
     "output_type": "execute_result"
    }
   ],
   "source": [
    "obs.prod_p"
   ]
  },
  {
   "cell_type": "markdown",
   "metadata": {},
   "source": [
    "## II) Taking actions based on these"
   ]
  },
  {
   "cell_type": "markdown",
   "metadata": {},
   "source": [
    "In this section we will make our first *Agent* that will act based on these observations.\n",
    "\n",
    "All *Agent* must derived from the grid2op.Agent class. The main function to code for the Agents is the \"act\" function (more information on the official documentation or - if the documentation has been built locally- [here](../documentation/html/agent.html) ). \n",
    "\n",
    "Basically, the Agent receive a reward and an observation, and suggest a new action. Some different *Agent* are pre-define in the grid2op package. We won't expose them here (for more information see the documantation or the [Agent.py](../grid2op/Agent.py) file), but rather we will make a custom Agent.\n",
    "\n",
    "This *Agent* will select among:\n",
    "\n",
    "- do nothing \n",
    "- disconnecting the powerline having the higher relative flows\n",
    "- reconnecting a powerline disconnected\n",
    "- disconnecting the powerline having the lower relative flows\n",
    "\n",
    "by using `simulate` on the corresponding actions, and choosing the one that has the highest predicted reward.\n",
    "\n",
    "Note that this kind of Agent is not particularly smart and is given only as an example.\n",
    "\n",
    "More information about the creation / manipulation of *Action* will be given in the notebook [2_Action_GridManipulation](2_Action_GridManipulation.ipynb)"
   ]
  },
  {
   "cell_type": "code",
   "execution_count": 22,
   "metadata": {},
   "outputs": [],
   "source": [
    "from grid2op.Agent import Agent\n",
    "import numpy as np\n",
    "import pdb\n",
    "class MyAgent(Agent):\n",
    "    def __init__(self, action_space):\n",
    "        # python required method to code\n",
    "        Agent.__init__(self, action_space)\n",
    "        self.do_nothing = self.action_space({})\n",
    "        self.print_next = False\n",
    "        \n",
    "    def act(self, observation, reward, done=False):\n",
    "        i_max = np.argmax(observation.rho)\n",
    "        new_status_max = np.zeros(observation.rho.shape)\n",
    "        new_status_max[i_max] = -1\n",
    "        act_max = self.action_space({\"set_status\": new_status_max})\n",
    "        \n",
    "        i_min = np.argmin(observation.rho)\n",
    "        new_status_min = np.zeros(observation.rho.shape)\n",
    "        if observation.rho[i_min] > 0:\n",
    "            # all powerlines are connected, i try to disconnect this one\n",
    "            new_status_min[i_min] = -1\n",
    "            act_min = self.action_space({\"set_status\": new_status_min})\n",
    "        else:\n",
    "            # at least one powerline is disconnected, i try to reconnect it\n",
    "            new_status_min[i_min] = 1\n",
    "#             act_min = self.action_space({\"set_status\": new_status_min})\n",
    "            act_min = self.action_space({\"set_status\": new_status_min,\n",
    "                                         \"set_bus\": {\"lines_or\": [(i_min, 1)], \"lines_ex\": [(i_min, 1)]}})\n",
    "    \n",
    "        _, reward_sim_dn, *_ = observation.simulate(self.do_nothing)\n",
    "        _, reward_sim_max, *_ = observation.simulate(act_max)\n",
    "        _, reward_sim_min, *_ = observation.simulate(act_min)\n",
    "            \n",
    "        if reward_sim_dn >= reward_sim_max and reward_sim_dn >= reward_sim_min:\n",
    "            self.print_next = False\n",
    "            res = self.do_nothing\n",
    "        elif reward_sim_max >= reward_sim_min:\n",
    "            self.print_next = True\n",
    "            res = act_max\n",
    "            print(res)\n",
    "        else:\n",
    "            self.print_next = True\n",
    "            res = act_min\n",
    "            print(res)\n",
    "        return res"
   ]
  },
  {
   "cell_type": "markdown",
   "metadata": {},
   "source": [
    "We compare this Agent with the Donothing agent (already coded) on the 3 episode made available with this package. To make the comparison more interesting, it's better to use the L2RPN rewards."
   ]
  },
  {
   "cell_type": "code",
   "execution_count": 23,
   "metadata": {},
   "outputs": [
    {
     "name": "stdout",
     "output_type": "stream",
     "text": [
      "The results for DoNothing agent are:\n",
      "\tFor chronics located at /home/donnotben/.local/lib/python3.6/site-packages/grid2op/data/test_multi_chronics/1\n",
      "\t\t - cumulative reward: 5739.951023\n",
      "\t\t - number of time steps completed: 287 / 287\n"
     ]
    }
   ],
   "source": [
    "from grid2op.main import main\n",
    "from grid2op.Agent import DoNothingAgent\n",
    "from grid2op.Reward import L2RPNReward\n",
    "res = main(nb_episode=1,\n",
    "           agent_class=DoNothingAgent,\n",
    "           path_casefile=grid2op.CASE_14_FILE,\n",
    "           path_chronics=grid2op.CHRONICS_MLUTIEPISODE,\n",
    "           names_chronics_to_backend=grid2op.NAMES_CHRONICS_TO_BACKEND,\n",
    "           gridStateclass_kwargs={\"gridvalueClass\": GridStateFromFileWithForecasts},\n",
    "           reward_class=L2RPNReward\n",
    "          )\n",
    "print(\"The results for DoNothing agent are:\")\n",
    "for chron_name, cum_reward, nb_time_step, max_ts in res:\n",
    "    msg_tmp = \"\\tFor chronics located at {}\\n\".format(chron_name)\n",
    "    msg_tmp += \"\\t\\t - cumulative reward: {:.6f}\\n\".format(cum_reward)\n",
    "    msg_tmp += \"\\t\\t - number of time steps completed: {:.0f} / {:.0f}\".format(nb_time_step, max_ts)\n",
    "    print(msg_tmp)"
   ]
  },
  {
   "cell_type": "code",
   "execution_count": 24,
   "metadata": {},
   "outputs": [
    {
     "name": "stdout",
     "output_type": "stream",
     "text": [
      "This action will:\n",
      "\t - NOT change anything to the injections\n",
      "\t - force disconnection of 1 powerlines ([10])\n",
      "\t - NOT switch any line status\n",
      "\t - NOT switch anything in the topology\n",
      "\t - NOT force any particular bus configuration\n",
      "The results for the custom agent are:\n",
      "\tFor chronics located at /home/donnotben/.local/lib/python3.6/site-packages/grid2op/data/test_multi_chronics/1\n",
      "\t\t - cumulative reward: 5739.951012\n",
      "\t\t - number of time steps completed: 287 / 287\n"
     ]
    }
   ],
   "source": [
    "from grid2op.main import main\n",
    "from grid2op.Agent import DoNothingAgent\n",
    "from grid2op.Reward import L2RPNReward\n",
    "res = main(nb_episode=1,\n",
    "           agent_class=MyAgent,\n",
    "           path_casefile=grid2op.CASE_14_FILE,\n",
    "           path_chronics=grid2op.CHRONICS_MLUTIEPISODE,\n",
    "           names_chronics_to_backend=grid2op.NAMES_CHRONICS_TO_BACKEND,\n",
    "           gridStateclass_kwargs={\"gridvalueClass\": GridStateFromFileWithForecasts},\n",
    "           reward_class=L2RPNReward\n",
    "          )\n",
    "print(\"The results for the custom agent are:\")\n",
    "for chron_name, cum_reward, nb_time_step, max_ts in res:\n",
    "    msg_tmp = \"\\tFor chronics located at {}\\n\".format(chron_name)\n",
    "    msg_tmp += \"\\t\\t - cumulative reward: {:.6f}\\n\".format(cum_reward)\n",
    "    msg_tmp += \"\\t\\t - number of time steps completed: {:.0f} / {:.0f}\".format(nb_time_step, max_ts)\n",
    "    print(msg_tmp)"
   ]
  },
  {
   "cell_type": "markdown",
   "metadata": {},
   "source": [
    "As we can see, there is a slight degradation of the performance (cumulative reward) for the second (custom) Agent. The cumulative reward in this case is 5739.95***1012*** the baseline (do nothing) was 5739.95***1023***.\n",
    "\n",
    "This agent is NOT recommended."
   ]
  },
  {
   "cell_type": "code",
   "execution_count": 25,
   "metadata": {},
   "outputs": [
    {
     "name": "stdout",
     "output_type": "stream",
     "text": [
      "The results for the PowerLineSwitch agent are:\n",
      "\tFor chronics located at /home/donnotben/.local/lib/python3.6/site-packages/grid2op/data/test_multi_chronics/1\n",
      "\t\t - cumulative reward: 5739.952376\n",
      "\t\t - number of time steps completed: 287 / 287\n"
     ]
    }
   ],
   "source": [
    "from grid2op.Agent import PowerLineSwitch\n",
    "res = main(nb_episode=1,\n",
    "           agent_class=PowerLineSwitch,\n",
    "           path_casefile=grid2op.CASE_14_FILE,\n",
    "           path_chronics=grid2op.CHRONICS_MLUTIEPISODE,\n",
    "           names_chronics_to_backend=grid2op.NAMES_CHRONICS_TO_BACKEND,\n",
    "           gridStateclass_kwargs={\"gridvalueClass\": GridStateFromFileWithForecasts},\n",
    "           reward_class=L2RPNReward\n",
    "          )\n",
    "print(\"The results for the PowerLineSwitch agent are:\")\n",
    "for chron_name, cum_reward, nb_time_step, max_ts in res:\n",
    "    msg_tmp = \"\\tFor chronics located at {}\\n\".format(chron_name)\n",
    "    msg_tmp += \"\\t\\t - cumulative reward: {:.6f}\\n\".format(cum_reward)\n",
    "    msg_tmp += \"\\t\\t - number of time steps completed: {:.0f} / {:.0f}\".format(nb_time_step, max_ts)\n",
    "    print(msg_tmp)"
   ]
  },
  {
   "cell_type": "markdown",
   "metadata": {},
   "source": [
    "We want however to emphasize that do nothing is NOT the best solution, even in this simple case. For example, an agent choosing at each time step to disconnect / reconnect as to greedily maximize the anticipated reward will have a cumulative reward of 5739.95***2376*** in this situation."
   ]
  }
 ],
 "metadata": {
  "kernelspec": {
   "display_name": "Python 3",
   "language": "python",
   "name": "python3"
  },
  "language_info": {
   "codemirror_mode": {
    "name": "ipython",
    "version": 3
   },
   "file_extension": ".py",
   "mimetype": "text/x-python",
   "name": "python",
   "nbconvert_exporter": "python",
   "pygments_lexer": "ipython3",
   "version": "3.6.6"
  }
 },
 "nbformat": 4,
 "nbformat_minor": 2
}
