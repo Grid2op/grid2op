{
 "cells": [
  {
   "cell_type": "markdown",
   "metadata": {},
   "source": [
    "# Some powerline can be disconnected, and there is ~~nothing~~ something you can do about it\n",
    "Try me out interactively with: [![Binder](./img/badge_logo.svg)](https://mybinder.org/v2/gh/rte-france/Grid2Op/master)"
   ]
  },
  {
   "cell_type": "markdown",
   "metadata": {},
   "source": [
    "# test reco maintenance (in jupyter notebook)"
   ]
  },
  {
   "cell_type": "code",
   "execution_count": 1,
   "metadata": {},
   "outputs": [
    {
     "name": "stderr",
     "output_type": "stream",
     "text": [
      "/home/benjamin/Documents/grid2op_dev/getting_started/grid2op/Backend/PandaPowerBackend.py:38: UserWarning: Numba cannot be loaded. You will gain possibly massive speed if installing it by \n",
      "\t/home/benjamin/Documents/grid2op_dev/venv/bin/python -m pip install numba\n",
      "\n",
      "  warnings.warn(\"Numba cannot be loaded. You will gain possibly massive speed if installing it by \"\n"
     ]
    },
    {
     "name": "stdout",
     "output_type": "stream",
     "text": [
      "grid2op version: 0.9.4\n"
     ]
    }
   ],
   "source": [
    "import grid2op\n",
    "import numpy as np\n",
    "print(\"grid2op version: {}\".format(grid2op.__version__))\n",
    "env = grid2op.make(\"l2rpn_wcci_2020\", difficulty=\"0\")  # TODO make a test env for that"
   ]
  },
  {
   "cell_type": "code",
   "execution_count": 2,
   "metadata": {},
   "outputs": [
    {
     "name": "stdout",
     "output_type": "stream",
     "text": [
      "Can i act on the pwoerline: True\n",
      "Is the powerline connected: True\n"
     ]
    }
   ],
   "source": [
    "env.seed(0)\n",
    "env.set_id(0)\n",
    "obs = env.reset()\n",
    "do_nothing_action = env.action_space()\n",
    "line_id = 56\n",
    "start_maintenance = 1259  # first maintenance at 1260 (number of time step) then at 2412\n",
    "reconnect_action = env.action_space({\"set_line_status\": [(line_id, +1)]})\n",
    "# we know (because we made it) that there will be maintenance at ... so we \"fast forward until that point\"\n",
    "env.fast_forward_chronics(start_maintenance)\n",
    "obs = env.get_obs()\n",
    "print(\"Can i act on the pwoerline: {}\".format(obs.time_before_cooldown_line[line_id] == 0))\n",
    "print(\"Is the powerline connected: {}\".format(obs.line_status[line_id]))"
   ]
  },
  {
   "cell_type": "code",
   "execution_count": 3,
   "metadata": {},
   "outputs": [
    {
     "name": "stdout",
     "output_type": "stream",
     "text": [
      "Can i act on the pwoerline: False\n",
      "In how many time I will be able to reconnect it: 96\n",
      "Is the powerline connected: False\n"
     ]
    }
   ],
   "source": [
    "# one step pass\n",
    "obs, reward, done, info = env.step(do_nothing_action)\n",
    "print(\"Can i act on the pwoerline: {}\".format(obs.time_before_cooldown_line[line_id] == 0))\n",
    "print(\"In how many time I will be able to reconnect it: {}\".format(obs.time_before_cooldown_line[line_id]))\n",
    "print(\"Is the powerline connected: {}\".format(obs.line_status[line_id]))"
   ]
  },
  {
   "cell_type": "code",
   "execution_count": 4,
   "metadata": {},
   "outputs": [
    {
     "name": "stdout",
     "output_type": "stream",
     "text": [
      "Can i act on the pwoerline: False\n",
      "In how many time I will be able to reconnect it: 95\n",
      "Is the powerline connected: False\n"
     ]
    }
   ],
   "source": [
    "# let's try to reconnect the powerline\n",
    "obs, reward, done, info = env.step(reconnect_action)\n",
    "print(\"Can i act on the pwoerline: {}\".format(obs.time_before_cooldown_line[line_id] == 0))\n",
    "print(\"In how many time I will be able to reconnect it: {}\".format(obs.time_before_cooldown_line[line_id]))\n",
    "print(\"Is the powerline connected: {}\".format(obs.line_status[line_id]))\n",
    "# it has no effect :-("
   ]
  },
  {
   "cell_type": "code",
   "execution_count": 5,
   "metadata": {},
   "outputs": [
    {
     "name": "stdout",
     "output_type": "stream",
     "text": [
      "Can i act on the pwoerline: True\n",
      "In how many time I will be able to reconnect it: 0\n",
      "Is the powerline connected: False\n",
      "The flow on it is 0.0A (of course because it is switched off)\n"
     ]
    }
   ],
   "source": [
    "# let's then do nothing for 95 remaining time step\n",
    "# (i can reconnect it only in 95 time steps as said above -> if i try before that it fails...)\n",
    "for _ in range(95):\n",
    "    obs, reward, done, info = env.step(do_nothing_action)\n",
    "print(\"Can i act on the pwoerline: {}\".format(obs.time_before_cooldown_line[line_id] == 0))\n",
    "print(\"In how many time I will be able to reconnect it: {}\".format(obs.time_before_cooldown_line[line_id]))\n",
    "print(\"Is the powerline connected: {}\".format(obs.line_status[line_id]))\n",
    "print(\"The flow on it is {:.1f}A (of course because it is switched off)\".format(obs.a_or[line_id]))"
   ]
  },
  {
   "cell_type": "code",
   "execution_count": 6,
   "metadata": {},
   "outputs": [
    {
     "name": "stdout",
     "output_type": "stream",
     "text": [
      "Can i act on the powerline: True\n",
      "In how many time I will be able to reconnect it: 0\n",
      "Is the powerline connected: True\n",
      "The flow on it is 167.5A\n"
     ]
    }
   ],
   "source": [
    "# and now reconnect it\n",
    "obs, reward, done, info = env.step(reconnect_action)\n",
    "print(\"Can i act on the powerline: {}\".format(obs.time_before_cooldown_line[line_id] == 0))\n",
    "print(\"In how many time I will be able to reconnect it: {}\".format(obs.time_before_cooldown_line[line_id]))\n",
    "print(\"Is the powerline connected: {}\".format(obs.line_status[line_id]))\n",
    "print(\"The flow on it is {:.1f}A\".format(obs.a_or[line_id]))"
   ]
  }
 ],
 "metadata": {
  "kernelspec": {
   "display_name": "g2op094",
   "language": "python",
   "name": "g2op094"
  },
  "language_info": {
   "codemirror_mode": {
    "name": "ipython",
    "version": 3
   },
   "file_extension": ".py",
   "mimetype": "text/x-python",
   "name": "python",
   "nbconvert_exporter": "python",
   "pygments_lexer": "ipython3",
   "version": "3.8.2"
  }
 },
 "nbformat": 4,
 "nbformat_minor": 4
}
