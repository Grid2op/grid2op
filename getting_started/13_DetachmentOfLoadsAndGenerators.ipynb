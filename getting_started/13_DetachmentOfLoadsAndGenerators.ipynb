{
 "cells": [
  {
   "cell_type": "markdown",
   "metadata": {},
   "source": [
    "### Detachment of Loads and Generators\n",
    "In emergency conditions, it may be possible / necessary for a grid operator to detach certain loads, generators, or other components in order to prevent a larger blackout. This notebook explores how this can be achieved in Grid2OP. \n",
    "\n",
    "By default detachment is disabled in all environments, to provide the keyword argument allow_detachment when initializing the environment. The backend must be able to support this feature."
   ]
  },
  {
   "cell_type": "code",
   "execution_count": null,
   "metadata": {},
   "outputs": [],
   "source": [
    "import matplotlib.pyplot as plt\n",
    "import grid2op\n",
    "from grid2op.Parameters import Parameters\n",
    "from grid2op.PlotGrid import PlotMatplot\n",
    "from pathlib import Path\n",
    "\n",
    "# Setup Environment\n",
    "data_path = Path.cwd() / \"grid2op\" / \"data\"\n",
    "p = Parameters()\n",
    "p.MAX_SUB_CHANGED = 5\n",
    "env = grid2op.make(data_path / \"rte_case5_example\", param=p, allow_detachment=True)\n",
    "\n",
    "# Setup Plotter Utility\n",
    "plotter = PlotMatplot(env.observation_space, load_name=True, gen_name=True, dpi=150)\n",
    "print(f\"Loads: {env.n_load}, Generators: {env.n_gen}, Storage: {env.n_storage}, Allow Detachment: {env._allow_detachment}\")"
   ]
  },
  {
   "cell_type": "markdown",
   "metadata": {},
   "source": [
    "Detach the loads at substation 3 and 4. Normally this would cause a game-over, but if allow_detachment is True, the powerflow will be run. Game over in these cases can only occur if the powerflow does not converge."
   ]
  },
  {
   "cell_type": "code",
   "execution_count": null,
   "metadata": {},
   "outputs": [],
   "source": [
    "load_lookup = {name:i for i,name in enumerate(env.name_load)}\n",
    "gen_lookup = {name:i for i,name in enumerate(env.name_gen)}\n",
    "act = env.action_space({\"set_bus\":[(env.load_pos_topo_vect[load_lookup[\"load_3_1\"]], -1),\n",
    "                                   (env.load_pos_topo_vect[load_lookup[\"load_4_2\"]], -1)]})\n",
    "print(act)\n",
    "env.set_id(\"00\")\n",
    "init_obs = env.reset()\n",
    "obs, reward, done, info = env.step(act)\n",
    "plotter.plot_obs(obs, figure=plt.figure(figsize=(8,5)))\n",
    "plt.show()"
   ]
  }
 ],
 "metadata": {
  "kernelspec": {
   "display_name": "venv_test",
   "language": "python",
   "name": "python3"
  },
  "language_info": {
   "codemirror_mode": {
    "name": "ipython",
    "version": 3
   },
   "file_extension": ".py",
   "mimetype": "text/x-python",
   "name": "python",
   "nbconvert_exporter": "python",
   "pygments_lexer": "ipython3",
   "version": "3.12.7"
  }
 },
 "nbformat": 4,
 "nbformat_minor": 2
}
