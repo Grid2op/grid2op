{
 "cells": [
  {
   "cell_type": "markdown",
   "metadata": {},
   "source": [
    "# Some experiments on a 5 substations test case"
   ]
  },
  {
   "cell_type": "markdown",
   "metadata": {},
   "source": [
    "To demonstrate the use of the grid2op framework, we propose here to show how to make some quick studies on a purely fictious test case, a 5 bus system.\n",
    "\n",
    "This system should not be used for deep research purpose. It is provided here as an example and a tool to get used to how some analyses can be performed using grid2op."
   ]
  },
  {
   "cell_type": "markdown",
   "metadata": {},
   "source": [
    "First, we can create a environment:"
   ]
  },
  {
   "cell_type": "code",
   "execution_count": 1,
   "metadata": {},
   "outputs": [],
   "source": [
    "import grid2op\n",
    "env = grid2op.make(\"case5_example\")"
   ]
  },
  {
   "cell_type": "markdown",
   "metadata": {},
   "source": [
    "Now we can see how well the \"do nothing\" agent (the most basic imaginable) can performe, using some \"gym like\" methods"
   ]
  },
  {
   "cell_type": "code",
   "execution_count": 2,
   "metadata": {},
   "outputs": [],
   "source": [
    "from grid2op.Agent import DoNothingAgent\n",
    "my_agent = DoNothingAgent(env.action_space)"
   ]
  },
  {
   "cell_type": "markdown",
   "metadata": {},
   "source": [
    "Now do the standard gym loop, and we save all the observations:"
   ]
  },
  {
   "cell_type": "code",
   "execution_count": 3,
   "metadata": {},
   "outputs": [],
   "source": [
    "all_obs = []\n",
    "obs = env.reset()\n",
    "all_obs.append(obs)\n",
    "reward = env.reward_range[0]\n",
    "done = False\n",
    "nb_step = 0\n",
    "while True:\n",
    "    action = my_agent.act(obs, reward, done)\n",
    "    obs, reward, done, _ = env.step(action)\n",
    "    if done:\n",
    "        break\n",
    "    all_obs.append(obs)\n",
    "    nb_step += 1"
   ]
  },
  {
   "cell_type": "markdown",
   "metadata": {},
   "source": [
    "We can check if the episode has been completed, or if there has been a game over:"
   ]
  },
  {
   "cell_type": "code",
   "execution_count": 4,
   "metadata": {},
   "outputs": [
    {
     "name": "stdout",
     "output_type": "stream",
     "text": [
      "Number of timesteps computed: 97\n",
      "Total maximum number of timesteps possible: 2016\n"
     ]
    }
   ],
   "source": [
    "print(\"Number of timesteps computed: {}\".format(nb_step))\n",
    "print(\"Total maximum number of timesteps possible: {}\".format(env.chronics_handler.max_timestep()))"
   ]
  },
  {
   "cell_type": "markdown",
   "metadata": {},
   "source": [
    "As we see here, there is a game over: the agent successfully managed 97 timesteps, while the episode could have lasted 2016.\n",
    "\n",
    "Let's try to investigate this, for example by plotting the last observation. First we need to create a utilities that will make the plot:"
   ]
  },
  {
   "cell_type": "code",
   "execution_count": 5,
   "metadata": {},
   "outputs": [],
   "source": [
    "from grid2op.PlotPlotly import PlotObs\n",
    "# init the plot\n",
    "graph_layout =  [(0,0), (0,400), (200,400), (400, 400), (400, 0)]\n",
    "plot_helper = PlotObs(substation_layout=graph_layout,\n",
    "                      observation_space=env.observation_space)"
   ]
  },
  {
   "cell_type": "code",
   "execution_count": 8,
   "metadata": {},
   "outputs": [
    {
     "data": {
      "application/vnd.plotly.v1+json": {
       "config": {
        "plotlyServerURL": "https://plot.ly"
       },
       "data": [
        {
         "mode": "text",
         "showlegend": false,
         "text": [
          "8.3%"
         ],
         "type": "scatter",
         "x": [
          1.5308084989341915e-15
         ],
         "y": [
          200
         ]
        },
        {
         "mode": "text",
         "showlegend": false,
         "text": [
          "0.0%"
         ],
         "type": "scatter",
         "x": [
          100
         ],
         "y": [
          200
         ]
        },
        {
         "mode": "text",
         "showlegend": false,
         "text": [
          "0.0%"
         ],
         "type": "scatter",
         "x": [
          200
         ],
         "y": [
          199.99999999999997
         ]
        },
        {
         "mode": "text",
         "showlegend": false,
         "text": [
          "0.0%"
         ],
         "type": "scatter",
         "x": [
          200
         ],
         "y": [
          -1.5308084989341915e-15
         ]
        },
        {
         "mode": "text",
         "showlegend": false,
         "text": [
          "8.2%"
         ],
         "type": "scatter",
         "x": [
          100
         ],
         "y": [
          400
         ]
        },
        {
         "mode": "text",
         "showlegend": false,
         "text": [
          "8.4%"
         ],
         "type": "scatter",
         "x": [
          300
         ],
         "y": [
          410.5654565435175
         ]
        },
        {
         "mode": "text",
         "showlegend": false,
         "text": [
          "8.4%"
         ],
         "type": "scatter",
         "x": [
          300
         ],
         "y": [
          389.4345434564825
         ]
        },
        {
         "mode": "text",
         "showlegend": false,
         "text": [
          "0.0%"
         ],
         "type": "scatter",
         "x": [
          400
         ],
         "y": [
          200
         ]
        },
        {
         "mode": "text",
         "showlegend": false,
         "text": [
          "- 10 MW"
         ],
         "type": "scatter",
         "x": [
          -70
         ],
         "y": [
          8.572527594031473e-15
         ]
        },
        {
         "mode": "text",
         "showlegend": false,
         "text": [
          "- 9 MW"
         ],
         "type": "scatter",
         "x": [
          470
         ],
         "y": [
          400
         ]
        },
        {
         "mode": "text",
         "showlegend": false,
         "text": [
          "- 8 MW"
         ],
         "type": "scatter",
         "x": [
          470
         ],
         "y": [
          0
         ]
        },
        {
         "mode": "text",
         "showlegend": false,
         "text": [
          "+ 1 MW"
         ],
         "type": "scatter",
         "x": [
          -35.000000000000036
         ],
         "y": [
          -60.62177826491068
         ]
        },
        {
         "mode": "text",
         "showlegend": false,
         "text": [
          "+ 18 MW"
         ],
         "type": "scatter",
         "x": [
          -35.000000000000014
         ],
         "y": [
          460.6217782649107
         ]
        }
       ],
       "layout": {
        "height": 600,
        "margin": {
         "b": 100,
         "l": 20,
         "r": 20
        },
        "plot_bgcolor": "white",
        "shapes": [
         {
          "fillcolor": "lightgray",
          "line": {
           "color": "LightSeaGreen"
          },
          "type": "circle",
          "x0": -25,
          "x1": 25,
          "xref": "x",
          "y0": -25,
          "y1": 25,
          "yref": "y"
         },
         {
          "fillcolor": "lightgray",
          "line": {
           "color": "LightSeaGreen"
          },
          "type": "circle",
          "x0": -25,
          "x1": 25,
          "xref": "x",
          "y0": 375,
          "y1": 425,
          "yref": "y"
         },
         {
          "fillcolor": "lightgray",
          "line": {
           "color": "LightSeaGreen"
          },
          "type": "circle",
          "x0": 175,
          "x1": 225,
          "xref": "x",
          "y0": 375,
          "y1": 425,
          "yref": "y"
         },
         {
          "fillcolor": "lightgray",
          "line": {
           "color": "LightSeaGreen"
          },
          "type": "circle",
          "x0": 375,
          "x1": 425,
          "xref": "x",
          "y0": 375,
          "y1": 425,
          "yref": "y"
         },
         {
          "fillcolor": "lightgray",
          "line": {
           "color": "LightSeaGreen"
          },
          "type": "circle",
          "x0": 375,
          "x1": 425,
          "xref": "x",
          "y0": -25,
          "y1": 25,
          "yref": "y"
         },
         {
          "line": {
           "color": "#efc5c5"
          },
          "type": "line",
          "x0": 1.5308084989341915e-15,
          "x1": 1.5308084989341915e-15,
          "xref": "x",
          "y0": 25,
          "y1": 375,
          "yref": "y"
         },
         {
          "line": {
           "color": "gray",
           "dash": "dash"
          },
          "type": "line",
          "x0": 11.18033988749895,
          "x1": 188.81966011250105,
          "xref": "x",
          "y0": 22.360679774997898,
          "y1": 377.6393202250021,
          "yref": "y"
         },
         {
          "line": {
           "color": "gray",
           "dash": "dash"
          },
          "type": "line",
          "x0": 17.67766952966369,
          "x1": 382.32233047033634,
          "xref": "x",
          "y0": 17.677669529663685,
          "y1": 382.3223304703363,
          "yref": "y"
         },
         {
          "line": {
           "color": "gray",
           "dash": "dash"
          },
          "type": "line",
          "x0": 25,
          "x1": 375,
          "xref": "x",
          "y0": 0,
          "y1": -3.061616997868383e-15,
          "yref": "y"
         },
         {
          "line": {
           "color": "#efc5c5"
          },
          "type": "line",
          "x0": 25,
          "x1": 175,
          "xref": "x",
          "y0": 400,
          "y1": 400,
          "yref": "y"
         },
         {
          "line": {
           "color": "#efc5c5"
          },
          "type": "line",
          "x0": 222.65769467591625,
          "x1": 377.3423053240837,
          "xref": "x",
          "y0": 410.5654565435175,
          "y1": 410.5654565435175,
          "yref": "y"
         },
         {
          "line": {
           "color": "#efc5c5"
          },
          "type": "line",
          "x0": 222.65769467591625,
          "x1": 377.3423053240838,
          "xref": "x",
          "y0": 389.4345434564825,
          "y1": 389.4345434564825,
          "yref": "y"
         },
         {
          "line": {
           "color": "gray",
           "dash": "dash"
          },
          "type": "line",
          "x0": 400,
          "x1": 400,
          "xref": "x",
          "y0": 375,
          "y1": 25,
          "yref": "y"
         },
         {
          "type": "line",
          "x0": -50,
          "x1": -25,
          "xref": "x",
          "y0": 6.123233995736767e-15,
          "y1": 3.061616997868383e-15,
          "yref": "y"
         },
         {
          "type": "line",
          "x0": 450,
          "x1": 425,
          "xref": "x",
          "y0": 400,
          "y1": 400,
          "yref": "y"
         },
         {
          "type": "line",
          "x0": 450,
          "x1": 425,
          "xref": "x",
          "y0": 0,
          "y1": 0,
          "yref": "y"
         },
         {
          "type": "line",
          "x0": -25.000000000000025,
          "x1": -12.50000000000001,
          "xref": "x",
          "y0": -43.30127018922192,
          "y1": -21.65063509461096,
          "yref": "y"
         },
         {
          "type": "line",
          "x0": -25.00000000000001,
          "x1": -12.499999999999995,
          "xref": "x",
          "y0": 443.3012701892219,
          "y1": 421.65063509461095,
          "yref": "y"
         }
        ],
        "template": {
         "data": {
          "bar": [
           {
            "error_x": {
             "color": "#2a3f5f"
            },
            "error_y": {
             "color": "#2a3f5f"
            },
            "marker": {
             "line": {
              "color": "#E5ECF6",
              "width": 0.5
             }
            },
            "type": "bar"
           }
          ],
          "barpolar": [
           {
            "marker": {
             "line": {
              "color": "#E5ECF6",
              "width": 0.5
             }
            },
            "type": "barpolar"
           }
          ],
          "carpet": [
           {
            "aaxis": {
             "endlinecolor": "#2a3f5f",
             "gridcolor": "white",
             "linecolor": "white",
             "minorgridcolor": "white",
             "startlinecolor": "#2a3f5f"
            },
            "baxis": {
             "endlinecolor": "#2a3f5f",
             "gridcolor": "white",
             "linecolor": "white",
             "minorgridcolor": "white",
             "startlinecolor": "#2a3f5f"
            },
            "type": "carpet"
           }
          ],
          "choropleth": [
           {
            "colorbar": {
             "outlinewidth": 0,
             "ticks": ""
            },
            "type": "choropleth"
           }
          ],
          "contour": [
           {
            "colorbar": {
             "outlinewidth": 0,
             "ticks": ""
            },
            "colorscale": [
             [
              0,
              "#0d0887"
             ],
             [
              0.1111111111111111,
              "#46039f"
             ],
             [
              0.2222222222222222,
              "#7201a8"
             ],
             [
              0.3333333333333333,
              "#9c179e"
             ],
             [
              0.4444444444444444,
              "#bd3786"
             ],
             [
              0.5555555555555556,
              "#d8576b"
             ],
             [
              0.6666666666666666,
              "#ed7953"
             ],
             [
              0.7777777777777778,
              "#fb9f3a"
             ],
             [
              0.8888888888888888,
              "#fdca26"
             ],
             [
              1,
              "#f0f921"
             ]
            ],
            "type": "contour"
           }
          ],
          "contourcarpet": [
           {
            "colorbar": {
             "outlinewidth": 0,
             "ticks": ""
            },
            "type": "contourcarpet"
           }
          ],
          "heatmap": [
           {
            "colorbar": {
             "outlinewidth": 0,
             "ticks": ""
            },
            "colorscale": [
             [
              0,
              "#0d0887"
             ],
             [
              0.1111111111111111,
              "#46039f"
             ],
             [
              0.2222222222222222,
              "#7201a8"
             ],
             [
              0.3333333333333333,
              "#9c179e"
             ],
             [
              0.4444444444444444,
              "#bd3786"
             ],
             [
              0.5555555555555556,
              "#d8576b"
             ],
             [
              0.6666666666666666,
              "#ed7953"
             ],
             [
              0.7777777777777778,
              "#fb9f3a"
             ],
             [
              0.8888888888888888,
              "#fdca26"
             ],
             [
              1,
              "#f0f921"
             ]
            ],
            "type": "heatmap"
           }
          ],
          "heatmapgl": [
           {
            "colorbar": {
             "outlinewidth": 0,
             "ticks": ""
            },
            "colorscale": [
             [
              0,
              "#0d0887"
             ],
             [
              0.1111111111111111,
              "#46039f"
             ],
             [
              0.2222222222222222,
              "#7201a8"
             ],
             [
              0.3333333333333333,
              "#9c179e"
             ],
             [
              0.4444444444444444,
              "#bd3786"
             ],
             [
              0.5555555555555556,
              "#d8576b"
             ],
             [
              0.6666666666666666,
              "#ed7953"
             ],
             [
              0.7777777777777778,
              "#fb9f3a"
             ],
             [
              0.8888888888888888,
              "#fdca26"
             ],
             [
              1,
              "#f0f921"
             ]
            ],
            "type": "heatmapgl"
           }
          ],
          "histogram": [
           {
            "marker": {
             "colorbar": {
              "outlinewidth": 0,
              "ticks": ""
             }
            },
            "type": "histogram"
           }
          ],
          "histogram2d": [
           {
            "colorbar": {
             "outlinewidth": 0,
             "ticks": ""
            },
            "colorscale": [
             [
              0,
              "#0d0887"
             ],
             [
              0.1111111111111111,
              "#46039f"
             ],
             [
              0.2222222222222222,
              "#7201a8"
             ],
             [
              0.3333333333333333,
              "#9c179e"
             ],
             [
              0.4444444444444444,
              "#bd3786"
             ],
             [
              0.5555555555555556,
              "#d8576b"
             ],
             [
              0.6666666666666666,
              "#ed7953"
             ],
             [
              0.7777777777777778,
              "#fb9f3a"
             ],
             [
              0.8888888888888888,
              "#fdca26"
             ],
             [
              1,
              "#f0f921"
             ]
            ],
            "type": "histogram2d"
           }
          ],
          "histogram2dcontour": [
           {
            "colorbar": {
             "outlinewidth": 0,
             "ticks": ""
            },
            "colorscale": [
             [
              0,
              "#0d0887"
             ],
             [
              0.1111111111111111,
              "#46039f"
             ],
             [
              0.2222222222222222,
              "#7201a8"
             ],
             [
              0.3333333333333333,
              "#9c179e"
             ],
             [
              0.4444444444444444,
              "#bd3786"
             ],
             [
              0.5555555555555556,
              "#d8576b"
             ],
             [
              0.6666666666666666,
              "#ed7953"
             ],
             [
              0.7777777777777778,
              "#fb9f3a"
             ],
             [
              0.8888888888888888,
              "#fdca26"
             ],
             [
              1,
              "#f0f921"
             ]
            ],
            "type": "histogram2dcontour"
           }
          ],
          "mesh3d": [
           {
            "colorbar": {
             "outlinewidth": 0,
             "ticks": ""
            },
            "type": "mesh3d"
           }
          ],
          "parcoords": [
           {
            "line": {
             "colorbar": {
              "outlinewidth": 0,
              "ticks": ""
             }
            },
            "type": "parcoords"
           }
          ],
          "pie": [
           {
            "automargin": true,
            "type": "pie"
           }
          ],
          "scatter": [
           {
            "marker": {
             "colorbar": {
              "outlinewidth": 0,
              "ticks": ""
             }
            },
            "type": "scatter"
           }
          ],
          "scatter3d": [
           {
            "line": {
             "colorbar": {
              "outlinewidth": 0,
              "ticks": ""
             }
            },
            "marker": {
             "colorbar": {
              "outlinewidth": 0,
              "ticks": ""
             }
            },
            "type": "scatter3d"
           }
          ],
          "scattercarpet": [
           {
            "marker": {
             "colorbar": {
              "outlinewidth": 0,
              "ticks": ""
             }
            },
            "type": "scattercarpet"
           }
          ],
          "scattergeo": [
           {
            "marker": {
             "colorbar": {
              "outlinewidth": 0,
              "ticks": ""
             }
            },
            "type": "scattergeo"
           }
          ],
          "scattergl": [
           {
            "marker": {
             "colorbar": {
              "outlinewidth": 0,
              "ticks": ""
             }
            },
            "type": "scattergl"
           }
          ],
          "scattermapbox": [
           {
            "marker": {
             "colorbar": {
              "outlinewidth": 0,
              "ticks": ""
             }
            },
            "type": "scattermapbox"
           }
          ],
          "scatterpolar": [
           {
            "marker": {
             "colorbar": {
              "outlinewidth": 0,
              "ticks": ""
             }
            },
            "type": "scatterpolar"
           }
          ],
          "scatterpolargl": [
           {
            "marker": {
             "colorbar": {
              "outlinewidth": 0,
              "ticks": ""
             }
            },
            "type": "scatterpolargl"
           }
          ],
          "scatterternary": [
           {
            "marker": {
             "colorbar": {
              "outlinewidth": 0,
              "ticks": ""
             }
            },
            "type": "scatterternary"
           }
          ],
          "surface": [
           {
            "colorbar": {
             "outlinewidth": 0,
             "ticks": ""
            },
            "colorscale": [
             [
              0,
              "#0d0887"
             ],
             [
              0.1111111111111111,
              "#46039f"
             ],
             [
              0.2222222222222222,
              "#7201a8"
             ],
             [
              0.3333333333333333,
              "#9c179e"
             ],
             [
              0.4444444444444444,
              "#bd3786"
             ],
             [
              0.5555555555555556,
              "#d8576b"
             ],
             [
              0.6666666666666666,
              "#ed7953"
             ],
             [
              0.7777777777777778,
              "#fb9f3a"
             ],
             [
              0.8888888888888888,
              "#fdca26"
             ],
             [
              1,
              "#f0f921"
             ]
            ],
            "type": "surface"
           }
          ],
          "table": [
           {
            "cells": {
             "fill": {
              "color": "#EBF0F8"
             },
             "line": {
              "color": "white"
             }
            },
            "header": {
             "fill": {
              "color": "#C8D4E3"
             },
             "line": {
              "color": "white"
             }
            },
            "type": "table"
           }
          ]
         },
         "layout": {
          "annotationdefaults": {
           "arrowcolor": "#2a3f5f",
           "arrowhead": 0,
           "arrowwidth": 1
          },
          "coloraxis": {
           "colorbar": {
            "outlinewidth": 0,
            "ticks": ""
           }
          },
          "colorscale": {
           "diverging": [
            [
             0,
             "#8e0152"
            ],
            [
             0.1,
             "#c51b7d"
            ],
            [
             0.2,
             "#de77ae"
            ],
            [
             0.3,
             "#f1b6da"
            ],
            [
             0.4,
             "#fde0ef"
            ],
            [
             0.5,
             "#f7f7f7"
            ],
            [
             0.6,
             "#e6f5d0"
            ],
            [
             0.7,
             "#b8e186"
            ],
            [
             0.8,
             "#7fbc41"
            ],
            [
             0.9,
             "#4d9221"
            ],
            [
             1,
             "#276419"
            ]
           ],
           "sequential": [
            [
             0,
             "#0d0887"
            ],
            [
             0.1111111111111111,
             "#46039f"
            ],
            [
             0.2222222222222222,
             "#7201a8"
            ],
            [
             0.3333333333333333,
             "#9c179e"
            ],
            [
             0.4444444444444444,
             "#bd3786"
            ],
            [
             0.5555555555555556,
             "#d8576b"
            ],
            [
             0.6666666666666666,
             "#ed7953"
            ],
            [
             0.7777777777777778,
             "#fb9f3a"
            ],
            [
             0.8888888888888888,
             "#fdca26"
            ],
            [
             1,
             "#f0f921"
            ]
           ],
           "sequentialminus": [
            [
             0,
             "#0d0887"
            ],
            [
             0.1111111111111111,
             "#46039f"
            ],
            [
             0.2222222222222222,
             "#7201a8"
            ],
            [
             0.3333333333333333,
             "#9c179e"
            ],
            [
             0.4444444444444444,
             "#bd3786"
            ],
            [
             0.5555555555555556,
             "#d8576b"
            ],
            [
             0.6666666666666666,
             "#ed7953"
            ],
            [
             0.7777777777777778,
             "#fb9f3a"
            ],
            [
             0.8888888888888888,
             "#fdca26"
            ],
            [
             1,
             "#f0f921"
            ]
           ]
          },
          "colorway": [
           "#636efa",
           "#EF553B",
           "#00cc96",
           "#ab63fa",
           "#FFA15A",
           "#19d3f3",
           "#FF6692",
           "#B6E880",
           "#FF97FF",
           "#FECB52"
          ],
          "font": {
           "color": "#2a3f5f"
          },
          "geo": {
           "bgcolor": "white",
           "lakecolor": "white",
           "landcolor": "#E5ECF6",
           "showlakes": true,
           "showland": true,
           "subunitcolor": "white"
          },
          "hoverlabel": {
           "align": "left"
          },
          "hovermode": "closest",
          "mapbox": {
           "style": "light"
          },
          "paper_bgcolor": "white",
          "plot_bgcolor": "#E5ECF6",
          "polar": {
           "angularaxis": {
            "gridcolor": "white",
            "linecolor": "white",
            "ticks": ""
           },
           "bgcolor": "#E5ECF6",
           "radialaxis": {
            "gridcolor": "white",
            "linecolor": "white",
            "ticks": ""
           }
          },
          "scene": {
           "xaxis": {
            "backgroundcolor": "#E5ECF6",
            "gridcolor": "white",
            "gridwidth": 2,
            "linecolor": "white",
            "showbackground": true,
            "ticks": "",
            "zerolinecolor": "white"
           },
           "yaxis": {
            "backgroundcolor": "#E5ECF6",
            "gridcolor": "white",
            "gridwidth": 2,
            "linecolor": "white",
            "showbackground": true,
            "ticks": "",
            "zerolinecolor": "white"
           },
           "zaxis": {
            "backgroundcolor": "#E5ECF6",
            "gridcolor": "white",
            "gridwidth": 2,
            "linecolor": "white",
            "showbackground": true,
            "ticks": "",
            "zerolinecolor": "white"
           }
          },
          "shapedefaults": {
           "line": {
            "color": "#2a3f5f"
           }
          },
          "ternary": {
           "aaxis": {
            "gridcolor": "white",
            "linecolor": "white",
            "ticks": ""
           },
           "baxis": {
            "gridcolor": "white",
            "linecolor": "white",
            "ticks": ""
           },
           "bgcolor": "#E5ECF6",
           "caxis": {
            "gridcolor": "white",
            "linecolor": "white",
            "ticks": ""
           }
          },
          "title": {
           "x": 0.05
          },
          "xaxis": {
           "automargin": true,
           "gridcolor": "white",
           "linecolor": "white",
           "ticks": "",
           "title": {
            "standoff": 15
           },
           "zerolinecolor": "white",
           "zerolinewidth": 2
          },
          "yaxis": {
           "automargin": true,
           "gridcolor": "white",
           "linecolor": "white",
           "ticks": "",
           "title": {
            "standoff": 15
           },
           "zerolinecolor": "white",
           "zerolinewidth": 2
          }
         }
        },
        "width": 800,
        "xaxis": {
         "range": [
          -142.5,
          542.5
         ],
         "zeroline": false
        },
        "yaxis": {
         "range": [
          -142.5,
          542.5
         ]
        }
       }
      },
      "text/html": [
       "<div>\n",
       "        \n",
       "        \n",
       "            <div id=\"83c110cb-e1b3-44f4-ae37-d2fb7e5efddd\" class=\"plotly-graph-div\" style=\"height:600px; width:800px;\"></div>\n",
       "            <script type=\"text/javascript\">\n",
       "                require([\"plotly\"], function(Plotly) {\n",
       "                    window.PLOTLYENV=window.PLOTLYENV || {};\n",
       "                    \n",
       "                if (document.getElementById(\"83c110cb-e1b3-44f4-ae37-d2fb7e5efddd\")) {\n",
       "                    Plotly.newPlot(\n",
       "                        '83c110cb-e1b3-44f4-ae37-d2fb7e5efddd',\n",
       "                        [{\"mode\": \"text\", \"showlegend\": false, \"text\": [\"8.3%\"], \"type\": \"scatter\", \"x\": [1.5308084989341915e-15], \"y\": [200.0]}, {\"mode\": \"text\", \"showlegend\": false, \"text\": [\"0.0%\"], \"type\": \"scatter\", \"x\": [100.0], \"y\": [200.0]}, {\"mode\": \"text\", \"showlegend\": false, \"text\": [\"0.0%\"], \"type\": \"scatter\", \"x\": [200.0], \"y\": [199.99999999999997]}, {\"mode\": \"text\", \"showlegend\": false, \"text\": [\"0.0%\"], \"type\": \"scatter\", \"x\": [200.0], \"y\": [-1.5308084989341915e-15]}, {\"mode\": \"text\", \"showlegend\": false, \"text\": [\"8.2%\"], \"type\": \"scatter\", \"x\": [100.0], \"y\": [400.0]}, {\"mode\": \"text\", \"showlegend\": false, \"text\": [\"8.4%\"], \"type\": \"scatter\", \"x\": [300.0], \"y\": [410.5654565435175]}, {\"mode\": \"text\", \"showlegend\": false, \"text\": [\"8.4%\"], \"type\": \"scatter\", \"x\": [300.0], \"y\": [389.4345434564825]}, {\"mode\": \"text\", \"showlegend\": false, \"text\": [\"0.0%\"], \"type\": \"scatter\", \"x\": [400.0], \"y\": [200.0]}, {\"mode\": \"text\", \"showlegend\": false, \"text\": [\"- 10 MW\"], \"type\": \"scatter\", \"x\": [-70.0], \"y\": [8.572527594031473e-15]}, {\"mode\": \"text\", \"showlegend\": false, \"text\": [\"- 9 MW\"], \"type\": \"scatter\", \"x\": [470.0], \"y\": [400.0]}, {\"mode\": \"text\", \"showlegend\": false, \"text\": [\"- 8 MW\"], \"type\": \"scatter\", \"x\": [470.0], \"y\": [0.0]}, {\"mode\": \"text\", \"showlegend\": false, \"text\": [\"+ 1 MW\"], \"type\": \"scatter\", \"x\": [-35.000000000000036], \"y\": [-60.62177826491068]}, {\"mode\": \"text\", \"showlegend\": false, \"text\": [\"+ 18 MW\"], \"type\": \"scatter\", \"x\": [-35.000000000000014], \"y\": [460.6217782649107]}],\n",
       "                        {\"height\": 600, \"margin\": {\"b\": 100, \"l\": 20, \"r\": 20}, \"plot_bgcolor\": \"white\", \"shapes\": [{\"fillcolor\": \"lightgray\", \"line\": {\"color\": \"LightSeaGreen\"}, \"type\": \"circle\", \"x0\": -25.0, \"x1\": 25.0, \"xref\": \"x\", \"y0\": -25.0, \"y1\": 25.0, \"yref\": \"y\"}, {\"fillcolor\": \"lightgray\", \"line\": {\"color\": \"LightSeaGreen\"}, \"type\": \"circle\", \"x0\": -25.0, \"x1\": 25.0, \"xref\": \"x\", \"y0\": 375.0, \"y1\": 425.0, \"yref\": \"y\"}, {\"fillcolor\": \"lightgray\", \"line\": {\"color\": \"LightSeaGreen\"}, \"type\": \"circle\", \"x0\": 175.0, \"x1\": 225.0, \"xref\": \"x\", \"y0\": 375.0, \"y1\": 425.0, \"yref\": \"y\"}, {\"fillcolor\": \"lightgray\", \"line\": {\"color\": \"LightSeaGreen\"}, \"type\": \"circle\", \"x0\": 375.0, \"x1\": 425.0, \"xref\": \"x\", \"y0\": 375.0, \"y1\": 425.0, \"yref\": \"y\"}, {\"fillcolor\": \"lightgray\", \"line\": {\"color\": \"LightSeaGreen\"}, \"type\": \"circle\", \"x0\": 375.0, \"x1\": 425.0, \"xref\": \"x\", \"y0\": -25.0, \"y1\": 25.0, \"yref\": \"y\"}, {\"line\": {\"color\": \"#efc5c5\"}, \"type\": \"line\", \"x0\": 1.5308084989341915e-15, \"x1\": 1.5308084989341915e-15, \"xref\": \"x\", \"y0\": 25.0, \"y1\": 375.0, \"yref\": \"y\"}, {\"line\": {\"color\": \"gray\", \"dash\": \"dash\"}, \"type\": \"line\", \"x0\": 11.18033988749895, \"x1\": 188.81966011250105, \"xref\": \"x\", \"y0\": 22.360679774997898, \"y1\": 377.6393202250021, \"yref\": \"y\"}, {\"line\": {\"color\": \"gray\", \"dash\": \"dash\"}, \"type\": \"line\", \"x0\": 17.67766952966369, \"x1\": 382.32233047033634, \"xref\": \"x\", \"y0\": 17.677669529663685, \"y1\": 382.3223304703363, \"yref\": \"y\"}, {\"line\": {\"color\": \"gray\", \"dash\": \"dash\"}, \"type\": \"line\", \"x0\": 25.0, \"x1\": 375.0, \"xref\": \"x\", \"y0\": 0.0, \"y1\": -3.061616997868383e-15, \"yref\": \"y\"}, {\"line\": {\"color\": \"#efc5c5\"}, \"type\": \"line\", \"x0\": 25.0, \"x1\": 175.0, \"xref\": \"x\", \"y0\": 400.0, \"y1\": 400.0, \"yref\": \"y\"}, {\"line\": {\"color\": \"#efc5c5\"}, \"type\": \"line\", \"x0\": 222.65769467591625, \"x1\": 377.3423053240837, \"xref\": \"x\", \"y0\": 410.5654565435175, \"y1\": 410.5654565435175, \"yref\": \"y\"}, {\"line\": {\"color\": \"#efc5c5\"}, \"type\": \"line\", \"x0\": 222.65769467591625, \"x1\": 377.3423053240838, \"xref\": \"x\", \"y0\": 389.4345434564825, \"y1\": 389.4345434564825, \"yref\": \"y\"}, {\"line\": {\"color\": \"gray\", \"dash\": \"dash\"}, \"type\": \"line\", \"x0\": 400.0, \"x1\": 400.0, \"xref\": \"x\", \"y0\": 375.0, \"y1\": 25.0, \"yref\": \"y\"}, {\"type\": \"line\", \"x0\": -50.0, \"x1\": -25.0, \"xref\": \"x\", \"y0\": 6.123233995736767e-15, \"y1\": 3.061616997868383e-15, \"yref\": \"y\"}, {\"type\": \"line\", \"x0\": 450.0, \"x1\": 425.0, \"xref\": \"x\", \"y0\": 400.0, \"y1\": 400.0, \"yref\": \"y\"}, {\"type\": \"line\", \"x0\": 450.0, \"x1\": 425.0, \"xref\": \"x\", \"y0\": 0.0, \"y1\": 0.0, \"yref\": \"y\"}, {\"type\": \"line\", \"x0\": -25.000000000000025, \"x1\": -12.50000000000001, \"xref\": \"x\", \"y0\": -43.30127018922192, \"y1\": -21.65063509461096, \"yref\": \"y\"}, {\"type\": \"line\", \"x0\": -25.00000000000001, \"x1\": -12.499999999999995, \"xref\": \"x\", \"y0\": 443.3012701892219, \"y1\": 421.65063509461095, \"yref\": \"y\"}], \"template\": {\"data\": {\"bar\": [{\"error_x\": {\"color\": \"#2a3f5f\"}, \"error_y\": {\"color\": \"#2a3f5f\"}, \"marker\": {\"line\": {\"color\": \"#E5ECF6\", \"width\": 0.5}}, \"type\": \"bar\"}], \"barpolar\": [{\"marker\": {\"line\": {\"color\": \"#E5ECF6\", \"width\": 0.5}}, \"type\": \"barpolar\"}], \"carpet\": [{\"aaxis\": {\"endlinecolor\": \"#2a3f5f\", \"gridcolor\": \"white\", \"linecolor\": \"white\", \"minorgridcolor\": \"white\", \"startlinecolor\": \"#2a3f5f\"}, \"baxis\": {\"endlinecolor\": \"#2a3f5f\", \"gridcolor\": \"white\", \"linecolor\": \"white\", \"minorgridcolor\": \"white\", \"startlinecolor\": \"#2a3f5f\"}, \"type\": \"carpet\"}], \"choropleth\": [{\"colorbar\": {\"outlinewidth\": 0, \"ticks\": \"\"}, \"type\": \"choropleth\"}], \"contour\": [{\"colorbar\": {\"outlinewidth\": 0, \"ticks\": \"\"}, \"colorscale\": [[0.0, \"#0d0887\"], [0.1111111111111111, \"#46039f\"], [0.2222222222222222, \"#7201a8\"], [0.3333333333333333, \"#9c179e\"], [0.4444444444444444, \"#bd3786\"], [0.5555555555555556, \"#d8576b\"], [0.6666666666666666, \"#ed7953\"], [0.7777777777777778, \"#fb9f3a\"], [0.8888888888888888, \"#fdca26\"], [1.0, \"#f0f921\"]], \"type\": \"contour\"}], \"contourcarpet\": [{\"colorbar\": {\"outlinewidth\": 0, \"ticks\": \"\"}, \"type\": \"contourcarpet\"}], \"heatmap\": [{\"colorbar\": {\"outlinewidth\": 0, \"ticks\": \"\"}, \"colorscale\": [[0.0, \"#0d0887\"], [0.1111111111111111, \"#46039f\"], [0.2222222222222222, \"#7201a8\"], [0.3333333333333333, \"#9c179e\"], [0.4444444444444444, \"#bd3786\"], [0.5555555555555556, \"#d8576b\"], [0.6666666666666666, \"#ed7953\"], [0.7777777777777778, \"#fb9f3a\"], [0.8888888888888888, \"#fdca26\"], [1.0, \"#f0f921\"]], \"type\": \"heatmap\"}], \"heatmapgl\": [{\"colorbar\": {\"outlinewidth\": 0, \"ticks\": \"\"}, \"colorscale\": [[0.0, \"#0d0887\"], [0.1111111111111111, \"#46039f\"], [0.2222222222222222, \"#7201a8\"], [0.3333333333333333, \"#9c179e\"], [0.4444444444444444, \"#bd3786\"], [0.5555555555555556, \"#d8576b\"], [0.6666666666666666, \"#ed7953\"], [0.7777777777777778, \"#fb9f3a\"], [0.8888888888888888, \"#fdca26\"], [1.0, \"#f0f921\"]], \"type\": \"heatmapgl\"}], \"histogram\": [{\"marker\": {\"colorbar\": {\"outlinewidth\": 0, \"ticks\": \"\"}}, \"type\": \"histogram\"}], \"histogram2d\": [{\"colorbar\": {\"outlinewidth\": 0, \"ticks\": \"\"}, \"colorscale\": [[0.0, \"#0d0887\"], [0.1111111111111111, \"#46039f\"], [0.2222222222222222, \"#7201a8\"], [0.3333333333333333, \"#9c179e\"], [0.4444444444444444, \"#bd3786\"], [0.5555555555555556, \"#d8576b\"], [0.6666666666666666, \"#ed7953\"], [0.7777777777777778, \"#fb9f3a\"], [0.8888888888888888, \"#fdca26\"], [1.0, \"#f0f921\"]], \"type\": \"histogram2d\"}], \"histogram2dcontour\": [{\"colorbar\": {\"outlinewidth\": 0, \"ticks\": \"\"}, \"colorscale\": [[0.0, \"#0d0887\"], [0.1111111111111111, \"#46039f\"], [0.2222222222222222, \"#7201a8\"], [0.3333333333333333, \"#9c179e\"], [0.4444444444444444, \"#bd3786\"], [0.5555555555555556, \"#d8576b\"], [0.6666666666666666, \"#ed7953\"], [0.7777777777777778, \"#fb9f3a\"], [0.8888888888888888, \"#fdca26\"], [1.0, \"#f0f921\"]], \"type\": \"histogram2dcontour\"}], \"mesh3d\": [{\"colorbar\": {\"outlinewidth\": 0, \"ticks\": \"\"}, \"type\": \"mesh3d\"}], \"parcoords\": [{\"line\": {\"colorbar\": {\"outlinewidth\": 0, \"ticks\": \"\"}}, \"type\": \"parcoords\"}], \"pie\": [{\"automargin\": true, \"type\": \"pie\"}], \"scatter\": [{\"marker\": {\"colorbar\": {\"outlinewidth\": 0, \"ticks\": \"\"}}, \"type\": \"scatter\"}], \"scatter3d\": [{\"line\": {\"colorbar\": {\"outlinewidth\": 0, \"ticks\": \"\"}}, \"marker\": {\"colorbar\": {\"outlinewidth\": 0, \"ticks\": \"\"}}, \"type\": \"scatter3d\"}], \"scattercarpet\": [{\"marker\": {\"colorbar\": {\"outlinewidth\": 0, \"ticks\": \"\"}}, \"type\": \"scattercarpet\"}], \"scattergeo\": [{\"marker\": {\"colorbar\": {\"outlinewidth\": 0, \"ticks\": \"\"}}, \"type\": \"scattergeo\"}], \"scattergl\": [{\"marker\": {\"colorbar\": {\"outlinewidth\": 0, \"ticks\": \"\"}}, \"type\": \"scattergl\"}], \"scattermapbox\": [{\"marker\": {\"colorbar\": {\"outlinewidth\": 0, \"ticks\": \"\"}}, \"type\": \"scattermapbox\"}], \"scatterpolar\": [{\"marker\": {\"colorbar\": {\"outlinewidth\": 0, \"ticks\": \"\"}}, \"type\": \"scatterpolar\"}], \"scatterpolargl\": [{\"marker\": {\"colorbar\": {\"outlinewidth\": 0, \"ticks\": \"\"}}, \"type\": \"scatterpolargl\"}], \"scatterternary\": [{\"marker\": {\"colorbar\": {\"outlinewidth\": 0, \"ticks\": \"\"}}, \"type\": \"scatterternary\"}], \"surface\": [{\"colorbar\": {\"outlinewidth\": 0, \"ticks\": \"\"}, \"colorscale\": [[0.0, \"#0d0887\"], [0.1111111111111111, \"#46039f\"], [0.2222222222222222, \"#7201a8\"], [0.3333333333333333, \"#9c179e\"], [0.4444444444444444, \"#bd3786\"], [0.5555555555555556, \"#d8576b\"], [0.6666666666666666, \"#ed7953\"], [0.7777777777777778, \"#fb9f3a\"], [0.8888888888888888, \"#fdca26\"], [1.0, \"#f0f921\"]], \"type\": \"surface\"}], \"table\": [{\"cells\": {\"fill\": {\"color\": \"#EBF0F8\"}, \"line\": {\"color\": \"white\"}}, \"header\": {\"fill\": {\"color\": \"#C8D4E3\"}, \"line\": {\"color\": \"white\"}}, \"type\": \"table\"}]}, \"layout\": {\"annotationdefaults\": {\"arrowcolor\": \"#2a3f5f\", \"arrowhead\": 0, \"arrowwidth\": 1}, \"coloraxis\": {\"colorbar\": {\"outlinewidth\": 0, \"ticks\": \"\"}}, \"colorscale\": {\"diverging\": [[0, \"#8e0152\"], [0.1, \"#c51b7d\"], [0.2, \"#de77ae\"], [0.3, \"#f1b6da\"], [0.4, \"#fde0ef\"], [0.5, \"#f7f7f7\"], [0.6, \"#e6f5d0\"], [0.7, \"#b8e186\"], [0.8, \"#7fbc41\"], [0.9, \"#4d9221\"], [1, \"#276419\"]], \"sequential\": [[0.0, \"#0d0887\"], [0.1111111111111111, \"#46039f\"], [0.2222222222222222, \"#7201a8\"], [0.3333333333333333, \"#9c179e\"], [0.4444444444444444, \"#bd3786\"], [0.5555555555555556, \"#d8576b\"], [0.6666666666666666, \"#ed7953\"], [0.7777777777777778, \"#fb9f3a\"], [0.8888888888888888, \"#fdca26\"], [1.0, \"#f0f921\"]], \"sequentialminus\": [[0.0, \"#0d0887\"], [0.1111111111111111, \"#46039f\"], [0.2222222222222222, \"#7201a8\"], [0.3333333333333333, \"#9c179e\"], [0.4444444444444444, \"#bd3786\"], [0.5555555555555556, \"#d8576b\"], [0.6666666666666666, \"#ed7953\"], [0.7777777777777778, \"#fb9f3a\"], [0.8888888888888888, \"#fdca26\"], [1.0, \"#f0f921\"]]}, \"colorway\": [\"#636efa\", \"#EF553B\", \"#00cc96\", \"#ab63fa\", \"#FFA15A\", \"#19d3f3\", \"#FF6692\", \"#B6E880\", \"#FF97FF\", \"#FECB52\"], \"font\": {\"color\": \"#2a3f5f\"}, \"geo\": {\"bgcolor\": \"white\", \"lakecolor\": \"white\", \"landcolor\": \"#E5ECF6\", \"showlakes\": true, \"showland\": true, \"subunitcolor\": \"white\"}, \"hoverlabel\": {\"align\": \"left\"}, \"hovermode\": \"closest\", \"mapbox\": {\"style\": \"light\"}, \"paper_bgcolor\": \"white\", \"plot_bgcolor\": \"#E5ECF6\", \"polar\": {\"angularaxis\": {\"gridcolor\": \"white\", \"linecolor\": \"white\", \"ticks\": \"\"}, \"bgcolor\": \"#E5ECF6\", \"radialaxis\": {\"gridcolor\": \"white\", \"linecolor\": \"white\", \"ticks\": \"\"}}, \"scene\": {\"xaxis\": {\"backgroundcolor\": \"#E5ECF6\", \"gridcolor\": \"white\", \"gridwidth\": 2, \"linecolor\": \"white\", \"showbackground\": true, \"ticks\": \"\", \"zerolinecolor\": \"white\"}, \"yaxis\": {\"backgroundcolor\": \"#E5ECF6\", \"gridcolor\": \"white\", \"gridwidth\": 2, \"linecolor\": \"white\", \"showbackground\": true, \"ticks\": \"\", \"zerolinecolor\": \"white\"}, \"zaxis\": {\"backgroundcolor\": \"#E5ECF6\", \"gridcolor\": \"white\", \"gridwidth\": 2, \"linecolor\": \"white\", \"showbackground\": true, \"ticks\": \"\", \"zerolinecolor\": \"white\"}}, \"shapedefaults\": {\"line\": {\"color\": \"#2a3f5f\"}}, \"ternary\": {\"aaxis\": {\"gridcolor\": \"white\", \"linecolor\": \"white\", \"ticks\": \"\"}, \"baxis\": {\"gridcolor\": \"white\", \"linecolor\": \"white\", \"ticks\": \"\"}, \"bgcolor\": \"#E5ECF6\", \"caxis\": {\"gridcolor\": \"white\", \"linecolor\": \"white\", \"ticks\": \"\"}}, \"title\": {\"x\": 0.05}, \"xaxis\": {\"automargin\": true, \"gridcolor\": \"white\", \"linecolor\": \"white\", \"ticks\": \"\", \"title\": {\"standoff\": 15}, \"zerolinecolor\": \"white\", \"zerolinewidth\": 2}, \"yaxis\": {\"automargin\": true, \"gridcolor\": \"white\", \"linecolor\": \"white\", \"ticks\": \"\", \"title\": {\"standoff\": 15}, \"zerolinecolor\": \"white\", \"zerolinewidth\": 2}}}, \"width\": 800, \"xaxis\": {\"range\": [-142.5, 542.5], \"zeroline\": false}, \"yaxis\": {\"range\": [-142.5, 542.5]}},\n",
       "                        {\"responsive\": true}\n",
       "                    ).then(function(){\n",
       "                            \n",
       "var gd = document.getElementById('83c110cb-e1b3-44f4-ae37-d2fb7e5efddd');\n",
       "var x = new MutationObserver(function (mutations, observer) {{\n",
       "        var display = window.getComputedStyle(gd).display;\n",
       "        if (!display || display === 'none') {{\n",
       "            console.log([gd, 'removed!']);\n",
       "            Plotly.purge(gd);\n",
       "            observer.disconnect();\n",
       "        }}\n",
       "}});\n",
       "\n",
       "// Listen for the removal of the full notebook cells\n",
       "var notebookContainer = gd.closest('#notebook-container');\n",
       "if (notebookContainer) {{\n",
       "    x.observe(notebookContainer, {childList: true});\n",
       "}}\n",
       "\n",
       "// Listen for the clearing of the current output cell\n",
       "var outputEl = gd.closest('.output');\n",
       "if (outputEl) {{\n",
       "    x.observe(outputEl, {childList: true});\n",
       "}}\n",
       "\n",
       "                        })\n",
       "                };\n",
       "                });\n",
       "            </script>\n",
       "        </div>"
      ]
     },
     "metadata": {},
     "output_type": "display_data"
    }
   ],
   "source": [
    "last_obs = all_obs[-1]\n",
    "fig = plot_helper.plot_observation(last_obs)\n",
    "fig.show()"
   ]
  },
  {
   "cell_type": "markdown",
   "metadata": {},
   "source": [
    "As we can see, the last obsevation is pretty clear: 4 powerlines have been disconnected, thus isolating the load on the bottom right. This lead to a game over. \n",
    "\n",
    "It's also possible, of course, to inspect the previous state, just before this one:"
   ]
  },
  {
   "cell_type": "code",
   "execution_count": 11,
   "metadata": {},
   "outputs": [
    {
     "data": {
      "application/vnd.plotly.v1+json": {
       "config": {
        "plotlyServerURL": "https://plot.ly"
       },
       "data": [
        {
         "mode": "text",
         "showlegend": false,
         "text": [
          "100.0%"
         ],
         "type": "scatter",
         "x": [
          1.5308084989341915e-15
         ],
         "y": [
          200
         ]
        },
        {
         "mode": "text",
         "showlegend": false,
         "text": [
          "0.0%"
         ],
         "type": "scatter",
         "x": [
          100
         ],
         "y": [
          200
         ]
        },
        {
         "mode": "text",
         "showlegend": false,
         "text": [
          "0.0%"
         ],
         "type": "scatter",
         "x": [
          200
         ],
         "y": [
          199.99999999999997
         ]
        },
        {
         "mode": "text",
         "showlegend": false,
         "text": [
          "141.5%"
         ],
         "type": "scatter",
         "x": [
          200
         ],
         "y": [
          -1.5308084989341915e-15
         ]
        },
        {
         "mode": "text",
         "showlegend": false,
         "text": [
          "38.0%"
         ],
         "type": "scatter",
         "x": [
          100
         ],
         "y": [
          400
         ]
        },
        {
         "mode": "text",
         "showlegend": false,
         "text": [
          "36.8%"
         ],
         "type": "scatter",
         "x": [
          300
         ],
         "y": [
          410.5654565435175
         ]
        },
        {
         "mode": "text",
         "showlegend": false,
         "text": [
          "36.8%"
         ],
         "type": "scatter",
         "x": [
          300
         ],
         "y": [
          389.4345434564825
         ]
        },
        {
         "mode": "text",
         "showlegend": false,
         "text": [
          "141.0%"
         ],
         "type": "scatter",
         "x": [
          400
         ],
         "y": [
          200
         ]
        },
        {
         "mode": "text",
         "showlegend": false,
         "text": [
          "- 10 MW"
         ],
         "type": "scatter",
         "x": [
          -70
         ],
         "y": [
          8.572527594031473e-15
         ]
        },
        {
         "mode": "text",
         "showlegend": false,
         "text": [
          "- 9 MW"
         ],
         "type": "scatter",
         "x": [
          470
         ],
         "y": [
          400
         ]
        },
        {
         "mode": "text",
         "showlegend": false,
         "text": [
          "- 8 MW"
         ],
         "type": "scatter",
         "x": [
          470
         ],
         "y": [
          0
         ]
        },
        {
         "mode": "text",
         "showlegend": false,
         "text": [
          "+ 1 MW"
         ],
         "type": "scatter",
         "x": [
          -35.000000000000036
         ],
         "y": [
          -60.62177826491068
         ]
        },
        {
         "mode": "text",
         "showlegend": false,
         "text": [
          "+ 30 MW"
         ],
         "type": "scatter",
         "x": [
          -35.000000000000014
         ],
         "y": [
          460.6217782649107
         ]
        }
       ],
       "layout": {
        "height": 600,
        "margin": {
         "b": 100,
         "l": 20,
         "r": 20
        },
        "plot_bgcolor": "white",
        "shapes": [
         {
          "fillcolor": "lightgray",
          "line": {
           "color": "LightSeaGreen"
          },
          "type": "circle",
          "x0": -25,
          "x1": 25,
          "xref": "x",
          "y0": -25,
          "y1": 25,
          "yref": "y"
         },
         {
          "fillcolor": "lightgray",
          "line": {
           "color": "LightSeaGreen"
          },
          "type": "circle",
          "x0": -25,
          "x1": 25,
          "xref": "x",
          "y0": 375,
          "y1": 425,
          "yref": "y"
         },
         {
          "fillcolor": "lightgray",
          "line": {
           "color": "LightSeaGreen"
          },
          "type": "circle",
          "x0": 175,
          "x1": 225,
          "xref": "x",
          "y0": 375,
          "y1": 425,
          "yref": "y"
         },
         {
          "fillcolor": "lightgray",
          "line": {
           "color": "LightSeaGreen"
          },
          "type": "circle",
          "x0": 375,
          "x1": 425,
          "xref": "x",
          "y0": 375,
          "y1": 425,
          "yref": "y"
         },
         {
          "fillcolor": "lightgray",
          "line": {
           "color": "LightSeaGreen"
          },
          "type": "circle",
          "x0": 375,
          "x1": 425,
          "xref": "x",
          "y0": -25,
          "y1": 25,
          "yref": "y"
         },
         {
          "line": {
           "color": "#9b2020"
          },
          "type": "line",
          "x0": 1.5308084989341915e-15,
          "x1": 1.5308084989341915e-15,
          "xref": "x",
          "y0": 25,
          "y1": 375,
          "yref": "y"
         },
         {
          "line": {
           "color": "gray",
           "dash": "dash"
          },
          "type": "line",
          "x0": 11.18033988749895,
          "x1": 188.81966011250105,
          "xref": "x",
          "y0": 22.360679774997898,
          "y1": 377.6393202250021,
          "yref": "y"
         },
         {
          "line": {
           "color": "gray",
           "dash": "dash"
          },
          "type": "line",
          "x0": 17.67766952966369,
          "x1": 382.32233047033634,
          "xref": "x",
          "y0": 17.677669529663685,
          "y1": 382.3223304703363,
          "yref": "y"
         },
         {
          "line": {
           "color": "#8b0000"
          },
          "type": "line",
          "x0": 25,
          "x1": 375,
          "xref": "x",
          "y0": 0,
          "y1": -3.061616997868383e-15,
          "yref": "y"
         },
         {
          "line": {
           "color": "#efc5c5"
          },
          "type": "line",
          "x0": 25,
          "x1": 175,
          "xref": "x",
          "y0": 400,
          "y1": 400,
          "yref": "y"
         },
         {
          "line": {
           "color": "#efc5c5"
          },
          "type": "line",
          "x0": 222.65769467591625,
          "x1": 377.3423053240837,
          "xref": "x",
          "y0": 410.5654565435175,
          "y1": 410.5654565435175,
          "yref": "y"
         },
         {
          "line": {
           "color": "#efc5c5"
          },
          "type": "line",
          "x0": 222.65769467591625,
          "x1": 377.3423053240838,
          "xref": "x",
          "y0": 389.4345434564825,
          "y1": 389.4345434564825,
          "yref": "y"
         },
         {
          "line": {
           "color": "#8b0000"
          },
          "type": "line",
          "x0": 400,
          "x1": 400,
          "xref": "x",
          "y0": 375,
          "y1": 25,
          "yref": "y"
         },
         {
          "type": "line",
          "x0": -50,
          "x1": -25,
          "xref": "x",
          "y0": 6.123233995736767e-15,
          "y1": 3.061616997868383e-15,
          "yref": "y"
         },
         {
          "type": "line",
          "x0": 450,
          "x1": 425,
          "xref": "x",
          "y0": 400,
          "y1": 400,
          "yref": "y"
         },
         {
          "type": "line",
          "x0": 450,
          "x1": 425,
          "xref": "x",
          "y0": 0,
          "y1": 0,
          "yref": "y"
         },
         {
          "type": "line",
          "x0": -25.000000000000025,
          "x1": -12.50000000000001,
          "xref": "x",
          "y0": -43.30127018922192,
          "y1": -21.65063509461096,
          "yref": "y"
         },
         {
          "type": "line",
          "x0": -25.00000000000001,
          "x1": -12.499999999999995,
          "xref": "x",
          "y0": 443.3012701892219,
          "y1": 421.65063509461095,
          "yref": "y"
         }
        ],
        "template": {
         "data": {
          "bar": [
           {
            "error_x": {
             "color": "#2a3f5f"
            },
            "error_y": {
             "color": "#2a3f5f"
            },
            "marker": {
             "line": {
              "color": "#E5ECF6",
              "width": 0.5
             }
            },
            "type": "bar"
           }
          ],
          "barpolar": [
           {
            "marker": {
             "line": {
              "color": "#E5ECF6",
              "width": 0.5
             }
            },
            "type": "barpolar"
           }
          ],
          "carpet": [
           {
            "aaxis": {
             "endlinecolor": "#2a3f5f",
             "gridcolor": "white",
             "linecolor": "white",
             "minorgridcolor": "white",
             "startlinecolor": "#2a3f5f"
            },
            "baxis": {
             "endlinecolor": "#2a3f5f",
             "gridcolor": "white",
             "linecolor": "white",
             "minorgridcolor": "white",
             "startlinecolor": "#2a3f5f"
            },
            "type": "carpet"
           }
          ],
          "choropleth": [
           {
            "colorbar": {
             "outlinewidth": 0,
             "ticks": ""
            },
            "type": "choropleth"
           }
          ],
          "contour": [
           {
            "colorbar": {
             "outlinewidth": 0,
             "ticks": ""
            },
            "colorscale": [
             [
              0,
              "#0d0887"
             ],
             [
              0.1111111111111111,
              "#46039f"
             ],
             [
              0.2222222222222222,
              "#7201a8"
             ],
             [
              0.3333333333333333,
              "#9c179e"
             ],
             [
              0.4444444444444444,
              "#bd3786"
             ],
             [
              0.5555555555555556,
              "#d8576b"
             ],
             [
              0.6666666666666666,
              "#ed7953"
             ],
             [
              0.7777777777777778,
              "#fb9f3a"
             ],
             [
              0.8888888888888888,
              "#fdca26"
             ],
             [
              1,
              "#f0f921"
             ]
            ],
            "type": "contour"
           }
          ],
          "contourcarpet": [
           {
            "colorbar": {
             "outlinewidth": 0,
             "ticks": ""
            },
            "type": "contourcarpet"
           }
          ],
          "heatmap": [
           {
            "colorbar": {
             "outlinewidth": 0,
             "ticks": ""
            },
            "colorscale": [
             [
              0,
              "#0d0887"
             ],
             [
              0.1111111111111111,
              "#46039f"
             ],
             [
              0.2222222222222222,
              "#7201a8"
             ],
             [
              0.3333333333333333,
              "#9c179e"
             ],
             [
              0.4444444444444444,
              "#bd3786"
             ],
             [
              0.5555555555555556,
              "#d8576b"
             ],
             [
              0.6666666666666666,
              "#ed7953"
             ],
             [
              0.7777777777777778,
              "#fb9f3a"
             ],
             [
              0.8888888888888888,
              "#fdca26"
             ],
             [
              1,
              "#f0f921"
             ]
            ],
            "type": "heatmap"
           }
          ],
          "heatmapgl": [
           {
            "colorbar": {
             "outlinewidth": 0,
             "ticks": ""
            },
            "colorscale": [
             [
              0,
              "#0d0887"
             ],
             [
              0.1111111111111111,
              "#46039f"
             ],
             [
              0.2222222222222222,
              "#7201a8"
             ],
             [
              0.3333333333333333,
              "#9c179e"
             ],
             [
              0.4444444444444444,
              "#bd3786"
             ],
             [
              0.5555555555555556,
              "#d8576b"
             ],
             [
              0.6666666666666666,
              "#ed7953"
             ],
             [
              0.7777777777777778,
              "#fb9f3a"
             ],
             [
              0.8888888888888888,
              "#fdca26"
             ],
             [
              1,
              "#f0f921"
             ]
            ],
            "type": "heatmapgl"
           }
          ],
          "histogram": [
           {
            "marker": {
             "colorbar": {
              "outlinewidth": 0,
              "ticks": ""
             }
            },
            "type": "histogram"
           }
          ],
          "histogram2d": [
           {
            "colorbar": {
             "outlinewidth": 0,
             "ticks": ""
            },
            "colorscale": [
             [
              0,
              "#0d0887"
             ],
             [
              0.1111111111111111,
              "#46039f"
             ],
             [
              0.2222222222222222,
              "#7201a8"
             ],
             [
              0.3333333333333333,
              "#9c179e"
             ],
             [
              0.4444444444444444,
              "#bd3786"
             ],
             [
              0.5555555555555556,
              "#d8576b"
             ],
             [
              0.6666666666666666,
              "#ed7953"
             ],
             [
              0.7777777777777778,
              "#fb9f3a"
             ],
             [
              0.8888888888888888,
              "#fdca26"
             ],
             [
              1,
              "#f0f921"
             ]
            ],
            "type": "histogram2d"
           }
          ],
          "histogram2dcontour": [
           {
            "colorbar": {
             "outlinewidth": 0,
             "ticks": ""
            },
            "colorscale": [
             [
              0,
              "#0d0887"
             ],
             [
              0.1111111111111111,
              "#46039f"
             ],
             [
              0.2222222222222222,
              "#7201a8"
             ],
             [
              0.3333333333333333,
              "#9c179e"
             ],
             [
              0.4444444444444444,
              "#bd3786"
             ],
             [
              0.5555555555555556,
              "#d8576b"
             ],
             [
              0.6666666666666666,
              "#ed7953"
             ],
             [
              0.7777777777777778,
              "#fb9f3a"
             ],
             [
              0.8888888888888888,
              "#fdca26"
             ],
             [
              1,
              "#f0f921"
             ]
            ],
            "type": "histogram2dcontour"
           }
          ],
          "mesh3d": [
           {
            "colorbar": {
             "outlinewidth": 0,
             "ticks": ""
            },
            "type": "mesh3d"
           }
          ],
          "parcoords": [
           {
            "line": {
             "colorbar": {
              "outlinewidth": 0,
              "ticks": ""
             }
            },
            "type": "parcoords"
           }
          ],
          "pie": [
           {
            "automargin": true,
            "type": "pie"
           }
          ],
          "scatter": [
           {
            "marker": {
             "colorbar": {
              "outlinewidth": 0,
              "ticks": ""
             }
            },
            "type": "scatter"
           }
          ],
          "scatter3d": [
           {
            "line": {
             "colorbar": {
              "outlinewidth": 0,
              "ticks": ""
             }
            },
            "marker": {
             "colorbar": {
              "outlinewidth": 0,
              "ticks": ""
             }
            },
            "type": "scatter3d"
           }
          ],
          "scattercarpet": [
           {
            "marker": {
             "colorbar": {
              "outlinewidth": 0,
              "ticks": ""
             }
            },
            "type": "scattercarpet"
           }
          ],
          "scattergeo": [
           {
            "marker": {
             "colorbar": {
              "outlinewidth": 0,
              "ticks": ""
             }
            },
            "type": "scattergeo"
           }
          ],
          "scattergl": [
           {
            "marker": {
             "colorbar": {
              "outlinewidth": 0,
              "ticks": ""
             }
            },
            "type": "scattergl"
           }
          ],
          "scattermapbox": [
           {
            "marker": {
             "colorbar": {
              "outlinewidth": 0,
              "ticks": ""
             }
            },
            "type": "scattermapbox"
           }
          ],
          "scatterpolar": [
           {
            "marker": {
             "colorbar": {
              "outlinewidth": 0,
              "ticks": ""
             }
            },
            "type": "scatterpolar"
           }
          ],
          "scatterpolargl": [
           {
            "marker": {
             "colorbar": {
              "outlinewidth": 0,
              "ticks": ""
             }
            },
            "type": "scatterpolargl"
           }
          ],
          "scatterternary": [
           {
            "marker": {
             "colorbar": {
              "outlinewidth": 0,
              "ticks": ""
             }
            },
            "type": "scatterternary"
           }
          ],
          "surface": [
           {
            "colorbar": {
             "outlinewidth": 0,
             "ticks": ""
            },
            "colorscale": [
             [
              0,
              "#0d0887"
             ],
             [
              0.1111111111111111,
              "#46039f"
             ],
             [
              0.2222222222222222,
              "#7201a8"
             ],
             [
              0.3333333333333333,
              "#9c179e"
             ],
             [
              0.4444444444444444,
              "#bd3786"
             ],
             [
              0.5555555555555556,
              "#d8576b"
             ],
             [
              0.6666666666666666,
              "#ed7953"
             ],
             [
              0.7777777777777778,
              "#fb9f3a"
             ],
             [
              0.8888888888888888,
              "#fdca26"
             ],
             [
              1,
              "#f0f921"
             ]
            ],
            "type": "surface"
           }
          ],
          "table": [
           {
            "cells": {
             "fill": {
              "color": "#EBF0F8"
             },
             "line": {
              "color": "white"
             }
            },
            "header": {
             "fill": {
              "color": "#C8D4E3"
             },
             "line": {
              "color": "white"
             }
            },
            "type": "table"
           }
          ]
         },
         "layout": {
          "annotationdefaults": {
           "arrowcolor": "#2a3f5f",
           "arrowhead": 0,
           "arrowwidth": 1
          },
          "coloraxis": {
           "colorbar": {
            "outlinewidth": 0,
            "ticks": ""
           }
          },
          "colorscale": {
           "diverging": [
            [
             0,
             "#8e0152"
            ],
            [
             0.1,
             "#c51b7d"
            ],
            [
             0.2,
             "#de77ae"
            ],
            [
             0.3,
             "#f1b6da"
            ],
            [
             0.4,
             "#fde0ef"
            ],
            [
             0.5,
             "#f7f7f7"
            ],
            [
             0.6,
             "#e6f5d0"
            ],
            [
             0.7,
             "#b8e186"
            ],
            [
             0.8,
             "#7fbc41"
            ],
            [
             0.9,
             "#4d9221"
            ],
            [
             1,
             "#276419"
            ]
           ],
           "sequential": [
            [
             0,
             "#0d0887"
            ],
            [
             0.1111111111111111,
             "#46039f"
            ],
            [
             0.2222222222222222,
             "#7201a8"
            ],
            [
             0.3333333333333333,
             "#9c179e"
            ],
            [
             0.4444444444444444,
             "#bd3786"
            ],
            [
             0.5555555555555556,
             "#d8576b"
            ],
            [
             0.6666666666666666,
             "#ed7953"
            ],
            [
             0.7777777777777778,
             "#fb9f3a"
            ],
            [
             0.8888888888888888,
             "#fdca26"
            ],
            [
             1,
             "#f0f921"
            ]
           ],
           "sequentialminus": [
            [
             0,
             "#0d0887"
            ],
            [
             0.1111111111111111,
             "#46039f"
            ],
            [
             0.2222222222222222,
             "#7201a8"
            ],
            [
             0.3333333333333333,
             "#9c179e"
            ],
            [
             0.4444444444444444,
             "#bd3786"
            ],
            [
             0.5555555555555556,
             "#d8576b"
            ],
            [
             0.6666666666666666,
             "#ed7953"
            ],
            [
             0.7777777777777778,
             "#fb9f3a"
            ],
            [
             0.8888888888888888,
             "#fdca26"
            ],
            [
             1,
             "#f0f921"
            ]
           ]
          },
          "colorway": [
           "#636efa",
           "#EF553B",
           "#00cc96",
           "#ab63fa",
           "#FFA15A",
           "#19d3f3",
           "#FF6692",
           "#B6E880",
           "#FF97FF",
           "#FECB52"
          ],
          "font": {
           "color": "#2a3f5f"
          },
          "geo": {
           "bgcolor": "white",
           "lakecolor": "white",
           "landcolor": "#E5ECF6",
           "showlakes": true,
           "showland": true,
           "subunitcolor": "white"
          },
          "hoverlabel": {
           "align": "left"
          },
          "hovermode": "closest",
          "mapbox": {
           "style": "light"
          },
          "paper_bgcolor": "white",
          "plot_bgcolor": "#E5ECF6",
          "polar": {
           "angularaxis": {
            "gridcolor": "white",
            "linecolor": "white",
            "ticks": ""
           },
           "bgcolor": "#E5ECF6",
           "radialaxis": {
            "gridcolor": "white",
            "linecolor": "white",
            "ticks": ""
           }
          },
          "scene": {
           "xaxis": {
            "backgroundcolor": "#E5ECF6",
            "gridcolor": "white",
            "gridwidth": 2,
            "linecolor": "white",
            "showbackground": true,
            "ticks": "",
            "zerolinecolor": "white"
           },
           "yaxis": {
            "backgroundcolor": "#E5ECF6",
            "gridcolor": "white",
            "gridwidth": 2,
            "linecolor": "white",
            "showbackground": true,
            "ticks": "",
            "zerolinecolor": "white"
           },
           "zaxis": {
            "backgroundcolor": "#E5ECF6",
            "gridcolor": "white",
            "gridwidth": 2,
            "linecolor": "white",
            "showbackground": true,
            "ticks": "",
            "zerolinecolor": "white"
           }
          },
          "shapedefaults": {
           "line": {
            "color": "#2a3f5f"
           }
          },
          "ternary": {
           "aaxis": {
            "gridcolor": "white",
            "linecolor": "white",
            "ticks": ""
           },
           "baxis": {
            "gridcolor": "white",
            "linecolor": "white",
            "ticks": ""
           },
           "bgcolor": "#E5ECF6",
           "caxis": {
            "gridcolor": "white",
            "linecolor": "white",
            "ticks": ""
           }
          },
          "title": {
           "x": 0.05
          },
          "xaxis": {
           "automargin": true,
           "gridcolor": "white",
           "linecolor": "white",
           "ticks": "",
           "title": {
            "standoff": 15
           },
           "zerolinecolor": "white",
           "zerolinewidth": 2
          },
          "yaxis": {
           "automargin": true,
           "gridcolor": "white",
           "linecolor": "white",
           "ticks": "",
           "title": {
            "standoff": 15
           },
           "zerolinecolor": "white",
           "zerolinewidth": 2
          }
         }
        },
        "width": 800,
        "xaxis": {
         "range": [
          -142.5,
          542.5
         ],
         "zeroline": false
        },
        "yaxis": {
         "range": [
          -142.5,
          542.5
         ]
        }
       }
      },
      "text/html": [
       "<div>\n",
       "        \n",
       "        \n",
       "            <div id=\"13bfd9ae-e00b-4d1b-bc8f-aeebf748b368\" class=\"plotly-graph-div\" style=\"height:600px; width:800px;\"></div>\n",
       "            <script type=\"text/javascript\">\n",
       "                require([\"plotly\"], function(Plotly) {\n",
       "                    window.PLOTLYENV=window.PLOTLYENV || {};\n",
       "                    \n",
       "                if (document.getElementById(\"13bfd9ae-e00b-4d1b-bc8f-aeebf748b368\")) {\n",
       "                    Plotly.newPlot(\n",
       "                        '13bfd9ae-e00b-4d1b-bc8f-aeebf748b368',\n",
       "                        [{\"mode\": \"text\", \"showlegend\": false, \"text\": [\"100.0%\"], \"type\": \"scatter\", \"x\": [1.5308084989341915e-15], \"y\": [200.0]}, {\"mode\": \"text\", \"showlegend\": false, \"text\": [\"0.0%\"], \"type\": \"scatter\", \"x\": [100.0], \"y\": [200.0]}, {\"mode\": \"text\", \"showlegend\": false, \"text\": [\"0.0%\"], \"type\": \"scatter\", \"x\": [200.0], \"y\": [199.99999999999997]}, {\"mode\": \"text\", \"showlegend\": false, \"text\": [\"141.5%\"], \"type\": \"scatter\", \"x\": [200.0], \"y\": [-1.5308084989341915e-15]}, {\"mode\": \"text\", \"showlegend\": false, \"text\": [\"38.0%\"], \"type\": \"scatter\", \"x\": [100.0], \"y\": [400.0]}, {\"mode\": \"text\", \"showlegend\": false, \"text\": [\"36.8%\"], \"type\": \"scatter\", \"x\": [300.0], \"y\": [410.5654565435175]}, {\"mode\": \"text\", \"showlegend\": false, \"text\": [\"36.8%\"], \"type\": \"scatter\", \"x\": [300.0], \"y\": [389.4345434564825]}, {\"mode\": \"text\", \"showlegend\": false, \"text\": [\"141.0%\"], \"type\": \"scatter\", \"x\": [400.0], \"y\": [200.0]}, {\"mode\": \"text\", \"showlegend\": false, \"text\": [\"- 10 MW\"], \"type\": \"scatter\", \"x\": [-70.0], \"y\": [8.572527594031473e-15]}, {\"mode\": \"text\", \"showlegend\": false, \"text\": [\"- 9 MW\"], \"type\": \"scatter\", \"x\": [470.0], \"y\": [400.0]}, {\"mode\": \"text\", \"showlegend\": false, \"text\": [\"- 8 MW\"], \"type\": \"scatter\", \"x\": [470.0], \"y\": [0.0]}, {\"mode\": \"text\", \"showlegend\": false, \"text\": [\"+ 1 MW\"], \"type\": \"scatter\", \"x\": [-35.000000000000036], \"y\": [-60.62177826491068]}, {\"mode\": \"text\", \"showlegend\": false, \"text\": [\"+ 30 MW\"], \"type\": \"scatter\", \"x\": [-35.000000000000014], \"y\": [460.6217782649107]}],\n",
       "                        {\"height\": 600, \"margin\": {\"b\": 100, \"l\": 20, \"r\": 20}, \"plot_bgcolor\": \"white\", \"shapes\": [{\"fillcolor\": \"lightgray\", \"line\": {\"color\": \"LightSeaGreen\"}, \"type\": \"circle\", \"x0\": -25.0, \"x1\": 25.0, \"xref\": \"x\", \"y0\": -25.0, \"y1\": 25.0, \"yref\": \"y\"}, {\"fillcolor\": \"lightgray\", \"line\": {\"color\": \"LightSeaGreen\"}, \"type\": \"circle\", \"x0\": -25.0, \"x1\": 25.0, \"xref\": \"x\", \"y0\": 375.0, \"y1\": 425.0, \"yref\": \"y\"}, {\"fillcolor\": \"lightgray\", \"line\": {\"color\": \"LightSeaGreen\"}, \"type\": \"circle\", \"x0\": 175.0, \"x1\": 225.0, \"xref\": \"x\", \"y0\": 375.0, \"y1\": 425.0, \"yref\": \"y\"}, {\"fillcolor\": \"lightgray\", \"line\": {\"color\": \"LightSeaGreen\"}, \"type\": \"circle\", \"x0\": 375.0, \"x1\": 425.0, \"xref\": \"x\", \"y0\": 375.0, \"y1\": 425.0, \"yref\": \"y\"}, {\"fillcolor\": \"lightgray\", \"line\": {\"color\": \"LightSeaGreen\"}, \"type\": \"circle\", \"x0\": 375.0, \"x1\": 425.0, \"xref\": \"x\", \"y0\": -25.0, \"y1\": 25.0, \"yref\": \"y\"}, {\"line\": {\"color\": \"#9b2020\"}, \"type\": \"line\", \"x0\": 1.5308084989341915e-15, \"x1\": 1.5308084989341915e-15, \"xref\": \"x\", \"y0\": 25.0, \"y1\": 375.0, \"yref\": \"y\"}, {\"line\": {\"color\": \"gray\", \"dash\": \"dash\"}, \"type\": \"line\", \"x0\": 11.18033988749895, \"x1\": 188.81966011250105, \"xref\": \"x\", \"y0\": 22.360679774997898, \"y1\": 377.6393202250021, \"yref\": \"y\"}, {\"line\": {\"color\": \"gray\", \"dash\": \"dash\"}, \"type\": \"line\", \"x0\": 17.67766952966369, \"x1\": 382.32233047033634, \"xref\": \"x\", \"y0\": 17.677669529663685, \"y1\": 382.3223304703363, \"yref\": \"y\"}, {\"line\": {\"color\": \"#8b0000\"}, \"type\": \"line\", \"x0\": 25.0, \"x1\": 375.0, \"xref\": \"x\", \"y0\": 0.0, \"y1\": -3.061616997868383e-15, \"yref\": \"y\"}, {\"line\": {\"color\": \"#efc5c5\"}, \"type\": \"line\", \"x0\": 25.0, \"x1\": 175.0, \"xref\": \"x\", \"y0\": 400.0, \"y1\": 400.0, \"yref\": \"y\"}, {\"line\": {\"color\": \"#efc5c5\"}, \"type\": \"line\", \"x0\": 222.65769467591625, \"x1\": 377.3423053240837, \"xref\": \"x\", \"y0\": 410.5654565435175, \"y1\": 410.5654565435175, \"yref\": \"y\"}, {\"line\": {\"color\": \"#efc5c5\"}, \"type\": \"line\", \"x0\": 222.65769467591625, \"x1\": 377.3423053240838, \"xref\": \"x\", \"y0\": 389.4345434564825, \"y1\": 389.4345434564825, \"yref\": \"y\"}, {\"line\": {\"color\": \"#8b0000\"}, \"type\": \"line\", \"x0\": 400.0, \"x1\": 400.0, \"xref\": \"x\", \"y0\": 375.0, \"y1\": 25.0, \"yref\": \"y\"}, {\"type\": \"line\", \"x0\": -50.0, \"x1\": -25.0, \"xref\": \"x\", \"y0\": 6.123233995736767e-15, \"y1\": 3.061616997868383e-15, \"yref\": \"y\"}, {\"type\": \"line\", \"x0\": 450.0, \"x1\": 425.0, \"xref\": \"x\", \"y0\": 400.0, \"y1\": 400.0, \"yref\": \"y\"}, {\"type\": \"line\", \"x0\": 450.0, \"x1\": 425.0, \"xref\": \"x\", \"y0\": 0.0, \"y1\": 0.0, \"yref\": \"y\"}, {\"type\": \"line\", \"x0\": -25.000000000000025, \"x1\": -12.50000000000001, \"xref\": \"x\", \"y0\": -43.30127018922192, \"y1\": -21.65063509461096, \"yref\": \"y\"}, {\"type\": \"line\", \"x0\": -25.00000000000001, \"x1\": -12.499999999999995, \"xref\": \"x\", \"y0\": 443.3012701892219, \"y1\": 421.65063509461095, \"yref\": \"y\"}], \"template\": {\"data\": {\"bar\": [{\"error_x\": {\"color\": \"#2a3f5f\"}, \"error_y\": {\"color\": \"#2a3f5f\"}, \"marker\": {\"line\": {\"color\": \"#E5ECF6\", \"width\": 0.5}}, \"type\": \"bar\"}], \"barpolar\": [{\"marker\": {\"line\": {\"color\": \"#E5ECF6\", \"width\": 0.5}}, \"type\": \"barpolar\"}], \"carpet\": [{\"aaxis\": {\"endlinecolor\": \"#2a3f5f\", \"gridcolor\": \"white\", \"linecolor\": \"white\", \"minorgridcolor\": \"white\", \"startlinecolor\": \"#2a3f5f\"}, \"baxis\": {\"endlinecolor\": \"#2a3f5f\", \"gridcolor\": \"white\", \"linecolor\": \"white\", \"minorgridcolor\": \"white\", \"startlinecolor\": \"#2a3f5f\"}, \"type\": \"carpet\"}], \"choropleth\": [{\"colorbar\": {\"outlinewidth\": 0, \"ticks\": \"\"}, \"type\": \"choropleth\"}], \"contour\": [{\"colorbar\": {\"outlinewidth\": 0, \"ticks\": \"\"}, \"colorscale\": [[0.0, \"#0d0887\"], [0.1111111111111111, \"#46039f\"], [0.2222222222222222, \"#7201a8\"], [0.3333333333333333, \"#9c179e\"], [0.4444444444444444, \"#bd3786\"], [0.5555555555555556, \"#d8576b\"], [0.6666666666666666, \"#ed7953\"], [0.7777777777777778, \"#fb9f3a\"], [0.8888888888888888, \"#fdca26\"], [1.0, \"#f0f921\"]], \"type\": \"contour\"}], \"contourcarpet\": [{\"colorbar\": {\"outlinewidth\": 0, \"ticks\": \"\"}, \"type\": \"contourcarpet\"}], \"heatmap\": [{\"colorbar\": {\"outlinewidth\": 0, \"ticks\": \"\"}, \"colorscale\": [[0.0, \"#0d0887\"], [0.1111111111111111, \"#46039f\"], [0.2222222222222222, \"#7201a8\"], [0.3333333333333333, \"#9c179e\"], [0.4444444444444444, \"#bd3786\"], [0.5555555555555556, \"#d8576b\"], [0.6666666666666666, \"#ed7953\"], [0.7777777777777778, \"#fb9f3a\"], [0.8888888888888888, \"#fdca26\"], [1.0, \"#f0f921\"]], \"type\": \"heatmap\"}], \"heatmapgl\": [{\"colorbar\": {\"outlinewidth\": 0, \"ticks\": \"\"}, \"colorscale\": [[0.0, \"#0d0887\"], [0.1111111111111111, \"#46039f\"], [0.2222222222222222, \"#7201a8\"], [0.3333333333333333, \"#9c179e\"], [0.4444444444444444, \"#bd3786\"], [0.5555555555555556, \"#d8576b\"], [0.6666666666666666, \"#ed7953\"], [0.7777777777777778, \"#fb9f3a\"], [0.8888888888888888, \"#fdca26\"], [1.0, \"#f0f921\"]], \"type\": \"heatmapgl\"}], \"histogram\": [{\"marker\": {\"colorbar\": {\"outlinewidth\": 0, \"ticks\": \"\"}}, \"type\": \"histogram\"}], \"histogram2d\": [{\"colorbar\": {\"outlinewidth\": 0, \"ticks\": \"\"}, \"colorscale\": [[0.0, \"#0d0887\"], [0.1111111111111111, \"#46039f\"], [0.2222222222222222, \"#7201a8\"], [0.3333333333333333, \"#9c179e\"], [0.4444444444444444, \"#bd3786\"], [0.5555555555555556, \"#d8576b\"], [0.6666666666666666, \"#ed7953\"], [0.7777777777777778, \"#fb9f3a\"], [0.8888888888888888, \"#fdca26\"], [1.0, \"#f0f921\"]], \"type\": \"histogram2d\"}], \"histogram2dcontour\": [{\"colorbar\": {\"outlinewidth\": 0, \"ticks\": \"\"}, \"colorscale\": [[0.0, \"#0d0887\"], [0.1111111111111111, \"#46039f\"], [0.2222222222222222, \"#7201a8\"], [0.3333333333333333, \"#9c179e\"], [0.4444444444444444, \"#bd3786\"], [0.5555555555555556, \"#d8576b\"], [0.6666666666666666, \"#ed7953\"], [0.7777777777777778, \"#fb9f3a\"], [0.8888888888888888, \"#fdca26\"], [1.0, \"#f0f921\"]], \"type\": \"histogram2dcontour\"}], \"mesh3d\": [{\"colorbar\": {\"outlinewidth\": 0, \"ticks\": \"\"}, \"type\": \"mesh3d\"}], \"parcoords\": [{\"line\": {\"colorbar\": {\"outlinewidth\": 0, \"ticks\": \"\"}}, \"type\": \"parcoords\"}], \"pie\": [{\"automargin\": true, \"type\": \"pie\"}], \"scatter\": [{\"marker\": {\"colorbar\": {\"outlinewidth\": 0, \"ticks\": \"\"}}, \"type\": \"scatter\"}], \"scatter3d\": [{\"line\": {\"colorbar\": {\"outlinewidth\": 0, \"ticks\": \"\"}}, \"marker\": {\"colorbar\": {\"outlinewidth\": 0, \"ticks\": \"\"}}, \"type\": \"scatter3d\"}], \"scattercarpet\": [{\"marker\": {\"colorbar\": {\"outlinewidth\": 0, \"ticks\": \"\"}}, \"type\": \"scattercarpet\"}], \"scattergeo\": [{\"marker\": {\"colorbar\": {\"outlinewidth\": 0, \"ticks\": \"\"}}, \"type\": \"scattergeo\"}], \"scattergl\": [{\"marker\": {\"colorbar\": {\"outlinewidth\": 0, \"ticks\": \"\"}}, \"type\": \"scattergl\"}], \"scattermapbox\": [{\"marker\": {\"colorbar\": {\"outlinewidth\": 0, \"ticks\": \"\"}}, \"type\": \"scattermapbox\"}], \"scatterpolar\": [{\"marker\": {\"colorbar\": {\"outlinewidth\": 0, \"ticks\": \"\"}}, \"type\": \"scatterpolar\"}], \"scatterpolargl\": [{\"marker\": {\"colorbar\": {\"outlinewidth\": 0, \"ticks\": \"\"}}, \"type\": \"scatterpolargl\"}], \"scatterternary\": [{\"marker\": {\"colorbar\": {\"outlinewidth\": 0, \"ticks\": \"\"}}, \"type\": \"scatterternary\"}], \"surface\": [{\"colorbar\": {\"outlinewidth\": 0, \"ticks\": \"\"}, \"colorscale\": [[0.0, \"#0d0887\"], [0.1111111111111111, \"#46039f\"], [0.2222222222222222, \"#7201a8\"], [0.3333333333333333, \"#9c179e\"], [0.4444444444444444, \"#bd3786\"], [0.5555555555555556, \"#d8576b\"], [0.6666666666666666, \"#ed7953\"], [0.7777777777777778, \"#fb9f3a\"], [0.8888888888888888, \"#fdca26\"], [1.0, \"#f0f921\"]], \"type\": \"surface\"}], \"table\": [{\"cells\": {\"fill\": {\"color\": \"#EBF0F8\"}, \"line\": {\"color\": \"white\"}}, \"header\": {\"fill\": {\"color\": \"#C8D4E3\"}, \"line\": {\"color\": \"white\"}}, \"type\": \"table\"}]}, \"layout\": {\"annotationdefaults\": {\"arrowcolor\": \"#2a3f5f\", \"arrowhead\": 0, \"arrowwidth\": 1}, \"coloraxis\": {\"colorbar\": {\"outlinewidth\": 0, \"ticks\": \"\"}}, \"colorscale\": {\"diverging\": [[0, \"#8e0152\"], [0.1, \"#c51b7d\"], [0.2, \"#de77ae\"], [0.3, \"#f1b6da\"], [0.4, \"#fde0ef\"], [0.5, \"#f7f7f7\"], [0.6, \"#e6f5d0\"], [0.7, \"#b8e186\"], [0.8, \"#7fbc41\"], [0.9, \"#4d9221\"], [1, \"#276419\"]], \"sequential\": [[0.0, \"#0d0887\"], [0.1111111111111111, \"#46039f\"], [0.2222222222222222, \"#7201a8\"], [0.3333333333333333, \"#9c179e\"], [0.4444444444444444, \"#bd3786\"], [0.5555555555555556, \"#d8576b\"], [0.6666666666666666, \"#ed7953\"], [0.7777777777777778, \"#fb9f3a\"], [0.8888888888888888, \"#fdca26\"], [1.0, \"#f0f921\"]], \"sequentialminus\": [[0.0, \"#0d0887\"], [0.1111111111111111, \"#46039f\"], [0.2222222222222222, \"#7201a8\"], [0.3333333333333333, \"#9c179e\"], [0.4444444444444444, \"#bd3786\"], [0.5555555555555556, \"#d8576b\"], [0.6666666666666666, \"#ed7953\"], [0.7777777777777778, \"#fb9f3a\"], [0.8888888888888888, \"#fdca26\"], [1.0, \"#f0f921\"]]}, \"colorway\": [\"#636efa\", \"#EF553B\", \"#00cc96\", \"#ab63fa\", \"#FFA15A\", \"#19d3f3\", \"#FF6692\", \"#B6E880\", \"#FF97FF\", \"#FECB52\"], \"font\": {\"color\": \"#2a3f5f\"}, \"geo\": {\"bgcolor\": \"white\", \"lakecolor\": \"white\", \"landcolor\": \"#E5ECF6\", \"showlakes\": true, \"showland\": true, \"subunitcolor\": \"white\"}, \"hoverlabel\": {\"align\": \"left\"}, \"hovermode\": \"closest\", \"mapbox\": {\"style\": \"light\"}, \"paper_bgcolor\": \"white\", \"plot_bgcolor\": \"#E5ECF6\", \"polar\": {\"angularaxis\": {\"gridcolor\": \"white\", \"linecolor\": \"white\", \"ticks\": \"\"}, \"bgcolor\": \"#E5ECF6\", \"radialaxis\": {\"gridcolor\": \"white\", \"linecolor\": \"white\", \"ticks\": \"\"}}, \"scene\": {\"xaxis\": {\"backgroundcolor\": \"#E5ECF6\", \"gridcolor\": \"white\", \"gridwidth\": 2, \"linecolor\": \"white\", \"showbackground\": true, \"ticks\": \"\", \"zerolinecolor\": \"white\"}, \"yaxis\": {\"backgroundcolor\": \"#E5ECF6\", \"gridcolor\": \"white\", \"gridwidth\": 2, \"linecolor\": \"white\", \"showbackground\": true, \"ticks\": \"\", \"zerolinecolor\": \"white\"}, \"zaxis\": {\"backgroundcolor\": \"#E5ECF6\", \"gridcolor\": \"white\", \"gridwidth\": 2, \"linecolor\": \"white\", \"showbackground\": true, \"ticks\": \"\", \"zerolinecolor\": \"white\"}}, \"shapedefaults\": {\"line\": {\"color\": \"#2a3f5f\"}}, \"ternary\": {\"aaxis\": {\"gridcolor\": \"white\", \"linecolor\": \"white\", \"ticks\": \"\"}, \"baxis\": {\"gridcolor\": \"white\", \"linecolor\": \"white\", \"ticks\": \"\"}, \"bgcolor\": \"#E5ECF6\", \"caxis\": {\"gridcolor\": \"white\", \"linecolor\": \"white\", \"ticks\": \"\"}}, \"title\": {\"x\": 0.05}, \"xaxis\": {\"automargin\": true, \"gridcolor\": \"white\", \"linecolor\": \"white\", \"ticks\": \"\", \"title\": {\"standoff\": 15}, \"zerolinecolor\": \"white\", \"zerolinewidth\": 2}, \"yaxis\": {\"automargin\": true, \"gridcolor\": \"white\", \"linecolor\": \"white\", \"ticks\": \"\", \"title\": {\"standoff\": 15}, \"zerolinecolor\": \"white\", \"zerolinewidth\": 2}}}, \"width\": 800, \"xaxis\": {\"range\": [-142.5, 542.5], \"zeroline\": false}, \"yaxis\": {\"range\": [-142.5, 542.5]}},\n",
       "                        {\"responsive\": true}\n",
       "                    ).then(function(){\n",
       "                            \n",
       "var gd = document.getElementById('13bfd9ae-e00b-4d1b-bc8f-aeebf748b368');\n",
       "var x = new MutationObserver(function (mutations, observer) {{\n",
       "        var display = window.getComputedStyle(gd).display;\n",
       "        if (!display || display === 'none') {{\n",
       "            console.log([gd, 'removed!']);\n",
       "            Plotly.purge(gd);\n",
       "            observer.disconnect();\n",
       "        }}\n",
       "}});\n",
       "\n",
       "// Listen for the removal of the full notebook cells\n",
       "var notebookContainer = gd.closest('#notebook-container');\n",
       "if (notebookContainer) {{\n",
       "    x.observe(notebookContainer, {childList: true});\n",
       "}}\n",
       "\n",
       "// Listen for the clearing of the current output cell\n",
       "var outputEl = gd.closest('.output');\n",
       "if (outputEl) {{\n",
       "    x.observe(outputEl, {childList: true});\n",
       "}}\n",
       "\n",
       "                        })\n",
       "                };\n",
       "                });\n",
       "            </script>\n",
       "        </div>"
      ]
     },
     "metadata": {},
     "output_type": "display_data"
    }
   ],
   "source": [
    "previous_act = all_obs[-2]\n",
    "fig = plot_helper.plot_observation(previous_act)\n",
    "fig.show()"
   ]
  },
  {
   "cell_type": "markdown",
   "metadata": {},
   "source": [
    "And now we can know the cause for this problem: all the powerlines that could provide power on the bottom right load are overloaded in this situation, so the protection worked and disconnect them to prevent hurting the surroundings."
   ]
  }
 ],
 "metadata": {
  "kernelspec": {
   "display_name": "Python 3",
   "language": "python",
   "name": "python3"
  },
  "language_info": {
   "codemirror_mode": {
    "name": "ipython",
    "version": 3
   },
   "file_extension": ".py",
   "mimetype": "text/x-python",
   "name": "python",
   "nbconvert_exporter": "python",
   "pygments_lexer": "ipython3",
   "version": "3.6.6"
  }
 },
 "nbformat": 4,
 "nbformat_minor": 2
}
