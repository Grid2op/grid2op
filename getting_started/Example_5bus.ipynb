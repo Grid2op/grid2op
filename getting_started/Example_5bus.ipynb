{
 "cells": [
  {
   "cell_type": "markdown",
   "metadata": {},
   "source": [
    "# Some experiments on a 5 substations test case"
   ]
  },
  {
   "cell_type": "markdown",
   "metadata": {},
   "source": [
    "To demonstrate the use of the grid2op framework, we propose here to show how to make some quick studies on a purely fictious test case, a 5 bus system.\n",
    "\n",
    "This system should not be used for deep research purpose. It is provided here as an example and a tool to get used to how some analyses can be performed using grid2op."
   ]
  },
  {
   "cell_type": "markdown",
   "metadata": {},
   "source": [
    "First, we can create a environment:"
   ]
  },
  {
   "cell_type": "code",
   "execution_count": null,
   "metadata": {},
   "outputs": [],
   "source": [
    "import grid2op\n",
    "env = grid2op.make(\"case5_example\")"
   ]
  },
  {
   "cell_type": "markdown",
   "metadata": {},
   "source": [
    "## Inspect the powergrid"
   ]
  },
  {
   "cell_type": "markdown",
   "metadata": {},
   "source": [
    "In grid2op, to make more concrete the powergrid, we also added some visual capabilities to represent, for example, the names of the objects on the grid, or the thermal limit, or any other data you want. All of that is for now only available in the matplotlib \"plot helper\" and can be accessed as followed."
   ]
  },
  {
   "cell_type": "markdown",
   "metadata": {},
   "source": [
    "### Plotting the layout of the graph\n",
    "This utility function allows you to visualize where are the object located on the map. Each object has its own color, and is represented with its name and its id (id starts at 0, following python convention)."
   ]
  },
  {
   "cell_type": "code",
   "execution_count": null,
   "metadata": {},
   "outputs": [],
   "source": [
    "from grid2op.Plot import PlotMatplotlib\n",
    "plot_helper = PlotMatplotlib(env.graph_layout, env.observation_space)\n",
    "_ = plot_helper.plot_layout()"
   ]
  },
  {
   "cell_type": "markdown",
   "metadata": {},
   "source": [
    "### Visualizing data on the grid"
   ]
  },
  {
   "cell_type": "markdown",
   "metadata": {},
   "source": [
    "It is, with the same method, also possible to visualize any data on the powergrid, for example, we can inspect the thermal limit (line property) as follow:"
   ]
  },
  {
   "cell_type": "code",
   "execution_count": null,
   "metadata": {},
   "outputs": [],
   "source": [
    "_ = plot_helper.plot_info(line_info=env._thermal_limit_a,\n",
    "                         colormap=\"line\")"
   ]
  },
  {
   "cell_type": "markdown",
   "metadata": {},
   "source": [
    "The above plot can be improved. It has lots of useless informations for the purpose (all the names of the loads, generetors and substations). They can be remove simply with:"
   ]
  },
  {
   "cell_type": "code",
   "execution_count": null,
   "metadata": {},
   "outputs": [],
   "source": [
    "_ = plot_helper.plot_info(line_info=env._thermal_limit_a,\n",
    "                          load_info=[None for el in range(env.n_load)],\n",
    "                          gen_info=[None for el in range(env.n_gen)],\n",
    "                          sub_info=[None for el in range(env.n_sub)],\n",
    "                         colormap=\"line\")"
   ]
  },
  {
   "cell_type": "markdown",
   "metadata": {},
   "source": [
    "Similarly, it is possible to display some data about the generators, for example the maximum value of power they can produce."
   ]
  },
  {
   "cell_type": "code",
   "execution_count": null,
   "metadata": {},
   "outputs": [],
   "source": [
    "_ = plot_helper.plot_info(line_info=[None for el in range(env.n_line)],\n",
    "                          load_info=[None for el in range(env.n_load)],\n",
    "                          gen_info=env.gen_pmax,\n",
    "                          sub_info=[None for el in range(env.n_sub)],\n",
    "                         colormap=\"gen\")"
   ]
  },
  {
   "cell_type": "markdown",
   "metadata": {},
   "source": [
    "## Create an agent"
   ]
  },
  {
   "cell_type": "markdown",
   "metadata": {},
   "source": [
    "Now we can see how well the \"do nothing\" agent (the most basic imaginable) can performe, using some \"gym like\" methods"
   ]
  },
  {
   "cell_type": "code",
   "execution_count": null,
   "metadata": {},
   "outputs": [],
   "source": [
    "from grid2op.Agent import DoNothingAgent\n",
    "my_agent = DoNothingAgent(env.action_space)"
   ]
  },
  {
   "cell_type": "markdown",
   "metadata": {},
   "source": [
    "Now do the standard gym loop, and we save all the observations:"
   ]
  },
  {
   "cell_type": "code",
   "execution_count": null,
   "metadata": {},
   "outputs": [],
   "source": [
    "all_obs = []\n",
    "obs = env.reset()\n",
    "all_obs.append(obs)\n",
    "reward = env.reward_range[0]\n",
    "done = False\n",
    "nb_step = 0\n",
    "while True:\n",
    "    action = my_agent.act(obs, reward, done)\n",
    "    obs, reward, done, _ = env.step(action)\n",
    "    if done:\n",
    "        break\n",
    "    all_obs.append(obs)\n",
    "    nb_step += 1"
   ]
  },
  {
   "cell_type": "markdown",
   "metadata": {},
   "source": [
    "We can check if the episode has been completed, or if there has been a game over:"
   ]
  },
  {
   "cell_type": "code",
   "execution_count": null,
   "metadata": {},
   "outputs": [],
   "source": [
    "print(\"Number of timesteps computed: {}\".format(nb_step))\n",
    "print(\"Total maximum number of timesteps possible: {}\".format(env.chronics_handler.max_timestep()))"
   ]
  },
  {
   "cell_type": "markdown",
   "metadata": {},
   "source": [
    "As we see here, there is a game over: the agent successfully managed 97 timesteps, while the episode could have lasted 2016.\n",
    "\n",
    "Let's try to investigate this, for example by plotting the last observation. First we need to create a utilities that will make the plot:"
   ]
  },
  {
   "cell_type": "code",
   "execution_count": null,
   "metadata": {},
   "outputs": [],
   "source": [
    "from grid2op.Plot import PlotPlotly\n",
    "plot_helper = PlotPlotly(substation_layout=env.graph_layout,\n",
    "                      observation_space=env.observation_space)"
   ]
  },
  {
   "cell_type": "code",
   "execution_count": null,
   "metadata": {},
   "outputs": [],
   "source": [
    "last_obs = all_obs[-1]\n",
    "fig = plot_helper.plot_observation(last_obs)\n",
    "fig.show()"
   ]
  },
  {
   "cell_type": "markdown",
   "metadata": {},
   "source": [
    "As we can see, the last obsevation is pretty clear: 4 powerlines have been disconnected, thus isolating the load on the bottom right. This lead to a game over. \n",
    "\n",
    "It's also possible, of course, to inspect the previous state, just before this one:"
   ]
  },
  {
   "cell_type": "code",
   "execution_count": null,
   "metadata": {},
   "outputs": [],
   "source": [
    "previous_obs = all_obs[-2]\n",
    "fig = plot_helper.plot_observation(previous_obs)\n",
    "fig.show()"
   ]
  },
  {
   "cell_type": "markdown",
   "metadata": {},
   "source": [
    "And now we can know the cause for this problem: all the powerlines that could provide power on the bottom right load are overloaded in this situation, so the protection worked and disconnect them to prevent hurting the surroundings."
   ]
  },
  {
   "cell_type": "markdown",
   "metadata": {},
   "source": [
    "## Test"
   ]
  },
  {
   "cell_type": "code",
   "execution_count": 1,
   "metadata": {},
   "outputs": [
    {
     "name": "stdout",
     "output_type": "stream",
     "text": [
      "I activated a bus\n",
      "I activated a bus\n",
      "True\n"
     ]
    }
   ],
   "source": [
    "import grid2op\n",
    "env_case1 = grid2op.make(\"case5_example\")\n",
    "obs = env_case1.reset()\n",
    "act = env_case1.action_space.disconnect_powerline(line_id=5)\n",
    "obs, reward, done, info = env_case1.step(act)\n",
    "act_case1 = env_case1.action_space.reconnect_powerline(line_id=5,bus_or=2,bus_ex=2)\n",
    "obs_case1, reward_case1, done_case1, info_case1 = env_case1.step(act_case1)\n",
    "print(done_case1)"
   ]
  },
  {
   "cell_type": "code",
   "execution_count": 2,
   "metadata": {},
   "outputs": [
    {
     "name": "stdout",
     "output_type": "stream",
     "text": [
      "This action will:\n",
      "\t - NOT change anything to the injections\n",
      "\t - NOT perform any redispatching action\n",
      "\t - force reconnection of 1 powerlines ([5])\n",
      "\t - NOT switch any line status\n",
      "\t - NOT switch anything in the topology\n",
      "\t - Set the bus of the following element:\n",
      "\t \t - assign bus 2 to line (origin) 5 [on substation 2]\n",
      "\t \t - assign bus 2 to line (extremity) 5 [on substation 3]\n"
     ]
    }
   ],
   "source": [
    "print(act_case1)"
   ]
  },
  {
   "cell_type": "code",
   "execution_count": 4,
   "metadata": {},
   "outputs": [
    {
     "name": "stdout",
     "output_type": "stream",
     "text": [
      "I activated a bus\n",
      "I activated a bus\n",
      "True\n"
     ]
    }
   ],
   "source": [
    "env_case2 = grid2op.make(\"case5_example\")\n",
    "obs = env_case2.reset()\n",
    "obs, reward, done, info = env_case2.step(env_case2.action_space())\n",
    "act_case2 = env_case2.action_space.reconnect_powerline(line_id=5,bus_or=2,bus_ex=2)\n",
    "obs_case2, reward_case2, done_case2, info_case2 = env_case2.step(act_case2)\n",
    "print(info_case2)"
   ]
  },
  {
   "cell_type": "code",
   "execution_count": null,
   "metadata": {},
   "outputs": [],
   "source": [
    "print(act_case2)"
   ]
  },
  {
   "cell_type": "code",
   "execution_count": null,
   "metadata": {},
   "outputs": [],
   "source": [
    "act_case2()"
   ]
  },
  {
   "cell_type": "code",
   "execution_count": null,
   "metadata": {},
   "outputs": [],
   "source": [
    "act_case1()"
   ]
  },
  {
   "cell_type": "code",
   "execution_count": null,
   "metadata": {},
   "outputs": [],
   "source": [
    "env_case2.backend._grid.line"
   ]
  },
  {
   "cell_type": "code",
   "execution_count": null,
   "metadata": {},
   "outputs": [],
   "source": [
    "env_case1.backend._grid.line"
   ]
  },
  {
   "cell_type": "code",
   "execution_count": null,
   "metadata": {},
   "outputs": [],
   "source": [
    "import numpy as np\n",
    "np.all(env_case1.backend._grid.bus == env_case2.backend._grid.bus)"
   ]
  },
  {
   "cell_type": "code",
   "execution_count": null,
   "metadata": {},
   "outputs": [],
   "source": [
    "env_case2.backend._grid.bus"
   ]
  },
  {
   "cell_type": "code",
   "execution_count": null,
   "metadata": {},
   "outputs": [],
   "source": [
    "env_case1.backend._grid.bus"
   ]
  }
 ],
 "metadata": {
  "kernelspec": {
   "display_name": "Python 3",
   "language": "python",
   "name": "python3"
  },
  "language_info": {
   "codemirror_mode": {
    "name": "ipython",
    "version": 3
   },
   "file_extension": ".py",
   "mimetype": "text/x-python",
   "name": "python",
   "nbconvert_exporter": "python",
   "pygments_lexer": "ipython3",
   "version": "3.6.6"
  }
 },
 "nbformat": 4,
 "nbformat_minor": 2
}
