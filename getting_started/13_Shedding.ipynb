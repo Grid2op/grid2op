{
 "cells": [
  {
   "cell_type": "markdown",
   "metadata": {},
   "source": [
    "### Shedding\n",
    "In emergency conditions, it may be possible / necessary for a grid operator to disconnect certain loads, generators, or other components in order to prevent a larger blackout. This notebook explores how this can be achieved in Grid2OP. \n",
    "\n",
    "By default shedding is disabled in all environments, to enable it provide set the environment parameter ALLOW_SHEDDING to True.\n",
    "\n",
    "Shed load:\n",
    "* **Vector** :: $\\text{n\\_load}$\n",
    "* **List** :: $[(\\text{load\\_id}, \\text{status})]$\n",
    "* **Dictionary** :: $\\text{load\\_name}: \\text{status}$\n",
    "\n",
    "Shed generator:\n",
    "* **Vector** :: $\\text{n\\_gen}$\n",
    "* **List** :: $[(\\text{gen\\_id}, \\text{status})]$\n",
    "* **Dictionary** :: $\\text{gen\\_name}: \\text{status}$\n",
    "\n",
    "Where $\\text{status}$ is a boolean (True/False)."
   ]
  },
  {
   "cell_type": "code",
   "execution_count": null,
   "metadata": {},
   "outputs": [],
   "source": [
    "import numpy as np\n",
    "import matplotlib.pyplot as plt\n",
    "import grid2op\n",
    "from grid2op.Parameters import Parameters\n",
    "\n",
    "from grid2op.PlotGrid import PlotMatplot\n",
    "from pathlib import Path\n",
    "\n",
    "\n",
    "p = Parameters()\n",
    "p.MAX_SUB_CHANGED = 5\n",
    "\n",
    "data_path = Path.cwd() / \"grid2op\" / \"data\"\n",
    "env = grid2op.make(data_path / \"rte_case5_example\", allow_shedding=True, n_busbar=3, param=p)\n",
    "plotter = PlotMatplot(env.observation_space, load_name=True, gen_name=True, dpi=150)\n",
    "env.set_id(\"00\")\n",
    "obs = env.reset()\n",
    "\n",
    "print(f\"Loads: {env.n_load}, Generators: {env.n_gen}, Storage: {env.n_storage}\")\n",
    "plotter.plot_obs(obs, figure=plt.figure(figsize=(8,5)))\n",
    "plt.show()"
   ]
  },
  {
   "cell_type": "code",
   "execution_count": null,
   "metadata": {},
   "outputs": [],
   "source": [
    "load_lookup = {name:i for i,name in enumerate(env.name_load)}\n",
    "act = env.action_space({\"set_bus\":[(env.load_pos_topo_vect[load_lookup[\"load_4_2\"]], -1)]})\n",
    "print(act)\n",
    "env.set_id(\"00\")\n",
    "init_obs = env.reset()\n",
    "obs, reward, done, info = env.step(act)\n",
    "plotter.plot_obs(obs, figure=plt.figure(figsize=(8,5)))\n",
    "plt.show()"
   ]
  },
  {
   "cell_type": "code",
   "execution_count": null,
   "metadata": {},
   "outputs": [],
   "source": [
    "load_shed_mask = (init_obs + act).topo_vect[env.load_pos_topo_vect]\n",
    "gen_shed_mask = (init_obs + act).topo_vect[env.gen_pos_topo_vect]"
   ]
  },
  {
   "cell_type": "code",
   "execution_count": null,
   "metadata": {},
   "outputs": [],
   "source": [
    "import pandapower as pp\n",
    "from pandapower.plotting import simple_plot\n",
    "network = env.backend._grid.deepcopy()\n",
    "display(network.res_line.loc[:, [\"p_from_mw\", \"p_to_mw\", \"q_from_mvar\", \"q_to_mvar\"]])\n",
    "pp.runpp(network,\n",
    "         check_connectivity=False,\n",
    "         init=\"dc\",\n",
    "         lightsim2grid=False,\n",
    "         max_iteration=10,\n",
    "         distributed_slack=False,\n",
    ")\n",
    "display(network.res_line.loc[:, [\"p_from_mw\", \"p_to_mw\", \"q_from_mvar\", \"q_to_mvar\"]])"
   ]
  }
 ],
 "metadata": {
  "kernelspec": {
   "display_name": "venv_grid2op",
   "language": "python",
   "name": "python3"
  },
  "language_info": {
   "codemirror_mode": {
    "name": "ipython",
    "version": 3
   },
   "file_extension": ".py",
   "mimetype": "text/x-python",
   "name": "python",
   "nbconvert_exporter": "python",
   "pygments_lexer": "ipython3",
   "version": "3.12.7"
  }
 },
 "nbformat": 4,
 "nbformat_minor": 2
}
