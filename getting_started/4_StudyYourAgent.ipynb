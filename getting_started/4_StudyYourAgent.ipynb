{
 "cells": [
  {
   "cell_type": "markdown",
   "metadata": {},
   "source": [
    "# Basic Agent Sudy"
   ]
  },
  {
   "cell_type": "markdown",
   "metadata": {},
   "source": [
    "It is recommended to have a look at the [0_basic_functionalities](0_basic_functionalities.ipynb), [1_Observation_Agents](1_Observation_Agents.ipynb), [2_Action_GridManipulation](3_TrainingAnAgent.ipynb) and [3_TrainingAnAgent](3_TrainingAnAgent.ipynb) notebooks before getting into this one."
   ]
  },
  {
   "cell_type": "markdown",
   "metadata": {},
   "source": [
    "**Objectives**\n",
    "\n",
    "In this notebook we will expose how to study an Agent. For this notebook to be interested, we first use a dummy agent, and then we look at how to study his behaviour from the file saved.\n",
    "\n",
    "This notebook will also show you how to use the Graphical User Interface built for analyzing grid2Op agents called \"Grid2Viz\".\n",
    "\n",
    "It is more than recommended to know how to define an Agent and use a Runner before doing this tutotial!"
   ]
  },
  {
   "cell_type": "markdown",
   "metadata": {},
   "source": [
    "## Evaluate the performance of a simple Agen"
   ]
  },
  {
   "cell_type": "code",
   "execution_count": 1,
   "metadata": {},
   "outputs": [],
   "source": [
    "import os\n",
    "import sys\n",
    "import grid2op\n",
    "import copy\n",
    "import numpy as np\n",
    "import shutil\n",
    "import seaborn as sns\n",
    "import plotly.graph_objects as go\n",
    "\n",
    "from tqdm.notebook import tqdm\n",
    "from grid2op.Agent import PowerLineSwitch\n",
    "from grid2op.Reward import L2RPNReward\n",
    "from grid2op.Runner import Runner\n",
    "from grid2op.Chronics import GridStateFromFileWithForecasts, Multifolder\n",
    "path_agents = \"study_agent_getting_started\"\n",
    "max_iter = 30"
   ]
  },
  {
   "cell_type": "markdown",
   "metadata": {},
   "source": [
    "In the next cell we evaluate the agent \"PowerLineSwitch\" and save the results of this evaluation in \"study_agent_getting_started\""
   ]
  },
  {
   "cell_type": "code",
   "execution_count": null,
   "metadata": {},
   "outputs": [],
   "source": [
    "scoring_function = L2RPNReward\n",
    "env = grid2op.make(reward_class=L2RPNReward)\n",
    "# env.chronics_handler.set_max_iter(max_iter)\n",
    "shutil.rmtree(os.path.abspath(path_agents), ignore_errors=True)\n",
    "if not os.path.exists(path_agents):\n",
    "    os.mkdir(path_agents)\n",
    "\n",
    "# make a runner for this agent\n",
    "path_agent = os.path.join(path_agents, \"PowerLineSwitch\")\n",
    "shutil.rmtree(os.path.abspath(path_agent), ignore_errors=True)\n",
    "\n",
    "runner = Runner(**env.get_params_for_runner(),\n",
    "                agentClass=PowerLineSwitch\n",
    "                )\n",
    "res = runner.run(path_save=path_agent, nb_episode=2, \n",
    "                max_iter=max_iter,\n",
    "                pbar=tqdm)\n",
    "print(\"The results for the evaluated agent are:\")\n",
    "for _, chron_id, cum_reward, nb_time_step, max_ts in res:\n",
    "    msg_tmp = \"\\tFor chronics with id {}\\n\".format(chron_id)\n",
    "    msg_tmp += \"\\t\\t - cumulative reward: {:.6f}\\n\".format(cum_reward)\n",
    "    msg_tmp += \"\\t\\t - number of time steps completed: {:.0f} / {:.0f}\".format(nb_time_step, max_ts)\n",
    "    print(msg_tmp)"
   ]
  },
  {
   "cell_type": "code",
   "execution_count": 2,
   "metadata": {},
   "outputs": [],
   "source": [
    "path_agent = os.path.join(path_agents, \"PowerLineSwitch\")"
   ]
  },
  {
   "cell_type": "markdown",
   "metadata": {},
   "source": [
    "## Looking at the results, understand the behaviour of the Agent"
   ]
  },
  {
   "cell_type": "markdown",
   "metadata": {},
   "source": [
    "The content of the folder is the following:"
   ]
  },
  {
   "cell_type": "code",
   "execution_count": null,
   "metadata": {},
   "outputs": [],
   "source": [
    "!ls $path_agent"
   ]
  },
  {
   "cell_type": "markdown",
   "metadata": {},
   "source": [
    "Now we can load the data corresponding to episode 1 for example, we can load the actions and the observations and de-serialize them properly into proper objects. This is now automatically done with the class \"EpisodeData\" that can be used as follow:"
   ]
  },
  {
   "cell_type": "code",
   "execution_count": 3,
   "metadata": {},
   "outputs": [],
   "source": [
    "from grid2op.EpisodeData import EpisodeData\n",
    "episode_studied = \"001\"\n",
    "this_episode = EpisodeData.from_disk(path_agent, episode_studied)"
   ]
  },
  {
   "cell_type": "markdown",
   "metadata": {},
   "source": [
    "## Inspect the actions"
   ]
  },
  {
   "cell_type": "markdown",
   "metadata": {},
   "source": [
    "And now we can start to study the given agent, for example, let's inspect its actions and wonder how many powerlines it has disconnected (for example, this is probably not the best thing to do here...)"
   ]
  },
  {
   "cell_type": "code",
   "execution_count": null,
   "metadata": {},
   "outputs": [],
   "source": [
    "line_disc = 0\n",
    "line_reco = 0\n",
    "for act in this_episode.actions:\n",
    "    dict_ = act.as_dict() # representation of an action as a dictionnary, see the documentation for more information\n",
    "    if \"change_line_status\" in dict_:\n",
    "        if \"set_bus_vect\" in dict_:\n",
    "            line_reco += 1\n",
    "        else:\n",
    "            line_disc +=  1\n",
    "line_disc"
   ]
  },
  {
   "cell_type": "markdown",
   "metadata": {},
   "source": [
    "We can also wonder how many times this Agent acted on the powerline with id $14$, and inspect how many times it has change its status:"
   ]
  },
  {
   "cell_type": "code",
   "execution_count": null,
   "metadata": {},
   "outputs": [],
   "source": [
    "id_line_inspected = 14\n",
    "line_disconnected = 0\n",
    "for act in this_episode.actions:\n",
    "    dict_ = act.effect_on(line_id=id_line_inspected) # which effect has this action action on the substation with given id\n",
    "    # other objects are: load_id, gen_id, line_id or substation_id\n",
    "    if dict_['change_line_status'] or dict_[\"set_line_status\"] != 0:\n",
    "        line_disconnected += 1\n",
    "line_disconnected"
   ]
  },
  {
   "cell_type": "markdown",
   "metadata": {},
   "source": [
    "## Inspect the modification of the environment"
   ]
  },
  {
   "cell_type": "markdown",
   "metadata": {},
   "source": [
    "For example, we might want to inspect the number of hazards and maintenance of a total scenario, to see how difficult it was."
   ]
  },
  {
   "cell_type": "code",
   "execution_count": null,
   "metadata": {},
   "outputs": [],
   "source": [
    "nb_hazards = 0\n",
    "nb_maintenance = 0\n",
    "for act in this_episode.env_actions:\n",
    "    dict_ = act.as_dict() # representation of an action as a dictionnary, see the documentation for more information\n",
    "    if \"nb_hazards\" in dict_:\n",
    "        nb_hazards += 1\n",
    "    if \"nb_maintenance\" in dict_:\n",
    "        nb_maintenance += 1\n",
    "nb_maintenance"
   ]
  },
  {
   "cell_type": "markdown",
   "metadata": {},
   "source": [
    "## Inspect the observations"
   ]
  },
  {
   "cell_type": "markdown",
   "metadata": {},
   "source": [
    "For example, let's look at the value consumed by load 1. For this cell to work, it requires plotly for displaying the results."
   ]
  },
  {
   "cell_type": "code",
   "execution_count": null,
   "metadata": {},
   "outputs": [],
   "source": [
    "import plotly.graph_objects as go\n",
    "load_id = 1\n",
    "# extract the data\n",
    "val_load1 = np.zeros(len(li_observations))\n",
    "for i, obs in enumerate(li_observations):\n",
    "    dict_ = obs.state_of(load_id=load_id) # which effect has this action action on the substation with id 1\n",
    "    # other objects are: load_id, gen_id, line_id or substation_id\n",
    "    # see the documentation for more information.\n",
    "    val_load1[i] = dict_['p']\n",
    "\n",
    "# plot it\n",
    "fig = go.Figure(data=[go.Scatter(x=[i for i in range(len(val_load1))],\n",
    "                                 y=val_load1)])\n",
    "fig.update_layout(title=\"Consumption of load {}\".format(load_id),\n",
    "                 xaxis_title=\"Time step\",\n",
    "                 yaxis_title=\"Load (MW)\")\n",
    "fig.show()"
   ]
  },
  {
   "cell_type": "markdown",
   "metadata": {},
   "source": [
    "Or the values of generator 3 (it's supposed to represent a solar energy source)"
   ]
  },
  {
   "cell_type": "code",
   "execution_count": null,
   "metadata": {},
   "outputs": [],
   "source": [
    "gen_id = 4\n",
    "# extract the data\n",
    "val_lgen3 = np.zeros(len(li_observations))\n",
    "for i, obs in enumerate(li_observations):\n",
    "    dict_ = obs.state_of(gen_id=gen_id) # which effect has this action action on the substation with id 1\n",
    "    # other objects are: load_id, gen_id, line_id or substation_id\n",
    "    # see the documentation for more information.\n",
    "    val_lgen3[i] = dict_['p']\n",
    "\n",
    "# plot it\n",
    "fig = go.Figure(data=[go.Scatter(x=[i for i in range(len(val_lgen3))],\n",
    "                                 y=val_lgen3)])\n",
    "fig.update_layout(title=\"Production of generator {}\".format(gen_id),\n",
    "                 xaxis_title=\"Time step\",\n",
    "                 yaxis_title=\"Production (MW)\")\n",
    "fig.show()"
   ]
  },
  {
   "cell_type": "markdown",
   "metadata": {},
   "source": [
    "In the same fashion, we might want to get the flows on powerline connecting bus 3 to bus 4 (without knowing its id by using the appropriate method of the observation_space):"
   ]
  },
  {
   "cell_type": "code",
   "execution_count": null,
   "metadata": {},
   "outputs": [],
   "source": [
    "from_ = 3\n",
    "to_ = 4\n",
    "found_ids = observation_space.get_lines_id(from_=from_, to_=to_)\n",
    "line_id = found_ids[0]\n",
    "\n",
    "# extract the data\n",
    "val_l3_4 = np.zeros(len(li_observations))\n",
    "for i, obs in enumerate(li_observations):\n",
    "    dict_ = obs.state_of(line_id=line_id) # which effect has this action action on the substation with id 1\n",
    "    # other objects are: load_id, gen_id, line_id or substation_id\n",
    "    # see the documentation for more information.\n",
    "    val_l3_4[i] = dict_[\"origin\"]['a']\n",
    "\n",
    "# plot it\n",
    "fig = go.Figure(data=[go.Scatter(x=[i for i in range(len(val_l3_4))],\n",
    "                                 y=val_l3_4)])\n",
    "fig.update_layout(title=\"Flow on powerline {} (going from {} to {})\".format(line_id, from_, to_),\n",
    "                 xaxis_title=\"Time step\",\n",
    "                 yaxis_title=\"Production (MW)\")\n",
    "fig.show()"
   ]
  },
  {
   "cell_type": "markdown",
   "metadata": {},
   "source": [
    "## Quick display of a grid using an observation"
   ]
  },
  {
   "cell_type": "markdown",
   "metadata": {},
   "source": [
    "Bellow you can find an example on how to plot a observation and the underlying powergrid. This is an example, the results doesn't look really great. It uses plotly and requires the layout of the grid (eg the coordinates of the substations) to be specified.\n",
    "\n",
    "Note also that this code is not optimized at all."
   ]
  },
  {
   "cell_type": "code",
   "execution_count": 4,
   "metadata": {},
   "outputs": [
    {
     "name": "stderr",
     "output_type": "stream",
     "text": [
      "/home/donnotben/Documents/Grid2Op_dev/getting_started/grid2op/Plot/Plotting.py:47: UserWarning:\n",
      "\n",
      "Matplotlib is currently using module://ipykernel.pylab.backend_inline, which is a non-GUI backend, so cannot show the figure.\n",
      "\n"
     ]
    },
    {
     "data": {
      "image/png": "[encoded data removed]",
      "text/plain": [
       "<Figure size 1080x1080 with 1 Axes>"
      ]
     },
     "metadata": {
      "needs_background": "light"
     },
     "output_type": "display_data"
    }
   ],
   "source": [
    "from grid2op.Plot import Plotting\n",
    "obs = copy.deepcopy(this_episode.observations[-1])\n",
    "# and change the topology (just to have something to represent)\n",
    "obs.topo_vect[3:9] = [2,2,2,1,1,1]\n",
    "\n",
    "plot_helper = Plotting(observation_space=this_episode.observation_space, display_mod=\"matplotlib\")\n",
    "fig = plot_helper.plot_obs(obs)"
   ]
  },
  {
   "cell_type": "markdown",
   "metadata": {},
   "source": [
    "## Synching Observation and Action"
   ]
  },
  {
   "cell_type": "markdown",
   "metadata": {},
   "source": [
    "As stated in the documentation, at row i, it's the observation at time \"i\" and the action at time \"i\". So at row i of the numpy matrices, we see what the agent saw when he took his actions. We have \"an agent view\".\n",
    "\n",
    "In case we want to see the impact of an Action, it is then necessary to:\n",
    "\n",
    "- look at action i\n",
    "- look at observation i+1"
   ]
  },
  {
   "cell_type": "markdown",
   "metadata": {},
   "source": [
    "## Using the dedicated grid2viz framework\n",
    "\n",
    "Grid2viz is a package that has been developped to help you visualize the behaviour of your agent. \n",
    "\n",
    "It is available for now in a github repository [grid2viz](https://github.com/mjothy/grid2viz). In the few following cells we will demonstrate how to use it to inspect in more detail the log of the agents generated by the runner (second cell of this notebook).\n",
    "\n",
    "\n",
    "We will first run some other agents to show the full potential of grid2viz (optional). Then we emphasize a constraint on the use of grid2viz: the folder tree must respect a certain order. Then we show how to install it and finally how to launch it on the data generated by this notebook.\n",
    "\n",
    "![](https://raw.githubusercontent.com/mjothy/grid2viz/master/grid2viz/assets/screenshots/scenario_overview.png)"
   ]
  },
  {
   "cell_type": "markdown",
   "metadata": {},
   "source": [
    "### More agents to compare\n",
    "\n",
    "This section is not mandatory, but it is better to show the full capabilities of grid2viz. We will first run 2 others agents: the do nothing agent, and the topology greedy agents."
   ]
  },
  {
   "cell_type": "code",
   "execution_count": null,
   "metadata": {},
   "outputs": [],
   "source": [
    "# make a runner for this agent\n",
    "from grid2op.Agent import DoNothingAgent, TopologyGreedy\n",
    "\n",
    "for agentClass, agentName in zip([DoNothingAgent],  # , TopologyGreedy\n",
    "                                 [\"DoNothingAgent\"]):  # , \"TopologyGreedy\"\n",
    "    path_agent = os.path.join(path_agents, agentName)\n",
    "    shutil.rmtree(os.path.abspath(path_agent), ignore_errors=True)\n",
    "    runner = Runner(**env.get_params_for_runner(),\n",
    "                    agentClass=agentClass\n",
    "                    )\n",
    "    res = runner.run(path_save=path_agent, nb_episode=2, \n",
    "                    max_iter=max_iter)\n",
    "    print(\"The results for the {} agent are:\".format(agentName))\n",
    "    for _, chron_id, cum_reward, nb_time_step, max_ts in res:\n",
    "        msg_tmp = \"\\tFor chronics with id {}\\n\".format(chron_id)\n",
    "        msg_tmp += \"\\t\\t - cumulative reward: {:.6f}\\n\".format(cum_reward)\n",
    "        msg_tmp += \"\\t\\t - number of time steps completed: {:.0f} / {:.0f}\".format(nb_time_step, max_ts)\n",
    "        print(msg_tmp)"
   ]
  },
  {
   "cell_type": "markdown",
   "metadata": {},
   "source": [
    "### Caution"
   ]
  },
  {
   "cell_type": "markdown",
   "metadata": {},
   "source": [
    "Grid2Viz for now require a specific organization of the folders. You must:\n",
    "- use the runner to save the results of your experiment, using the \"path_save\" argument\n",
    "- the agent must be \"alone\" in this directory: you should save it to an empty directory\n",
    "- the path where the agent is stored must contain only folder of agents.\n",
    "\n",
    "These contraints give the following \"architecture\":\n",
    "\n",
    "+ regular directory\n",
    "    + runner log\n",
    "        + agent log 1\n",
    "            - scenario log 1\n",
    "            - scenario log 2\n",
    "                ...\n",
    "            - scenario log n\n",
    "        + agent log 2\n",
    "            - scenario log 1\n",
    "                ...\n",
    "            - scenario log p\n",
    "        + agent log 3\n",
    "            - scenario log 1\n",
    "                ...\n",
    "    + other folders\n",
    "+ other folders\n",
    "\n",
    "An example is given in the \"path_agents\" directory used in this notebook."
   ]
  },
  {
   "cell_type": "code",
   "execution_count": null,
   "metadata": {},
   "outputs": [],
   "source": [
    "!ls -R $path_agents"
   ]
  },
  {
   "cell_type": "markdown",
   "metadata": {},
   "source": [
    "If the command \"tree\" is installed on your machine, you can uncomment the following cell to have a better layout."
   ]
  },
  {
   "cell_type": "code",
   "execution_count": null,
   "metadata": {},
   "outputs": [],
   "source": [
    "# !tree $path_agents"
   ]
  },
  {
   "cell_type": "markdown",
   "metadata": {},
   "source": [
    "### Installation\n",
    "\n",
    "Grid2Viz is not yet on pypi, the python package repository. So you need a specific command to install it. It can be done super easily by running the cell bellow (more information can be found on the grid2iz github)."
   ]
  },
  {
   "cell_type": "code",
   "execution_count": null,
   "metadata": {},
   "outputs": [],
   "source": [
    "import sys\n",
    "print(\"To install it, either uncomment the cell bellow, or type, in a command prompt:\\n{}\".format(\n",
    "    (\"\\t{} -m pip install git+https://github.com/mjothy/grid2viz.git --user --extra-index-url https://test.pypi.org/simple/\".format(sys.executable))))"
   ]
  },
  {
   "cell_type": "code",
   "execution_count": null,
   "metadata": {},
   "outputs": [],
   "source": [
    "# !$sys.executable -m pip install git+https://github.com/mjothy/grid2viz --user --extra-index-url https://test.pypi.org/simple/"
   ]
  },
  {
   "cell_type": "markdown",
   "metadata": {},
   "source": [
    "### Usage"
   ]
  },
  {
   "cell_type": "markdown",
   "metadata": {},
   "source": [
    "Once the above package is installed, you can now start to study what your agent did (NB the agent must have been run with a runner and the \"path_save\" argument in order for grid2viz to work properly."
   ]
  },
  {
   "cell_type": "code",
   "execution_count": null,
   "metadata": {},
   "outputs": [],
   "source": [
    "print(\"You can start this server either by running the next cell, or by typing in a cmd:\\n\"\\\n",
    "      \"\\t\\t{} -m grid2viz.main --path {}\".format(sys.executable, os.path.abspath(path_agents)))"
   ]
  },
  {
   "cell_type": "markdown",
   "metadata": {},
   "source": [
    "For performance optimization, grid2viz uses a cache. This notebook being an example, it is recommended to clear the cache before starting the grid2viz app. Of course, if you study different generation of your agent, it is NOT recommended to clear the cache before any study."
   ]
  },
  {
   "cell_type": "code",
   "execution_count": null,
   "metadata": {},
   "outputs": [],
   "source": [
    "shutil.rmtree(os.path.join(os.path.abspath(path_agents), \"_cache\"), ignore_errors=True)"
   ]
  },
  {
   "cell_type": "code",
   "execution_count": 5,
   "metadata": {},
   "outputs": [
    {
     "name": "stdout",
     "output_type": "stream",
     "text": [
      "/usr/lib64/python3.6/runpy.py:125: RuntimeWarning: 'grid2viz.main' found in sys.modules after import of package 'grid2viz', but prior to execution of 'grid2viz.main'; this may result in unpredictable behaviour\n",
      "  warn(RuntimeWarning(msg))\n",
      " * Serving Flask app \"/home/donnotben/.local/lib/python3.6/site-packages/grid2viz/index.py\"\n",
      " * Environment: production\n",
      "\u001b[31m   WARNING: This is a development server. Do not use it in a production deployment.\u001b[0m\n",
      "\u001b[2m   Use a production WSGI server instead.\u001b[0m\n",
      " * Debug mode: off\n",
      "the config file used is located at: /home/donnotben/Documents/Grid2Op_dev/getting_started/config.ini\n",
      "Agents ata used are located at: /home/donnotben/Documents/Grid2Op_dev/getting_started/study_agent_getting_started\n",
      "Data used are located at: /home/donnotben/Documents/Grid2Op_dev/getting_started/study_agent_getting_started\n",
      " * Running on http://127.0.0.1:5000/ (Press CTRL+C to quit)\n",
      "127.0.0.1 - - [11/Apr/2020 17:53:31] \"\u001b[37mGET / HTTP/1.1\u001b[0m\" 200 -\n",
      "127.0.0.1 - - [11/Apr/2020 17:53:31] \"\u001b[36mGET /assets/loading.css?m=1583328724.0 HTTP/1.1\u001b[0m\" 304 -\n",
      "127.0.0.1 - - [11/Apr/2020 17:53:31] \"\u001b[36mGET /assets/main.css?m=1583328724.0 HTTP/1.1\u001b[0m\" 304 -\n",
      "127.0.0.1 - - [11/Apr/2020 17:53:32] \"\u001b[37mGET /_dash-layout HTTP/1.1\u001b[0m\" 200 -\n",
      "127.0.0.1 - - [11/Apr/2020 17:53:32] \"\u001b[37mGET /_dash-dependencies HTTP/1.1\u001b[0m\" 200 -\n",
      "127.0.0.1 - - [11/Apr/2020 17:53:32] \"\u001b[37mGET /assets/favicon.ico?m=1583328724.0 HTTP/1.1\u001b[0m\" 200 -\n",
      "127.0.0.1 - - [11/Apr/2020 17:53:32] \"\u001b[37mPOST /_dash-update-component HTTP/1.1\u001b[0m\" 200 -\n",
      "127.0.0.1 - - [11/Apr/2020 17:53:32] \"\u001b[37mPOST /_dash-update-component HTTP/1.1\u001b[0m\" 200 -\n",
      "127.0.0.1 - - [11/Apr/2020 17:53:32] \"\u001b[37mPOST /_dash-update-component HTTP/1.1\u001b[0m\" 200 -\n",
      "127.0.0.1 - - [11/Apr/2020 17:53:32] \"\u001b[37mPOST /_dash-update-component HTTP/1.1\u001b[0m\" 200 -\n",
      "127.0.0.1 - - [11/Apr/2020 17:53:32] \"\u001b[37mPOST /_dash-update-component HTTP/1.1\u001b[0m\" 200 -\n",
      "127.0.0.1 - - [11/Apr/2020 17:53:32] \"\u001b[36mGET /assets/loader.gif HTTP/1.1\u001b[0m\" 304 -\n",
      "computing df\n",
      "Environment\n",
      "100%|████████████████████████████████████████| 426/426 [00:01<00:00, 363.06it/s]\n",
      "Hazards-Maintenances\n",
      "0it [00:00, ?it/s]\n",
      "Big TS\n",
      "end computing df: 5.780522108078003\n",
      "computing df\n",
      "Environment\n",
      "100%|████████████████████████████████████████| 465/465 [00:01<00:00, 319.95it/s]\n",
      "Hazards-Maintenances\n",
      "0it [00:00, ?it/s]\n",
      "Big TS\n",
      "end computing df: 6.246368885040283\n",
      "127.0.0.1 - - [11/Apr/2020 17:53:46] \"\u001b[37mPOST /_dash-update-component HTTP/1.1\u001b[0m\" 200 -\n",
      "127.0.0.1 - - [11/Apr/2020 17:53:59] \"\u001b[37mPOST /_dash-update-component HTTP/1.1\u001b[0m\" 200 -\n",
      "127.0.0.1 - - [11/Apr/2020 17:53:59] \"\u001b[37mPOST /_dash-update-component HTTP/1.1\u001b[0m\" 200 -\n",
      "127.0.0.1 - - [11/Apr/2020 17:53:59] \"\u001b[37mPOST /_dash-update-component HTTP/1.1\u001b[0m\" 200 -\n",
      "127.0.0.1 - - [11/Apr/2020 17:53:59] \"\u001b[37mPOST /_dash-update-component HTTP/1.1\u001b[0m\" 200 -\n",
      "127.0.0.1 - - [11/Apr/2020 17:54:01] \"\u001b[37mPOST /_dash-update-component HTTP/1.1\u001b[0m\" 200 -\n",
      "127.0.0.1 - - [11/Apr/2020 17:54:01] \"\u001b[37mPOST /_dash-update-component HTTP/1.1\u001b[0m\" 200 -\n",
      "127.0.0.1 - - [11/Apr/2020 17:54:02] \"\u001b[37mGET /_dash-component-suites/dash_table/async-table.v4_6_1m1582839172.js HTTP/1.1\u001b[0m\" 200 -\n",
      "127.0.0.1 - - [11/Apr/2020 17:54:02] \"\u001b[37mGET /_dash-component-suites/dash_core_components/async-datepicker.v1_8_1m1582838719.js HTTP/1.1\u001b[0m\" 200 -\n",
      "127.0.0.1 - - [11/Apr/2020 17:54:02] \"\u001b[37mPOST /_dash-update-component HTTP/1.1\u001b[0m\" 200 -\n",
      "127.0.0.1 - - [11/Apr/2020 17:54:02] \"\u001b[37mPOST /_dash-update-component HTTP/1.1\u001b[0m\" 200 -\n",
      "127.0.0.1 - - [11/Apr/2020 17:54:02] \"\u001b[37mPOST /_dash-update-component HTTP/1.1\u001b[0m\" 200 -\n",
      "127.0.0.1 - - [11/Apr/2020 17:54:02] \"\u001b[37mPOST /_dash-update-component HTTP/1.1\u001b[0m\" 200 -\n",
      "127.0.0.1 - - [11/Apr/2020 17:54:02] \"\u001b[37mPOST /_dash-update-component HTTP/1.1\u001b[0m\" 200 -\n",
      "127.0.0.1 - - [11/Apr/2020 17:54:02] \"\u001b[37mPOST /_dash-update-component HTTP/1.1\u001b[0m\" 200 -\n",
      "127.0.0.1 - - [11/Apr/2020 17:54:02] \"\u001b[37mPOST /_dash-update-component HTTP/1.1\u001b[0m\" 200 -\n",
      "127.0.0.1 - - [11/Apr/2020 17:54:02] \"\u001b[37mPOST /_dash-update-component HTTP/1.1\u001b[0m\" 200 -\n",
      "127.0.0.1 - - [11/Apr/2020 17:54:02] \"\u001b[37mPOST /_dash-update-component HTTP/1.1\u001b[0m\" 200 -\n",
      "127.0.0.1 - - [11/Apr/2020 17:54:02] \"\u001b[37mPOST /_dash-update-component HTTP/1.1\u001b[0m\" 200 -\n",
      "127.0.0.1 - - [11/Apr/2020 17:54:02] \"\u001b[37mPOST /_dash-update-component HTTP/1.1\u001b[0m\" 200 -\n",
      "127.0.0.1 - - [11/Apr/2020 17:54:02] \"\u001b[37mPOST /_dash-update-component HTTP/1.1\u001b[0m\" 200 -\n",
      "127.0.0.1 - - [11/Apr/2020 17:54:02] \"\u001b[37mPOST /_dash-update-component HTTP/1.1\u001b[0m\" 200 -\n",
      "127.0.0.1 - - [11/Apr/2020 17:54:03] \"\u001b[37mPOST /_dash-update-component HTTP/1.1\u001b[0m\" 200 -\n",
      "127.0.0.1 - - [11/Apr/2020 17:54:03] \"\u001b[37mPOST /_dash-update-component HTTP/1.1\u001b[0m\" 204 -\n",
      "127.0.0.1 - - [11/Apr/2020 17:54:03] \"\u001b[37mPOST /_dash-update-component HTTP/1.1\u001b[0m\" 204 -\n",
      "127.0.0.1 - - [11/Apr/2020 17:54:03] \"\u001b[37mPOST /_dash-update-component HTTP/1.1\u001b[0m\" 200 -\n",
      "127.0.0.1 - - [11/Apr/2020 17:54:03] \"\u001b[37mPOST /_dash-update-component HTTP/1.1\u001b[0m\" 200 -\n",
      "127.0.0.1 - - [11/Apr/2020 17:54:03] \"\u001b[37mPOST /_dash-update-component HTTP/1.1\u001b[0m\" 200 -\n",
      "127.0.0.1 - - [11/Apr/2020 17:54:03] \"\u001b[37mPOST /_dash-update-component HTTP/1.1\u001b[0m\" 200 -\n",
      "127.0.0.1 - - [11/Apr/2020 17:54:03] \"\u001b[37mPOST /_dash-update-component HTTP/1.1\u001b[0m\" 200 -\n",
      "127.0.0.1 - - [11/Apr/2020 17:54:03] \"\u001b[37mPOST /_dash-update-component HTTP/1.1\u001b[0m\" 200 -\n",
      "127.0.0.1 - - [11/Apr/2020 17:54:03] \"\u001b[37mPOST /_dash-update-component HTTP/1.1\u001b[0m\" 200 -\n",
      "Exception on /_dash-update-component [POST]\n",
      "Traceback (most recent call last):\n",
      "  File \"/home/donnotben/.local/lib/python3.6/site-packages/flask/app.py\", line 2446, in wsgi_app\n",
      "    response = self.full_dispatch_request()\n",
      "  File \"/home/donnotben/.local/lib/python3.6/site-packages/flask/app.py\", line 1951, in full_dispatch_request\n",
      "    rv = self.handle_user_exception(e)\n",
      "  File \"/home/donnotben/.local/lib/python3.6/site-packages/flask/app.py\", line 1820, in handle_user_exception\n",
      "    reraise(exc_type, exc_value, tb)\n",
      "  File \"/home/donnotben/.local/lib/python3.6/site-packages/flask/_compat.py\", line 39, in reraise\n",
      "    raise value\n",
      "  File \"/home/donnotben/.local/lib/python3.6/site-packages/flask/app.py\", line 1949, in full_dispatch_request\n",
      "    rv = self.dispatch_request()\n",
      "  File \"/home/donnotben/.local/lib/python3.6/site-packages/flask/app.py\", line 1935, in dispatch_request\n",
      "    return self.view_functions[rule.endpoint](**req.view_args)\n",
      "  File \"/home/donnotben/.local/lib/python3.6/site-packages/dash/dash.py\", line 1461, in dispatch\n",
      "    response.set_data(self.callback_map[output][\"callback\"](*args))\n",
      "  File \"/home/donnotben/.local/lib/python3.6/site-packages/dash/dash.py\", line 1341, in add_context\n",
      "    output_value = func(*args, **kwargs)  # %% callback invoked %%\n",
      "  File \"/home/donnotben/.local/lib/python3.6/site-packages/grid2viz/src/overview/overview_clbk.py\", line 132, in update_table\n",
      "    df = observation_model.init_table_inspection_data(episode)\n",
      "  File \"/home/donnotben/.local/lib/python3.6/site-packages/grid2kpi/episode/observation_model.py\", line 81, in init_table_inspection_data\n",
      "    table[\"IsWorkingDay\"] = table[\"timestamp\"].dt.weekday < 5\n",
      "  File \"/home/donnotben/.local/lib/python3.6/site-packages/pandas/core/generic.py\", line 5270, in __getattr__\n",
      "    return object.__getattribute__(self, name)\n",
      "  File \"/home/donnotben/.local/lib/python3.6/site-packages/pandas/core/accessor.py\", line 187, in __get__\n",
      "    accessor_obj = self._accessor(obj)\n",
      "  File \"/home/donnotben/.local/lib/python3.6/site-packages/pandas/core/indexes/accessors.py\", line 338, in __new__\n",
      "    raise AttributeError(\"Can only use .dt accessor with datetimelike values\")\n",
      "AttributeError: Can only use .dt accessor with datetimelike values\n",
      "127.0.0.1 - - [11/Apr/2020 17:54:03] \"\u001b[35m\u001b[1mPOST /_dash-update-component HTTP/1.1\u001b[0m\" 500 -\n",
      "Exception on /_dash-update-component [POST]\n",
      "Traceback (most recent call last):\n",
      "  File \"/home/donnotben/.local/lib/python3.6/site-packages/flask/app.py\", line 2446, in wsgi_app\n",
      "    response = self.full_dispatch_request()\n",
      "  File \"/home/donnotben/.local/lib/python3.6/site-packages/flask/app.py\", line 1951, in full_dispatch_request\n",
      "    rv = self.handle_user_exception(e)\n",
      "  File \"/home/donnotben/.local/lib/python3.6/site-packages/flask/app.py\", line 1820, in handle_user_exception\n",
      "    reraise(exc_type, exc_value, tb)\n",
      "  File \"/home/donnotben/.local/lib/python3.6/site-packages/flask/_compat.py\", line 39, in reraise\n",
      "    raise value\n",
      "  File \"/home/donnotben/.local/lib/python3.6/site-packages/flask/app.py\", line 1949, in full_dispatch_request\n",
      "    rv = self.dispatch_request()\n",
      "  File \"/home/donnotben/.local/lib/python3.6/site-packages/flask/app.py\", line 1935, in dispatch_request\n",
      "    return self.view_functions[rule.endpoint](**req.view_args)\n",
      "  File \"/home/donnotben/.local/lib/python3.6/site-packages/dash/dash.py\", line 1461, in dispatch\n",
      "    response.set_data(self.callback_map[output][\"callback\"](*args))\n",
      "  File \"/home/donnotben/.local/lib/python3.6/site-packages/dash/dash.py\", line 1341, in add_context\n",
      "    output_value = func(*args, **kwargs)  # %% callback invoked %%\n",
      "  File \"/home/donnotben/.local/lib/python3.6/site-packages/grid2viz/src/overview/overview_clbk.py\", line 132, in update_table\n",
      "    df = observation_model.init_table_inspection_data(episode)\n",
      "  File \"/home/donnotben/.local/lib/python3.6/site-packages/grid2kpi/episode/observation_model.py\", line 81, in init_table_inspection_data\n",
      "    table[\"IsWorkingDay\"] = table[\"timestamp\"].dt.weekday < 5\n",
      "  File \"/home/donnotben/.local/lib/python3.6/site-packages/pandas/core/generic.py\", line 5270, in __getattr__\n",
      "    return object.__getattribute__(self, name)\n",
      "  File \"/home/donnotben/.local/lib/python3.6/site-packages/pandas/core/accessor.py\", line 187, in __get__\n",
      "    accessor_obj = self._accessor(obj)\n",
      "  File \"/home/donnotben/.local/lib/python3.6/site-packages/pandas/core/indexes/accessors.py\", line 338, in __new__\n",
      "    raise AttributeError(\"Can only use .dt accessor with datetimelike values\")\n",
      "AttributeError: Can only use .dt accessor with datetimelike values\n",
      "127.0.0.1 - - [11/Apr/2020 17:54:03] \"\u001b[35m\u001b[1mPOST /_dash-update-component HTTP/1.1\u001b[0m\" 500 -\n",
      "127.0.0.1 - - [11/Apr/2020 17:54:03] \"\u001b[37mPOST /_dash-update-component HTTP/1.1\u001b[0m\" 200 -\n"
     ]
    },
    {
     "name": "stdout",
     "output_type": "stream",
     "text": [
      "127.0.0.1 - - [11/Apr/2020 17:54:03] \"\u001b[37mPOST /_dash-update-component HTTP/1.1\u001b[0m\" 200 -\n",
      "127.0.0.1 - - [11/Apr/2020 17:54:04] \"\u001b[37mPOST /_dash-update-component HTTP/1.1\u001b[0m\" 200 -\n",
      "127.0.0.1 - - [11/Apr/2020 17:54:04] \"\u001b[37mPOST /_dash-update-component HTTP/1.1\u001b[0m\" 200 -\n",
      "127.0.0.1 - - [11/Apr/2020 17:54:24] \"\u001b[37mPOST /_dash-update-component HTTP/1.1\u001b[0m\" 200 -\n",
      "127.0.0.1 - - [11/Apr/2020 17:54:24] \"\u001b[37mPOST /_dash-update-component HTTP/1.1\u001b[0m\" 200 -\n",
      "127.0.0.1 - - [11/Apr/2020 17:54:24] \"\u001b[37mPOST /_dash-update-component HTTP/1.1\u001b[0m\" 200 -\n",
      "127.0.0.1 - - [11/Apr/2020 17:54:27] \"\u001b[37mPOST /_dash-update-component HTTP/1.1\u001b[0m\" 204 -\n",
      "127.0.0.1 - - [11/Apr/2020 17:54:37] \"\u001b[37mPOST /_dash-update-component HTTP/1.1\u001b[0m\" 200 -\n",
      "127.0.0.1 - - [11/Apr/2020 17:54:37] \"\u001b[37mPOST /_dash-update-component HTTP/1.1\u001b[0m\" 200 -\n",
      "127.0.0.1 - - [11/Apr/2020 17:54:37] \"\u001b[37mPOST /_dash-update-component HTTP/1.1\u001b[0m\" 200 -\n",
      "127.0.0.1 - - [11/Apr/2020 17:54:45] \"\u001b[37mPOST /_dash-update-component HTTP/1.1\u001b[0m\" 200 -\n",
      "127.0.0.1 - - [11/Apr/2020 17:54:46] \"\u001b[37mPOST /_dash-update-component HTTP/1.1\u001b[0m\" 200 -\n",
      "127.0.0.1 - - [11/Apr/2020 17:54:48] \"\u001b[37mPOST /_dash-update-component HTTP/1.1\u001b[0m\" 200 -\n",
      "127.0.0.1 - - [11/Apr/2020 17:54:48] \"\u001b[37mPOST /_dash-update-component HTTP/1.1\u001b[0m\" 200 -\n",
      "127.0.0.1 - - [11/Apr/2020 17:54:48] \"\u001b[37mPOST /_dash-update-component HTTP/1.1\u001b[0m\" 200 -\n",
      "127.0.0.1 - - [11/Apr/2020 17:54:48] \"\u001b[37mPOST /_dash-update-component HTTP/1.1\u001b[0m\" 204 -\n",
      "127.0.0.1 - - [11/Apr/2020 17:54:48] \"\u001b[37mPOST /_dash-update-component HTTP/1.1\u001b[0m\" 200 -\n",
      "127.0.0.1 - - [11/Apr/2020 17:54:48] \"\u001b[37mPOST /_dash-update-component HTTP/1.1\u001b[0m\" 200 -\n",
      "127.0.0.1 - - [11/Apr/2020 17:54:48] \"\u001b[37mPOST /_dash-update-component HTTP/1.1\u001b[0m\" 200 -\n",
      "127.0.0.1 - - [11/Apr/2020 17:54:48] \"\u001b[37mPOST /_dash-update-component HTTP/1.1\u001b[0m\" 200 -\n",
      "127.0.0.1 - - [11/Apr/2020 17:54:48] \"\u001b[37mPOST /_dash-update-component HTTP/1.1\u001b[0m\" 200 -\n",
      "127.0.0.1 - - [11/Apr/2020 17:54:48] \"\u001b[37mPOST /_dash-update-component HTTP/1.1\u001b[0m\" 200 -\n",
      "127.0.0.1 - - [11/Apr/2020 17:54:48] \"\u001b[37mPOST /_dash-update-component HTTP/1.1\u001b[0m\" 204 -\n",
      "127.0.0.1 - - [11/Apr/2020 17:54:48] \"\u001b[37mPOST /_dash-update-component HTTP/1.1\u001b[0m\" 204 -\n",
      "127.0.0.1 - - [11/Apr/2020 17:54:48] \"\u001b[37mPOST /_dash-update-component HTTP/1.1\u001b[0m\" 200 -\n",
      "127.0.0.1 - - [11/Apr/2020 17:54:48] \"\u001b[37mPOST /_dash-update-component HTTP/1.1\u001b[0m\" 204 -\n",
      "127.0.0.1 - - [11/Apr/2020 17:54:48] \"\u001b[37mPOST /_dash-update-component HTTP/1.1\u001b[0m\" 200 -\n",
      "Exception on /_dash-update-component [POST]\n",
      "Traceback (most recent call last):\n",
      "  File \"/home/donnotben/.local/lib/python3.6/site-packages/flask/app.py\", line 2446, in wsgi_app\n",
      "    response = self.full_dispatch_request()\n",
      "  File \"/home/donnotben/.local/lib/python3.6/site-packages/flask/app.py\", line 1951, in full_dispatch_request\n",
      "    rv = self.handle_user_exception(e)\n",
      "  File \"/home/donnotben/.local/lib/python3.6/site-packages/flask/app.py\", line 1820, in handle_user_exception\n",
      "    reraise(exc_type, exc_value, tb)\n",
      "  File \"/home/donnotben/.local/lib/python3.6/site-packages/flask/_compat.py\", line 39, in reraise\n",
      "    raise value\n",
      "  File \"/home/donnotben/.local/lib/python3.6/site-packages/flask/app.py\", line 1949, in full_dispatch_request\n",
      "    rv = self.dispatch_request()\n",
      "  File \"/home/donnotben/.local/lib/python3.6/site-packages/flask/app.py\", line 1935, in dispatch_request\n",
      "    return self.view_functions[rule.endpoint](**req.view_args)\n",
      "  File \"/home/donnotben/.local/lib/python3.6/site-packages/dash/dash.py\", line 1461, in dispatch\n",
      "    response.set_data(self.callback_map[output][\"callback\"](*args))\n",
      "  File \"/home/donnotben/.local/lib/python3.6/site-packages/dash/dash.py\", line 1341, in add_context\n",
      "    output_value = func(*args, **kwargs)  # %% callback invoked %%\n",
      "  File \"/home/donnotben/.local/lib/python3.6/site-packages/grid2viz/src/macro/macro_clbk.py\", line 178, in update_agent_log_graph\n",
      "    maintenance_trace = EpisodeTrace.get_maintenance_trace(new_episode, [\"total\"])[0]\n",
      "  File \"/home/donnotben/.local/lib/python3.6/site-packages/grid2kpi/episode/EpisodeTrace.py\", line 88, in get_maintenance_trace\n",
      "    for line in ts_maintenances_by_line.columns]\n",
      "  File \"/home/donnotben/.local/lib/python3.6/site-packages/grid2kpi/episode/EpisodeTrace.py\", line 88, in <listcomp>\n",
      "    for line in ts_maintenances_by_line.columns]\n",
      "  File \"/home/donnotben/.local/lib/python3.6/site-packages/plotly/graph_objs/__init__.py\", line 37976, in __init__\n",
      "    self[\"name\"] = name if name is not None else _v\n",
      "  File \"/home/donnotben/.local/lib/python3.6/site-packages/plotly/basedatatypes.py\", line 3490, in __setitem__\n",
      "    self._set_prop(prop, value)\n",
      "  File \"/home/donnotben/.local/lib/python3.6/site-packages/plotly/basedatatypes.py\", line 3777, in _set_prop\n",
      "    raise err\n",
      "  File \"/home/donnotben/.local/lib/python3.6/site-packages/plotly/basedatatypes.py\", line 3772, in _set_prop\n",
      "    val = validator.validate_coerce(val)\n",
      "  File \"/home/donnotben/.local/lib/python3.6/site-packages/_plotly_utils/basevalidators.py\", line 1080, in validate_coerce\n",
      "    self.raise_invalid_val(v)\n",
      "  File \"/home/donnotben/.local/lib/python3.6/site-packages/_plotly_utils/basevalidators.py\", line 283, in raise_invalid_val\n",
      "    valid_clr_desc=self.description(),\n",
      "ValueError: \n",
      "    Invalid value of type 'builtins.tuple' received for the 'name' property of scatter\n",
      "        Received value: ('total', '')\n",
      "\n",
      "    The 'name' property is a string and must be specified as:\n",
      "      - A string\n",
      "      - A number that will be converted to a string\n",
      "127.0.0.1 - - [11/Apr/2020 17:54:48] \"\u001b[35m\u001b[1mPOST /_dash-update-component HTTP/1.1\u001b[0m\" 500 -\n",
      "127.0.0.1 - - [11/Apr/2020 17:54:48] \"\u001b[37mPOST /_dash-update-component HTTP/1.1\u001b[0m\" 200 -\n",
      "127.0.0.1 - - [11/Apr/2020 17:54:49] \"\u001b[37mPOST /_dash-update-component HTTP/1.1\u001b[0m\" 204 -\n",
      "127.0.0.1 - - [11/Apr/2020 17:54:49] \"\u001b[37mPOST /_dash-update-component HTTP/1.1\u001b[0m\" 200 -\n",
      "127.0.0.1 - - [11/Apr/2020 17:54:50] \"\u001b[37mPOST /_dash-update-component HTTP/1.1\u001b[0m\" 200 -\n",
      "127.0.0.1 - - [11/Apr/2020 17:54:50] \"\u001b[37mPOST /_dash-update-component HTTP/1.1\u001b[0m\" 200 -\n",
      "Exception on /_dash-update-component [POST]\n",
      "Traceback (most recent call last):\n",
      "  File \"/home/donnotben/.local/lib/python3.6/site-packages/flask/app.py\", line 2446, in wsgi_app\n",
      "    response = self.full_dispatch_request()\n",
      "  File \"/home/donnotben/.local/lib/python3.6/site-packages/flask/app.py\", line 1951, in full_dispatch_request\n",
      "    rv = self.handle_user_exception(e)\n",
      "  File \"/home/donnotben/.local/lib/python3.6/site-packages/flask/app.py\", line 1820, in handle_user_exception\n",
      "    reraise(exc_type, exc_value, tb)\n",
      "  File \"/home/donnotben/.local/lib/python3.6/site-packages/flask/_compat.py\", line 39, in reraise\n",
      "    raise value\n",
      "  File \"/home/donnotben/.local/lib/python3.6/site-packages/flask/app.py\", line 1949, in full_dispatch_request\n",
      "    rv = self.dispatch_request()\n",
      "  File \"/home/donnotben/.local/lib/python3.6/site-packages/flask/app.py\", line 1935, in dispatch_request\n",
      "    return self.view_functions[rule.endpoint](**req.view_args)\n",
      "  File \"/home/donnotben/.local/lib/python3.6/site-packages/dash/dash.py\", line 1461, in dispatch\n",
      "    response.set_data(self.callback_map[output][\"callback\"](*args))\n",
      "  File \"/home/donnotben/.local/lib/python3.6/site-packages/dash/dash.py\", line 1341, in add_context\n",
      "    output_value = func(*args, **kwargs)  # %% callback invoked %%\n",
      "  File \"/home/donnotben/.local/lib/python3.6/site-packages/grid2viz/src/macro/macro_clbk.py\", line 178, in update_agent_log_graph\n",
      "    maintenance_trace = EpisodeTrace.get_maintenance_trace(new_episode, [\"total\"])[0]\n",
      "  File \"/home/donnotben/.local/lib/python3.6/site-packages/grid2kpi/episode/EpisodeTrace.py\", line 88, in get_maintenance_trace\n",
      "    for line in ts_maintenances_by_line.columns]\n",
      "  File \"/home/donnotben/.local/lib/python3.6/site-packages/grid2kpi/episode/EpisodeTrace.py\", line 88, in <listcomp>\n",
      "    for line in ts_maintenances_by_line.columns]\n",
      "  File \"/home/donnotben/.local/lib/python3.6/site-packages/plotly/graph_objs/__init__.py\", line 37976, in __init__\n",
      "    self[\"name\"] = name if name is not None else _v\n",
      "  File \"/home/donnotben/.local/lib/python3.6/site-packages/plotly/basedatatypes.py\", line 3490, in __setitem__\n",
      "    self._set_prop(prop, value)\n",
      "  File \"/home/donnotben/.local/lib/python3.6/site-packages/plotly/basedatatypes.py\", line 3777, in _set_prop\n",
      "    raise err\n",
      "  File \"/home/donnotben/.local/lib/python3.6/site-packages/plotly/basedatatypes.py\", line 3772, in _set_prop\n",
      "    val = validator.validate_coerce(val)\n",
      "  File \"/home/donnotben/.local/lib/python3.6/site-packages/_plotly_utils/basevalidators.py\", line 1080, in validate_coerce\n",
      "    self.raise_invalid_val(v)\n",
      "  File \"/home/donnotben/.local/lib/python3.6/site-packages/_plotly_utils/basevalidators.py\", line 283, in raise_invalid_val\n",
      "    valid_clr_desc=self.description(),\n",
      "ValueError: \n",
      "    Invalid value of type 'builtins.tuple' received for the 'name' property of scatter\n",
      "        Received value: ('total', '')\n",
      "\n",
      "    The 'name' property is a string and must be specified as:\n",
      "      - A string\n",
      "      - A number that will be converted to a string\n",
      "127.0.0.1 - - [11/Apr/2020 17:54:50] \"\u001b[35m\u001b[1mPOST /_dash-update-component HTTP/1.1\u001b[0m\" 500 -\n"
     ]
    },
    {
     "name": "stdout",
     "output_type": "stream",
     "text": [
      "127.0.0.1 - - [11/Apr/2020 17:54:50] \"\u001b[37mPOST /_dash-update-component HTTP/1.1\u001b[0m\" 200 -\n",
      "127.0.0.1 - - [11/Apr/2020 17:54:50] \"\u001b[37mPOST /_dash-update-component HTTP/1.1\u001b[0m\" 200 -\n",
      "127.0.0.1 - - [11/Apr/2020 17:54:50] \"\u001b[37mPOST /_dash-update-component HTTP/1.1\u001b[0m\" 200 -\n",
      "127.0.0.1 - - [11/Apr/2020 17:54:50] \"\u001b[37mPOST /_dash-update-component HTTP/1.1\u001b[0m\" 200 -\n",
      "127.0.0.1 - - [11/Apr/2020 17:54:50] \"\u001b[37mPOST /_dash-update-component HTTP/1.1\u001b[0m\" 200 -\n",
      "127.0.0.1 - - [11/Apr/2020 17:54:50] \"\u001b[37mPOST /_dash-update-component HTTP/1.1\u001b[0m\" 200 -\n",
      "Exception on /_dash-update-component [POST]\n",
      "Traceback (most recent call last):\n",
      "  File \"/home/donnotben/.local/lib/python3.6/site-packages/flask/app.py\", line 2446, in wsgi_app\n",
      "    response = self.full_dispatch_request()\n",
      "  File \"/home/donnotben/.local/lib/python3.6/site-packages/flask/app.py\", line 1951, in full_dispatch_request\n",
      "    rv = self.handle_user_exception(e)\n",
      "  File \"/home/donnotben/.local/lib/python3.6/site-packages/flask/app.py\", line 1820, in handle_user_exception\n",
      "    reraise(exc_type, exc_value, tb)\n",
      "  File \"/home/donnotben/.local/lib/python3.6/site-packages/flask/_compat.py\", line 39, in reraise\n",
      "    raise value\n",
      "  File \"/home/donnotben/.local/lib/python3.6/site-packages/flask/app.py\", line 1949, in full_dispatch_request\n",
      "    rv = self.dispatch_request()\n",
      "  File \"/home/donnotben/.local/lib/python3.6/site-packages/flask/app.py\", line 1935, in dispatch_request\n",
      "    return self.view_functions[rule.endpoint](**req.view_args)\n",
      "  File \"/home/donnotben/.local/lib/python3.6/site-packages/dash/dash.py\", line 1461, in dispatch\n",
      "    response.set_data(self.callback_map[output][\"callback\"](*args))\n",
      "  File \"/home/donnotben/.local/lib/python3.6/site-packages/dash/dash.py\", line 1341, in add_context\n",
      "    output_value = func(*args, **kwargs)  # %% callback invoked %%\n",
      "  File \"/home/donnotben/.local/lib/python3.6/site-packages/grid2viz/src/macro/macro_clbk.py\", line 178, in update_agent_log_graph\n",
      "    maintenance_trace = EpisodeTrace.get_maintenance_trace(new_episode, [\"total\"])[0]\n",
      "  File \"/home/donnotben/.local/lib/python3.6/site-packages/grid2kpi/episode/EpisodeTrace.py\", line 88, in get_maintenance_trace\n",
      "    for line in ts_maintenances_by_line.columns]\n",
      "  File \"/home/donnotben/.local/lib/python3.6/site-packages/grid2kpi/episode/EpisodeTrace.py\", line 88, in <listcomp>\n",
      "    for line in ts_maintenances_by_line.columns]\n",
      "  File \"/home/donnotben/.local/lib/python3.6/site-packages/plotly/graph_objs/__init__.py\", line 37976, in __init__\n",
      "    self[\"name\"] = name if name is not None else _v\n",
      "  File \"/home/donnotben/.local/lib/python3.6/site-packages/plotly/basedatatypes.py\", line 3490, in __setitem__\n",
      "    self._set_prop(prop, value)\n",
      "  File \"/home/donnotben/.local/lib/python3.6/site-packages/plotly/basedatatypes.py\", line 3777, in _set_prop\n",
      "    raise err\n",
      "  File \"/home/donnotben/.local/lib/python3.6/site-packages/plotly/basedatatypes.py\", line 3772, in _set_prop\n",
      "    val = validator.validate_coerce(val)\n",
      "  File \"/home/donnotben/.local/lib/python3.6/site-packages/_plotly_utils/basevalidators.py\", line 1080, in validate_coerce\n",
      "    self.raise_invalid_val(v)\n",
      "  File \"/home/donnotben/.local/lib/python3.6/site-packages/_plotly_utils/basevalidators.py\", line 283, in raise_invalid_val\n",
      "    valid_clr_desc=self.description(),\n",
      "ValueError: \n",
      "    Invalid value of type 'builtins.tuple' received for the 'name' property of scatter\n",
      "        Received value: ('total', '')\n",
      "\n",
      "    The 'name' property is a string and must be specified as:\n",
      "      - A string\n",
      "      - A number that will be converted to a string\n",
      "127.0.0.1 - - [11/Apr/2020 17:54:50] \"\u001b[35m\u001b[1mPOST /_dash-update-component HTTP/1.1\u001b[0m\" 500 -\n",
      "127.0.0.1 - - [11/Apr/2020 17:55:05] \"\u001b[37mPOST /_dash-update-component HTTP/1.1\u001b[0m\" 200 -\n",
      "Exception on /_dash-update-component [POST]\n",
      "Traceback (most recent call last):\n",
      "  File \"/home/donnotben/.local/lib/python3.6/site-packages/flask/app.py\", line 2446, in wsgi_app\n",
      "    response = self.full_dispatch_request()\n",
      "  File \"/home/donnotben/.local/lib/python3.6/site-packages/flask/app.py\", line 1951, in full_dispatch_request\n",
      "    rv = self.handle_user_exception(e)\n",
      "  File \"/home/donnotben/.local/lib/python3.6/site-packages/flask/app.py\", line 1820, in handle_user_exception\n",
      "    reraise(exc_type, exc_value, tb)\n",
      "  File \"/home/donnotben/.local/lib/python3.6/site-packages/flask/_compat.py\", line 39, in reraise\n",
      "    raise value\n",
      "  File \"/home/donnotben/.local/lib/python3.6/site-packages/flask/app.py\", line 1949, in full_dispatch_request\n",
      "    rv = self.dispatch_request()\n",
      "  File \"/home/donnotben/.local/lib/python3.6/site-packages/flask/app.py\", line 1935, in dispatch_request\n",
      "    return self.view_functions[rule.endpoint](**req.view_args)\n",
      "  File \"/home/donnotben/.local/lib/python3.6/site-packages/dash/dash.py\", line 1461, in dispatch\n",
      "    response.set_data(self.callback_map[output][\"callback\"](*args))\n",
      "  File \"/home/donnotben/.local/lib/python3.6/site-packages/dash/dash.py\", line 1341, in add_context\n",
      "    output_value = func(*args, **kwargs)  # %% callback invoked %%\n",
      "  File \"/home/donnotben/.local/lib/python3.6/site-packages/grid2viz/index.py\", line 139, in display_page\n",
      "    return micro.layout(user_selected_timestamp, study_agent, ref_agent, scenario), \"micro\"\n",
      "  File \"/home/donnotben/.local/lib/python3.6/site-packages/grid2viz/src/micro/micro_lyt.py\", line 245, in layout\n",
      "    network_graph = make_network(new_episode).get_plot_observation(new_episode.observations[center_indx])\n",
      "  File \"/home/donnotben/.local/lib/python3.6/site-packages/grid2viz/src/manager.py\", line 26, in make_network\n",
      "    substation_layout=network_layout, observation_space=episode.observation_space)\n",
      "  File \"/home/donnotben/Documents/Grid2Op_dev/grid2op/PlotPlotly.py\", line 22, in __init__\n",
      "    PlotPlotly.__init__(self, *args, **kwargs)\n",
      "  File \"/home/donnotben/Documents/Grid2Op_dev/grid2op/Plot/PlotPlotly.py\", line 239, in __init__\n",
      "    bus_radius=bus_radius)\n",
      "  File \"/home/donnotben/Documents/Grid2Op_dev/grid2op/Plot/BasePlot.py\", line 64, in __init__\n",
      "    \"Your layout is invalid\".format(len(substation_layout), observation_space.n_sub))\n",
      "grid2op.Exceptions.PlotExceptions.PlotError: Grid2OpException PlotError \"You provided a layout with 0 elements while there are 14 substations on the powergrid. Your layout is invalid\"\n",
      "127.0.0.1 - - [11/Apr/2020 17:55:05] \"\u001b[35m\u001b[1mPOST /_dash-update-component HTTP/1.1\u001b[0m\" 500 -\n",
      "127.0.0.1 - - [11/Apr/2020 17:55:10] \"\u001b[37mPOST /_dash-update-component HTTP/1.1\u001b[0m\" 200 -\n",
      "127.0.0.1 - - [11/Apr/2020 17:55:10] \"\u001b[37mPOST /_dash-update-component HTTP/1.1\u001b[0m\" 200 -\n",
      "127.0.0.1 - - [11/Apr/2020 17:55:10] \"\u001b[37mPOST /_dash-update-component HTTP/1.1\u001b[0m\" 200 -\n",
      "127.0.0.1 - - [11/Apr/2020 17:55:10] \"\u001b[37mPOST /_dash-update-component HTTP/1.1\u001b[0m\" 200 -\n",
      "127.0.0.1 - - [11/Apr/2020 17:55:10] \"\u001b[37mPOST /_dash-update-component HTTP/1.1\u001b[0m\" 200 -\n",
      "127.0.0.1 - - [11/Apr/2020 17:55:10] \"\u001b[37mPOST /_dash-update-component HTTP/1.1\u001b[0m\" 200 -\n",
      "127.0.0.1 - - [11/Apr/2020 17:55:12] \"\u001b[37mPOST /_dash-update-component HTTP/1.1\u001b[0m\" 200 -\n",
      "Exception on /_dash-update-component [POST]\n",
      "Traceback (most recent call last):\n",
      "  File \"/home/donnotben/.local/lib/python3.6/site-packages/flask/app.py\", line 2446, in wsgi_app\n",
      "    response = self.full_dispatch_request()\n",
      "  File \"/home/donnotben/.local/lib/python3.6/site-packages/flask/app.py\", line 1951, in full_dispatch_request\n",
      "    rv = self.handle_user_exception(e)\n",
      "  File \"/home/donnotben/.local/lib/python3.6/site-packages/flask/app.py\", line 1820, in handle_user_exception\n",
      "    reraise(exc_type, exc_value, tb)\n",
      "  File \"/home/donnotben/.local/lib/python3.6/site-packages/flask/_compat.py\", line 39, in reraise\n",
      "    raise value\n",
      "  File \"/home/donnotben/.local/lib/python3.6/site-packages/flask/app.py\", line 1949, in full_dispatch_request\n",
      "    rv = self.dispatch_request()\n",
      "  File \"/home/donnotben/.local/lib/python3.6/site-packages/flask/app.py\", line 1935, in dispatch_request\n",
      "    return self.view_functions[rule.endpoint](**req.view_args)\n",
      "  File \"/home/donnotben/.local/lib/python3.6/site-packages/dash/dash.py\", line 1461, in dispatch\n",
      "    response.set_data(self.callback_map[output][\"callback\"](*args))\n",
      "  File \"/home/donnotben/.local/lib/python3.6/site-packages/dash/dash.py\", line 1341, in add_context\n",
      "    output_value = func(*args, **kwargs)  # %% callback invoked %%\n",
      "  File \"/home/donnotben/.local/lib/python3.6/site-packages/grid2viz/index.py\", line 139, in display_page\n",
      "    return micro.layout(user_selected_timestamp, study_agent, ref_agent, scenario), \"micro\"\n",
      "  File \"/home/donnotben/.local/lib/python3.6/site-packages/grid2viz/src/micro/micro_lyt.py\", line 245, in layout\n",
      "    network_graph = make_network(new_episode).get_plot_observation(new_episode.observations[center_indx])\n",
      "  File \"/home/donnotben/.local/lib/python3.6/site-packages/grid2viz/src/manager.py\", line 26, in make_network\n",
      "    substation_layout=network_layout, observation_space=episode.observation_space)\n",
      "  File \"/home/donnotben/Documents/Grid2Op_dev/grid2op/PlotPlotly.py\", line 22, in __init__\n",
      "    PlotPlotly.__init__(self, *args, **kwargs)\n",
      "  File \"/home/donnotben/Documents/Grid2Op_dev/grid2op/Plot/PlotPlotly.py\", line 239, in __init__\n",
      "    bus_radius=bus_radius)\n",
      "  File \"/home/donnotben/Documents/Grid2Op_dev/grid2op/Plot/BasePlot.py\", line 64, in __init__\n",
      "    \"Your layout is invalid\".format(len(substation_layout), observation_space.n_sub))\n",
      "grid2op.Exceptions.PlotExceptions.PlotError: Grid2OpException PlotError \"You provided a layout with 0 elements while there are 14 substations on the powergrid. Your layout is invalid\"\n",
      "127.0.0.1 - - [11/Apr/2020 17:55:12] \"\u001b[35m\u001b[1mPOST /_dash-update-component HTTP/1.1\u001b[0m\" 500 -\n"
     ]
    },
    {
     "name": "stdout",
     "output_type": "stream",
     "text": [
      "^C\r\n"
     ]
    }
   ],
   "source": [
    "!$sys.executable -m grid2viz.main --path=$path_agents"
   ]
  },
  {
   "cell_type": "code",
   "execution_count": null,
   "metadata": {},
   "outputs": [],
   "source": []
  }
 ],
 "metadata": {
  "kernelspec": {
   "display_name": "Python 3",
   "language": "python",
   "name": "python3"
  },
  "language_info": {
   "codemirror_mode": {
    "name": "ipython",
    "version": 3
   },
   "file_extension": ".py",
   "mimetype": "text/x-python",
   "name": "python",
   "nbconvert_exporter": "python",
   "pygments_lexer": "ipython3",
   "version": "3.6.6"
  }
 },
 "nbformat": 4,
 "nbformat_minor": 2
}
