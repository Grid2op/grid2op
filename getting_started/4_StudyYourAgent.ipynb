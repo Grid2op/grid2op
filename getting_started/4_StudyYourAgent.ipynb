{
 "cells": [
  {
   "cell_type": "markdown",
   "metadata": {},
   "source": [
    "# Basic Agent Sudy"
   ]
  },
  {
   "cell_type": "markdown",
   "metadata": {},
   "source": [
    "***Disclaimer***: This file referenced some files in other directories. In order to have working cross referencing it's recommended to start the notebook server from the root directory (`Grid2Op`) of the package and __not__ in the `getting_started` sub directory:\n",
    "```bash\n",
    "cd Grid2Op\n",
    "jupyter notebook\n",
    "```"
   ]
  },
  {
   "cell_type": "markdown",
   "metadata": {},
   "source": [
    "***NB*** For more information about how to use the package, a general help can be built locally (provided that sphinx is installed on the machine) with:\n",
    "```bash\n",
    "cd Grid2Op\n",
    "make html\n",
    "```\n",
    "from the top directory of the package (usually `Grid2Op`).\n",
    "\n",
    "Once build, the help can be access from [here](../documentation/html/index.html)"
   ]
  },
  {
   "cell_type": "markdown",
   "metadata": {},
   "source": [
    "It is recommended to have a look at the [0_basic_functionalities](0_basic_functionalities.ipynb), [1_Observation_Agents](1_Observation_Agents.ipynb), [2_Action_GridManipulation](3_TrainingAnAgent.ipynb) and [3_TrainingAnAgent](3_TrainingAnAgent.ipynb) notebooks before getting into this one."
   ]
  },
  {
   "cell_type": "markdown",
   "metadata": {},
   "source": [
    "**Objectives**\n",
    "\n",
    "In this notebook we will expose how to study an Agent. For this notebook to be interested, we first use a dummy agent, and then we look at how to study his behaviour from the file saved.\n",
    "\n",
    "It is more than recommended to know how to define an Agent and use a Runner before doing this tutotial!"
   ]
  },
  {
   "cell_type": "markdown",
   "metadata": {},
   "source": [
    "## Evaluate the performance of a simple Agen"
   ]
  },
  {
   "cell_type": "code",
   "execution_count": 1,
   "metadata": {},
   "outputs": [],
   "source": [
    "import os\n",
    "import sys\n",
    "import grid2op\n",
    "import numpy as np\n",
    "\n",
    "import seaborn as sns\n",
    "import plotly.graph_objects as go\n",
    "\n",
    "from grid2op.Agent import PowerLineSwitch\n",
    "from grid2op.Reward import L2RPNReward\n",
    "from grid2op.Runner import Runner\n",
    "from grid2op.ChronicsHandler import GridStateFromFileWithForecasts, Multifolder\n",
    "path_agent = \"study_agent_getting_started\""
   ]
  },
  {
   "cell_type": "markdown",
   "metadata": {},
   "source": [
    "In the next cell we evaluate the agent \"PowerLineSwitch\" and save the results of this evaluation in \"study_agent_getting_started\""
   ]
  },
  {
   "cell_type": "code",
   "execution_count": null,
   "metadata": {},
   "outputs": [],
   "source": [
    "scoring_function = L2RPNReward\n",
    "# make a runner\n",
    "runner = Runner(init_grid_path=grid2op.CASE_14_FILE, # this should be the same grid as the one the agent is trained one\n",
    "                path_chron=grid2op.CHRONICS_MLUTIEPISODE,  # chronics can changed of course\n",
    "                gridStateclass=Multifolder, # the class of chronics can changed too\n",
    "                gridStateclass_kwargs={\"gridvalueClass\": GridStateFromFileWithForecasts},  # so this can changed too\n",
    "                names_chronics_to_backend = grid2op.NAMES_CHRONICS_TO_BACKEND,  # this also can changed\n",
    "                agentClass=PowerLineSwitch,\n",
    "                rewardClass=scoring_function\n",
    "                )\n",
    "res = runner.run(path_save=path_agent, nb_episode=2)\n",
    "print(\"The results for the evaluated agent are:\")\n",
    "for chron_name, cum_reward, nb_time_step, max_ts in res:\n",
    "    msg_tmp = \"\\tFor chronics located at {}\\n\".format(chron_name)\n",
    "    msg_tmp += \"\\t\\t - cumulative reward: {:.6f}\\n\".format(cum_reward)\n",
    "    msg_tmp += \"\\t\\t - number of time steps completed: {:.0f} / {:.0f}\".format(nb_time_step, max_ts)\n",
    "    print(msg_tmp)"
   ]
  },
  {
   "cell_type": "markdown",
   "metadata": {},
   "source": [
    "## Looking at the results, understand the behaviour of the Agent"
   ]
  },
  {
   "cell_type": "markdown",
   "metadata": {},
   "source": [
    "The content of the folder is the following:"
   ]
  },
  {
   "cell_type": "code",
   "execution_count": null,
   "metadata": {},
   "outputs": [],
   "source": [
    "!ls $path_agent"
   ]
  },
  {
   "cell_type": "markdown",
   "metadata": {},
   "source": [
    "As we notice, there are 2 json that represents the action space and the observation space, used to read the data store. These objects can be loaded this way:"
   ]
  },
  {
   "cell_type": "code",
   "execution_count": null,
   "metadata": {},
   "outputs": [],
   "source": [
    "from grid2op.Utils import ActionSpace, ObservationSpace\n",
    "\n",
    "action_space = ActionSpace.from_dict(\"study_agent_getting_started/dict_action_space.json\")\n",
    "env_modif_space = ActionSpace.from_dict(\"study_agent_getting_started/dict_env_modification_space.json\")\n",
    "observation_space = ObservationSpace.from_dict(\"study_agent_getting_started/dict_observation_space.json\")"
   ]
  },
  {
   "cell_type": "markdown",
   "metadata": {},
   "source": [
    "Now we can load the data corresponding to episode 1 for example, we can load the actions and the observations and de-serialize them properly into proper objects:"
   ]
  },
  {
   "cell_type": "code",
   "execution_count": null,
   "metadata": {},
   "outputs": [],
   "source": [
    "path_episode_1 = os.path.join(path_agent, \"1\")\n",
    "actions_npy = np.load(os.path.join(path_episode_1, \"actions.npy\"))\n",
    "li_actions = []\n",
    "for i in range(actions_npy.shape[0]):\n",
    "    tmp = action_space.from_vect(actions_npy[i,:])\n",
    "    li_actions.append(tmp)\n",
    "    \n",
    "observations_npy = np.load(os.path.join(path_episode_1, \"observations.npy\"))\n",
    "li_observations = []\n",
    "for i in range(observations_npy.shape[0]):\n",
    "    tmp = observation_space.from_vect(observations_npy[i,:])\n",
    "    li_observations.append(tmp)\n",
    "    \n",
    "env_modifications = np.load(os.path.join(path_episode_1, \"env_modifications.npy\"))\n",
    "li_env_modifs = []\n",
    "for i in range(env_modifications.shape[0]):\n",
    "    tmp = env_modif_space.from_vect(env_modifications[i,:])\n",
    "    li_env_modifs.append(tmp)"
   ]
  },
  {
   "cell_type": "markdown",
   "metadata": {},
   "source": [
    "## Inspect the actions"
   ]
  },
  {
   "cell_type": "markdown",
   "metadata": {},
   "source": [
    "And now we can start to study the given agent, for example, let's inspect its actions and wonder how many powerlines it has disconnected (for example, this is probably not the best thing to do here...)"
   ]
  },
  {
   "cell_type": "code",
   "execution_count": null,
   "metadata": {},
   "outputs": [],
   "source": [
    "line_disc = 0\n",
    "line_reco = 0\n",
    "for act in li_actions:\n",
    "    dict_ = act.as_dict() # representation of an action as a dictionnary, see the documentation for more information\n",
    "    if \"set_line_status\" in dict_:\n",
    "        line_reco +=  dict_[\"set_line_status\"][\"nb_connected\"]\n",
    "        line_disc +=  dict_[\"set_line_status\"][\"nb_disconnected\"]\n",
    "line_disc"
   ]
  },
  {
   "cell_type": "markdown",
   "metadata": {},
   "source": [
    "We can also wonder how many times this Agent acted on the powerline with id 1, and inspect how many times it has change its status:"
   ]
  },
  {
   "cell_type": "code",
   "execution_count": null,
   "metadata": {},
   "outputs": [],
   "source": [
    "line_disconnected = 0\n",
    "for act in li_actions:\n",
    "    dict_ = act.effect_on(line_id=1) # which effect has this action action on the substation with id 1\n",
    "    # other objects are: load_id, gen_id, line_id or substation_id\n",
    "    if dict_['set_line_status'] == 1 :\n",
    "        line_disconnected += 1\n",
    "line_disconnected"
   ]
  },
  {
   "cell_type": "markdown",
   "metadata": {},
   "source": [
    "## Inspect the modification of the environment"
   ]
  },
  {
   "cell_type": "markdown",
   "metadata": {},
   "source": [
    "For example, we might want to inspect the number of hazards and maintenance of a total scenario, to see how difficult it was."
   ]
  },
  {
   "cell_type": "code",
   "execution_count": null,
   "metadata": {},
   "outputs": [],
   "source": [
    "nb_hazards = 0\n",
    "nb_maintenance = 0\n",
    "for act in li_env_modifs:\n",
    "    dict_ = act.as_dict() # representation of an action as a dictionnary, see the documentation for more information\n",
    "    if \"nb_hazards\" in dict_:\n",
    "        nb_hazards += 1\n",
    "    if \"nb_maintenance\" in dict_:\n",
    "        nb_maintenance += 1\n",
    "nb_maintenance"
   ]
  },
  {
   "cell_type": "code",
   "execution_count": null,
   "metadata": {},
   "outputs": [],
   "source": [
    "dict_"
   ]
  },
  {
   "cell_type": "markdown",
   "metadata": {},
   "source": [
    "## Inspect the observations"
   ]
  },
  {
   "cell_type": "markdown",
   "metadata": {},
   "source": [
    "For example, let's look at the value consumed by load 1. For this cell to work, it requires plotly for displaying the results."
   ]
  },
  {
   "cell_type": "code",
   "execution_count": null,
   "metadata": {},
   "outputs": [],
   "source": [
    "import plotly.graph_objects as go\n",
    "load_id = 1\n",
    "# extract the data\n",
    "val_load1 = np.zeros(len(li_observations))\n",
    "for i, obs in enumerate(li_observations):\n",
    "    dict_ = obs.state_of(load_id=load_id) # which effect has this action action on the substation with id 1\n",
    "    # other objects are: load_id, gen_id, line_id or substation_id\n",
    "    # see the documentation for more information.\n",
    "    val_load1[i] = dict_['p']\n",
    "\n",
    "# plot it\n",
    "fig = go.Figure(data=[go.Scatter(x=[i for i in range(len(val_load1))],\n",
    "                                 y=val_load1)])\n",
    "fig.update_layout(title=\"Consumption of load {}\".format(load_id),\n",
    "                 xaxis_title=\"Time step\",\n",
    "                 yaxis_title=\"Load (MW)\")\n",
    "fig.show()"
   ]
  },
  {
   "cell_type": "markdown",
   "metadata": {},
   "source": [
    "Or the values of generator 3 (it's supposed to represent a solar energy source)"
   ]
  },
  {
   "cell_type": "code",
   "execution_count": null,
   "metadata": {},
   "outputs": [],
   "source": [
    "gen_id = 3\n",
    "# extract the data\n",
    "val_lgen3 = np.zeros(len(li_observations))\n",
    "for i, obs in enumerate(li_observations):\n",
    "    dict_ = obs.state_of(gen_id=gen_id) # which effect has this action action on the substation with id 1\n",
    "    # other objects are: load_id, gen_id, line_id or substation_id\n",
    "    # see the documentation for more information.\n",
    "    val_lgen3[i] = dict_['p']\n",
    "\n",
    "# plot it\n",
    "fig = go.Figure(data=[go.Scatter(x=[i for i in range(len(val_lgen3))],\n",
    "                                 y=val_lgen3)])\n",
    "fig.update_layout(title=\"Production of generator {}\".format(gen_id),\n",
    "                 xaxis_title=\"Time step\",\n",
    "                 yaxis_title=\"Production (MW)\")\n",
    "fig.show()"
   ]
  },
  {
   "cell_type": "markdown",
   "metadata": {},
   "source": [
    "In the same fashion, we might want to get the flows on powerline connecting bus 3 to bus 4 (without knowing its id by using the appropriate method of the observation_space):"
   ]
  },
  {
   "cell_type": "code",
   "execution_count": null,
   "metadata": {},
   "outputs": [],
   "source": [
    "from_ = 3\n",
    "to_ = 4\n",
    "found_ids = observation_space.get_lines_id(from_=from_, to_=to_)\n",
    "line_id = found_ids[0]\n",
    "\n",
    "# extract the data\n",
    "val_l3_4 = np.zeros(len(li_observations))\n",
    "for i, obs in enumerate(li_observations):\n",
    "    dict_ = obs.state_of(line_id=line_id) # which effect has this action action on the substation with id 1\n",
    "    # other objects are: load_id, gen_id, line_id or substation_id\n",
    "    # see the documentation for more information.\n",
    "    val_l3_4[i] = dict_[\"origin\"]['a']\n",
    "\n",
    "# plot it\n",
    "fig = go.Figure(data=[go.Scatter(x=[i for i in range(len(val_l3_4))],\n",
    "                                 y=val_l3_4)])\n",
    "fig.update_layout(title=\"Production of generator {}\".format(gen_id),\n",
    "                 xaxis_title=\"Time step\",\n",
    "                 yaxis_title=\"Production (MW)\")\n",
    "fig.show()"
   ]
  },
  {
   "cell_type": "markdown",
   "metadata": {},
   "source": [
    "## Quick display of a grid using an observation"
   ]
  },
  {
   "cell_type": "markdown",
   "metadata": {},
   "source": [
    "Bellow you can find an example on how to plot a observation and the underlying powergrid. This is an example, the results doesn't look really great. It uses plotly and requires the layout of the grid (eg the coordinates of the substations) to be specified.\n",
    "\n",
    "Note also that this code is not optimized at all."
   ]
  },
  {
   "cell_type": "code",
   "execution_count": null,
   "metadata": {},
   "outputs": [],
   "source": [
    "# Some utilities to plot substation, lines or get the color id for the colormap.\n",
    "def draw_sub(pos, radius=50):\n",
    "    pos_x, pos_y = pos\n",
    "    res = go.layout.Shape(\n",
    "        type=\"circle\",\n",
    "        xref=\"x\",\n",
    "        yref=\"y\",\n",
    "        x0=pos_x-radius,\n",
    "        y0=pos_y-radius,\n",
    "        x1=pos_x+radius,\n",
    "        y1=pos_y+radius,\n",
    "        line_color=\"LightSeaGreen\"\n",
    "    )\n",
    "    return res\n",
    "\n",
    "def get_col(rho):\n",
    "    if rho < 0.7:\n",
    "        return 0\n",
    "    if rho < 0.8:\n",
    "        return 1\n",
    "    if rho < 0.9:\n",
    "        return 2\n",
    "    if rho < 1.:\n",
    "        return 3\n",
    "    if rho < 1.1:\n",
    "        return 5\n",
    "    return 6\n",
    "\n",
    "def draw_line(pos_sub_or, pos_sub_ex, rho, color_palette):\n",
    "\n",
    "    x_0, y_0 = pos_sub_or\n",
    "    x_1, y_1 = pos_sub_ex\n",
    "    \n",
    "    res = go.layout.Shape(\n",
    "            type=\"line\",\n",
    "            xref=\"x\",\n",
    "            yref=\"y\",\n",
    "            x0=x_0,\n",
    "            y0=y_0,\n",
    "            x1=x_1,\n",
    "            y1=y_1,\n",
    "            line=dict(\n",
    "                color=color_palette[get_col(rho)]#'cymk{}'.format(color_palette(rho))#color_palette(rho)\n",
    "            )\n",
    "        )\n",
    "    return res"
   ]
  },
  {
   "cell_type": "code",
   "execution_count": null,
   "metadata": {},
   "outputs": [],
   "source": [
    "# define a color palette, whatever...\n",
    "sns.set()\n",
    "# pal = sns.dark_palette(\"palegreen\")\n",
    "pal = sns.color_palette(\"coolwarm\", 7)\n",
    "cols = pal.as_hex()"
   ]
  },
  {
   "cell_type": "code",
   "execution_count": null,
   "metadata": {},
   "outputs": [],
   "source": [
    "# init the plot\n",
    "graph_layout = [(280, -81), (100, -270), (-366, -270), (-366, -54), (64, -54), (64, 54), (-366, 0), \n",
    "                (-438, 0), (-326, 54), (-222, 108), (-79, 162), (152, 270), (64, 270), (-222, 216)]\n",
    "fig = go.Figure()\n",
    "radius_sub = 25\n",
    "# draw substation\n",
    "substation_layout = [draw_sub(el,radius=radius_sub) for i,el in enumerate(graph_layout)]\n",
    "\n",
    "# draw name of substation\n",
    "fig.add_trace(go.Scatter(x=[el for el,_ in graph_layout],\n",
    "                         y=[el for _, el in graph_layout],\n",
    "                         text=[\"sub_{}\".format(i) for i,_ in enumerate(graph_layout)],\n",
    "                         mode=\"text\",\n",
    "                        showlegend=False))\n",
    "# get an observation\n",
    "obs_plot = li_observations[231]\n",
    "\n",
    "# draw powerline\n",
    "lines = []\n",
    "text = []\n",
    "for line_id, rho in enumerate(obs_plot.rho):\n",
    "    # the next 5 lines are always the same, for each observation, it makes sense to compute it once\n",
    "    # and then reuse it\n",
    "    state = obs_plot.state_of(line_id=line_id)\n",
    "    sub_or_id = state[\"origin\"][\"sub_id\"]\n",
    "    sub_ex_id = state[\"extremity\"][\"sub_id\"]\n",
    "    pos_or = graph_layout[sub_or_id]\n",
    "    pos_ex = graph_layout[sub_ex_id]\n",
    "    # TODO here: make there the powerline are going to the right place, and not at the center of the circle\n",
    "    # it is not done here so all lines intersect at the center of the grid!\n",
    "    \n",
    "    #NB to get on which bus a powerline is connected its:\n",
    "    bus_id_or = state[\"origin\"][\"bus\"]\n",
    "    bus_id_ex = state[\"extremity\"][\"bus\"]\n",
    "    \n",
    "    # this depends on the grid\n",
    "    # on this powergrid, thermal limit are not set at all. They are basically random.\n",
    "    # so i multiply them by 300\n",
    "    rho *= 300\n",
    "    lines.append(draw_line(pos_or, pos_ex,\n",
    "                           rho=rho, color_palette=cols))\n",
    "    # TODO adjust position of labels...\n",
    "    fig.add_trace(go.Scatter(x=[(pos_or[0] + pos_ex[0])/2],\n",
    "                         y=[(pos_or[1] + pos_ex[1])/2],\n",
    "                         text=[\"{:.1f}%\".format(rho*100)],\n",
    "                         mode=\"text\",\n",
    "                            showlegend=False))\n",
    "    \n",
    "fig.update_layout(shapes=substation_layout+lines)\n",
    "\n",
    "# update legend, background color etc.\n",
    "fig.update_xaxes(range=[np.min([el for el,_ in graph_layout])-2*radius_sub,\n",
    "                        np.max([el for el,_ in graph_layout])+2*radius_sub], zeroline=False)\n",
    "fig.update_yaxes(range=[np.min([el for _, el in graph_layout])-2*radius_sub,\n",
    "                        np.max([el for _, el in graph_layout])+2*radius_sub])\n",
    "fig.update_layout(\n",
    "    margin=dict(\n",
    "        l=20,\n",
    "        r=20,\n",
    "        b=100\n",
    "    ),\n",
    "    height=600,\n",
    "    width=800,\n",
    "    plot_bgcolor=\"white\"\n",
    ")\n",
    "fig.show()"
   ]
  },
  {
   "cell_type": "markdown",
   "metadata": {},
   "source": [
    "## Synching Observation and Action"
   ]
  },
  {
   "cell_type": "markdown",
   "metadata": {},
   "source": [
    "As stated in the documentation, at row i, it's the observation at time \"i\" and the action at time \"i\". So at row i of the numpy matrices, we see what the agent saw when he took his actions. We have \"an agent view\".\n",
    "\n",
    "In case we want to see the impact of an Action, it is then necessary to:\n",
    "\n",
    "- look at action i\n",
    "- look at observation i+1"
   ]
  }
 ],
 "metadata": {
  "kernelspec": {
   "display_name": "Python 3",
   "language": "python",
   "name": "python3"
  },
  "language_info": {
   "codemirror_mode": {
    "name": "ipython",
    "version": 3
   },
   "file_extension": ".py",
   "mimetype": "text/x-python",
   "name": "python",
   "nbconvert_exporter": "python",
   "pygments_lexer": "ipython3",
   "version": "3.6.6"
  }
 },
 "nbformat": 4,
 "nbformat_minor": 2
}
